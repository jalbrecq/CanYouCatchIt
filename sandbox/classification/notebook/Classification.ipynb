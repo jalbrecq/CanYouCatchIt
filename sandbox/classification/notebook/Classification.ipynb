{
 "cells": [
  {
   "cell_type": "markdown",
   "metadata": {},
   "source": [
    "# Create 2 merge files with all csv files and clean the NaN"
   ]
  },
  {
   "cell_type": "code",
   "execution_count": 1,
   "metadata": {},
   "outputs": [],
   "source": [
    "# Import\n",
    "import pandas as pd\n",
    "import os, glob\n",
    "\n",
    "# Set the path to the directory holding CSV files\n",
    "DELAY_PATH = 'D:/Utilisateurs/Antoine/Documents/Unnif/5eme cours/Projet inter/CanYouCatchIt/sandbox/data/csv'\n",
    "\n",
    "#we merge all csv files in one and change data for classification \n",
    "#this part also remove live with NaN \n",
    "all_files_csv = glob.glob(os.path.join(DELAY_PATH, \"*.csv\"))\n",
    "\n",
    "all_df = []\n",
    "for f in all_files_csv:\n",
    "    df = pd.read_csv(f, sep=',')\n",
    "    all_df.append(df)\n",
    "    \n",
    "#merge_3 because there are 3 classes\n",
    "merged_3_df = pd.concat(all_df, ignore_index=True, sort=False)\n",
    "\n",
    "merged_3_df=merged_3_df.drop(merged_3_df[merged_3_df.delay.isna()].index)\n",
    "\n",
    "merged_3_df.loc[merged_3_df.delay >0,\"delay\"]= 1\n",
    "merged_3_df.loc[merged_3_df.delay ==0,\"delay\"]= 0\n",
    "merged_3_df.loc[merged_3_df.delay <0,\"delay\"]= -1\n",
    "\n",
    "merged_3_path = DELAY_PATH + \"/merged_3.csv\"\n",
    "merged_3_df.to_csv(merged_3_path,index=False)\n",
    "\n",
    "\n",
    "merged_5_df = pd.concat(all_df, ignore_index=True, sort=False)\n",
    "\n",
    "merged_5_df=merged_5_df.drop(merged_5_df[merged_5_df.delay.isna()].index)\n",
    "\n",
    "merged_5_df.loc[merged_5_df.delay >=10.0,\"delay\"]= 10\n",
    "merged_5_df.loc[(merged_5_df.delay >0) & (merged_5_df.delay <10.0),\"delay\"]= 1\n",
    "merged_5_df.loc[merged_5_df.delay ==0,\"delay\"]= 0\n",
    "merged_5_df.loc[(merged_5_df.delay >-10) & (merged_5_df.delay <0),\"delay\"]= -1\n",
    "merged_5_df.loc[merged_5_df.delay <=-10,\"delay\"]= -10\n",
    "\n",
    "merged_5_path = DELAY_PATH + \"/merged_5.csv\"\n",
    "merged_5_df.to_csv(merged_5_path,index=False)\n"
   ]
  },
  {
   "cell_type": "markdown",
   "metadata": {},
   "source": [
    "# Load the data"
   ]
  },
  {
   "cell_type": "code",
   "execution_count": 2,
   "metadata": {},
   "outputs": [],
   "source": [
    "from sklearn.model_selection import train_test_split\n",
    "from sklearn.model_selection import StratifiedShuffleSplit\n",
    "import matplotlib.pyplot as plt\n",
    "\n",
    "def load_delay_data(path=merged_3_path):\n",
    "    \"\"\"\n",
    "    Load the cvs file in a panda dataframe\n",
    "    \"\"\"\n",
    "    return pd.read_csv(path)\n",
    "\n",
    "\n",
    "# load the csv file\n",
    "delay = load_delay_data()\n",
    "\n",
    "# Stratifie the data with the different line\n",
    "# This make sure that the representation of each stop is the same in the train set then in the overall dataset\n",
    "# This stratification is not necessary is you have enough data\n",
    "split = StratifiedShuffleSplit(n_splits=1, test_size=0.2, random_state=42)\n",
    "for train_index, test_index in split.split(delay, delay[\"line\"]):\n",
    "    strat_train_set = delay.loc[train_index]\n",
    "    strat_test_set = delay.loc[test_index]\n"
   ]
  },
  {
   "cell_type": "markdown",
   "metadata": {},
   "source": [
    "# Plot the data\n",
    "## 3 classes"
   ]
  },
  {
   "cell_type": "code",
   "execution_count": 3,
   "metadata": {},
   "outputs": [
    {
     "data": {
      "image/png": "[encoded data removed]",
      "text/plain": [
       "<Figure size 432x288 with 1 Axes>"
      ]
     },
     "metadata": {
      "needs_background": "light"
     },
     "output_type": "display_data"
    }
   ],
   "source": [
    "df_3 = pd.read_csv(merged_3_path,1,\",\")\n",
    "\n",
    "delay_3 = df_3['delay'].value_counts()\n",
    "delay_3_ordered = [delay_3[-1],delay_3[0],delay_3[1]]\n",
    "\n",
    "x= ['late', 'on time', 'early']\n",
    "\n",
    "plt.bar(x,delay_3_ordered)\n",
    "plt.xlabel(\"Delay\")\n",
    "plt.ylabel(\"Number of delay\")\n",
    "\n",
    "plt.show()"
   ]
  },
  {
   "cell_type": "markdown",
   "metadata": {},
   "source": [
    "## 5 classes"
   ]
  },
  {
   "cell_type": "code",
   "execution_count": 4,
   "metadata": {},
   "outputs": [
    {
     "data": {
      "image/png": "[encoded data removed]",
      "text/plain": [
       "<Figure size 432x288 with 1 Axes>"
      ]
     },
     "metadata": {
      "needs_background": "light"
     },
     "output_type": "display_data"
    }
   ],
   "source": [
    "df_5 = pd.read_csv(merged_5_path,1,\",\")\n",
    "\n",
    "delay_5 = df_5['delay'].value_counts()\n",
    "delay_5_ordered = [delay_5[-10],delay_5[-1],delay_5[0],delay_5[1],delay_5[10]]\n",
    "\n",
    "x= ['big late', 'late', 'on time', 'early','big early']\n",
    "\n",
    "plt.bar(x,delay_5_ordered)\n",
    "plt.xlabel(\"Delay\")\n",
    "plt.ylabel(\"Number of delay\")\n",
    "\n",
    "plt.show()"
   ]
  },
  {
   "cell_type": "markdown",
   "metadata": {},
   "source": [
    "when we saw the two graph, we deicded to continue with only 3 classes"
   ]
  },
  {
   "cell_type": "markdown",
   "metadata": {},
   "source": [
    "## Prepare the Data for Machine Learning Algorithms"
   ]
  },
  {
   "cell_type": "code",
   "execution_count": 5,
   "metadata": {},
   "outputs": [],
   "source": [
    "delay = strat_train_set.drop(\"delay\", axis=1) # drop labels for training set\n",
    "delay_labels = strat_train_set[\"delay\"].copy()"
   ]
  },
  {
   "cell_type": "markdown",
   "metadata": {},
   "source": [
    "### Check if there is row with nan\n",
    "\n",
    "Count the number of row with a nan value"
   ]
  },
  {
   "cell_type": "code",
   "execution_count": 6,
   "metadata": {},
   "outputs": [
    {
     "data": {
      "text/plain": [
       "0"
      ]
     },
     "execution_count": 6,
     "metadata": {},
     "output_type": "execute_result"
    }
   ],
   "source": [
    "sample_incomplete_rows = delay[delay.isnull().any(axis=1)].head()\n",
    "len(sample_incomplete_rows.index)"
   ]
  },
  {
   "cell_type": "markdown",
   "metadata": {},
   "source": [
    "### Check if there is attribute that are the same for every row"
   ]
  },
  {
   "cell_type": "code",
   "execution_count": 7,
   "metadata": {},
   "outputs": [
    {
     "name": "stdout",
     "output_type": "stream",
     "text": [
      "True transport_type\n",
      "False stop\n",
      "False line\n",
      "False theoretical_time\n",
      "False expectedArrivalTime\n",
      "False date\n",
      "False direction\n",
      "True date_year\n",
      "True date_month\n",
      "False date_weekday\n",
      "False date_hour\n",
      "False date_minute\n",
      "False date_seconde\n",
      "False temp\n",
      "False humidity\n",
      "False visibility\n",
      "False wind\n",
      "False rain\n"
     ]
    }
   ],
   "source": [
    "def unique_cols(df):\n",
    "    a = df.to_numpy()\n",
    "    return (a[0] == a).all(0)\n",
    "unique= unique_cols(delay)\n",
    "col = list(delay.columns)\n",
    "\n",
    "for i in delay.columns:\n",
    "    print(unique[col.index(i)],i)"
   ]
  },
  {
   "cell_type": "markdown",
   "metadata": {},
   "source": [
    "### Data Cleaning\n",
    "\n",
    "Drop the unnecesery attribute. theoretical_time and expectedArrivalTime are droped because they are string attribute and they are not linked to the delay value. The date attribute is split into hour minute and seconds so it can be droped. The transport_type, date_year, date_month, attributes are droped because, it's the same for every row."
   ]
  },
  {
   "cell_type": "code",
   "execution_count": 8,
   "metadata": {},
   "outputs": [
    {
     "data": {
      "text/html": [
       "<div>\n",
       "<style scoped>\n",
       "    .dataframe tbody tr th:only-of-type {\n",
       "        vertical-align: middle;\n",
       "    }\n",
       "\n",
       "    .dataframe tbody tr th {\n",
       "        vertical-align: top;\n",
       "    }\n",
       "\n",
       "    .dataframe thead th {\n",
       "        text-align: right;\n",
       "    }\n",
       "</style>\n",
       "<table border=\"1\" class=\"dataframe\">\n",
       "  <thead>\n",
       "    <tr style=\"text-align: right;\">\n",
       "      <th></th>\n",
       "      <th>stop</th>\n",
       "      <th>line</th>\n",
       "      <th>direction</th>\n",
       "      <th>date_weekday</th>\n",
       "      <th>date_hour</th>\n",
       "      <th>date_minute</th>\n",
       "      <th>date_seconde</th>\n",
       "      <th>temp</th>\n",
       "      <th>humidity</th>\n",
       "      <th>visibility</th>\n",
       "      <th>wind</th>\n",
       "      <th>rain</th>\n",
       "    </tr>\n",
       "  </thead>\n",
       "  <tbody>\n",
       "    <tr>\n",
       "      <td>37892</td>\n",
       "      <td>6608G</td>\n",
       "      <td>82.0</td>\n",
       "      <td>1.0</td>\n",
       "      <td>3</td>\n",
       "      <td>10</td>\n",
       "      <td>10</td>\n",
       "      <td>16</td>\n",
       "      <td>284.47</td>\n",
       "      <td>81.0</td>\n",
       "      <td>10000.0</td>\n",
       "      <td>6.2</td>\n",
       "      <td>0.0</td>\n",
       "    </tr>\n",
       "    <tr>\n",
       "      <td>1295</td>\n",
       "      <td>0089</td>\n",
       "      <td>44.0</td>\n",
       "      <td>0.0</td>\n",
       "      <td>0</td>\n",
       "      <td>11</td>\n",
       "      <td>5</td>\n",
       "      <td>25</td>\n",
       "      <td>291.79</td>\n",
       "      <td>77.0</td>\n",
       "      <td>10000.0</td>\n",
       "      <td>11.3</td>\n",
       "      <td>0.0</td>\n",
       "    </tr>\n",
       "    <tr>\n",
       "      <td>1063</td>\n",
       "      <td>0089</td>\n",
       "      <td>44.0</td>\n",
       "      <td>0.0</td>\n",
       "      <td>0</td>\n",
       "      <td>10</td>\n",
       "      <td>1</td>\n",
       "      <td>55</td>\n",
       "      <td>291.29</td>\n",
       "      <td>72.0</td>\n",
       "      <td>10000.0</td>\n",
       "      <td>10.3</td>\n",
       "      <td>0.0</td>\n",
       "    </tr>\n",
       "    <tr>\n",
       "      <td>19479</td>\n",
       "      <td>0089</td>\n",
       "      <td>39.0</td>\n",
       "      <td>0.0</td>\n",
       "      <td>5</td>\n",
       "      <td>14</td>\n",
       "      <td>27</td>\n",
       "      <td>5</td>\n",
       "      <td>288.82</td>\n",
       "      <td>67.0</td>\n",
       "      <td>10000.0</td>\n",
       "      <td>2.1</td>\n",
       "      <td>0.0</td>\n",
       "    </tr>\n",
       "    <tr>\n",
       "      <td>32081</td>\n",
       "      <td>6608G</td>\n",
       "      <td>82.0</td>\n",
       "      <td>1.0</td>\n",
       "      <td>1</td>\n",
       "      <td>19</td>\n",
       "      <td>16</td>\n",
       "      <td>26</td>\n",
       "      <td>285.46</td>\n",
       "      <td>93.0</td>\n",
       "      <td>8000.0</td>\n",
       "      <td>1.5</td>\n",
       "      <td>0.0</td>\n",
       "    </tr>\n",
       "  </tbody>\n",
       "</table>\n",
       "</div>"
      ],
      "text/plain": [
       "        stop  line  direction  date_weekday  date_hour  date_minute  \\\n",
       "37892  6608G  82.0        1.0             3         10           10   \n",
       "1295    0089  44.0        0.0             0         11            5   \n",
       "1063    0089  44.0        0.0             0         10            1   \n",
       "19479   0089  39.0        0.0             5         14           27   \n",
       "32081  6608G  82.0        1.0             1         19           16   \n",
       "\n",
       "       date_seconde    temp  humidity  visibility  wind  rain  \n",
       "37892            16  284.47      81.0     10000.0   6.2   0.0  \n",
       "1295             25  291.79      77.0     10000.0  11.3   0.0  \n",
       "1063             55  291.29      72.0     10000.0  10.3   0.0  \n",
       "19479             5  288.82      67.0     10000.0   2.1   0.0  \n",
       "32081            26  285.46      93.0      8000.0   1.5   0.0  "
      ]
     },
     "execution_count": 8,
     "metadata": {},
     "output_type": "execute_result"
    }
   ],
   "source": [
    "nunique = delay.apply(pd.Series.nunique)\n",
    "cols_to_drop = nunique[nunique == 1].index\n",
    "delay = delay.drop(cols_to_drop, axis=1)\n",
    "delay = delay.drop([\"theoretical_time\", \"expectedArrivalTime\", \"date\"], axis=1)\n",
    "delay.head()"
   ]
  },
  {
   "cell_type": "markdown",
   "metadata": {},
   "source": [
    "## Handling Text and Categorical Attributes"
   ]
  },
  {
   "cell_type": "markdown",
   "metadata": {},
   "source": [
    "### Extract the non-numerical attributes"
   ]
  },
  {
   "cell_type": "code",
   "execution_count": 9,
   "metadata": {},
   "outputs": [],
   "source": [
    "delay_num = delay.drop(['stop'], axis=1)"
   ]
  },
  {
   "cell_type": "markdown",
   "metadata": {},
   "source": [
    "### Categorical Attributes: The stop and attributes"
   ]
  },
  {
   "cell_type": "code",
   "execution_count": 10,
   "metadata": {},
   "outputs": [
    {
     "data": {
      "text/html": [
       "<div>\n",
       "<style scoped>\n",
       "    .dataframe tbody tr th:only-of-type {\n",
       "        vertical-align: middle;\n",
       "    }\n",
       "\n",
       "    .dataframe tbody tr th {\n",
       "        vertical-align: top;\n",
       "    }\n",
       "\n",
       "    .dataframe thead th {\n",
       "        text-align: right;\n",
       "    }\n",
       "</style>\n",
       "<table border=\"1\" class=\"dataframe\">\n",
       "  <thead>\n",
       "    <tr style=\"text-align: right;\">\n",
       "      <th></th>\n",
       "      <th>stop</th>\n",
       "      <th>line</th>\n",
       "    </tr>\n",
       "  </thead>\n",
       "  <tbody>\n",
       "    <tr>\n",
       "      <td>37892</td>\n",
       "      <td>6608G</td>\n",
       "      <td>82.0</td>\n",
       "    </tr>\n",
       "    <tr>\n",
       "      <td>1295</td>\n",
       "      <td>0089</td>\n",
       "      <td>44.0</td>\n",
       "    </tr>\n",
       "    <tr>\n",
       "      <td>1063</td>\n",
       "      <td>0089</td>\n",
       "      <td>44.0</td>\n",
       "    </tr>\n",
       "    <tr>\n",
       "      <td>19479</td>\n",
       "      <td>0089</td>\n",
       "      <td>39.0</td>\n",
       "    </tr>\n",
       "    <tr>\n",
       "      <td>32081</td>\n",
       "      <td>6608G</td>\n",
       "      <td>82.0</td>\n",
       "    </tr>\n",
       "  </tbody>\n",
       "</table>\n",
       "</div>"
      ],
      "text/plain": [
       "        stop  line\n",
       "37892  6608G  82.0\n",
       "1295    0089  44.0\n",
       "1063    0089  44.0\n",
       "19479   0089  39.0\n",
       "32081  6608G  82.0"
      ]
     },
     "execution_count": 10,
     "metadata": {},
     "output_type": "execute_result"
    }
   ],
   "source": [
    "delay_cat = delay[['stop', 'line']]\n",
    "delay_cat.head()"
   ]
  },
  {
   "cell_type": "code",
   "execution_count": 11,
   "metadata": {},
   "outputs": [
    {
     "data": {
      "text/plain": [
       "array([[1., 3.],\n",
       "       [0., 1.],\n",
       "       [0., 1.],\n",
       "       [0., 0.],\n",
       "       [1., 3.],\n",
       "       [1., 2.],\n",
       "       [0., 0.],\n",
       "       [1., 3.],\n",
       "       [1., 2.],\n",
       "       [1., 3.]])"
      ]
     },
     "execution_count": 11,
     "metadata": {},
     "output_type": "execute_result"
    }
   ],
   "source": [
    "from sklearn.preprocessing import OrdinalEncoder\n",
    "\n",
    "ordinal_encoder = OrdinalEncoder()\n",
    "delay_cat_encoded = ordinal_encoder.fit_transform(delay_cat)\n",
    "delay_cat_encoded[:10]"
   ]
  },
  {
   "cell_type": "markdown",
   "metadata": {},
   "source": [
    "## Transformation Pipelines\n"
   ]
  },
  {
   "cell_type": "code",
   "execution_count": 12,
   "metadata": {},
   "outputs": [
    {
     "data": {
      "text/html": [
       "<div>\n",
       "<style scoped>\n",
       "    .dataframe tbody tr th:only-of-type {\n",
       "        vertical-align: middle;\n",
       "    }\n",
       "\n",
       "    .dataframe tbody tr th {\n",
       "        vertical-align: top;\n",
       "    }\n",
       "\n",
       "    .dataframe thead th {\n",
       "        text-align: right;\n",
       "    }\n",
       "</style>\n",
       "<table border=\"1\" class=\"dataframe\">\n",
       "  <thead>\n",
       "    <tr style=\"text-align: right;\">\n",
       "      <th></th>\n",
       "      <th>stop</th>\n",
       "      <th>line</th>\n",
       "      <th>direction</th>\n",
       "      <th>date_weekday</th>\n",
       "      <th>date_hour</th>\n",
       "      <th>date_minute</th>\n",
       "      <th>date_seconde</th>\n",
       "      <th>temp</th>\n",
       "      <th>humidity</th>\n",
       "      <th>visibility</th>\n",
       "      <th>wind</th>\n",
       "      <th>rain</th>\n",
       "      <th>hour_and_minute</th>\n",
       "    </tr>\n",
       "  </thead>\n",
       "  <tbody>\n",
       "    <tr>\n",
       "      <td>37892</td>\n",
       "      <td>6608G</td>\n",
       "      <td>82</td>\n",
       "      <td>1</td>\n",
       "      <td>3</td>\n",
       "      <td>10</td>\n",
       "      <td>10</td>\n",
       "      <td>16</td>\n",
       "      <td>284.47</td>\n",
       "      <td>81</td>\n",
       "      <td>10000</td>\n",
       "      <td>6.2</td>\n",
       "      <td>0</td>\n",
       "      <td>36600</td>\n",
       "    </tr>\n",
       "    <tr>\n",
       "      <td>1295</td>\n",
       "      <td>0089</td>\n",
       "      <td>44</td>\n",
       "      <td>0</td>\n",
       "      <td>0</td>\n",
       "      <td>11</td>\n",
       "      <td>5</td>\n",
       "      <td>25</td>\n",
       "      <td>291.79</td>\n",
       "      <td>77</td>\n",
       "      <td>10000</td>\n",
       "      <td>11.3</td>\n",
       "      <td>0</td>\n",
       "      <td>39900</td>\n",
       "    </tr>\n",
       "    <tr>\n",
       "      <td>1063</td>\n",
       "      <td>0089</td>\n",
       "      <td>44</td>\n",
       "      <td>0</td>\n",
       "      <td>0</td>\n",
       "      <td>10</td>\n",
       "      <td>1</td>\n",
       "      <td>55</td>\n",
       "      <td>291.29</td>\n",
       "      <td>72</td>\n",
       "      <td>10000</td>\n",
       "      <td>10.3</td>\n",
       "      <td>0</td>\n",
       "      <td>36060</td>\n",
       "    </tr>\n",
       "    <tr>\n",
       "      <td>19479</td>\n",
       "      <td>0089</td>\n",
       "      <td>39</td>\n",
       "      <td>0</td>\n",
       "      <td>5</td>\n",
       "      <td>14</td>\n",
       "      <td>27</td>\n",
       "      <td>5</td>\n",
       "      <td>288.82</td>\n",
       "      <td>67</td>\n",
       "      <td>10000</td>\n",
       "      <td>2.1</td>\n",
       "      <td>0</td>\n",
       "      <td>52020</td>\n",
       "    </tr>\n",
       "    <tr>\n",
       "      <td>32081</td>\n",
       "      <td>6608G</td>\n",
       "      <td>82</td>\n",
       "      <td>1</td>\n",
       "      <td>1</td>\n",
       "      <td>19</td>\n",
       "      <td>16</td>\n",
       "      <td>26</td>\n",
       "      <td>285.46</td>\n",
       "      <td>93</td>\n",
       "      <td>8000</td>\n",
       "      <td>1.5</td>\n",
       "      <td>0</td>\n",
       "      <td>69360</td>\n",
       "    </tr>\n",
       "  </tbody>\n",
       "</table>\n",
       "</div>"
      ],
      "text/plain": [
       "        stop line direction date_weekday date_hour date_minute date_seconde  \\\n",
       "37892  6608G   82         1            3        10          10           16   \n",
       "1295    0089   44         0            0        11           5           25   \n",
       "1063    0089   44         0            0        10           1           55   \n",
       "19479   0089   39         0            5        14          27            5   \n",
       "32081  6608G   82         1            1        19          16           26   \n",
       "\n",
       "         temp humidity visibility  wind rain hour_and_minute  \n",
       "37892  284.47       81      10000   6.2    0           36600  \n",
       "1295   291.79       77      10000  11.3    0           39900  \n",
       "1063   291.29       72      10000  10.3    0           36060  \n",
       "19479  288.82       67      10000   2.1    0           52020  \n",
       "32081  285.46       93       8000   1.5    0           69360  "
      ]
     },
     "execution_count": 12,
     "metadata": {},
     "output_type": "execute_result"
    }
   ],
   "source": [
    "from sklearn.preprocessing import FunctionTransformer\n",
    "import numpy as np\n",
    "\n",
    "# get the right column indices: safer than hard-coding indices\n",
    "\n",
    "def add_extra_features(X, add_combined_time=True):\n",
    "    hour_ix, minute_ix = [list(delay.columns).index(col) for col in (\"date_hour\", \"date_minute\")]\n",
    "    if add_combined_time:\n",
    "        hour_and_minute = X[:, hour_ix]*3600 + X[:, minute_ix]*60\n",
    "        return np.c_[X, hour_and_minute]\n",
    "    else:\n",
    "        return np.c_[X]\n",
    "\n",
    "attr_adder = FunctionTransformer(add_extra_features, validate=False,\n",
    "                                 kw_args={\"add_combined_time\": True})\n",
    "delay_extra_attribs = attr_adder.fit_transform(delay.values)\n",
    "\n",
    "delay_extra_attribs = pd.DataFrame(\n",
    "    delay_extra_attribs,\n",
    "    columns=list(delay.columns) + [\"hour_and_minute\"],\n",
    "    index=delay.index)\n",
    "delay_extra_attribs.head()"
   ]
  },
  {
   "cell_type": "code",
   "execution_count": 13,
   "metadata": {},
   "outputs": [
    {
     "data": {
      "text/plain": [
       "array([[ 1.67760383,  0.99827278,  0.27697762, ...,  0.        ,\n",
       "         0.        ,  1.        ],\n",
       "       [-0.59869751, -1.00173021, -1.30713484, ...,  1.        ,\n",
       "         0.        ,  0.        ],\n",
       "       [-0.59869751, -1.00173021, -1.30713484, ...,  1.        ,\n",
       "         0.        ,  0.        ],\n",
       "       ...,\n",
       "       [ 1.67760383,  0.99827278, -0.77909735, ...,  0.        ,\n",
       "         0.        ,  1.        ],\n",
       "       [-0.17937885,  0.99827278,  0.8050151 , ...,  0.        ,\n",
       "         1.        ,  0.        ],\n",
       "       [ 1.67760383,  0.99827278,  0.27697762, ...,  0.        ,\n",
       "         0.        ,  1.        ]])"
      ]
     },
     "execution_count": 13,
     "metadata": {},
     "output_type": "execute_result"
    }
   ],
   "source": [
    "from sklearn.pipeline import Pipeline\n",
    "from sklearn.preprocessing import StandardScaler\n",
    "from sklearn.compose import ColumnTransformer\n",
    "from sklearn.preprocessing import OneHotEncoder\n",
    "from sklearn.impute import SimpleImputer\n",
    "\n",
    "num_attribs = list(delay_num)\n",
    "cat_attribs = [\"stop\", \"line\"]\n",
    "\n",
    "num_pipeline = Pipeline([\n",
    "        ('imputer', SimpleImputer(strategy=\"median\")),\n",
    "        ('attribs_adder', FunctionTransformer(add_extra_features,\n",
    "                                            validate=False,\n",
    "                                            kw_args={\"add_combined_time\": True})),\n",
    "        ('std_scaler', StandardScaler())\n",
    "    ])\n",
    "\n",
    "full_pipeline = ColumnTransformer([\n",
    "        (\"num\", num_pipeline, num_attribs),\n",
    "        (\"cat\", OneHotEncoder(), cat_attribs),\n",
    "    ])\n",
    "\n",
    "delay_prepared = full_pipeline.fit_transform(delay)\n",
    "delay_prepared"
   ]
  },
  {
   "cell_type": "markdown",
   "metadata": {},
   "source": [
    "## Select and train a model"
   ]
  },
  {
   "cell_type": "markdown",
   "metadata": {},
   "source": [
    "### split in train and test"
   ]
  },
  {
   "cell_type": "code",
   "execution_count": 14,
   "metadata": {},
   "outputs": [],
   "source": [
    "X_train, X_test, y_train, y_test = train_test_split(delay_prepared, delay_labels, test_size=0.3) # 70% training and 30% test"
   ]
  },
  {
   "cell_type": "markdown",
   "metadata": {},
   "source": [
    "### Decision tree"
   ]
  },
  {
   "cell_type": "code",
   "execution_count": 15,
   "metadata": {},
   "outputs": [
    {
     "name": "stdout",
     "output_type": "stream",
     "text": [
      "0.625755237045204\n",
      "0.6208457660253113\n"
     ]
    }
   ],
   "source": [
    "from sklearn import tree\n",
    "\n",
    "clf_tree = tree.DecisionTreeClassifier(criterion=\"entropy\",min_samples_leaf=100)\n",
    "clf_tree = clf_tree.fit(delay_prepared, delay_labels)\n",
    "\n",
    "print(clf_tree.score(X_train,y_train))\n",
    "print(clf_tree.score(X_test,y_test))"
   ]
  },
  {
   "cell_type": "code",
   "execution_count": 16,
   "metadata": {},
   "outputs": [],
   "source": [
    "from sklearn.model_selection import cross_val_score\n",
    "\n",
    "def display_scores(scores):\n",
    "    print(\"Scores: \\t\\t\", scores)\n",
    "    print(\"Mean: \\t\\t\\t\", scores.mean())\n",
    "    print(\"Standard deviation: \\t\", scores.std())"
   ]
  },
  {
   "cell_type": "code",
   "execution_count": 17,
   "metadata": {},
   "outputs": [
    {
     "name": "stdout",
     "output_type": "stream",
     "text": [
      "Scores: \t\t [0.59969136 0.61790123 0.60277778 0.60123457 0.61296296 0.60864198\n",
      " 0.61975309 0.6127239  0.60901791 0.60284126]\n",
      "Mean: \t\t\t 0.6087546038935786\n",
      "Standard deviation: \t 0.006689981813420387\n"
     ]
    }
   ],
   "source": [
    "scores = cross_val_score(clf_tree, delay_prepared, delay_labels, scoring=\"accuracy\", cv=10)\n",
    "display_scores(scores)"
   ]
  },
  {
   "cell_type": "markdown",
   "metadata": {},
   "source": [
    "### Random Forest"
   ]
  },
  {
   "cell_type": "code",
   "execution_count": 18,
   "metadata": {},
   "outputs": [],
   "source": [
    "from sklearn.utils import class_weight\n",
    "#compute the weight of a class\n",
    "def compute_class_weight_dictionary(y):\n",
    "    # helper for returning a dictionary instead of an array\n",
    "    classes = np.unique(y)\n",
    "    weight = class_weight.compute_class_weight(\"balanced\", classes, y)\n",
    "    class_weight_dict = dict(zip(classes, weight))\n",
    "    return class_weight_dict\n",
    "\n",
    "class_weight=compute_class_weight_dictionary(delay_labels)"
   ]
  },
  {
   "cell_type": "code",
   "execution_count": 19,
   "metadata": {},
   "outputs": [
    {
     "name": "stdout",
     "output_type": "stream",
     "text": [
      "class_weight\n",
      "trained score:  0.5487982359426682\n",
      "test score:  0.5412079432040333\n",
      "Scores: \t\t [0.56049383 0.55092593 0.55246914 0.56512346 0.56388889 0.56481481\n",
      " 0.57160494 0.57504632 0.56331069 0.54756022]\n",
      "Mean: \t\t\t 0.5615238220514109\n",
      "Standard deviation: \t 0.008410750053588578\n",
      "min leaf = 100\n",
      "trained score:  0.6153914002205072\n",
      "test score:  0.6064409918715917\n",
      "Scores: \t\t [0.60987654 0.61450617 0.61265432 0.60895062 0.61203704 0.61574074\n",
      " 0.61635802 0.61519456 0.61519456 0.60098826]\n",
      "Mean: \t\t\t 0.6121500850242871\n",
      "Standard deviation: \t 0.004415283525533786\n"
     ]
    }
   ],
   "source": [
    "from sklearn.ensemble import RandomForestClassifier\n",
    "\n",
    "clf=RandomForestClassifier(n_estimators=100,criterion=\"entropy\",bootstrap=True,min_samples_leaf=300,class_weight=class_weight)\n",
    "clf.fit(X_train,y_train)\n",
    "print(\"class_weight\")\n",
    "print(\"trained score: \", clf.score(X_train,y_train))\n",
    "print(\"test score: \", clf.score(X_test,y_test))\n",
    "scores = cross_val_score(clf, delay_prepared, delay_labels, scoring=\"accuracy\", cv=10)\n",
    "display_scores(scores)\n",
    "\n",
    "clf=RandomForestClassifier(n_estimators=100,criterion=\"entropy\",bootstrap=True,min_samples_leaf=100)\n",
    "clf.fit(X_train,y_train)\n",
    "print(\"min leaf = 100\")\n",
    "print(\"trained score: \", clf.score(X_train,y_train))\n",
    "print(\"test score: \", clf.score(X_test,y_test))\n",
    "scores = cross_val_score(clf, delay_prepared, delay_labels, scoring=\"accuracy\", cv=10)\n",
    "display_scores(scores)\n",
    "    \n"
   ]
  },
  {
   "cell_type": "markdown",
   "metadata": {},
   "source": [
    "### KNN"
   ]
  },
  {
   "cell_type": "code",
   "execution_count": 20,
   "metadata": {},
   "outputs": [
    {
     "name": "stdout",
     "output_type": "stream",
     "text": [
      "trained score:  0.595678059536935\n",
      "test score:  0.571252186438934\n",
      "Scores: \t\t [0.575      0.58981481 0.57283951 0.56820988 0.57407407 0.59074074\n",
      " 0.5808642  0.59079679 0.58122298 0.57689932]\n",
      "Mean: \t\t\t 0.580046229573201\n",
      "Standard deviation: \t 0.00768437615163762\n"
     ]
    }
   ],
   "source": [
    "from sklearn.neighbors import KNeighborsClassifier\n",
    "\n",
    "knn = KNeighborsClassifier(n_neighbors=50,leaf_size=300)\n",
    "knn.fit(X_train, y_train)\n",
    "\n",
    "print(\"trained score: \", knn.score(X_train,y_train))\n",
    "print(\"test score: \", knn.score(X_test,y_test))\n",
    "\n",
    "scores = cross_val_score(knn, delay_prepared, delay_labels, scoring=\"accuracy\", cv=10)\n",
    "display_scores(scores)"
   ]
  },
  {
   "cell_type": "markdown",
   "metadata": {},
   "source": [
    "## take a look on grid search \n",
    "### grid search for random forest "
   ]
  },
  {
   "cell_type": "code",
   "execution_count": 21,
   "metadata": {},
   "outputs": [
    {
     "data": {
      "text/plain": [
       "GridSearchCV(cv=5, error_score='raise-deprecating',\n",
       "             estimator=RandomForestClassifier(bootstrap=True, class_weight=None,\n",
       "                                              criterion='gini', max_depth=None,\n",
       "                                              max_features='auto',\n",
       "                                              max_leaf_nodes=None,\n",
       "                                              min_impurity_decrease=0.0,\n",
       "                                              min_impurity_split=None,\n",
       "                                              min_samples_leaf=1,\n",
       "                                              min_samples_split=2,\n",
       "                                              min_weight_fraction_leaf=0.0,\n",
       "                                              n_estimators='warn', n_jobs=None,\n",
       "                                              oob_score=False, random_state=42,\n",
       "                                              verbose=0, warm_start=False),\n",
       "             iid='warn', n_jobs=None,\n",
       "             param_grid=[{'bootstrap': [False, True],\n",
       "                          'max_features': [2, 3, 4, 8],\n",
       "                          'min_samples_leaf': [100, 200, 500],\n",
       "                          'n_estimators': [5, 10, 100]}],\n",
       "             pre_dispatch='2*n_jobs', refit=True, return_train_score=True,\n",
       "             scoring='accuracy', verbose=0)"
      ]
     },
     "execution_count": 21,
     "metadata": {},
     "output_type": "execute_result"
    }
   ],
   "source": [
    "from sklearn.model_selection import GridSearchCV\n",
    "\n",
    "param_grid = [\n",
    "    # try 72 (2x3x4x3) combinations of hyperparameters    \n",
    "    {'bootstrap': [False,True], 'n_estimators': [5,10,100], 'max_features': [2, 3, 4,8],'min_samples_leaf': [100,200,500]},\n",
    "  ]\n",
    "\n",
    "forest_class = RandomForestClassifier(random_state=42)\n",
    "# train across 5 folds, that's a total of (72)*5=360 rounds of training \n",
    "grid_search = GridSearchCV(forest_class, param_grid, cv=5, scoring='accuracy', return_train_score=True)\n",
    "grid_search.fit(delay_prepared, delay_labels)"
   ]
  },
  {
   "cell_type": "code",
   "execution_count": 22,
   "metadata": {},
   "outputs": [
    {
     "data": {
      "text/plain": [
       "{'bootstrap': False,\n",
       " 'max_features': 8,\n",
       " 'min_samples_leaf': 100,\n",
       " 'n_estimators': 100}"
      ]
     },
     "execution_count": 22,
     "metadata": {},
     "output_type": "execute_result"
    }
   ],
   "source": [
    "grid_search.best_params_"
   ]
  },
  {
   "cell_type": "code",
   "execution_count": 23,
   "metadata": {},
   "outputs": [
    {
     "name": "stdout",
     "output_type": "stream",
     "text": [
      "0.5854710613136976 0.5749212817188368 {'bootstrap': False, 'max_features': 2, 'min_samples_leaf': 100, 'n_estimators': 5}\n",
      "0.5949481218838673 0.5832561585478793 {'bootstrap': False, 'max_features': 2, 'min_samples_leaf': 100, 'n_estimators': 10}\n",
      "0.6138944942168821 0.6006976600605051 {'bootstrap': False, 'max_features': 2, 'min_samples_leaf': 100, 'n_estimators': 100}\n",
      "0.5729378741129835 0.564394640982898 {'bootstrap': False, 'max_features': 2, 'min_samples_leaf': 200, 'n_estimators': 5}\n",
      "0.5718496372110855 0.5664937951472495 {'bootstrap': False, 'max_features': 2, 'min_samples_leaf': 200, 'n_estimators': 10}\n",
      "0.5898700437457994 0.581311353954436 {'bootstrap': False, 'max_features': 2, 'min_samples_leaf': 200, 'n_estimators': 100}\n",
      "0.5420295404547482 0.5409643761190344 {'bootstrap': False, 'max_features': 2, 'min_samples_leaf': 500, 'n_estimators': 5}\n",
      "0.5419059907548212 0.5411495956041242 {'bootstrap': False, 'max_features': 2, 'min_samples_leaf': 500, 'n_estimators': 10}\n",
      "0.5634916842908851 0.5605976415385565 {'bootstrap': False, 'max_features': 2, 'min_samples_leaf': 500, 'n_estimators': 100}\n",
      "0.6129994277556418 0.5988763351237884 {'bootstrap': False, 'max_features': 3, 'min_samples_leaf': 100, 'n_estimators': 5}\n",
      "0.6204544057854203 0.6082607890350065 {'bootstrap': False, 'max_features': 3, 'min_samples_leaf': 100, 'n_estimators': 10}\n",
      "0.6242437077689256 0.6117490893375317 {'bootstrap': False, 'max_features': 3, 'min_samples_leaf': 100, 'n_estimators': 100}\n",
      "0.5915448117577651 0.5842439958016916 {'bootstrap': False, 'max_features': 3, 'min_samples_leaf': 200, 'n_estimators': 5}\n",
      "0.5968544196129615 0.5872383774773106 {'bootstrap': False, 'max_features': 3, 'min_samples_leaf': 200, 'n_estimators': 10}\n",
      "0.6044097086635467 0.5975489288139779 {'bootstrap': False, 'max_features': 3, 'min_samples_leaf': 200, 'n_estimators': 100}\n",
      "0.5580815777996395 0.5544236587022288 {'bootstrap': False, 'max_features': 3, 'min_samples_leaf': 500, 'n_estimators': 5}\n",
      "0.5600804836037203 0.5542693091313207 {'bootstrap': False, 'max_features': 3, 'min_samples_leaf': 500, 'n_estimators': 10}\n",
      "0.5771592962882213 0.5722355991850343 {'bootstrap': False, 'max_features': 3, 'min_samples_leaf': 500, 'n_estimators': 100}\n",
      "0.6193508118314055 0.6044020497623016 {'bootstrap': False, 'max_features': 4, 'min_samples_leaf': 100, 'n_estimators': 5}\n",
      "0.6253858349157637 0.6126134469346175 {'bootstrap': False, 'max_features': 4, 'min_samples_leaf': 100, 'n_estimators': 10}\n",
      "0.6281178922486471 0.6148978205840587 {'bootstrap': False, 'max_features': 4, 'min_samples_leaf': 100, 'n_estimators': 100}\n",
      "0.6023877517955881 0.5925171328023708 {'bootstrap': False, 'max_features': 4, 'min_samples_leaf': 200, 'n_estimators': 5}\n",
      "0.6089939781224902 0.5990306846946966 {'bootstrap': False, 'max_features': 4, 'min_samples_leaf': 200, 'n_estimators': 10}\n",
      "0.6125054344392948 0.6050194480459344 {'bootstrap': False, 'max_features': 4, 'min_samples_leaf': 200, 'n_estimators': 100}\n",
      "0.5635842155329625 0.560041983083287 {'bootstrap': False, 'max_features': 4, 'min_samples_leaf': 500, 'n_estimators': 5}\n",
      "0.5742420859393835 0.5708464530468605 {'bootstrap': False, 'max_features': 4, 'min_samples_leaf': 500, 'n_estimators': 10}\n",
      "0.5950716394211811 0.5918688646045563 {'bootstrap': False, 'max_features': 4, 'min_samples_leaf': 500, 'n_estimators': 100}\n",
      "0.6309733753958369 0.6137556337593382 {'bootstrap': False, 'max_features': 8, 'min_samples_leaf': 100, 'n_estimators': 5}\n",
      "0.6322621646536862 0.6168117552633203 {'bootstrap': False, 'max_features': 8, 'min_samples_leaf': 100, 'n_estimators': 10}\n",
      "0.6358353684226727 0.6192813483978514 {'bootstrap': False, 'max_features': 8, 'min_samples_leaf': 100, 'n_estimators': 100}\n",
      "0.6131691510557978 0.6041859603630302 {'bootstrap': False, 'max_features': 8, 'min_samples_leaf': 200, 'n_estimators': 5}\n",
      "0.6132077170068382 0.6059764153855652 {'bootstrap': False, 'max_features': 8, 'min_samples_leaf': 200, 'n_estimators': 10}\n",
      "0.6195978195082519 0.6097734148299068 {'bootstrap': False, 'max_features': 8, 'min_samples_leaf': 200, 'n_estimators': 100}\n",
      "0.5897851737572661 0.5845218250293264 {'bootstrap': False, 'max_features': 8, 'min_samples_leaf': 500, 'n_estimators': 5}\n",
      "0.5912669768119352 0.5868061986787677 {'bootstrap': False, 'max_features': 8, 'min_samples_leaf': 500, 'n_estimators': 10}\n",
      "0.6033678895594952 0.5998333024634191 {'bootstrap': False, 'max_features': 8, 'min_samples_leaf': 500, 'n_estimators': 100}\n",
      "0.5670419924486235 0.561585478792369 {'bootstrap': True, 'max_features': 2, 'min_samples_leaf': 100, 'n_estimators': 5}\n",
      "0.575855228002372 0.567389022658517 {'bootstrap': True, 'max_features': 2, 'min_samples_leaf': 100, 'n_estimators': 10}\n",
      "0.5989225947514452 0.5889053528431191 {'bootstrap': True, 'max_features': 2, 'min_samples_leaf': 100, 'n_estimators': 100}\n",
      "0.556561374371827 0.5522936346236957 {'bootstrap': True, 'max_features': 2, 'min_samples_leaf': 200, 'n_estimators': 5}\n",
      "0.5517533787986413 0.5486201148360808 {'bootstrap': True, 'max_features': 2, 'min_samples_leaf': 200, 'n_estimators': 10}\n",
      "0.5689865130608858 0.565505957893437 {'bootstrap': True, 'max_features': 2, 'min_samples_leaf': 200, 'n_estimators': 100}\n",
      "0.5348212198866963 0.5347903932827067 {'bootstrap': True, 'max_features': 2, 'min_samples_leaf': 500, 'n_estimators': 5}\n",
      "0.5286010288962852 0.5273816138791134 {'bootstrap': True, 'max_features': 2, 'min_samples_leaf': 500, 'n_estimators': 10}\n",
      "0.549036882214424 0.5469222695560906 {'bootstrap': True, 'max_features': 2, 'min_samples_leaf': 500, 'n_estimators': 100}\n",
      "0.5954189104705184 0.5868988084213126 {'bootstrap': True, 'max_features': 3, 'min_samples_leaf': 100, 'n_estimators': 5}\n",
      "0.6049113781235361 0.5949249861085386 {'bootstrap': True, 'max_features': 3, 'min_samples_leaf': 100, 'n_estimators': 10}\n",
      "0.6121581270581169 0.6041859603630302 {'bootstrap': True, 'max_features': 3, 'min_samples_leaf': 100, 'n_estimators': 100}\n",
      "0.5683457587632728 0.5616163487065506 {'bootstrap': True, 'max_features': 3, 'min_samples_leaf': 200, 'n_estimators': 5}\n",
      "0.5734779004670285 0.5691486077668704 {'bootstrap': True, 'max_features': 3, 'min_samples_leaf': 200, 'n_estimators': 10}\n",
      "0.5928412610779504 0.5872383774773106 {'bootstrap': True, 'max_features': 3, 'min_samples_leaf': 200, 'n_estimators': 100}\n",
      "0.5318961797283982 0.529295548558375 {'bootstrap': True, 'max_features': 3, 'min_samples_leaf': 500, 'n_estimators': 5}\n",
      "0.5356236812509703 0.5341112551707107 {'bootstrap': True, 'max_features': 3, 'min_samples_leaf': 500, 'n_estimators': 10}\n",
      "0.5558437091411971 0.5543310489596839 {'bootstrap': True, 'max_features': 3, 'min_samples_leaf': 500, 'n_estimators': 100}\n",
      "0.6077127232545448 0.5985058961536087 {'bootstrap': True, 'max_features': 4, 'min_samples_leaf': 100, 'n_estimators': 5}\n",
      "0.6126519667086461 0.6039390010495771 {'bootstrap': True, 'max_features': 4, 'min_samples_leaf': 100, 'n_estimators': 10}\n",
      "0.6185790770790482 0.6106995122553559 {'bootstrap': True, 'max_features': 4, 'min_samples_leaf': 100, 'n_estimators': 100}\n",
      "0.5832793090775056 0.5788726307340866 {'bootstrap': True, 'max_features': 4, 'min_samples_leaf': 200, 'n_estimators': 5}\n",
      "0.5951024690725802 0.589769710440205 {'bootstrap': True, 'max_features': 4, 'min_samples_leaf': 200, 'n_estimators': 10}\n",
      "0.6075121929359395 0.6033524726801259 {'bootstrap': True, 'max_features': 4, 'min_samples_leaf': 200, 'n_estimators': 100}\n",
      "0.5456335035938682 0.5449774649626474 {'bootstrap': True, 'max_features': 4, 'min_samples_leaf': 500, 'n_estimators': 5}\n",
      "0.5556660732426322 0.5544236587022288 {'bootstrap': True, 'max_features': 4, 'min_samples_leaf': 500, 'n_estimators': 10}\n",
      "0.5762564018043321 0.5734703957522999 {'bootstrap': True, 'max_features': 4, 'min_samples_leaf': 500, 'n_estimators': 100}\n",
      "0.618864638199252 0.6074581712662839 {'bootstrap': True, 'max_features': 8, 'min_samples_leaf': 100, 'n_estimators': 5}\n",
      "0.6223761165534024 0.612489967277891 {'bootstrap': True, 'max_features': 8, 'min_samples_leaf': 100, 'n_estimators': 10}\n",
      "0.6256251378599781 0.6141569426436995 {'bootstrap': True, 'max_features': 8, 'min_samples_leaf': 100, 'n_estimators': 100}\n",
      "0.606269711884811 0.6014076680866827 {'bootstrap': True, 'max_features': 8, 'min_samples_leaf': 200, 'n_estimators': 5}\n",
      "0.6081604828146641 0.6028276841390381 {'bootstrap': True, 'max_features': 8, 'min_samples_leaf': 200, 'n_estimators': 10}\n",
      "0.6125208903616666 0.606933382725196 {'bootstrap': True, 'max_features': 8, 'min_samples_leaf': 200, 'n_estimators': 100}\n",
      "0.5796057454481891 0.5778230536519109 {'bootstrap': True, 'max_features': 8, 'min_samples_leaf': 500, 'n_estimators': 5}\n",
      "0.5865592541409036 0.5848305241711428 {'bootstrap': True, 'max_features': 8, 'min_samples_leaf': 500, 'n_estimators': 10}\n",
      "0.5940297375281816 0.5913749459776502 {'bootstrap': True, 'max_features': 8, 'min_samples_leaf': 500, 'n_estimators': 100}\n"
     ]
    }
   ],
   "source": [
    "cvres = grid_search.cv_results_\n",
    "for mean_train_score, mean_score, params in zip(cvres[\"mean_train_score\"],cvres[\"mean_test_score\"], cvres[\"params\"]):\n",
    "    print(mean_train_score,mean_score, params)"
   ]
  },
  {
   "cell_type": "code",
   "execution_count": 24,
   "metadata": {},
   "outputs": [
    {
     "name": "stdout",
     "output_type": "stream",
     "text": [
      "class_weight\n",
      "trained score:  0.6302535832414553\n",
      "test score:  0.6147751826319581\n",
      "Scores: \t\t [0.61388889 0.62067901 0.62160494 0.6212963  0.62438272 0.61975309\n",
      " 0.62962963 0.62600371 0.62260655 0.60592959]\n",
      "Mean: \t\t\t 0.6205774407308275\n",
      "Standard deviation: \t 0.00625733667423197\n"
     ]
    }
   ],
   "source": [
    "clf=RandomForestClassifier(n_estimators=100,criterion=\"entropy\",bootstrap=False,min_samples_leaf=100,max_features=8)\n",
    "clf.fit(X_train,y_train)\n",
    "print(\"class_weight\")\n",
    "print(\"trained score: \", clf.score(X_train,y_train))\n",
    "print(\"test score: \", clf.score(X_test,y_test))\n",
    "scores = cross_val_score(clf, delay_prepared, delay_labels, scoring=\"accuracy\", cv=10)\n",
    "display_scores(scores)"
   ]
  },
  {
   "cell_type": "markdown",
   "metadata": {},
   "source": [
    "if we take a depper look on the scores, we can see that it is always with the min_sample_leaf = 100 that we have better results\n",
    "take let's try this with other hyperparameters"
   ]
  },
  {
   "cell_type": "code",
   "execution_count": 35,
   "metadata": {},
   "outputs": [
    {
     "data": {
      "text/plain": [
       "GridSearchCV(cv=5, error_score='raise-deprecating',\n",
       "             estimator=RandomForestClassifier(bootstrap=True, class_weight=None,\n",
       "                                              criterion='gini', max_depth=None,\n",
       "                                              max_features='auto',\n",
       "                                              max_leaf_nodes=None,\n",
       "                                              min_impurity_decrease=0.0,\n",
       "                                              min_impurity_split=None,\n",
       "                                              min_samples_leaf=1,\n",
       "                                              min_samples_split=2,\n",
       "                                              min_weight_fraction_leaf=0.0,\n",
       "                                              n_estimators=10, n_jobs=None,\n",
       "                                              oob_score=False, random_state=42,\n",
       "                                              verbose=0, warm_start=False),\n",
       "             iid='warn', n_jobs=None,\n",
       "             param_grid=[{'bootstrap': [False, True],\n",
       "                          'criterion': ['entropy', 'gini'],\n",
       "                          'max_features': [2, 3, 4, 8],\n",
       "                          'min_samples_leaf': [10, 30, 50, 100]}],\n",
       "             pre_dispatch='2*n_jobs', refit=True, return_train_score=True,\n",
       "             scoring='accuracy', verbose=0)"
      ]
     },
     "execution_count": 35,
     "metadata": {},
     "output_type": "execute_result"
    }
   ],
   "source": [
    "from sklearn.model_selection import GridSearchCV\n",
    "\n",
    "param_grid = [\n",
    "    # try 64 (2x4x2x4) combinations of hyperparameters    \n",
    "    {'bootstrap': [False,True], 'max_features': [2, 3, 4,8],'criterion' : [\"entropy\",\"gini\"],'min_samples_leaf': [10,30,50,100]},\n",
    "  ]\n",
    "\n",
    "forest_class = RandomForestClassifier(random_state=42,n_estimators=10)\n",
    "# train across 5 folds, that's a total of (64)*5=320 rounds of training \n",
    "grid_search = GridSearchCV(forest_class, param_grid, cv=5, scoring='accuracy', return_train_score=True)\n",
    "grid_search.fit(delay_prepared, delay_labels)"
   ]
  },
  {
   "cell_type": "code",
   "execution_count": 36,
   "metadata": {},
   "outputs": [
    {
     "data": {
      "text/plain": [
       "{'bootstrap': False,\n",
       " 'criterion': 'gini',\n",
       " 'max_features': 8,\n",
       " 'min_samples_leaf': 10}"
      ]
     },
     "execution_count": 36,
     "metadata": {},
     "output_type": "execute_result"
    }
   ],
   "source": [
    "grid_search.best_params_"
   ]
  },
  {
   "cell_type": "code",
   "execution_count": 37,
   "metadata": {},
   "outputs": [
    {
     "name": "stdout",
     "output_type": "stream",
     "text": [
      "0.7653113329624628 0.6536704327961969 {'bootstrap': False, 'criterion': 'entropy', 'max_features': 2, 'min_samples_leaf': 10}\n",
      "0.657552280655059 0.6160708773229611 {'bootstrap': False, 'criterion': 'entropy', 'max_features': 2, 'min_samples_leaf': 30}\n",
      "0.6293989606925579 0.6068099030684695 {'bootstrap': False, 'criterion': 'entropy', 'max_features': 2, 'min_samples_leaf': 50}\n",
      "0.5907498484515542 0.5799530777304439 {'bootstrap': False, 'criterion': 'entropy', 'max_features': 2, 'min_samples_leaf': 100}\n",
      "0.772149106874612 0.6623757485954189 {'bootstrap': False, 'criterion': 'entropy', 'max_features': 3, 'min_samples_leaf': 10}\n",
      "0.6664892046844536 0.6281101438538 {'bootstrap': False, 'criterion': 'entropy', 'max_features': 3, 'min_samples_leaf': 30}\n",
      "0.6402496614497836 0.617521763289498 {'bootstrap': False, 'criterion': 'entropy', 'max_features': 3, 'min_samples_leaf': 50}\n",
      "0.6155615610698395 0.6016546274001359 {'bootstrap': False, 'criterion': 'entropy', 'max_features': 3, 'min_samples_leaf': 100}\n",
      "0.780075002737098 0.6638883743903192 {'bootstrap': False, 'criterion': 'entropy', 'max_features': 4, 'min_samples_leaf': 10}\n",
      "0.671358873854932 0.63187627338396 {'bootstrap': False, 'criterion': 'entropy', 'max_features': 4, 'min_samples_leaf': 30}\n",
      "0.6436377515126763 0.6202383157374822 {'bootstrap': False, 'criterion': 'entropy', 'max_features': 4, 'min_samples_leaf': 50}\n",
      "0.6219129814774439 0.611378650367352 {'bootstrap': False, 'criterion': 'entropy', 'max_features': 4, 'min_samples_leaf': 100}\n",
      "0.8025945579929615 0.6708032351670062 {'bootstrap': False, 'criterion': 'entropy', 'max_features': 8, 'min_samples_leaf': 10}\n",
      "0.6866240945643719 0.6378650367351979 {'bootstrap': False, 'criterion': 'entropy', 'max_features': 8, 'min_samples_leaf': 30}\n",
      "0.6558081885131275 0.6269988269432611 {'bootstrap': False, 'criterion': 'entropy', 'max_features': 8, 'min_samples_leaf': 50}\n",
      "0.6300626790958728 0.6142495523862443 {'bootstrap': False, 'criterion': 'entropy', 'max_features': 8, 'min_samples_leaf': 100}\n",
      "0.7679663280789273 0.6574674322405384 {'bootstrap': False, 'criterion': 'gini', 'max_features': 2, 'min_samples_leaf': 10}\n",
      "0.6612952922999618 0.6193430882262148 {'bootstrap': False, 'criterion': 'gini', 'max_features': 2, 'min_samples_leaf': 30}\n",
      "0.630317381975688 0.6048959683892079 {'bootstrap': False, 'criterion': 'gini', 'max_features': 2, 'min_samples_leaf': 50}\n",
      "0.5949481218838673 0.5832561585478793 {'bootstrap': False, 'criterion': 'gini', 'max_features': 2, 'min_samples_leaf': 100}\n",
      "0.7735459023562365 0.6631474964499599 {'bootstrap': False, 'criterion': 'gini', 'max_features': 3, 'min_samples_leaf': 10}\n",
      "0.6726168620503715 0.6293449404210656 {'bootstrap': False, 'criterion': 'gini', 'max_features': 3, 'min_samples_leaf': 30}\n",
      "0.6454281887887731 0.618633080200037 {'bootstrap': False, 'criterion': 'gini', 'max_features': 3, 'min_samples_leaf': 50}\n",
      "0.6204544057854203 0.6082607890350065 {'bootstrap': False, 'criterion': 'gini', 'max_features': 3, 'min_samples_leaf': 100}\n",
      "0.7859712548671116 0.6666975365808483 {'bootstrap': False, 'criterion': 'gini', 'max_features': 4, 'min_samples_leaf': 10}\n",
      "0.6782428886705565 0.634778045317034 {'bootstrap': False, 'criterion': 'gini', 'max_features': 4, 'min_samples_leaf': 30}\n",
      "0.648407089411814 0.6239427054392789 {'bootstrap': False, 'criterion': 'gini', 'max_features': 4, 'min_samples_leaf': 50}\n",
      "0.6253858349157637 0.6126134469346175 {'bootstrap': False, 'criterion': 'gini', 'max_features': 4, 'min_samples_leaf': 100}\n",
      "0.8027488932695956 0.672099771562635 {'bootstrap': False, 'criterion': 'gini', 'max_features': 8, 'min_samples_leaf': 10}\n",
      "0.6892788710941886 0.6411063777242699 {'bootstrap': False, 'criterion': 'gini', 'max_features': 8, 'min_samples_leaf': 30}\n",
      "0.6592656170004806 0.6295610298203371 {'bootstrap': False, 'criterion': 'gini', 'max_features': 8, 'min_samples_leaf': 50}\n",
      "0.6322621646536862 0.6168117552633203 {'bootstrap': False, 'criterion': 'gini', 'max_features': 8, 'min_samples_leaf': 100}\n",
      "0.7036334193278222 0.631197135271964 {'bootstrap': True, 'criterion': 'entropy', 'max_features': 2, 'min_samples_leaf': 10}\n",
      "0.6316525163677026 0.6061925047848367 {'bootstrap': True, 'criterion': 'entropy', 'max_features': 2, 'min_samples_leaf': 30}\n",
      "0.6033755448569998 0.5894918812125702 {'bootstrap': True, 'criterion': 'entropy', 'max_features': 2, 'min_samples_leaf': 50}\n",
      "0.5727448007557691 0.5659998765203432 {'bootstrap': True, 'criterion': 'entropy', 'max_features': 2, 'min_samples_leaf': 100}\n",
      "0.7152558977208894 0.6411989874668148 {'bootstrap': True, 'criterion': 'entropy', 'max_features': 3, 'min_samples_leaf': 10}\n",
      "0.6433676165346468 0.6207013644502068 {'bootstrap': True, 'criterion': 'entropy', 'max_features': 3, 'min_samples_leaf': 30}\n",
      "0.6208094572090908 0.6026424646539482 {'bootstrap': True, 'criterion': 'entropy', 'max_features': 3, 'min_samples_leaf': 50}\n",
      "0.5988917388934725 0.5883805643020312 {'bootstrap': True, 'criterion': 'entropy', 'max_features': 3, 'min_samples_leaf': 100}\n",
      "0.7238300197324777 0.6447490275977033 {'bootstrap': True, 'criterion': 'entropy', 'max_features': 4, 'min_samples_leaf': 10}\n",
      "0.6475196335777823 0.6204235352225721 {'bootstrap': True, 'criterion': 'entropy', 'max_features': 4, 'min_samples_leaf': 30}\n",
      "0.6301243979590654 0.6122738778786195 {'bootstrap': True, 'criterion': 'entropy', 'max_features': 4, 'min_samples_leaf': 50}\n",
      "0.6105605588470813 0.6034142125084893 {'bootstrap': True, 'criterion': 'entropy', 'max_features': 4, 'min_samples_leaf': 100}\n",
      "0.74161107388785 0.6512317095758474 {'bootstrap': True, 'criterion': 'entropy', 'max_features': 8, 'min_samples_leaf': 10}\n",
      "0.660484898086745 0.6304562573316046 {'bootstrap': True, 'criterion': 'entropy', 'max_features': 8, 'min_samples_leaf': 30}\n",
      "0.6370624834876251 0.6203926653083904 {'bootstrap': True, 'criterion': 'entropy', 'max_features': 8, 'min_samples_leaf': 50}\n",
      "0.6201688946959479 0.6105760325986294 {'bootstrap': True, 'criterion': 'entropy', 'max_features': 8, 'min_samples_leaf': 100}\n",
      "0.7082253601655769 0.6357658825708464 {'bootstrap': True, 'criterion': 'gini', 'max_features': 2, 'min_samples_leaf': 10}\n",
      "0.6314132336740224 0.6075816509230104 {'bootstrap': True, 'criterion': 'gini', 'max_features': 2, 'min_samples_leaf': 30}\n",
      "0.6035221474076166 0.5881336049885781 {'bootstrap': True, 'criterion': 'gini', 'max_features': 2, 'min_samples_leaf': 50}\n",
      "0.575855228002372 0.567389022658517 {'bootstrap': True, 'criterion': 'gini', 'max_features': 2, 'min_samples_leaf': 100}\n",
      "0.7165138704306263 0.6416929060937211 {'bootstrap': True, 'criterion': 'gini', 'max_features': 3, 'min_samples_leaf': 10}\n",
      "0.647720310414958 0.6186639501142187 {'bootstrap': True, 'criterion': 'gini', 'max_features': 3, 'min_samples_leaf': 30}\n",
      "0.6269063033873319 0.607797740322282 {'bootstrap': True, 'criterion': 'gini', 'max_features': 3, 'min_samples_leaf': 50}\n",
      "0.6049113781235361 0.5949249861085386 {'bootstrap': True, 'criterion': 'gini', 'max_features': 3, 'min_samples_leaf': 100}\n",
      "0.7267781723018603 0.6463851330493301 {'bootstrap': True, 'criterion': 'gini', 'max_features': 4, 'min_samples_leaf': 10}\n",
      "0.652080691159783 0.6228313885287399 {'bootstrap': True, 'criterion': 'gini', 'max_features': 4, 'min_samples_leaf': 30}\n",
      "0.6305334307550795 0.6107303821695376 {'bootstrap': True, 'criterion': 'gini', 'max_features': 4, 'min_samples_leaf': 50}\n",
      "0.6126519667086461 0.6039390010495771 {'bootstrap': True, 'criterion': 'gini', 'max_features': 4, 'min_samples_leaf': 100}\n",
      "0.7414181958887294 0.6503056121503982 {'bootstrap': True, 'criterion': 'gini', 'max_features': 8, 'min_samples_leaf': 10}\n",
      "0.6629082193499262 0.6301784281039698 {'bootstrap': True, 'criterion': 'gini', 'max_features': 8, 'min_samples_leaf': 30}\n",
      "0.6407822844467929 0.6219979008458356 {'bootstrap': True, 'criterion': 'gini', 'max_features': 8, 'min_samples_leaf': 50}\n",
      "0.6223761165534024 0.612489967277891 {'bootstrap': True, 'criterion': 'gini', 'max_features': 8, 'min_samples_leaf': 100}\n"
     ]
    }
   ],
   "source": [
    "cvres = grid_search.cv_results_\n",
    "for mean_train_score, mean_score, params in zip(cvres[\"mean_train_score\"],cvres[\"mean_test_score\"], cvres[\"params\"]):\n",
    "    print(mean_train_score,mean_score, params)"
   ]
  },
  {
   "cell_type": "markdown",
   "metadata": {},
   "source": [
    "we can see that if we choose 10 on the min_sample_leaf, we start to have an overfit it's a small overfit wich allows to have a better scores on the test set but it is not the right things to do, according to me, we have to choose between 30 and 50, 30 seem to be the best. we wan also see that gini is the best we can remove it from the grid, it is the default criterion "
   ]
  },
  {
   "cell_type": "code",
   "execution_count": 45,
   "metadata": {},
   "outputs": [
    {
     "data": {
      "text/plain": [
       "GridSearchCV(cv=5, error_score='raise-deprecating',\n",
       "             estimator=RandomForestClassifier(bootstrap=True, class_weight=None,\n",
       "                                              criterion='gini', max_depth=None,\n",
       "                                              max_features='auto',\n",
       "                                              max_leaf_nodes=None,\n",
       "                                              min_impurity_decrease=0.0,\n",
       "                                              min_impurity_split=None,\n",
       "                                              min_samples_leaf=30,\n",
       "                                              min_samples_split=2,\n",
       "                                              min_weight_fraction_leaf=0.0,\n",
       "                                              n_estimators=10, n_jobs=None,\n",
       "                                              oob_score=False, random_state=42,\n",
       "                                              verbose=0, warm_start=False),\n",
       "             iid='warn', n_jobs=None,\n",
       "             param_grid=[{'bootstrap': [False, True],\n",
       "                          'max_features': [4, 8, 'auto']}],\n",
       "             pre_dispatch='2*n_jobs', refit=True, return_train_score=True,\n",
       "             scoring='accuracy', verbose=0)"
      ]
     },
     "execution_count": 45,
     "metadata": {},
     "output_type": "execute_result"
    }
   ],
   "source": [
    "from sklearn.model_selection import GridSearchCV\n",
    "\n",
    "param_grid = [\n",
    "    # try 6 (2x3) combinations of hyperparameters    \n",
    "    {'bootstrap': [False,True], 'max_features': [4,8,\"auto\"]},\n",
    "  ]\n",
    "\n",
    "forest_class = RandomForestClassifier(random_state=42,n_estimators=10,min_samples_leaf=30)\n",
    "# train across 5 folds, that's a total of (6)*5=30 rounds of training \n",
    "grid_search = GridSearchCV(forest_class, param_grid, cv=5, scoring='accuracy', return_train_score=True)\n",
    "grid_search.fit(delay_prepared, delay_labels)"
   ]
  },
  {
   "cell_type": "code",
   "execution_count": 46,
   "metadata": {},
   "outputs": [
    {
     "data": {
      "text/plain": [
       "{'bootstrap': False, 'max_features': 8}"
      ]
     },
     "execution_count": 46,
     "metadata": {},
     "output_type": "execute_result"
    }
   ],
   "source": [
    "grid_search.best_params_"
   ]
  },
  {
   "cell_type": "code",
   "execution_count": 47,
   "metadata": {},
   "outputs": [
    {
     "name": "stdout",
     "output_type": "stream",
     "text": [
      "0.6782428886705565 0.634778045317034 {'bootstrap': False, 'max_features': 4}\n",
      "0.6892788710941886 0.6411063777242699 {'bootstrap': False, 'max_features': 8}\n",
      "0.6782428886705565 0.634778045317034 {'bootstrap': False, 'max_features': 'auto'}\n",
      "0.652080691159783 0.6228313885287399 {'bootstrap': True, 'max_features': 4}\n",
      "0.6629082193499262 0.6301784281039698 {'bootstrap': True, 'max_features': 8}\n",
      "0.652080691159783 0.6228313885287399 {'bootstrap': True, 'max_features': 'auto'}\n"
     ]
    }
   ],
   "source": [
    "cvres = grid_search.cv_results_\n",
    "for mean_train_score, mean_score, params in zip(cvres[\"mean_train_score\"],cvres[\"mean_test_score\"], cvres[\"params\"]):\n",
    "    print(mean_train_score,mean_score, params)"
   ]
  },
  {
   "cell_type": "markdown",
   "metadata": {},
   "source": [
    "the choice belong to us now, I would say that i agree with the best_params_ even if the train scores is 5% higher than the test, it is negligible"
   ]
  },
  {
   "cell_type": "markdown",
   "metadata": {},
   "source": [
    "if we take a look on the scores, we can see that some of them even if it's a good score, it comes from an overfitting so we have to look deeper and we can see that the best score which does not comme from an overfit is \n",
    "max_depth = 10 and max_features = 8 and not the one that is given by the best_params. "
   ]
  },
  {
   "cell_type": "code",
   "execution_count": 54,
   "metadata": {},
   "outputs": [
    {
     "name": "stdout",
     "output_type": "stream",
     "text": [
      "<PandasArray>\n",
      "[0.0, 0.0, -1.0, -1.0, -1.0, 1.0, -1.0, -1.0, 0.0, 1.0]\n",
      "Length: 10, dtype: float64\n",
      "[0.0, 0.0, -1.0, -1.0, -1.0, 1.0, -1.0, 1.0, 1.0, -1.0]\n"
     ]
    }
   ],
   "source": [
    "full_pipeline_with_predictor = Pipeline([\n",
    "        (\"preparation\", full_pipeline),\n",
    "        (\"classifier\", RandomForestClassifier(random_state=42,n_estimators=10,min_samples_leaf=30,bootstrap=False,max_features=8))\n",
    "    ])\n",
    "full_pipeline_with_predictor.fit(delay, delay_labels)\n",
    "\n",
    "test_set = strat_test_set.drop(\"delay\", axis=1) # drop labels for test set\n",
    "test_set_labels = strat_test_set[\"delay\"].copy()\n",
    "print(test_set_labels[500:510].array)\n",
    "print(list(full_pipeline_with_predictor.predict(test_set[500:510])))"
   ]
  },
  {
   "cell_type": "markdown",
   "metadata": {},
   "source": [
    "we can see that 7 predictions on 10 are correct. With 64% of right answer, it seem to correspond "
   ]
  },
  {
   "cell_type": "markdown",
   "metadata": {},
   "source": [
    "### Save the model "
   ]
  },
  {
   "cell_type": "code",
   "execution_count": 57,
   "metadata": {},
   "outputs": [
    {
     "data": {
      "text/plain": [
       "['D:/Utilisateurs/Antoine/Documents/Unnif/5eme cours/Projet inter/CanYouCatchIt/sandbox/classification/models/forest_model.pkl']"
      ]
     },
     "execution_count": 57,
     "metadata": {},
     "output_type": "execute_result"
    }
   ],
   "source": [
    "import joblib\n",
    "\n",
    "save_path = 'D:/Utilisateurs/Antoine/Documents/Unnif/5eme cours/Projet inter/CanYouCatchIt/sandbox/classification/models/forest_model.pkl'\n",
    "\n",
    "forest_model = full_pipeline_with_predictor\n",
    "joblib.dump(forest_model, save_path) # save\n",
    "\n",
    "# my_model_loaded = joblib.load(\"my_model.pkl\") # load"
   ]
  }
 ],
 "metadata": {
  "kernelspec": {
   "display_name": "Python 3",
   "language": "python",
   "name": "python3"
  },
  "language_info": {
   "codemirror_mode": {
    "name": "ipython",
    "version": 3
   },
   "file_extension": ".py",
   "mimetype": "text/x-python",
   "name": "python",
   "nbconvert_exporter": "python",
   "pygments_lexer": "ipython3",
   "version": "3.7.4"
  }
 },
 "nbformat": 4,
 "nbformat_minor": 2
}
