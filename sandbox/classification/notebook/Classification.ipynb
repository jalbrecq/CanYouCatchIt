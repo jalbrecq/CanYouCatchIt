{
 "cells": [
  {
   "cell_type": "markdown",
   "metadata": {},
   "source": [
    "# Create 2 merge files with all csv files and clean the NaN"
   ]
  },
  {
   "cell_type": "code",
   "execution_count": 1,
   "metadata": {},
   "outputs": [],
   "source": [
    "# Import\n",
    "import pandas as pd\n",
    "import os, glob\n",
    "\n",
    "# Set the path to the directory holding CSV files\n",
    "DELAY_PATH = 'D:/Utilisateurs/Antoine/Documents/Unnif/5eme cours/Projet inter/CanYouCatchIt/sandbox/data/csv2'\n",
    "\n",
    "#we merge all csv files in one and change data for classification \n",
    "#this part also remove live with NaN \n",
    "all_files_csv = glob.glob(os.path.join(DELAY_PATH, \"*.csv\"))\n",
    "\n",
    "all_df = []\n",
    "for f in all_files_csv:\n",
    "    df = pd.read_csv(f, sep=',')\n",
    "    all_df.append(df)\n",
    "    \n",
    "#merge_3 because there are 3 classes\n",
    "merged_3_df = pd.concat(all_df, ignore_index=True, sort=False)\n",
    "\n",
    "merged_3_df=merged_3_df.drop(merged_3_df[merged_3_df.delay.isna()].index)\n",
    "\n",
    "merged_3_df.loc[merged_3_df.delay >0,\"delay\"]= 1\n",
    "merged_3_df.loc[merged_3_df.delay ==0,\"delay\"]= 0\n",
    "merged_3_df.loc[merged_3_df.delay <0,\"delay\"]= -1\n",
    "\n",
    "merged_3_path = DELAY_PATH + \"/merged_3.csv\"\n",
    "merged_3_df.to_csv(merged_3_path,index=False)\n",
    "\n",
    "\n",
    "merged_5_df = pd.concat(all_df, ignore_index=True, sort=False)\n",
    "\n",
    "merged_5_df=merged_5_df.drop(merged_5_df[merged_5_df.delay.isna()].index)\n",
    "\n",
    "merged_5_df.loc[merged_5_df.delay >=10.0,\"delay\"]= 10\n",
    "merged_5_df.loc[(merged_5_df.delay >0) & (merged_5_df.delay <10.0),\"delay\"]= 1\n",
    "merged_5_df.loc[merged_5_df.delay ==0,\"delay\"]= 0\n",
    "merged_5_df.loc[(merged_5_df.delay >-10) & (merged_5_df.delay <0),\"delay\"]= -1\n",
    "merged_5_df.loc[merged_5_df.delay <=-10,\"delay\"]= -10\n",
    "\n",
    "merged_5_path = DELAY_PATH + \"/merged_5.csv\"\n",
    "merged_5_df.to_csv(merged_5_path,index=False)\n"
   ]
  },
  {
   "cell_type": "markdown",
   "metadata": {},
   "source": [
    "# Load the data"
   ]
  },
  {
   "cell_type": "code",
   "execution_count": 2,
   "metadata": {},
   "outputs": [],
   "source": [
    "from sklearn.model_selection import train_test_split\n",
    "from sklearn.model_selection import StratifiedShuffleSplit\n",
    "import matplotlib.pyplot as plt\n",
    "\n",
    "def load_delay_data(path=merged_3_path):\n",
    "    \"\"\"\n",
    "    Load the cvs file in a panda dataframe\n",
    "    \"\"\"\n",
    "    return pd.read_csv(path)\n",
    "\n",
    "\n",
    "# load the csv file\n",
    "delay = load_delay_data()\n",
    "\n",
    "# Get names of indexes for which column line has not a value of 39\n",
    "index_to_remove = delay[ delay['line'] != 39].index\n",
    "# Delete these row indexes from dataFrame\n",
    "delay.drop(index_to_remove , inplace=True)\n",
    "\n",
    "# Reset the labels\n",
    "delay.reset_index(drop=True, inplace=True)\n",
    "\n",
    "# Stratifie the data with the different hour\n",
    "# This make sure that the representation of each hour is the same in the train set then in the overall dataset\n",
    "# This stratification is not necessary is you have enough data\n",
    "split = StratifiedShuffleSplit(n_splits=1, test_size=0.2, random_state=42)\n",
    "for train_index, test_index in split.split(delay, delay[\"hour\"]):\n",
    "    strat_train_set = delay.loc[train_index]\n",
    "    strat_test_set = delay.loc[test_index]\n",
    "    \n",
    "\n"
   ]
  },
  {
   "cell_type": "markdown",
   "metadata": {},
   "source": [
    "# Plot the data\n",
    "## 3 classes"
   ]
  },
  {
   "cell_type": "code",
   "execution_count": 3,
   "metadata": {},
   "outputs": [
    {
     "data": {
      "image/png": "[encoded data removed]",
      "text/plain": [
       "<Figure size 432x288 with 1 Axes>"
      ]
     },
     "metadata": {
      "needs_background": "light"
     },
     "output_type": "display_data"
    }
   ],
   "source": [
    "df_3 = pd.read_csv(merged_3_path,1,\",\")\n",
    "\n",
    "delay_3 = df_3['delay'].value_counts()\n",
    "delay_3_ordered = [delay_3[-1],delay_3[0],delay_3[1]]\n",
    "\n",
    "x= ['late', 'on time', 'early']\n",
    "\n",
    "plt.bar(x,delay_3_ordered)\n",
    "plt.xlabel(\"Delay\")\n",
    "plt.ylabel(\"Number of delay\")\n",
    "\n",
    "plt.show()"
   ]
  },
  {
   "cell_type": "markdown",
   "metadata": {},
   "source": [
    "## 5 classes"
   ]
  },
  {
   "cell_type": "code",
   "execution_count": 4,
   "metadata": {},
   "outputs": [
    {
     "data": {
      "image/png": "[encoded data removed]",
      "text/plain": [
       "<Figure size 432x288 with 1 Axes>"
      ]
     },
     "metadata": {
      "needs_background": "light"
     },
     "output_type": "display_data"
    }
   ],
   "source": [
    "df_5 = pd.read_csv(merged_5_path,1,\",\")\n",
    "\n",
    "delay_5 = df_5['delay'].value_counts()\n",
    "delay_5_ordered = [delay_5[-10],delay_5[-1],delay_5[0],delay_5[1],delay_5[10]]\n",
    "\n",
    "x= ['big late', 'late', 'on time', 'early','big early']\n",
    "\n",
    "plt.bar(x,delay_5_ordered)\n",
    "plt.xlabel(\"Delay\")\n",
    "plt.ylabel(\"Number of delay\")\n",
    "\n",
    "plt.show()"
   ]
  },
  {
   "cell_type": "markdown",
   "metadata": {},
   "source": [
    "when we saw the two graph, we deicded to continue with only 3 classes"
   ]
  },
  {
   "cell_type": "markdown",
   "metadata": {},
   "source": [
    "## Prepare the Data for Machine Learning Algorithms"
   ]
  },
  {
   "cell_type": "code",
   "execution_count": 5,
   "metadata": {},
   "outputs": [],
   "source": [
    "delay = strat_train_set.drop(\"delay\", axis=1) # drop labels for training set\n",
    "delay_labels = strat_train_set[\"delay\"].copy()"
   ]
  },
  {
   "cell_type": "markdown",
   "metadata": {},
   "source": [
    "### Check if there is row with nan\n",
    "\n",
    "Count the number of row with a nan value just to be sure even if we clean the data with the scritp"
   ]
  },
  {
   "cell_type": "code",
   "execution_count": 6,
   "metadata": {},
   "outputs": [
    {
     "data": {
      "text/plain": [
       "5"
      ]
     },
     "execution_count": 6,
     "metadata": {},
     "output_type": "execute_result"
    }
   ],
   "source": [
    "sample_incomplete_rows = delay[delay.isnull().any(axis=1)].head()\n",
    "len(sample_incomplete_rows.index)"
   ]
  },
  {
   "cell_type": "markdown",
   "metadata": {},
   "source": [
    "### Check if there is attribute that are the same for every row"
   ]
  },
  {
   "cell_type": "code",
   "execution_count": 7,
   "metadata": {},
   "outputs": [
    {
     "name": "stdout",
     "output_type": "stream",
     "text": [
      "True transport_type\n",
      "False trip\n",
      "False stop\n",
      "True line\n",
      "False theoretical_time\n",
      "False expectedArrivalTime\n",
      "False date\n",
      "True direction\n",
      "True year\n",
      "True month\n",
      "False day\n",
      "False hour\n",
      "False minute\n",
      "False temp\n",
      "False humidity\n",
      "False visibility\n",
      "False wind\n",
      "False rain\n"
     ]
    }
   ],
   "source": [
    "def unique_cols(df):\n",
    "    a = df.to_numpy()\n",
    "    return (a[0] == a).all(0)\n",
    "unique= unique_cols(delay)\n",
    "col = list(delay.columns)\n",
    "\n",
    "for i in delay.columns:\n",
    "    print(unique[col.index(i)],i)"
   ]
  },
  {
   "cell_type": "markdown",
   "metadata": {},
   "source": [
    "### Data Cleaning\n",
    "\n",
    "Drop the unnecesery attribute. theoretical_time and expectedArrivalTime are droped because they are string attribute and they are not linked to the delay value. The date attribute is split into hour minute and seconds so it can be droped. The transport_type, date_year, date_month, attributes are droped because, it's the same for every row."
   ]
  },
  {
   "cell_type": "code",
   "execution_count": 8,
   "metadata": {},
   "outputs": [
    {
     "data": {
      "text/html": [
       "<div>\n",
       "<style scoped>\n",
       "    .dataframe tbody tr th:only-of-type {\n",
       "        vertical-align: middle;\n",
       "    }\n",
       "\n",
       "    .dataframe tbody tr th {\n",
       "        vertical-align: top;\n",
       "    }\n",
       "\n",
       "    .dataframe thead th {\n",
       "        text-align: right;\n",
       "    }\n",
       "</style>\n",
       "<table border=\"1\" class=\"dataframe\">\n",
       "  <thead>\n",
       "    <tr style=\"text-align: right;\">\n",
       "      <th></th>\n",
       "      <th>stop</th>\n",
       "      <th>day</th>\n",
       "      <th>hour</th>\n",
       "      <th>minute</th>\n",
       "      <th>temp</th>\n",
       "      <th>humidity</th>\n",
       "      <th>visibility</th>\n",
       "      <th>wind</th>\n",
       "      <th>rain</th>\n",
       "    </tr>\n",
       "  </thead>\n",
       "  <tbody>\n",
       "    <tr>\n",
       "      <td>47928</td>\n",
       "      <td>5509</td>\n",
       "      <td>1</td>\n",
       "      <td>22</td>\n",
       "      <td>23</td>\n",
       "      <td>279.00</td>\n",
       "      <td>87.0</td>\n",
       "      <td>10000.0</td>\n",
       "      <td>3.60</td>\n",
       "      <td>0.0</td>\n",
       "    </tr>\n",
       "    <tr>\n",
       "      <td>34721</td>\n",
       "      <td>5509</td>\n",
       "      <td>0</td>\n",
       "      <td>6</td>\n",
       "      <td>1</td>\n",
       "      <td>280.93</td>\n",
       "      <td>94.0</td>\n",
       "      <td>10000.0</td>\n",
       "      <td>1.67</td>\n",
       "      <td>0.0</td>\n",
       "    </tr>\n",
       "    <tr>\n",
       "      <td>40095</td>\n",
       "      <td>5281G</td>\n",
       "      <td>0</td>\n",
       "      <td>19</td>\n",
       "      <td>48</td>\n",
       "      <td>281.65</td>\n",
       "      <td>87.0</td>\n",
       "      <td>10000.0</td>\n",
       "      <td>1.00</td>\n",
       "      <td>0.0</td>\n",
       "    </tr>\n",
       "    <tr>\n",
       "      <td>58815</td>\n",
       "      <td>5501</td>\n",
       "      <td>3</td>\n",
       "      <td>19</td>\n",
       "      <td>48</td>\n",
       "      <td>280.87</td>\n",
       "      <td>81.0</td>\n",
       "      <td>10000.0</td>\n",
       "      <td>0.50</td>\n",
       "      <td>0.0</td>\n",
       "    </tr>\n",
       "    <tr>\n",
       "      <td>18939</td>\n",
       "      <td>5504</td>\n",
       "      <td>4</td>\n",
       "      <td>19</td>\n",
       "      <td>26</td>\n",
       "      <td>276.71</td>\n",
       "      <td>86.0</td>\n",
       "      <td>10000.0</td>\n",
       "      <td>2.60</td>\n",
       "      <td>0.0</td>\n",
       "    </tr>\n",
       "  </tbody>\n",
       "</table>\n",
       "</div>"
      ],
      "text/plain": [
       "        stop  day  hour  minute    temp  humidity  visibility  wind  rain\n",
       "47928   5509    1    22      23  279.00      87.0     10000.0  3.60   0.0\n",
       "34721   5509    0     6       1  280.93      94.0     10000.0  1.67   0.0\n",
       "40095  5281G    0    19      48  281.65      87.0     10000.0  1.00   0.0\n",
       "58815   5501    3    19      48  280.87      81.0     10000.0  0.50   0.0\n",
       "18939   5504    4    19      26  276.71      86.0     10000.0  2.60   0.0"
      ]
     },
     "execution_count": 8,
     "metadata": {},
     "output_type": "execute_result"
    }
   ],
   "source": [
    "nunique = delay.apply(pd.Series.nunique)\n",
    "cols_to_drop = nunique[nunique == 1].index\n",
    "delay = delay.drop(cols_to_drop, axis=1)\n",
    "delay = delay.drop([\"trip\",\"theoretical_time\", \"expectedArrivalTime\", \"date\"], axis=1)\n",
    "delay.head()"
   ]
  },
  {
   "cell_type": "markdown",
   "metadata": {},
   "source": [
    "## Handling Text and Categorical Attributes"
   ]
  },
  {
   "cell_type": "markdown",
   "metadata": {},
   "source": [
    "### Extract the non-numerical attributes"
   ]
  },
  {
   "cell_type": "code",
   "execution_count": 9,
   "metadata": {},
   "outputs": [],
   "source": [
    "delay_num = delay.drop(['stop'], axis=1)"
   ]
  },
  {
   "cell_type": "markdown",
   "metadata": {},
   "source": [
    "### Categorical Attributes: The stop and line"
   ]
  },
  {
   "cell_type": "code",
   "execution_count": 10,
   "metadata": {},
   "outputs": [
    {
     "data": {
      "text/html": [
       "<div>\n",
       "<style scoped>\n",
       "    .dataframe tbody tr th:only-of-type {\n",
       "        vertical-align: middle;\n",
       "    }\n",
       "\n",
       "    .dataframe tbody tr th {\n",
       "        vertical-align: top;\n",
       "    }\n",
       "\n",
       "    .dataframe thead th {\n",
       "        text-align: right;\n",
       "    }\n",
       "</style>\n",
       "<table border=\"1\" class=\"dataframe\">\n",
       "  <thead>\n",
       "    <tr style=\"text-align: right;\">\n",
       "      <th></th>\n",
       "      <th>stop</th>\n",
       "    </tr>\n",
       "  </thead>\n",
       "  <tbody>\n",
       "    <tr>\n",
       "      <td>47928</td>\n",
       "      <td>5509</td>\n",
       "    </tr>\n",
       "    <tr>\n",
       "      <td>34721</td>\n",
       "      <td>5509</td>\n",
       "    </tr>\n",
       "    <tr>\n",
       "      <td>40095</td>\n",
       "      <td>5281G</td>\n",
       "    </tr>\n",
       "    <tr>\n",
       "      <td>58815</td>\n",
       "      <td>5501</td>\n",
       "    </tr>\n",
       "    <tr>\n",
       "      <td>18939</td>\n",
       "      <td>5504</td>\n",
       "    </tr>\n",
       "  </tbody>\n",
       "</table>\n",
       "</div>"
      ],
      "text/plain": [
       "        stop\n",
       "47928   5509\n",
       "34721   5509\n",
       "40095  5281G\n",
       "58815   5501\n",
       "18939   5504"
      ]
     },
     "execution_count": 10,
     "metadata": {},
     "output_type": "execute_result"
    }
   ],
   "source": [
    "delay_cat = delay[['stop']]\n",
    "delay_cat.head()"
   ]
  },
  {
   "cell_type": "code",
   "execution_count": 11,
   "metadata": {},
   "outputs": [
    {
     "data": {
      "text/plain": [
       "array([[8.],\n",
       "       [8.],\n",
       "       [1.],\n",
       "       [2.],\n",
       "       [5.]])"
      ]
     },
     "execution_count": 11,
     "metadata": {},
     "output_type": "execute_result"
    }
   ],
   "source": [
    "from sklearn.preprocessing import OrdinalEncoder\n",
    "\n",
    "ordinal_encoder = OrdinalEncoder()\n",
    "delay_cat_encoded = ordinal_encoder.fit_transform(delay_cat)\n",
    "delay_cat_encoded[:5]"
   ]
  },
  {
   "cell_type": "markdown",
   "metadata": {},
   "source": [
    "## Transformation Pipelines\n"
   ]
  },
  {
   "cell_type": "code",
   "execution_count": 12,
   "metadata": {},
   "outputs": [
    {
     "data": {
      "text/html": [
       "<div>\n",
       "<style scoped>\n",
       "    .dataframe tbody tr th:only-of-type {\n",
       "        vertical-align: middle;\n",
       "    }\n",
       "\n",
       "    .dataframe tbody tr th {\n",
       "        vertical-align: top;\n",
       "    }\n",
       "\n",
       "    .dataframe thead th {\n",
       "        text-align: right;\n",
       "    }\n",
       "</style>\n",
       "<table border=\"1\" class=\"dataframe\">\n",
       "  <thead>\n",
       "    <tr style=\"text-align: right;\">\n",
       "      <th></th>\n",
       "      <th>stop</th>\n",
       "      <th>day</th>\n",
       "      <th>hour</th>\n",
       "      <th>minute</th>\n",
       "      <th>temp</th>\n",
       "      <th>humidity</th>\n",
       "      <th>visibility</th>\n",
       "      <th>wind</th>\n",
       "      <th>rain</th>\n",
       "      <th>hour_and_minute</th>\n",
       "    </tr>\n",
       "  </thead>\n",
       "  <tbody>\n",
       "    <tr>\n",
       "      <td>47928</td>\n",
       "      <td>5509</td>\n",
       "      <td>1</td>\n",
       "      <td>22</td>\n",
       "      <td>23</td>\n",
       "      <td>279</td>\n",
       "      <td>87</td>\n",
       "      <td>10000</td>\n",
       "      <td>3.6</td>\n",
       "      <td>0</td>\n",
       "      <td>80580</td>\n",
       "    </tr>\n",
       "    <tr>\n",
       "      <td>34721</td>\n",
       "      <td>5509</td>\n",
       "      <td>0</td>\n",
       "      <td>6</td>\n",
       "      <td>1</td>\n",
       "      <td>280.93</td>\n",
       "      <td>94</td>\n",
       "      <td>10000</td>\n",
       "      <td>1.67</td>\n",
       "      <td>0</td>\n",
       "      <td>21660</td>\n",
       "    </tr>\n",
       "    <tr>\n",
       "      <td>40095</td>\n",
       "      <td>5281G</td>\n",
       "      <td>0</td>\n",
       "      <td>19</td>\n",
       "      <td>48</td>\n",
       "      <td>281.65</td>\n",
       "      <td>87</td>\n",
       "      <td>10000</td>\n",
       "      <td>1</td>\n",
       "      <td>0</td>\n",
       "      <td>71280</td>\n",
       "    </tr>\n",
       "    <tr>\n",
       "      <td>58815</td>\n",
       "      <td>5501</td>\n",
       "      <td>3</td>\n",
       "      <td>19</td>\n",
       "      <td>48</td>\n",
       "      <td>280.87</td>\n",
       "      <td>81</td>\n",
       "      <td>10000</td>\n",
       "      <td>0.5</td>\n",
       "      <td>0</td>\n",
       "      <td>71280</td>\n",
       "    </tr>\n",
       "    <tr>\n",
       "      <td>18939</td>\n",
       "      <td>5504</td>\n",
       "      <td>4</td>\n",
       "      <td>19</td>\n",
       "      <td>26</td>\n",
       "      <td>276.71</td>\n",
       "      <td>86</td>\n",
       "      <td>10000</td>\n",
       "      <td>2.6</td>\n",
       "      <td>0</td>\n",
       "      <td>69960</td>\n",
       "    </tr>\n",
       "  </tbody>\n",
       "</table>\n",
       "</div>"
      ],
      "text/plain": [
       "        stop day hour minute    temp humidity visibility  wind rain  \\\n",
       "47928   5509   1   22     23     279       87      10000   3.6    0   \n",
       "34721   5509   0    6      1  280.93       94      10000  1.67    0   \n",
       "40095  5281G   0   19     48  281.65       87      10000     1    0   \n",
       "58815   5501   3   19     48  280.87       81      10000   0.5    0   \n",
       "18939   5504   4   19     26  276.71       86      10000   2.6    0   \n",
       "\n",
       "      hour_and_minute  \n",
       "47928           80580  \n",
       "34721           21660  \n",
       "40095           71280  \n",
       "58815           71280  \n",
       "18939           69960  "
      ]
     },
     "execution_count": 12,
     "metadata": {},
     "output_type": "execute_result"
    }
   ],
   "source": [
    "from sklearn.preprocessing import FunctionTransformer\n",
    "import numpy as np\n",
    "\n",
    "# get the right column indices: safer than hard-coding indices\n",
    "\n",
    "def add_extra_features(X, add_combined_time=True):\n",
    "    hour_ix, minute_ix = [list(delay.columns).index(col) for col in (\"hour\", \"minute\")]\n",
    "    if add_combined_time:\n",
    "        hour_and_minute = X[:, hour_ix]*3600 + X[:, minute_ix]*60\n",
    "        return np.c_[X, hour_and_minute]\n",
    "    else:\n",
    "        return np.c_[X]\n",
    "\n",
    "attr_adder = FunctionTransformer(add_extra_features, validate=False,\n",
    "                                 kw_args={\"add_combined_time\": True})\n",
    "delay_extra_attribs = attr_adder.fit_transform(delay.values)\n",
    "\n",
    "delay_extra_attribs = pd.DataFrame(\n",
    "    delay_extra_attribs,\n",
    "    columns=list(delay.columns) + [\"hour_and_minute\"],\n",
    "    index=delay.index)\n",
    "delay_extra_attribs.head()"
   ]
  },
  {
   "cell_type": "code",
   "execution_count": 13,
   "metadata": {},
   "outputs": [
    {
     "data": {
      "text/plain": [
       "array([[-1.24583412,  1.58367566, -0.38932186, ...,  0.        ,\n",
       "         0.        ,  0.        ],\n",
       "       [-1.80662814, -1.52523594, -1.66688894, ...,  0.        ,\n",
       "         0.        ,  0.        ],\n",
       "       [-1.80662814,  1.00075473,  1.0624589 , ...,  0.        ,\n",
       "         0.        ,  0.        ],\n",
       "       ...,\n",
       "       [-0.12424608,  0.02921986, -0.38932186, ...,  0.        ,\n",
       "         0.        ,  0.        ],\n",
       "       [-0.6850401 ,  0.41783381, -0.50546432, ...,  0.        ,\n",
       "         0.        ,  0.        ],\n",
       "       [-1.24583412, -0.16508712,  0.36560414, ...,  0.        ,\n",
       "         0.        ,  0.        ]])"
      ]
     },
     "execution_count": 13,
     "metadata": {},
     "output_type": "execute_result"
    }
   ],
   "source": [
    "from sklearn.pipeline import Pipeline\n",
    "from sklearn.preprocessing import StandardScaler\n",
    "from sklearn.compose import ColumnTransformer\n",
    "from sklearn.preprocessing import OneHotEncoder\n",
    "from sklearn.impute import SimpleImputer\n",
    "\n",
    "num_attribs = list(delay_num)\n",
    "cat_attribs = [\"stop\"]\n",
    "\n",
    "num_pipeline = Pipeline([\n",
    "        ('imputer', SimpleImputer(strategy=\"median\")),\n",
    "        ('attribs_adder', FunctionTransformer(add_extra_features,\n",
    "                                            validate=False,\n",
    "                                            kw_args={\"add_combined_time\": True})),\n",
    "        ('std_scaler', StandardScaler())\n",
    "    ])\n",
    "\n",
    "full_pipeline = ColumnTransformer([\n",
    "        (\"num\", num_pipeline, num_attribs),\n",
    "        (\"cat\", OneHotEncoder(), cat_attribs),\n",
    "    ])\n",
    "\n",
    "delay_prepared = full_pipeline.fit_transform(delay)\n",
    "delay_prepared"
   ]
  },
  {
   "cell_type": "markdown",
   "metadata": {},
   "source": [
    "## Select and train a model"
   ]
  },
  {
   "cell_type": "markdown",
   "metadata": {},
   "source": [
    "### split in train and test"
   ]
  },
  {
   "cell_type": "code",
   "execution_count": 14,
   "metadata": {},
   "outputs": [],
   "source": [
    "X_train, X_test, y_train, y_test = train_test_split(delay_prepared, delay_labels, test_size=0.3) # 70% training and 30% test"
   ]
  },
  {
   "cell_type": "markdown",
   "metadata": {},
   "source": [
    "### Decision tree"
   ]
  },
  {
   "cell_type": "code",
   "execution_count": 15,
   "metadata": {},
   "outputs": [
    {
     "name": "stdout",
     "output_type": "stream",
     "text": [
      "0.5449036360023842\n",
      "0.5223387610824592\n"
     ]
    }
   ],
   "source": [
    "from sklearn import tree\n",
    "\n",
    "clf_tree = tree.DecisionTreeClassifier(criterion=\"entropy\",min_samples_leaf=100)\n",
    "clf_tree = clf_tree.fit(X_train, y_train)\n",
    "\n",
    "print(clf_tree.score(X_train,y_train))\n",
    "print(clf_tree.score(X_test,y_test))"
   ]
  },
  {
   "cell_type": "code",
   "execution_count": 16,
   "metadata": {},
   "outputs": [],
   "source": [
    "from sklearn.model_selection import cross_val_score\n",
    "\n",
    "def display_scores(scores):\n",
    "    print(\"Scores: \\t\\t\", scores)\n",
    "    print(\"Mean: \\t\\t\\t\", scores.mean())\n",
    "    print(\"Standard deviation: \\t\", scores.std())"
   ]
  },
  {
   "cell_type": "code",
   "execution_count": 17,
   "metadata": {},
   "outputs": [
    {
     "name": "stdout",
     "output_type": "stream",
     "text": [
      "Scores: \t\t [0.52196575 0.52917805 0.52309985 0.51664183 0.52781918 0.5377546\n",
      " 0.52483855 0.53030303 0.52483855 0.50645802]\n",
      "Mean: \t\t\t 0.5242897398089132\n",
      "Standard deviation: \t 0.007985576398620681\n"
     ]
    }
   ],
   "source": [
    "scores = cross_val_score(clf_tree, X_train, y_train, scoring=\"accuracy\", cv=10)\n",
    "display_scores(scores)"
   ]
  },
  {
   "cell_type": "markdown",
   "metadata": {},
   "source": [
    "### Random Forest"
   ]
  },
  {
   "cell_type": "code",
   "execution_count": 18,
   "metadata": {},
   "outputs": [],
   "source": [
    "from sklearn.utils import class_weight\n",
    "#compute the weight of a class\n",
    "def compute_class_weight_dictionary(y):\n",
    "    # helper for returning a dictionary instead of an array\n",
    "    classes = np.unique(y)\n",
    "    weight = class_weight.compute_class_weight(\"balanced\", classes, y)\n",
    "    class_weight_dict = dict(zip(classes, weight))\n",
    "    return class_weight_dict\n",
    "\n",
    "class_weight=compute_class_weight_dictionary(delay_labels)"
   ]
  },
  {
   "cell_type": "code",
   "execution_count": 19,
   "metadata": {},
   "outputs": [
    {
     "name": "stdout",
     "output_type": "stream",
     "text": [
      "class_weight\n",
      "trained score:  0.5153486985893105\n",
      "test score:  0.506403198701976\n",
      "Scores: \t\t [0.50930752 0.51576856 0.49329359 0.49329359 0.50099354 0.51564829\n",
      " 0.51987084 0.51490313 0.50447094 0.49329359]\n",
      "Mean: \t\t\t 0.5060843593859008\n",
      "Standard deviation: \t 0.009913676189472663\n",
      "min leaf = 100\n",
      "trained score:  0.540035763957878\n",
      "test score:  0.5244248710668135\n",
      "Scores: \t\t [0.52122115 0.53439285 0.51167412 0.50546448 0.51838053 0.5360159\n",
      " 0.53974168 0.52583209 0.53452558 0.51614506]\n",
      "Mean: \t\t\t 0.5243393428641745\n",
      "Standard deviation: \t 0.010998545037508774\n"
     ]
    }
   ],
   "source": [
    "from sklearn.ensemble import RandomForestClassifier\n",
    "\n",
    "clf=RandomForestClassifier(n_estimators=100,criterion=\"entropy\",bootstrap=True,min_samples_leaf=300,class_weight=class_weight)\n",
    "clf.fit(X_train,y_train)\n",
    "print(\"class_weight\")\n",
    "print(\"trained score: \", clf.score(X_train,y_train))\n",
    "print(\"test score: \", clf.score(X_test,y_test))\n",
    "scores = cross_val_score(clf, X_train,y_train, scoring=\"accuracy\", cv=10)\n",
    "display_scores(scores)\n",
    "\n",
    "clf=RandomForestClassifier(n_estimators=100,criterion=\"entropy\",bootstrap=True,min_samples_leaf=100)\n",
    "clf.fit(X_train,y_train)\n",
    "print(\"min leaf = 100\")\n",
    "print(\"trained score: \", clf.score(X_train,y_train))\n",
    "print(\"test score: \", clf.score(X_test,y_test))\n",
    "scores = cross_val_score(clf, X_train,y_train, scoring=\"accuracy\", cv=10)\n",
    "display_scores(scores)\n",
    "    \n"
   ]
  },
  {
   "cell_type": "markdown",
   "metadata": {},
   "source": [
    "### KNN"
   ]
  },
  {
   "cell_type": "code",
   "execution_count": 20,
   "metadata": {},
   "outputs": [
    {
     "name": "stdout",
     "output_type": "stream",
     "text": [
      "trained score:  0.5591843830717266\n",
      "test score:  0.5268007185489946\n",
      "Scores: \t\t [0.53139737 0.5443258  0.51987084 0.52459016 0.53477397 0.5273224\n",
      " 0.53725782 0.5360159  0.53800298 0.51738698]\n",
      "Mean: \t\t\t 0.5310944233008429\n",
      "Standard deviation: \t 0.008179443655120563\n"
     ]
    }
   ],
   "source": [
    "from sklearn.neighbors import KNeighborsClassifier\n",
    "\n",
    "knn = KNeighborsClassifier(n_neighbors=50,leaf_size=300)\n",
    "knn.fit(X_train, y_train)\n",
    "\n",
    "print(\"trained score: \", knn.score(X_train,y_train))\n",
    "print(\"test score: \", knn.score(X_test,y_test))\n",
    "\n",
    "scores = cross_val_score(knn, X_train,y_train, scoring=\"accuracy\", cv=10)\n",
    "display_scores(scores)"
   ]
  },
  {
   "cell_type": "markdown",
   "metadata": {},
   "source": [
    "## take a look on grid search \n",
    "### grid search for random forest "
   ]
  },
  {
   "cell_type": "code",
   "execution_count": 21,
   "metadata": {},
   "outputs": [
    {
     "data": {
      "text/plain": [
       "GridSearchCV(cv=5, error_score='raise-deprecating',\n",
       "             estimator=RandomForestClassifier(bootstrap=True, class_weight=None,\n",
       "                                              criterion='gini', max_depth=None,\n",
       "                                              max_features='auto',\n",
       "                                              max_leaf_nodes=None,\n",
       "                                              min_impurity_decrease=0.0,\n",
       "                                              min_impurity_split=None,\n",
       "                                              min_samples_leaf=1,\n",
       "                                              min_samples_split=2,\n",
       "                                              min_weight_fraction_leaf=0.0,\n",
       "                                              n_estimators='warn', n_jobs=None,\n",
       "                                              oob_score=False, random_state=42,\n",
       "                                              verbose=0, warm_start=False),\n",
       "             iid='warn', n_jobs=None,\n",
       "             param_grid=[{'bootstrap': [False, True],\n",
       "                          'max_features': [2, 3, 4, 8],\n",
       "                          'min_samples_leaf': [100, 200, 500],\n",
       "                          'n_estimators': [5, 10, 100]}],\n",
       "             pre_dispatch='2*n_jobs', refit=True, return_train_score=True,\n",
       "             scoring='accuracy', verbose=0)"
      ]
     },
     "execution_count": 21,
     "metadata": {},
     "output_type": "execute_result"
    }
   ],
   "source": [
    "from sklearn.model_selection import GridSearchCV\n",
    "\n",
    "param_grid = [\n",
    "    # try 72 (2x3x4x3) combinations of hyperparameters    \n",
    "    {'bootstrap': [False,True], 'n_estimators': [5,10,100], 'max_features': [2, 3, 4,8],'min_samples_leaf': [100,200,500]},\n",
    "  ]\n",
    "\n",
    "forest_class = RandomForestClassifier(random_state=42)\n",
    "# train across 5 folds, that's a total of (72)*5=360 rounds of training \n",
    "grid_search = GridSearchCV(forest_class, param_grid, cv=5, scoring='accuracy', return_train_score=True)\n",
    "grid_search.fit(delay_prepared, delay_labels)"
   ]
  },
  {
   "cell_type": "code",
   "execution_count": 22,
   "metadata": {},
   "outputs": [
    {
     "data": {
      "text/plain": [
       "{'bootstrap': False,\n",
       " 'max_features': 8,\n",
       " 'min_samples_leaf': 100,\n",
       " 'n_estimators': 100}"
      ]
     },
     "execution_count": 22,
     "metadata": {},
     "output_type": "execute_result"
    }
   ],
   "source": [
    "grid_search.best_params_"
   ]
  },
  {
   "cell_type": "code",
   "execution_count": 23,
   "metadata": {},
   "outputs": [
    {
     "name": "stdout",
     "output_type": "stream",
     "text": [
      "0.5312668095066226 0.512299855704873 {'bootstrap': False, 'max_features': 2, 'min_samples_leaf': 100, 'n_estimators': 5}\n",
      "0.5365301570543701 0.5149771387840962 {'bootstrap': False, 'max_features': 2, 'min_samples_leaf': 100, 'n_estimators': 10}\n",
      "0.5453834109131174 0.5232523773926044 {'bootstrap': False, 'max_features': 2, 'min_samples_leaf': 100, 'n_estimators': 100}\n",
      "0.5162462175055726 0.5040246170963648 {'bootstrap': False, 'max_features': 2, 'min_samples_leaf': 200, 'n_estimators': 5}\n",
      "0.5206533106239473 0.5098485770414284 {'bootstrap': False, 'max_features': 2, 'min_samples_leaf': 200, 'n_estimators': 10}\n",
      "0.5251299417498168 0.5131169485926879 {'bootstrap': False, 'max_features': 2, 'min_samples_leaf': 200, 'n_estimators': 100}\n",
      "0.4947888455307898 0.4890561707897985 {'bootstrap': False, 'max_features': 2, 'min_samples_leaf': 500, 'n_estimators': 5}\n",
      "0.5017384844566367 0.49698371029710886 {'bootstrap': False, 'max_features': 2, 'min_samples_leaf': 500, 'n_estimators': 10}\n",
      "0.5071973391734562 0.502390431320735 {'bootstrap': False, 'max_features': 2, 'min_samples_leaf': 500, 'n_estimators': 100}\n",
      "0.538742372110881 0.5205924792684411 {'bootstrap': False, 'max_features': 3, 'min_samples_leaf': 100, 'n_estimators': 5}\n",
      "0.54398824750804 0.5263816693033848 {'bootstrap': False, 'max_features': 3, 'min_samples_leaf': 100, 'n_estimators': 10}\n",
      "0.5486821864166371 0.5293197267085065 {'bootstrap': False, 'max_features': 3, 'min_samples_leaf': 100, 'n_estimators': 100}\n",
      "0.5202969552571198 0.5092227186592723 {'bootstrap': False, 'max_features': 3, 'min_samples_leaf': 200, 'n_estimators': 5}\n",
      "0.5252559718315886 0.5140905060760418 {'bootstrap': False, 'max_features': 3, 'min_samples_leaf': 200, 'n_estimators': 10}\n",
      "0.5268119357376555 0.5154465325707133 {'bootstrap': False, 'max_features': 3, 'min_samples_leaf': 200, 'n_estimators': 100}\n",
      "0.5018384318342484 0.49806157751082214 {'bootstrap': False, 'max_features': 3, 'min_samples_leaf': 500, 'n_estimators': 5}\n",
      "0.5009083588203287 0.49788772796022324 {'bootstrap': False, 'max_features': 3, 'min_samples_leaf': 500, 'n_estimators': 10}\n",
      "0.5055936140732112 0.5009127101406443 {'bootstrap': False, 'max_features': 3, 'min_samples_leaf': 500, 'n_estimators': 100}\n",
      "0.5416412711142345 0.5223483597294901 {'bootstrap': False, 'max_features': 4, 'min_samples_leaf': 100, 'n_estimators': 5}\n",
      "0.5492080833671434 0.5287807931016498 {'bootstrap': False, 'max_features': 4, 'min_samples_leaf': 100, 'n_estimators': 10}\n",
      "0.5546147964785716 0.5350915317883903 {'bootstrap': False, 'max_features': 4, 'min_samples_leaf': 100, 'n_estimators': 100}\n",
      "0.527429061180791 0.5146294396828984 {'bootstrap': False, 'max_features': 4, 'min_samples_leaf': 200, 'n_estimators': 5}\n",
      "0.531714452303235 0.5194103023243685 {'bootstrap': False, 'max_features': 4, 'min_samples_leaf': 200, 'n_estimators': 10}\n",
      "0.535026325119804 0.5238782357747606 {'bootstrap': False, 'max_features': 4, 'min_samples_leaf': 200, 'n_estimators': 100}\n",
      "0.5061455225123905 0.5029989047478313 {'bootstrap': False, 'max_features': 4, 'min_samples_leaf': 500, 'n_estimators': 5}\n",
      "0.5068148665357478 0.5022861215903757 {'bootstrap': False, 'max_features': 4, 'min_samples_leaf': 500, 'n_estimators': 10}\n",
      "0.5075494022514742 0.5028945950174719 {'bootstrap': False, 'max_features': 4, 'min_samples_leaf': 500, 'n_estimators': 100}\n",
      "0.5631334802838082 0.5410893412840527 {'bootstrap': False, 'max_features': 8, 'min_samples_leaf': 100, 'n_estimators': 5}\n",
      "0.5645112109227161 0.542167208497766 {'bootstrap': False, 'max_features': 8, 'min_samples_leaf': 100, 'n_estimators': 10}\n",
      "0.5693616077957959 0.546478677352619 {'bootstrap': False, 'max_features': 8, 'min_samples_leaf': 100, 'n_estimators': 100}\n",
      "0.5389510268398782 0.52876340814659 {'bootstrap': False, 'max_features': 8, 'min_samples_leaf': 200, 'n_estimators': 5}\n",
      "0.5421411658311028 0.5305540585177587 {'bootstrap': False, 'max_features': 8, 'min_samples_leaf': 200, 'n_estimators': 10}\n",
      "0.545887542384071 0.5336659654734792 {'bootstrap': False, 'max_features': 8, 'min_samples_leaf': 200, 'n_estimators': 100}\n",
      "0.5117000563075307 0.5076059178387023 {'bootstrap': False, 'max_features': 8, 'min_samples_leaf': 500, 'n_estimators': 5}\n",
      "0.5146337337571076 0.5100571965021471 {'bootstrap': False, 'max_features': 8, 'min_samples_leaf': 500, 'n_estimators': 10}\n",
      "0.5127866148656753 0.5093270283896316 {'bootstrap': False, 'max_features': 8, 'min_samples_leaf': 500, 'n_estimators': 100}\n",
      "0.5176630833916481 0.5055023382764555 {'bootstrap': True, 'max_features': 2, 'min_samples_leaf': 100, 'n_estimators': 5}\n",
      "0.5251907947783748 0.5128387893117297 {'bootstrap': True, 'max_features': 2, 'min_samples_leaf': 100, 'n_estimators': 10}\n",
      "0.5325446197796098 0.5165939396046662 {'bootstrap': True, 'max_features': 2, 'min_samples_leaf': 100, 'n_estimators': 100}\n",
      "0.500347693528624 0.49474105109438293 {'bootstrap': True, 'max_features': 2, 'min_samples_leaf': 200, 'n_estimators': 5}\n",
      "0.5092096816679559 0.5014168738373811 {'bootstrap': True, 'max_features': 2, 'min_samples_leaf': 200, 'n_estimators': 10}\n",
      "0.516181024963546 0.505763112602354 {'bootstrap': True, 'max_features': 2, 'min_samples_leaf': 200, 'n_estimators': 100}\n",
      "0.479981188361157 0.475078666921646 {'bootstrap': True, 'max_features': 2, 'min_samples_leaf': 500, 'n_estimators': 5}\n",
      "0.4949757998560447 0.48975156899219413 {'bootstrap': True, 'max_features': 2, 'min_samples_leaf': 500, 'n_estimators': 10}\n",
      "0.4996392577056211 0.4956276838024374 {'bootstrap': True, 'max_features': 2, 'min_samples_leaf': 500, 'n_estimators': 100}\n",
      "0.5230959140586338 0.5131517185028077 {'bootstrap': True, 'max_features': 3, 'min_samples_leaf': 100, 'n_estimators': 5}\n",
      "0.5305106217453055 0.51758488204308 {'bootstrap': True, 'max_features': 3, 'min_samples_leaf': 100, 'n_estimators': 10}\n",
      "0.5367039748706672 0.5204360146729021 {'bootstrap': True, 'max_features': 3, 'min_samples_leaf': 100, 'n_estimators': 100}\n",
      "0.510313570986284 0.501921037534118 {'bootstrap': True, 'max_features': 3, 'min_samples_leaf': 200, 'n_estimators': 5}\n",
      "0.5130690993232536 0.5047200152987604 {'bootstrap': True, 'max_features': 3, 'min_samples_leaf': 200, 'n_estimators': 10}\n",
      "0.5162940251693544 0.5091531788390327 {'bootstrap': True, 'max_features': 3, 'min_samples_leaf': 200, 'n_estimators': 100}\n",
      "0.49631872862324766 0.49348933433007075 {'bootstrap': True, 'max_features': 3, 'min_samples_leaf': 500, 'n_estimators': 5}\n",
      "0.4958319471801066 0.49408042280210707 {'bootstrap': True, 'max_features': 3, 'min_samples_leaf': 500, 'n_estimators': 10}\n",
      "0.4995088354070565 0.497609568679265 {'bootstrap': True, 'max_features': 3, 'min_samples_leaf': 500, 'n_estimators': 100}\n",
      "0.5303498090598437 0.5182628952904157 {'bootstrap': True, 'max_features': 4, 'min_samples_leaf': 100, 'n_estimators': 5}\n",
      "0.5374645900787136 0.5239130056848803 {'bootstrap': True, 'max_features': 4, 'min_samples_leaf': 100, 'n_estimators': 10}\n",
      "0.5418151238747122 0.527789850663236 {'bootstrap': True, 'max_features': 4, 'min_samples_leaf': 100, 'n_estimators': 100}\n",
      "0.5130039750681838 0.5073625284678639 {'bootstrap': True, 'max_features': 4, 'min_samples_leaf': 200, 'n_estimators': 5}\n",
      "0.5157116468177667 0.5089967142434937 {'bootstrap': True, 'max_features': 4, 'min_samples_leaf': 200, 'n_estimators': 10}\n",
      "0.5200796087506071 0.513568957424245 {'bootstrap': True, 'max_features': 4, 'min_samples_leaf': 200, 'n_estimators': 100}\n",
      "0.5020427323158762 0.49940021905043375 {'bootstrap': True, 'max_features': 4, 'min_samples_leaf': 500, 'n_estimators': 5}\n",
      "0.5038507645068893 0.5016428782531597 {'bootstrap': True, 'max_features': 4, 'min_samples_leaf': 500, 'n_estimators': 10}\n",
      "0.4996870749077553 0.49705325011734847 {'bootstrap': True, 'max_features': 4, 'min_samples_leaf': 500, 'n_estimators': 100}\n",
      "0.5461918137613415 0.5293197267085065 {'bootstrap': True, 'max_features': 8, 'min_samples_leaf': 100, 'n_estimators': 5}\n",
      "0.5505945516870934 0.5360303193616245 {'bootstrap': True, 'max_features': 8, 'min_samples_leaf': 100, 'n_estimators': 10}\n",
      "0.5562316257865366 0.5410024165087534 {'bootstrap': True, 'max_features': 8, 'min_samples_leaf': 100, 'n_estimators': 100}\n",
      "0.5227569248704901 0.5152726830201144 {'bootstrap': True, 'max_features': 8, 'min_samples_leaf': 200, 'n_estimators': 5}\n",
      "0.5259687322465887 0.5162462405034683 {'bootstrap': True, 'max_features': 8, 'min_samples_leaf': 200, 'n_estimators': 10}\n",
      "0.5284417728202191 0.5208532535943394 {'bootstrap': True, 'max_features': 8, 'min_samples_leaf': 200, 'n_estimators': 100}\n",
      "0.5047634570807541 0.5012604092418421 {'bootstrap': True, 'max_features': 8, 'min_samples_leaf': 500, 'n_estimators': 5}\n",
      "0.5058891421963286 0.5031205994332505 {'bootstrap': True, 'max_features': 8, 'min_samples_leaf': 500, 'n_estimators': 10}\n",
      "0.5057066069116996 0.5034856834895082 {'bootstrap': True, 'max_features': 8, 'min_samples_leaf': 500, 'n_estimators': 100}\n"
     ]
    }
   ],
   "source": [
    "cvres = grid_search.cv_results_\n",
    "for mean_train_score, mean_score, params in zip(cvres[\"mean_train_score\"],cvres[\"mean_test_score\"], cvres[\"params\"]):\n",
    "    print(mean_train_score,mean_score, params)"
   ]
  },
  {
   "cell_type": "code",
   "execution_count": 24,
   "metadata": {},
   "outputs": [
    {
     "name": "stdout",
     "output_type": "stream",
     "text": [
      "class_weight\n",
      "trained score:  0.5631581561692828\n",
      "test score:  0.5419250159355624\n",
      "Scores: \t\t [0.53884339 0.55103054 0.54048684 0.51862891 0.53874814 0.54297069\n",
      " 0.55663189 0.54992548 0.5496771  0.52881272]\n",
      "Mean: \t\t\t 0.5415755697789321\n",
      "Standard deviation: \t 0.010767895123969255\n"
     ]
    }
   ],
   "source": [
    "clf=RandomForestClassifier(n_estimators=100,criterion=\"entropy\",bootstrap=False,min_samples_leaf=100,max_features=8)\n",
    "clf.fit(X_train,y_train)\n",
    "print(\"class_weight\")\n",
    "print(\"trained score: \", clf.score(X_train,y_train))\n",
    "print(\"test score: \", clf.score(X_test,y_test))\n",
    "scores = cross_val_score(clf, X_train, y_train, scoring=\"accuracy\", cv=10)\n",
    "display_scores(scores)"
   ]
  },
  {
   "cell_type": "markdown",
   "metadata": {},
   "source": [
    "if we take a depper look on the scores, we can see that it is always with the min_sample_leaf = 100 that we have better results\n",
    "take let's try this with smaller value"
   ]
  },
  {
   "cell_type": "code",
   "execution_count": 25,
   "metadata": {},
   "outputs": [
    {
     "data": {
      "text/plain": [
       "GridSearchCV(cv=5, error_score='raise-deprecating',\n",
       "             estimator=RandomForestClassifier(bootstrap=True, class_weight=None,\n",
       "                                              criterion='gini', max_depth=None,\n",
       "                                              max_features='auto',\n",
       "                                              max_leaf_nodes=None,\n",
       "                                              min_impurity_decrease=0.0,\n",
       "                                              min_impurity_split=None,\n",
       "                                              min_samples_leaf=1,\n",
       "                                              min_samples_split=2,\n",
       "                                              min_weight_fraction_leaf=0.0,\n",
       "                                              n_estimators=10, n_jobs=None,\n",
       "                                              oob_score=False, random_state=42,\n",
       "                                              verbose=0, warm_start=False),\n",
       "             iid='warn', n_jobs=None,\n",
       "             param_grid=[{'bootstrap': [False, True],\n",
       "                          'criterion': ['entropy', 'gini'],\n",
       "                          'max_features': [2, 3, 4, 8],\n",
       "                          'min_samples_leaf': [10, 30, 50, 100]}],\n",
       "             pre_dispatch='2*n_jobs', refit=True, return_train_score=True,\n",
       "             scoring='accuracy', verbose=0)"
      ]
     },
     "execution_count": 25,
     "metadata": {},
     "output_type": "execute_result"
    }
   ],
   "source": [
    "from sklearn.model_selection import GridSearchCV\n",
    "\n",
    "param_grid = [\n",
    "    # try 64 (2x4x2x4) combinations of hyperparameters    \n",
    "    {'bootstrap': [False,True], 'max_features': [2, 3, 4,8],'criterion' : [\"entropy\",\"gini\"],'min_samples_leaf': [10,30,50,100]},\n",
    "  ]\n",
    "\n",
    "forest_class = RandomForestClassifier(random_state=42,n_estimators=10)\n",
    "# train across 5 folds, that's a total of (64)*5=320 rounds of training \n",
    "grid_search = GridSearchCV(forest_class, param_grid, cv=5, scoring='accuracy', return_train_score=True)\n",
    "grid_search.fit(delay_prepared, delay_labels)"
   ]
  },
  {
   "cell_type": "code",
   "execution_count": 26,
   "metadata": {},
   "outputs": [
    {
     "data": {
      "text/plain": [
       "{'bootstrap': False,\n",
       " 'criterion': 'entropy',\n",
       " 'max_features': 8,\n",
       " 'min_samples_leaf': 10}"
      ]
     },
     "execution_count": 26,
     "metadata": {},
     "output_type": "execute_result"
    }
   ],
   "source": [
    "grid_search.best_params_"
   ]
  },
  {
   "cell_type": "code",
   "execution_count": 27,
   "metadata": {},
   "outputs": [
    {
     "name": "stdout",
     "output_type": "stream",
     "text": [
      "0.6654786314870089 0.5404634829018967 {'bootstrap': False, 'criterion': 'entropy', 'max_features': 2, 'min_samples_leaf': 10}\n",
      "0.5835172927853404 0.5355435406199475 {'bootstrap': False, 'criterion': 'entropy', 'max_features': 2, 'min_samples_leaf': 30}\n",
      "0.5569270338123956 0.5263468993932651 {'bootstrap': False, 'criterion': 'entropy', 'max_features': 2, 'min_samples_leaf': 50}\n",
      "0.5355435248118392 0.5165243997844265 {'bootstrap': False, 'criterion': 'entropy', 'max_features': 2, 'min_samples_leaf': 100}\n",
      "0.6698727092757177 0.5537108186575338 {'bootstrap': False, 'criterion': 'entropy', 'max_features': 3, 'min_samples_leaf': 10}\n",
      "0.5888327474637457 0.5432450757114793 {'bootstrap': False, 'criterion': 'entropy', 'max_features': 3, 'min_samples_leaf': 30}\n",
      "0.5658107255655983 0.5358564698110255 {'bootstrap': False, 'criterion': 'entropy', 'max_features': 3, 'min_samples_leaf': 50}\n",
      "0.5433276514610578 0.5263468993932651 {'bootstrap': False, 'criterion': 'entropy', 'max_features': 3, 'min_samples_leaf': 100}\n",
      "0.6772308997634389 0.5605257210410111 {'bootstrap': False, 'criterion': 'entropy', 'max_features': 4, 'min_samples_leaf': 10}\n",
      "0.5966212524452471 0.5471566905999548 {'bootstrap': False, 'criterion': 'entropy', 'max_features': 4, 'min_samples_leaf': 30}\n",
      "0.5724865678455378 0.5389336068566263 {'bootstrap': False, 'criterion': 'entropy', 'max_features': 4, 'min_samples_leaf': 50}\n",
      "0.5471175722906739 0.5277550807531163 {'bootstrap': False, 'criterion': 'entropy', 'max_features': 4, 'min_samples_leaf': 100}\n",
      "0.7156603800298141 0.5839432555066845 {'bootstrap': False, 'criterion': 'entropy', 'max_features': 8, 'min_samples_leaf': 10}\n",
      "0.6230941769876452 0.565654282783679 {'bootstrap': False, 'criterion': 'entropy', 'max_features': 8, 'min_samples_leaf': 30}\n",
      "0.5928008606629732 0.5557622433546009 {'bootstrap': False, 'criterion': 'entropy', 'max_features': 8, 'min_samples_leaf': 50}\n",
      "0.5630204560871264 0.5423932129135446 {'bootstrap': False, 'criterion': 'entropy', 'max_features': 8, 'min_samples_leaf': 100}\n",
      "0.666808661096082 0.5417151996662088 {'bootstrap': False, 'criterion': 'gini', 'max_features': 2, 'min_samples_leaf': 10}\n",
      "0.584138793916605 0.5334573460127605 {'bootstrap': False, 'criterion': 'gini', 'max_features': 2, 'min_samples_leaf': 30}\n",
      "0.5584395222968477 0.5265729038090436 {'bootstrap': False, 'criterion': 'gini', 'max_features': 2, 'min_samples_leaf': 50}\n",
      "0.5365301570543701 0.5149771387840962 {'bootstrap': False, 'criterion': 'gini', 'max_features': 2, 'min_samples_leaf': 100}\n",
      "0.6722067024538412 0.5533805045113959 {'bootstrap': False, 'criterion': 'gini', 'max_features': 3, 'min_samples_leaf': 10}\n",
      "0.5895542614275179 0.5415761200257297 {'bootstrap': False, 'criterion': 'gini', 'max_features': 3, 'min_samples_leaf': 30}\n",
      "0.5674666411004095 0.5363432485527025 {'bootstrap': False, 'criterion': 'gini', 'max_features': 3, 'min_samples_leaf': 50}\n",
      "0.54398824750804 0.5263816693033848 {'bootstrap': False, 'criterion': 'gini', 'max_features': 3, 'min_samples_leaf': 100}\n",
      "0.6850150577695127 0.5639679421428696 {'bootstrap': False, 'criterion': 'gini', 'max_features': 4, 'min_samples_leaf': 10}\n",
      "0.5998635351197381 0.5482693277237878 {'bootstrap': False, 'criterion': 'gini', 'max_features': 4, 'min_samples_leaf': 30}\n",
      "0.5755897599600218 0.540411328036717 {'bootstrap': False, 'criterion': 'gini', 'max_features': 4, 'min_samples_leaf': 50}\n",
      "0.5492080833671434 0.5287807931016498 {'bootstrap': False, 'criterion': 'gini', 'max_features': 4, 'min_samples_leaf': 100}\n",
      "0.7197632586295252 0.5800142556631491 {'bootstrap': False, 'criterion': 'gini', 'max_features': 8, 'min_samples_leaf': 10}\n",
      "0.6232202242586414 0.5636028580866118 {'bootstrap': False, 'criterion': 'gini', 'max_features': 8, 'min_samples_leaf': 30}\n",
      "0.5935440940141219 0.5528415709045392 {'bootstrap': False, 'criterion': 'gini', 'max_features': 8, 'min_samples_leaf': 50}\n",
      "0.5645112109227161 0.542167208497766 {'bootstrap': False, 'criterion': 'gini', 'max_features': 8, 'min_samples_leaf': 100}\n",
      "0.6187001321627623 0.5363258635976426 {'bootstrap': True, 'criterion': 'entropy', 'max_features': 2, 'min_samples_leaf': 10}\n",
      "0.5595086565900992 0.5266076737191634 {'bootstrap': True, 'criterion': 'entropy', 'max_features': 2, 'min_samples_leaf': 30}\n",
      "0.5420411402484476 0.5206272491785608 {'bootstrap': True, 'criterion': 'entropy', 'max_features': 2, 'min_samples_leaf': 50}\n",
      "0.5254602268809637 0.510543975243824 {'bootstrap': True, 'criterion': 'entropy', 'max_features': 2, 'min_samples_leaf': 100}\n",
      "0.6230246219803603 0.5443577128353123 {'bootstrap': True, 'criterion': 'entropy', 'max_features': 3, 'min_samples_leaf': 10}\n",
      "0.5643156406628068 0.532431633664227 {'bootstrap': True, 'criterion': 'entropy', 'max_features': 3, 'min_samples_leaf': 30}\n",
      "0.5468741614039943 0.5243128596512578 {'bootstrap': True, 'criterion': 'entropy', 'max_features': 3, 'min_samples_leaf': 50}\n",
      "0.5277594417053066 0.515498687435893 {'bootstrap': True, 'criterion': 'entropy', 'max_features': 3, 'min_samples_leaf': 100}\n",
      "0.6327167556832374 0.548721336555345 {'bootstrap': True, 'criterion': 'entropy', 'max_features': 4, 'min_samples_leaf': 10}\n",
      "0.5725256594561514 0.5403244032614176 {'bootstrap': True, 'criterion': 'entropy', 'max_features': 4, 'min_samples_leaf': 30}\n",
      "0.5543193147298482 0.530519288607639 {'bootstrap': True, 'criterion': 'entropy', 'max_features': 4, 'min_samples_leaf': 50}\n",
      "0.5342396379763678 0.5227482136958675 {'bootstrap': True, 'criterion': 'entropy', 'max_features': 4, 'min_samples_leaf': 100}\n",
      "0.6689904772651951 0.5740338311225466 {'bootstrap': True, 'criterion': 'entropy', 'max_features': 8, 'min_samples_leaf': 10}\n",
      "0.5950435737800807 0.5545452965004085 {'bootstrap': True, 'criterion': 'entropy', 'max_features': 8, 'min_samples_leaf': 30}\n",
      "0.5753159580246614 0.5494341197128005 {'bootstrap': True, 'criterion': 'entropy', 'max_features': 8, 'min_samples_leaf': 50}\n",
      "0.5491342142520825 0.5330922619565028 {'bootstrap': True, 'criterion': 'entropy', 'max_features': 8, 'min_samples_leaf': 100}\n",
      "0.6204298995283075 0.5365344830583613 {'bootstrap': True, 'criterion': 'gini', 'max_features': 2, 'min_samples_leaf': 10}\n",
      "0.5607473494672796 0.5259818153370074 {'bootstrap': True, 'criterion': 'gini', 'max_features': 2, 'min_samples_leaf': 30}\n",
      "0.5428147780587422 0.5200535456615845 {'bootstrap': True, 'criterion': 'gini', 'max_features': 2, 'min_samples_leaf': 50}\n",
      "0.5251907947783748 0.5128387893117297 {'bootstrap': True, 'criterion': 'gini', 'max_features': 2, 'min_samples_leaf': 100}\n",
      "0.6260844129109506 0.5414544253403105 {'bootstrap': True, 'criterion': 'gini', 'max_features': 3, 'min_samples_leaf': 10}\n",
      "0.5668190534894648 0.5326924079901253 {'bootstrap': True, 'criterion': 'gini', 'max_features': 3, 'min_samples_leaf': 30}\n",
      "0.5496862219565669 0.527476921472158 {'bootstrap': True, 'criterion': 'gini', 'max_features': 3, 'min_samples_leaf': 50}\n",
      "0.5305106217453055 0.51758488204308 {'bootstrap': True, 'criterion': 'gini', 'max_features': 3, 'min_samples_leaf': 100}\n",
      "0.637323773688699 0.5508423010726518 {'bootstrap': True, 'criterion': 'gini', 'max_features': 4, 'min_samples_leaf': 10}\n",
      "0.5753550807094572 0.5410893412840527 {'bootstrap': True, 'criterion': 'gini', 'max_features': 4, 'min_samples_leaf': 30}\n",
      "0.5547799548176962 0.5331618017767424 {'bootstrap': True, 'criterion': 'gini', 'max_features': 4, 'min_samples_leaf': 50}\n",
      "0.5374645900787136 0.5239130056848803 {'bootstrap': True, 'criterion': 'gini', 'max_features': 4, 'min_samples_leaf': 100}\n",
      "0.6704377638568751 0.5727821143582343 {'bootstrap': True, 'criterion': 'gini', 'max_features': 8, 'min_samples_leaf': 10}\n",
      "0.5976817029884365 0.555101615062325 {'bootstrap': True, 'criterion': 'gini', 'max_features': 8, 'min_samples_leaf': 30}\n",
      "0.5736948265109334 0.5464439074424993 {'bootstrap': True, 'criterion': 'gini', 'max_features': 8, 'min_samples_leaf': 50}\n",
      "0.5505945516870934 0.5360303193616245 {'bootstrap': True, 'criterion': 'gini', 'max_features': 8, 'min_samples_leaf': 100}\n"
     ]
    }
   ],
   "source": [
    "cvres = grid_search.cv_results_\n",
    "for mean_train_score, mean_score, params in zip(cvres[\"mean_train_score\"],cvres[\"mean_test_score\"], cvres[\"params\"]):\n",
    "    print(mean_train_score,mean_score, params)"
   ]
  },
  {
   "cell_type": "markdown",
   "metadata": {},
   "source": [
    "we can see that if we choose 10 on the min_sample_leaf, we start to have an overfit it's a small overfit wich allows to have a better scores on the test set but it is not the right things to do, according to me, we have to choose between 30 and 50, 30 seem to be the best. we wan also see that gini is the best we can remove it from the grid, it is the default criterion "
   ]
  },
  {
   "cell_type": "code",
   "execution_count": 28,
   "metadata": {},
   "outputs": [
    {
     "data": {
      "text/plain": [
       "GridSearchCV(cv=5, error_score='raise-deprecating',\n",
       "             estimator=RandomForestClassifier(bootstrap=True, class_weight=None,\n",
       "                                              criterion='gini', max_depth=None,\n",
       "                                              max_features='auto',\n",
       "                                              max_leaf_nodes=None,\n",
       "                                              min_impurity_decrease=0.0,\n",
       "                                              min_impurity_split=None,\n",
       "                                              min_samples_leaf=30,\n",
       "                                              min_samples_split=2,\n",
       "                                              min_weight_fraction_leaf=0.0,\n",
       "                                              n_estimators=10, n_jobs=None,\n",
       "                                              oob_score=False, random_state=42,\n",
       "                                              verbose=0, warm_start=False),\n",
       "             iid='warn', n_jobs=None,\n",
       "             param_grid=[{'bootstrap': [False, True],\n",
       "                          'max_features': [4, 8, 'auto']}],\n",
       "             pre_dispatch='2*n_jobs', refit=True, return_train_score=True,\n",
       "             scoring='accuracy', verbose=0)"
      ]
     },
     "execution_count": 28,
     "metadata": {},
     "output_type": "execute_result"
    }
   ],
   "source": [
    "from sklearn.model_selection import GridSearchCV\n",
    "\n",
    "param_grid = [\n",
    "    # try 6 (2x3) combinations of hyperparameters    \n",
    "    {'bootstrap': [False,True], 'max_features': [4,8,\"auto\"]},\n",
    "  ]\n",
    "\n",
    "forest_class = RandomForestClassifier(random_state=42,n_estimators=10,min_samples_leaf=30)\n",
    "# train across 5 folds, that's a total of (6)*5=30 rounds of training \n",
    "grid_search = GridSearchCV(forest_class, param_grid, cv=5, scoring='accuracy', return_train_score=True)\n",
    "grid_search.fit(delay_prepared, delay_labels)"
   ]
  },
  {
   "cell_type": "code",
   "execution_count": 29,
   "metadata": {},
   "outputs": [
    {
     "data": {
      "text/plain": [
       "{'bootstrap': False, 'max_features': 8}"
      ]
     },
     "execution_count": 29,
     "metadata": {},
     "output_type": "execute_result"
    }
   ],
   "source": [
    "grid_search.best_params_"
   ]
  },
  {
   "cell_type": "code",
   "execution_count": 30,
   "metadata": {},
   "outputs": [
    {
     "name": "stdout",
     "output_type": "stream",
     "text": [
      "0.5998635351197381 0.5482693277237878 {'bootstrap': False, 'max_features': 4}\n",
      "0.6232202242586414 0.5636028580866118 {'bootstrap': False, 'max_features': 8}\n",
      "0.6077432286397724 0.5537108186575338 {'bootstrap': False, 'max_features': 'auto'}\n",
      "0.5753550807094572 0.5410893412840527 {'bootstrap': True, 'max_features': 4}\n",
      "0.5976817029884365 0.555101615062325 {'bootstrap': True, 'max_features': 8}\n",
      "0.584403936469009 0.5462352879817806 {'bootstrap': True, 'max_features': 'auto'}\n"
     ]
    }
   ],
   "source": [
    "cvres = grid_search.cv_results_\n",
    "for mean_train_score, mean_score, params in zip(cvres[\"mean_train_score\"],cvres[\"mean_test_score\"], cvres[\"params\"]):\n",
    "    print(mean_train_score,mean_score, params)"
   ]
  },
  {
   "cell_type": "markdown",
   "metadata": {},
   "source": [
    "the choice belong to us now, I would say that i agree with the best_params_ even if the train scores is 5% higher than the test, it is negligible"
   ]
  },
  {
   "cell_type": "code",
   "execution_count": 31,
   "metadata": {},
   "outputs": [
    {
     "name": "stdout",
     "output_type": "stream",
     "text": [
      "<PandasArray>\n",
      "[0.0, 0.0, -1.0, 0.0, -1.0, 0.0, 0.0, 1.0, -1.0, -1.0]\n",
      "Length: 10, dtype: float64\n",
      "[1.0, 0.0, 1.0, 0.0, -1.0, 1.0, 0.0, 1.0, -1.0, 1.0]\n"
     ]
    }
   ],
   "source": [
    "full_pipeline_with_predictor = Pipeline([\n",
    "        (\"preparation\", full_pipeline),\n",
    "        (\"classifier\", RandomForestClassifier(random_state=42,n_estimators=10,min_samples_leaf=30,bootstrap=False,max_features=8))\n",
    "    ])\n",
    "full_pipeline_with_predictor.fit(delay, delay_labels)\n",
    "\n",
    "test_set = strat_test_set.drop(\"delay\", axis=1) # drop labels for test set\n",
    "test_set_labels = strat_test_set[\"delay\"].copy()\n",
    "print(test_set_labels[500:510].array)\n",
    "print(list(full_pipeline_with_predictor.predict(test_set[500:510])))"
   ]
  },
  {
   "cell_type": "markdown",
   "metadata": {},
   "source": [
    "we can see that 6 predictions on 10 are correct. With 56% of right answer, it seem to correspond "
   ]
  },
  {
   "cell_type": "markdown",
   "metadata": {},
   "source": [
    "### Save the model "
   ]
  },
  {
   "cell_type": "code",
   "execution_count": 32,
   "metadata": {},
   "outputs": [
    {
     "data": {
      "text/plain": [
       "['D:/Utilisateurs/Antoine/Documents/Unnif/5eme cours/Projet inter/CanYouCatchIt/sandbox/classification/models/forest_model.pkl']"
      ]
     },
     "execution_count": 32,
     "metadata": {},
     "output_type": "execute_result"
    }
   ],
   "source": [
    "import joblib\n",
    "\n",
    "save_path = 'D:/Utilisateurs/Antoine/Documents/Unnif/5eme cours/Projet inter/CanYouCatchIt/sandbox/classification/models/forest_model.pkl'\n",
    "\n",
    "forest_model = full_pipeline_with_predictor\n",
    "joblib.dump(forest_model, save_path) # save\n",
    "\n",
    "# my_model_loaded = joblib.load(\"my_model.pkl\") # load"
   ]
  }
 ],
 "metadata": {
  "kernelspec": {
   "display_name": "Python 3",
   "language": "python",
   "name": "python3"
  },
  "language_info": {
   "codemirror_mode": {
    "name": "ipython",
    "version": 3
   },
   "file_extension": ".py",
   "mimetype": "text/x-python",
   "name": "python",
   "nbconvert_exporter": "python",
   "pygments_lexer": "ipython3",
   "version": "3.7.4"
  }
 },
 "nbformat": 4,
 "nbformat_minor": 2
}
