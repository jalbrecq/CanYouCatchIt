{
 "cells": [
  {
   "source": [],
   "cell_type": "markdown",
   "metadata": {}
  },
  {
   "cell_type": "markdown",
   "metadata": {},
   "source": [
    "# CanYouCatchIt?\n",
    "A web application allowing you to obtain the percentage of chance that your bus/tram/metro is late. 💻🤖🎲🚌 🚎🚇🔮\n",
    "\n",
    "_Build with the STIB API (available [here](https://opendata.stib-mivb.be/store/))_\n",
    "\n",
    "# Notes: Making some models 💻🤖🚌 🚎🚇\n",
    "We are here to make some machine learning models"
   ]
  },
  {
   "source": [
    "## Load the data"
   ],
   "cell_type": "markdown",
   "metadata": {}
  },
  {
   "cell_type": "code",
   "execution_count": 1,
   "metadata": {},
   "outputs": [],
   "source": [
    "# import\n",
    "import glob\n",
    "import pandas as pd\n",
    "import seaborn as sns\n",
    "import matplotlib.pyplot as plt\n",
    "from sklearn.model_selection import train_test_split\n",
    "from sklearn.model_selection import StratifiedShuffleSplit\n",
    "import os\n",
    "\n",
    "def load_delay_data():\n",
    "    \"\"\"\n",
    "    Load the cvs file in a panda dataframe\n",
    "    \"\"\"\n",
    "    return pd.concat([pd.read_csv(f) for f in glob.glob('../data/delay*.csv')], ignore_index = True)\n",
    "\n",
    "# load the csv file\n",
    "delay = load_delay_data()\n",
    "delay.dropna(inplace=True)\n",
    "delay.reset_index(drop=True, inplace=True)\n",
    "\n",
    "# Get names of indexes for which column line has not a value of 39\n",
    "index_to_remove = delay[delay['line'] != 39].index\n",
    "# Delete these row indexes from dataFrame\n",
    "delay.drop(index_to_remove , inplace=True)\n",
    "\n",
    "nunique = delay.apply(pd.Series.nunique)\n",
    "cols_to_drop = nunique[nunique == 1].index\n",
    "delay = delay.drop(cols_to_drop, axis=1)\n",
    "\n",
    "delay = delay.drop(['trip', 'theoretical_time', 'expectedArrivalTime', 'date'], axis=1)\n",
    "\n",
    "# Reset the labels\n",
    "delay.reset_index(drop=True, inplace=True)\n",
    "\n",
    "# Stratifie the data with the different line\n",
    "# This make sure that the representation of each stop is the same in the train set then in the overall dataset\n",
    "# This stratification is not necessary is you have enough data\n",
    "split = StratifiedShuffleSplit(n_splits=1, test_size=0.2, random_state=42)\n",
    "for train_index, test_index in split.split(delay, delay[\"hour\"]):\n",
    "    strat_train_set = delay.loc[train_index]\n",
    "    strat_test_set = delay.loc[test_index]"
   ]
  },
  {
   "cell_type": "markdown",
   "metadata": {},
   "source": [
    "## Prepare the Data for Machine Learning Algorithms"
   ]
  },
  {
   "cell_type": "code",
   "execution_count": 2,
   "metadata": {},
   "outputs": [],
   "source": [
    "delay = strat_train_set.drop(\"delay\", axis=1) # drop labels for training set\n",
    "delay_labels = strat_train_set[\"delay\"].copy()"
   ]
  },
  {
   "cell_type": "markdown",
   "metadata": {},
   "source": [
    "### Check if there is row with nan\n",
    "\n",
    "Count the number of row with a nan value"
   ]
  },
  {
   "cell_type": "code",
   "execution_count": 3,
   "metadata": {},
   "outputs": [
    {
     "output_type": "execute_result",
     "data": {
      "text/plain": [
       "0"
      ]
     },
     "metadata": {},
     "execution_count": 3
    }
   ],
   "source": [
    "sample_incomplete_rows = delay[delay.isnull().any(axis=1)].head()\n",
    "len(sample_incomplete_rows.index)"
   ]
  },
  {
   "source": [
    "### Check if there is attribute that are the same for every row"
   ],
   "cell_type": "markdown",
   "metadata": {}
  },
  {
   "cell_type": "code",
   "execution_count": 4,
   "metadata": {},
   "outputs": [
    {
     "output_type": "execute_result",
     "data": {
      "text/plain": [
       "array([False, False, False, False, False, False, False, False, False])"
      ]
     },
     "metadata": {},
     "execution_count": 4
    }
   ],
   "source": [
    "def unique_cols(df):\n",
    "    a = df.to_numpy()\n",
    "    return (a[0] == a).all(0)\n",
    "unique_cols(delay)"
   ]
  },
  {
   "cell_type": "code",
   "execution_count": 5,
   "metadata": {},
   "outputs": [
    {
     "output_type": "execute_result",
     "data": {
      "text/plain": [
       "Index(['stop', 'day', 'hour', 'minute', 'temp', 'humidity', 'visibility',\n",
       "       'wind', 'rain'],\n",
       "      dtype='object')"
      ]
     },
     "metadata": {},
     "execution_count": 5
    }
   ],
   "source": [
    "delay.columns"
   ]
  },
  {
   "cell_type": "markdown",
   "metadata": {},
   "source": [
    "### Data Cleaning\n",
    "\n",
    "Drop the unnecesery attribute. theoretical_time and expectedArrivalTime are droped because they are string attribute and they are not linked to the delay value. The date attribute is split into hour minute and seconds so it can be droped. The transport_type, year, month, visibility and rain attribute is droped because, it's the same for every row."
   ]
  },
  {
   "cell_type": "code",
   "execution_count": 6,
   "metadata": {},
   "outputs": [
    {
     "output_type": "execute_result",
     "data": {
      "text/plain": [
       "       stop  day  hour  minute    temp  humidity  visibility  wind  rain\n",
       "39910  5508    0    19      27  281.35      87.0     10000.0   1.0   0.0\n",
       "22073  5529    5     9       1  280.13      81.0     10000.0   4.6   0.0\n",
       "42184  5512    1     7      33  280.11      93.0     10000.0   2.6   0.0\n",
       "40202  5515    0    20      10  281.71      87.0     10000.0   1.5   0.0\n",
       "52515  5519    2    22      58  280.81      81.0     10000.0   4.1   0.0"
      ],
      "text/html": "<div>\n<style scoped>\n    .dataframe tbody tr th:only-of-type {\n        vertical-align: middle;\n    }\n\n    .dataframe tbody tr th {\n        vertical-align: top;\n    }\n\n    .dataframe thead th {\n        text-align: right;\n    }\n</style>\n<table border=\"1\" class=\"dataframe\">\n  <thead>\n    <tr style=\"text-align: right;\">\n      <th></th>\n      <th>stop</th>\n      <th>day</th>\n      <th>hour</th>\n      <th>minute</th>\n      <th>temp</th>\n      <th>humidity</th>\n      <th>visibility</th>\n      <th>wind</th>\n      <th>rain</th>\n    </tr>\n  </thead>\n  <tbody>\n    <tr>\n      <th>39910</th>\n      <td>5508</td>\n      <td>0</td>\n      <td>19</td>\n      <td>27</td>\n      <td>281.35</td>\n      <td>87.0</td>\n      <td>10000.0</td>\n      <td>1.0</td>\n      <td>0.0</td>\n    </tr>\n    <tr>\n      <th>22073</th>\n      <td>5529</td>\n      <td>5</td>\n      <td>9</td>\n      <td>1</td>\n      <td>280.13</td>\n      <td>81.0</td>\n      <td>10000.0</td>\n      <td>4.6</td>\n      <td>0.0</td>\n    </tr>\n    <tr>\n      <th>42184</th>\n      <td>5512</td>\n      <td>1</td>\n      <td>7</td>\n      <td>33</td>\n      <td>280.11</td>\n      <td>93.0</td>\n      <td>10000.0</td>\n      <td>2.6</td>\n      <td>0.0</td>\n    </tr>\n    <tr>\n      <th>40202</th>\n      <td>5515</td>\n      <td>0</td>\n      <td>20</td>\n      <td>10</td>\n      <td>281.71</td>\n      <td>87.0</td>\n      <td>10000.0</td>\n      <td>1.5</td>\n      <td>0.0</td>\n    </tr>\n    <tr>\n      <th>52515</th>\n      <td>5519</td>\n      <td>2</td>\n      <td>22</td>\n      <td>58</td>\n      <td>280.81</td>\n      <td>81.0</td>\n      <td>10000.0</td>\n      <td>4.1</td>\n      <td>0.0</td>\n    </tr>\n  </tbody>\n</table>\n</div>"
     },
     "metadata": {},
     "execution_count": 6
    }
   ],
   "source": [
    "nunique = delay.apply(pd.Series.nunique)\n",
    "cols_to_drop = nunique[nunique == 1].index\n",
    "delay = delay.drop(cols_to_drop, axis=1)\n",
    "delay.head()"
   ]
  },
  {
   "cell_type": "markdown",
   "metadata": {},
   "source": [
    "## Handling Text and Categorical Attributes\n",
    "### Extract the non-numerical attributes"
   ]
  },
  {
   "cell_type": "code",
   "execution_count": 7,
   "metadata": {},
   "outputs": [],
   "source": [
    "delay_num = delay.drop(['stop'], axis=1)"
   ]
  },
  {
   "source": [
    "### Categorical Attributes: The stop and attributes"
   ],
   "cell_type": "markdown",
   "metadata": {}
  },
  {
   "cell_type": "code",
   "execution_count": 8,
   "metadata": {},
   "outputs": [
    {
     "output_type": "execute_result",
     "data": {
      "text/plain": [
       "       stop\n",
       "39910  5508\n",
       "22073  5529\n",
       "42184  5512\n",
       "40202  5515\n",
       "52515  5519"
      ],
      "text/html": "<div>\n<style scoped>\n    .dataframe tbody tr th:only-of-type {\n        vertical-align: middle;\n    }\n\n    .dataframe tbody tr th {\n        vertical-align: top;\n    }\n\n    .dataframe thead th {\n        text-align: right;\n    }\n</style>\n<table border=\"1\" class=\"dataframe\">\n  <thead>\n    <tr style=\"text-align: right;\">\n      <th></th>\n      <th>stop</th>\n    </tr>\n  </thead>\n  <tbody>\n    <tr>\n      <th>39910</th>\n      <td>5508</td>\n    </tr>\n    <tr>\n      <th>22073</th>\n      <td>5529</td>\n    </tr>\n    <tr>\n      <th>42184</th>\n      <td>5512</td>\n    </tr>\n    <tr>\n      <th>40202</th>\n      <td>5515</td>\n    </tr>\n    <tr>\n      <th>52515</th>\n      <td>5519</td>\n    </tr>\n  </tbody>\n</table>\n</div>"
     },
     "metadata": {},
     "execution_count": 8
    }
   ],
   "source": [
    "delay_cat = delay[['stop']]\n",
    "delay_cat.head()"
   ]
  },
  {
   "cell_type": "code",
   "execution_count": 9,
   "metadata": {},
   "outputs": [
    {
     "output_type": "execute_result",
     "data": {
      "text/plain": [
       "array([[ 7.],\n",
       "       [16.],\n",
       "       [10.],\n",
       "       [11.],\n",
       "       [15.],\n",
       "       [ 1.],\n",
       "       [12.],\n",
       "       [ 8.],\n",
       "       [10.],\n",
       "       [14.]])"
      ]
     },
     "metadata": {},
     "execution_count": 9
    }
   ],
   "source": [
    "from sklearn.preprocessing import OrdinalEncoder\n",
    "\n",
    "ordinal_encoder = OrdinalEncoder()\n",
    "delay_cat_encoded = ordinal_encoder.fit_transform(delay_cat)\n",
    "delay_cat_encoded[:10]"
   ]
  },
  {
   "cell_type": "markdown",
   "metadata": {},
   "source": [
    "## Transformation Pipelines\n",
    "\n"
   ]
  },
  {
   "cell_type": "code",
   "execution_count": 10,
   "metadata": {},
   "outputs": [
    {
     "output_type": "execute_result",
     "data": {
      "text/plain": [
       "       stop day hour minute    temp humidity visibility wind rain  \\\n",
       "39910  5508   0   19     27  281.35       87      10000    1    0   \n",
       "22073  5529   5    9      1  280.13       81      10000  4.6    0   \n",
       "42184  5512   1    7     33  280.11       93      10000  2.6    0   \n",
       "40202  5515   0   20     10  281.71       87      10000  1.5    0   \n",
       "52515  5519   2   22     58  280.81       81      10000  4.1    0   \n",
       "\n",
       "      hour_and_minute  \n",
       "39910           70020  \n",
       "22073           32460  \n",
       "42184           27180  \n",
       "40202           72600  \n",
       "52515           82680  "
      ],
      "text/html": "<div>\n<style scoped>\n    .dataframe tbody tr th:only-of-type {\n        vertical-align: middle;\n    }\n\n    .dataframe tbody tr th {\n        vertical-align: top;\n    }\n\n    .dataframe thead th {\n        text-align: right;\n    }\n</style>\n<table border=\"1\" class=\"dataframe\">\n  <thead>\n    <tr style=\"text-align: right;\">\n      <th></th>\n      <th>stop</th>\n      <th>day</th>\n      <th>hour</th>\n      <th>minute</th>\n      <th>temp</th>\n      <th>humidity</th>\n      <th>visibility</th>\n      <th>wind</th>\n      <th>rain</th>\n      <th>hour_and_minute</th>\n    </tr>\n  </thead>\n  <tbody>\n    <tr>\n      <th>39910</th>\n      <td>5508</td>\n      <td>0</td>\n      <td>19</td>\n      <td>27</td>\n      <td>281.35</td>\n      <td>87</td>\n      <td>10000</td>\n      <td>1</td>\n      <td>0</td>\n      <td>70020</td>\n    </tr>\n    <tr>\n      <th>22073</th>\n      <td>5529</td>\n      <td>5</td>\n      <td>9</td>\n      <td>1</td>\n      <td>280.13</td>\n      <td>81</td>\n      <td>10000</td>\n      <td>4.6</td>\n      <td>0</td>\n      <td>32460</td>\n    </tr>\n    <tr>\n      <th>42184</th>\n      <td>5512</td>\n      <td>1</td>\n      <td>7</td>\n      <td>33</td>\n      <td>280.11</td>\n      <td>93</td>\n      <td>10000</td>\n      <td>2.6</td>\n      <td>0</td>\n      <td>27180</td>\n    </tr>\n    <tr>\n      <th>40202</th>\n      <td>5515</td>\n      <td>0</td>\n      <td>20</td>\n      <td>10</td>\n      <td>281.71</td>\n      <td>87</td>\n      <td>10000</td>\n      <td>1.5</td>\n      <td>0</td>\n      <td>72600</td>\n    </tr>\n    <tr>\n      <th>52515</th>\n      <td>5519</td>\n      <td>2</td>\n      <td>22</td>\n      <td>58</td>\n      <td>280.81</td>\n      <td>81</td>\n      <td>10000</td>\n      <td>4.1</td>\n      <td>0</td>\n      <td>82680</td>\n    </tr>\n  </tbody>\n</table>\n</div>"
     },
     "metadata": {},
     "execution_count": 10
    }
   ],
   "source": [
    "from sklearn.preprocessing import FunctionTransformer\n",
    "import numpy as np\n",
    "\n",
    "def add_extra_features(X, add_combined_time=True):\n",
    "    hour_ix, minute_ix = [list(delay.columns).index(col) for col in (\"hour\", \"minute\")]\n",
    "    if add_combined_time:\n",
    "        hour_and_minute = X[:, hour_ix]*3600 + X[:, minute_ix]*60\n",
    "        return np.c_[X, hour_and_minute]\n",
    "    else:\n",
    "        return np.c_[X]\n",
    "\n",
    "attr_adder = FunctionTransformer(add_extra_features, validate=False,\n",
    "                                 kw_args={\"add_combined_time\": True})\n",
    "delay_extra_attribs = attr_adder.fit_transform(delay.values)\n",
    "\n",
    "delay_extra_attribs = pd.DataFrame(\n",
    "    delay_extra_attribs,\n",
    "    columns=list(delay.columns) + [\"hour_and_minute\"],\n",
    "    index=delay.index)\n",
    "delay_extra_attribs.head()"
   ]
  },
  {
   "cell_type": "code",
   "execution_count": 11,
   "metadata": {},
   "outputs": [
    {
     "output_type": "execute_result",
     "data": {
      "text/plain": [
       "array([[-1.80705681,  1.00147761, -0.15699833, ...,  0.        ,\n",
       "         0.        ,  0.        ],\n",
       "       [ 0.99854211, -0.94176764, -1.66707087, ...,  1.        ,\n",
       "         0.        ,  0.        ],\n",
       "       [-1.24593703, -1.33041669,  0.19147994, ...,  0.        ,\n",
       "         0.        ,  0.        ],\n",
       "       ...,\n",
       "       [-0.68481724,  1.00147761, -1.02819403, ...,  0.        ,\n",
       "         0.        ,  0.        ],\n",
       "       [ 1.5596619 , -0.94176764,  0.4237988 , ...,  1.        ,\n",
       "         0.        ,  0.        ],\n",
       "       [-0.12369746,  1.19580214,  0.4237988 , ...,  0.        ,\n",
       "         0.        ,  0.        ]])"
      ]
     },
     "metadata": {},
     "execution_count": 11
    }
   ],
   "source": [
    "from sklearn.pipeline import Pipeline\n",
    "from sklearn.preprocessing import StandardScaler\n",
    "from sklearn.compose import ColumnTransformer\n",
    "from sklearn.preprocessing import OneHotEncoder\n",
    "from sklearn.impute import SimpleImputer\n",
    "\n",
    "num_attribs = list(delay_num)\n",
    "cat_attribs = [\"stop\"]\n",
    "\n",
    "num_pipeline = Pipeline([\n",
    "        ('imputer', SimpleImputer(strategy=\"median\")),\n",
    "        ('attribs_adder', FunctionTransformer(add_extra_features,\n",
    "                                            validate=False,\n",
    "                                            kw_args={\"add_combined_time\": True})), # change the add_combined_time attribute to test without the hour_and_minute\n",
    "        ('std_scaler', StandardScaler())\n",
    "    ])\n",
    "\n",
    "full_pipeline = ColumnTransformer([\n",
    "        (\"num\", num_pipeline, num_attribs),\n",
    "        (\"cat\", OneHotEncoder(), cat_attribs),\n",
    "    ])\n",
    "\n",
    "delay_prepared = full_pipeline.fit_transform(delay)\n",
    "delay_prepared"
   ]
  },
  {
   "cell_type": "markdown",
   "metadata": {},
   "source": [
    "## Select and train a model\n",
    "### Linear Model"
   ]
  },
  {
   "cell_type": "code",
   "execution_count": 12,
   "metadata": {},
   "outputs": [
    {
     "output_type": "execute_result",
     "data": {
      "text/plain": [
       "       stop  day  hour  minute    temp  humidity  visibility  wind  rain\n",
       "39910  5508    0    19      27  281.35      87.0     10000.0   1.0   0.0\n",
       "22073  5529    5     9       1  280.13      81.0     10000.0   4.6   0.0\n",
       "42184  5512    1     7      33  280.11      93.0     10000.0   2.6   0.0\n",
       "40202  5515    0    20      10  281.71      87.0     10000.0   1.5   0.0\n",
       "52515  5519    2    22      58  280.81      81.0     10000.0   4.1   0.0"
      ],
      "text/html": "<div>\n<style scoped>\n    .dataframe tbody tr th:only-of-type {\n        vertical-align: middle;\n    }\n\n    .dataframe tbody tr th {\n        vertical-align: top;\n    }\n\n    .dataframe thead th {\n        text-align: right;\n    }\n</style>\n<table border=\"1\" class=\"dataframe\">\n  <thead>\n    <tr style=\"text-align: right;\">\n      <th></th>\n      <th>stop</th>\n      <th>day</th>\n      <th>hour</th>\n      <th>minute</th>\n      <th>temp</th>\n      <th>humidity</th>\n      <th>visibility</th>\n      <th>wind</th>\n      <th>rain</th>\n    </tr>\n  </thead>\n  <tbody>\n    <tr>\n      <th>39910</th>\n      <td>5508</td>\n      <td>0</td>\n      <td>19</td>\n      <td>27</td>\n      <td>281.35</td>\n      <td>87.0</td>\n      <td>10000.0</td>\n      <td>1.0</td>\n      <td>0.0</td>\n    </tr>\n    <tr>\n      <th>22073</th>\n      <td>5529</td>\n      <td>5</td>\n      <td>9</td>\n      <td>1</td>\n      <td>280.13</td>\n      <td>81.0</td>\n      <td>10000.0</td>\n      <td>4.6</td>\n      <td>0.0</td>\n    </tr>\n    <tr>\n      <th>42184</th>\n      <td>5512</td>\n      <td>1</td>\n      <td>7</td>\n      <td>33</td>\n      <td>280.11</td>\n      <td>93.0</td>\n      <td>10000.0</td>\n      <td>2.6</td>\n      <td>0.0</td>\n    </tr>\n    <tr>\n      <th>40202</th>\n      <td>5515</td>\n      <td>0</td>\n      <td>20</td>\n      <td>10</td>\n      <td>281.71</td>\n      <td>87.0</td>\n      <td>10000.0</td>\n      <td>1.5</td>\n      <td>0.0</td>\n    </tr>\n    <tr>\n      <th>52515</th>\n      <td>5519</td>\n      <td>2</td>\n      <td>22</td>\n      <td>58</td>\n      <td>280.81</td>\n      <td>81.0</td>\n      <td>10000.0</td>\n      <td>4.1</td>\n      <td>0.0</td>\n    </tr>\n  </tbody>\n</table>\n</div>"
     },
     "metadata": {},
     "execution_count": 12
    }
   ],
   "source": [
    "delay.head()"
   ]
  },
  {
   "cell_type": "code",
   "execution_count": 13,
   "metadata": {},
   "outputs": [
    {
     "output_type": "execute_result",
     "data": {
      "text/plain": [
       "LinearRegression()"
      ]
     },
     "metadata": {},
     "execution_count": 13
    }
   ],
   "source": [
    "from sklearn.linear_model import LinearRegression\n",
    "\n",
    "lin_reg = LinearRegression()\n",
    "lin_reg.fit(delay_prepared, delay_labels)"
   ]
  },
  {
   "cell_type": "code",
   "execution_count": 14,
   "metadata": {},
   "outputs": [
    {
     "output_type": "stream",
     "name": "stdout",
     "text": [
      "Predictions: \t [-0.1796875  -1.0078125  -1.51367188 -0.47851562 -0.53125   ]\nLabels: \t [-11.0, -21.0, -2.0, 0.0, 1.0]\n"
     ]
    }
   ],
   "source": [
    "# let's try the full preprocessing pipeline on a few training instances\n",
    "some_data = delay.iloc[:5]\n",
    "some_labels = delay_labels.iloc[:5]\n",
    "some_data_prepared = full_pipeline.transform(some_data)\n",
    "\n",
    "print(\"Predictions: \\t\", lin_reg.predict(some_data_prepared))\n",
    "print(\"Labels: \\t\", list(some_labels))"
   ]
  },
  {
   "source": [
    "The model is working although the predictions are not accurate at all\n",
    "\n",
    "Compute the error"
   ],
   "cell_type": "markdown",
   "metadata": {}
  },
  {
   "cell_type": "code",
   "execution_count": 15,
   "metadata": {},
   "outputs": [
    {
     "output_type": "execute_result",
     "data": {
      "text/plain": [
       "4.80474925420959"
      ]
     },
     "metadata": {},
     "execution_count": 15
    }
   ],
   "source": [
    "import numpy as np \n",
    "from sklearn.metrics import mean_squared_error\n",
    "\n",
    "delay_predictions = lin_reg.predict(delay_prepared)\n",
    "lin_mse = mean_squared_error(delay_labels, delay_predictions)\n",
    "lin_rmse = np.sqrt(lin_mse)\n",
    "lin_rmse"
   ]
  },
  {
   "source": [
    "Okay, this is better than nothing but clearly not a great score: the delay's value range from 10min to -20min, so a typical prediction error of 5min is not very satisfying."
   ],
   "cell_type": "markdown",
   "metadata": {}
  },
  {
   "cell_type": "code",
   "execution_count": 16,
   "metadata": {},
   "outputs": [
    {
     "output_type": "execute_result",
     "data": {
      "text/plain": [
       "2.4729964513845393"
      ]
     },
     "metadata": {},
     "execution_count": 16
    }
   ],
   "source": [
    "from sklearn.metrics import mean_absolute_error\n",
    "\n",
    "lin_mae = mean_absolute_error(delay_labels, delay_predictions)\n",
    "lin_mae"
   ]
  },
  {
   "source": [
    "### Decision Tree"
   ],
   "cell_type": "markdown",
   "metadata": {}
  },
  {
   "cell_type": "code",
   "execution_count": 17,
   "metadata": {},
   "outputs": [
    {
     "output_type": "execute_result",
     "data": {
      "text/plain": [
       "DecisionTreeRegressor(random_state=42)"
      ]
     },
     "metadata": {},
     "execution_count": 17
    }
   ],
   "source": [
    "from sklearn.tree import DecisionTreeRegressor\n",
    "\n",
    "tree_reg = DecisionTreeRegressor(random_state=42)\n",
    "tree_reg.fit(delay_prepared, delay_labels)"
   ]
  },
  {
   "cell_type": "code",
   "execution_count": 18,
   "metadata": {},
   "outputs": [
    {
     "output_type": "execute_result",
     "data": {
      "text/plain": [
       "0.0"
      ]
     },
     "metadata": {},
     "execution_count": 18
    }
   ],
   "source": [
    "delay_predictions = tree_reg.predict(delay_prepared)\n",
    "tree_mse = mean_squared_error(delay_labels, delay_predictions)\n",
    "tree_rmse = np.sqrt(tree_mse)\n",
    "tree_rmse"
   ]
  },
  {
   "source": [
    "No error? The model has overfit 😖\n",
    "\n",
    "To evaluate the Decision Tree model we can split the training set into smaller training set and validation set."
   ],
   "cell_type": "markdown",
   "metadata": {}
  },
  {
   "cell_type": "markdown",
   "metadata": {},
   "source": [
    "### Cross-Validation\n",
    "\n",
    "The following code performs 10-fold cross-validation"
   ]
  },
  {
   "cell_type": "code",
   "execution_count": 19,
   "metadata": {},
   "outputs": [],
   "source": [
    "from sklearn.model_selection import cross_val_score\n",
    "\n",
    "def display_scores(scores):\n",
    "    print(\"Scores: \\t\\t\", scores)\n",
    "    print(\"Mean: \\t\\t\\t\", scores.mean())\n",
    "    print(\"Standard deviation: \\t\", scores.std())"
   ]
  },
  {
   "source": [
    "#### Linear Regression"
   ],
   "cell_type": "markdown",
   "metadata": {}
  },
  {
   "cell_type": "code",
   "execution_count": 20,
   "metadata": {},
   "outputs": [
    {
     "output_type": "stream",
     "name": "stdout",
     "text": [
      "Scores: \t\t [4.7934094  5.00696886 4.73008548 4.87701602 4.68490766 4.83864952\n 4.69290144 4.90588867 4.80429485 4.726187  ]\nMean: \t\t\t 4.806030891150337\nStandard deviation: \t 0.09809418145911174\n"
     ]
    }
   ],
   "source": [
    "lin_scores = cross_val_score(lin_reg, delay_prepared, delay_labels, scoring=\"neg_mean_squared_error\", cv=10)\n",
    "lin_rmse_scores = np.sqrt(-lin_scores)\n",
    "display_scores(lin_rmse_scores)"
   ]
  },
  {
   "source": [
    "#### Decision Tree"
   ],
   "cell_type": "markdown",
   "metadata": {}
  },
  {
   "cell_type": "code",
   "execution_count": 21,
   "metadata": {},
   "outputs": [
    {
     "output_type": "stream",
     "name": "stdout",
     "text": [
      "Scores: \t\t [5.72198631 5.95193576 5.76778964 5.78252051 5.5234445  5.71216682\n 5.67960154 5.8767724  5.77004077 5.97526949]\nMean: \t\t\t 5.7761527754324495\nStandard deviation: \t 0.1268980293823553\n"
     ]
    }
   ],
   "source": [
    "scores = cross_val_score(tree_reg, delay_prepared, delay_labels, scoring=\"neg_mean_squared_error\", cv=10)\n",
    "tree_rmse_scores = np.sqrt(-scores)\n",
    "display_scores(tree_rmse_scores)"
   ]
  },
  {
   "source": [
    "We can see taht the Decision Tree model is overfitting so strongly that the Linear Regression model performs even better."
   ],
   "cell_type": "markdown",
   "metadata": {}
  },
  {
   "source": [
    "#### Random Forest"
   ],
   "cell_type": "markdown",
   "metadata": {}
  },
  {
   "cell_type": "code",
   "execution_count": 22,
   "metadata": {},
   "outputs": [
    {
     "output_type": "execute_result",
     "data": {
      "text/plain": [
       "RandomForestRegressor(n_estimators=10, random_state=42)"
      ]
     },
     "metadata": {},
     "execution_count": 22
    }
   ],
   "source": [
    "from sklearn.ensemble import RandomForestRegressor\n",
    "\n",
    "forest_reg = RandomForestRegressor(n_estimators=10, random_state=42)\n",
    "forest_reg.fit(delay_prepared, delay_labels)"
   ]
  },
  {
   "cell_type": "code",
   "execution_count": 23,
   "metadata": {},
   "outputs": [
    {
     "output_type": "execute_result",
     "data": {
      "text/plain": [
       "1.899398305468675"
      ]
     },
     "metadata": {},
     "execution_count": 23
    }
   ],
   "source": [
    "delay_predictions = forest_reg.predict(delay_prepared)\n",
    "forest_mse = mean_squared_error(delay_labels, delay_predictions)\n",
    "forest_rmse = np.sqrt(forest_mse)\n",
    "forest_rmse"
   ]
  },
  {
   "cell_type": "code",
   "execution_count": 24,
   "metadata": {},
   "outputs": [
    {
     "output_type": "stream",
     "name": "stdout",
     "text": [
      "Scores: \t\t [4.49773023 4.73560118 4.44931363 4.65384398 4.37805599 4.62957447\n 4.49554659 4.69674871 4.59968735 4.59054964]\nMean: \t\t\t 4.572665177045496\nStandard deviation: \t 0.10838562780976058\n"
     ]
    }
   ],
   "source": [
    "forest_scores = cross_val_score(forest_reg, delay_prepared, delay_labels, scoring=\"neg_mean_squared_error\", cv=10)\n",
    "forest_rmse_scores = np.sqrt(-forest_scores)\n",
    "display_scores(forest_rmse_scores)"
   ]
  },
  {
   "source": [
    "With the Random Forest we have a mutch better results. But we see a significant difference between the score on the training set than on the validation set. That means that the model is still overfitting the training set.\n",
    "\n",
    "#### Support Vector Regression"
   ],
   "cell_type": "markdown",
   "metadata": {}
  },
  {
   "cell_type": "code",
   "execution_count": 25,
   "metadata": {},
   "outputs": [
    {
     "output_type": "execute_result",
     "data": {
      "text/plain": [
       "SVR(kernel='linear')"
      ]
     },
     "metadata": {},
     "execution_count": 25
    }
   ],
   "source": [
    "from sklearn.svm import SVR\n",
    "\n",
    "svm_reg = SVR(kernel=\"linear\")\n",
    "svm_reg.fit(delay_prepared, delay_labels)"
   ]
  },
  {
   "cell_type": "code",
   "execution_count": 26,
   "metadata": {},
   "outputs": [
    {
     "output_type": "execute_result",
     "data": {
      "text/plain": [
       "4.839773395843052"
      ]
     },
     "metadata": {},
     "execution_count": 26
    }
   ],
   "source": [
    "delay_predictions = svm_reg.predict(delay_prepared)\n",
    "svm_mse = mean_squared_error(delay_labels, delay_predictions)\n",
    "svm_rmse = np.sqrt(svm_mse)\n",
    "svm_rmse"
   ]
  },
  {
   "cell_type": "code",
   "execution_count": 27,
   "metadata": {},
   "outputs": [
    {
     "output_type": "stream",
     "name": "stdout",
     "text": [
      "Scores: \t\t [4.81458072 5.04584036 4.76717167 4.92745309 4.70197077 4.88105654\n 4.72272835 4.94210272 4.83317587 4.75036357]\nMean: \t\t\t 4.838644364881436\nStandard deviation: \t 0.10437748498595546\n"
     ]
    }
   ],
   "source": [
    "svr_scores = cross_val_score(svm_reg, delay_prepared, delay_labels, scoring=\"neg_mean_squared_error\", cv=10)\n",
    "svr_rmse_scores = np.sqrt(-svr_scores)\n",
    "display_scores(svr_rmse_scores)"
   ]
  },
  {
   "source": [
    "We can see that the best model is the Random Forest 🌲"
   ],
   "cell_type": "markdown",
   "metadata": {}
  },
  {
   "cell_type": "markdown",
   "metadata": {},
   "source": [
    "## Fine-Tune the models\n",
    "### Grid Search"
   ]
  },
  {
   "cell_type": "code",
   "execution_count": 28,
   "metadata": {},
   "outputs": [
    {
     "output_type": "execute_result",
     "data": {
      "text/plain": [
       "GridSearchCV(cv=5, estimator=RandomForestRegressor(random_state=42),\n",
       "             param_grid=[{'max_features': [2, 4, 6, 8],\n",
       "                          'n_estimators': [3, 10, 30]},\n",
       "                         {'bootstrap': [False], 'max_features': [2, 3, 4],\n",
       "                          'n_estimators': [3, 10]}],\n",
       "             return_train_score=True, scoring='neg_mean_squared_error')"
      ]
     },
     "metadata": {},
     "execution_count": 28
    }
   ],
   "source": [
    "from sklearn.model_selection import GridSearchCV\n",
    "\n",
    "param_grid = [\n",
    "    # try 12 (3×4) combinations of hyperparameters\n",
    "    {'n_estimators': [3, 10, 30], 'max_features': [2, 4, 6, 8]},\n",
    "    # then try 6 (2×3) combinations with bootstrap set as False\n",
    "    {'bootstrap': [False], 'n_estimators': [3, 10], 'max_features': [2, 3, 4]},\n",
    "  ]\n",
    "\n",
    "forest_reg = RandomForestRegressor(random_state=42)\n",
    "# train across 5 folds, that's a total of (12+6)*5=90 rounds of training \n",
    "grid_search = GridSearchCV(forest_reg, param_grid, cv=5, scoring='neg_mean_squared_error', return_train_score=True)\n",
    "grid_search.fit(delay_prepared, delay_labels)"
   ]
  },
  {
   "cell_type": "code",
   "execution_count": 29,
   "metadata": {},
   "outputs": [
    {
     "output_type": "execute_result",
     "data": {
      "text/plain": [
       "{'max_features': 8, 'n_estimators': 30}"
      ]
     },
     "metadata": {},
     "execution_count": 29
    }
   ],
   "source": [
    "grid_search.best_params_"
   ]
  },
  {
   "cell_type": "code",
   "execution_count": 30,
   "metadata": {},
   "outputs": [
    {
     "output_type": "execute_result",
     "data": {
      "text/plain": [
       "RandomForestRegressor(max_features=8, n_estimators=30, random_state=42)"
      ]
     },
     "metadata": {},
     "execution_count": 30
    }
   ],
   "source": [
    "grid_search.best_estimator_"
   ]
  },
  {
   "cell_type": "code",
   "execution_count": 31,
   "metadata": {},
   "outputs": [
    {
     "output_type": "stream",
     "name": "stdout",
     "text": [
      "5.06560462548606 {'max_features': 2, 'n_estimators': 3}\n4.680706212921648 {'max_features': 2, 'n_estimators': 10}\n4.550183173934289 {'max_features': 2, 'n_estimators': 30}\n5.058516412325342 {'max_features': 4, 'n_estimators': 3}\n4.612619924609059 {'max_features': 4, 'n_estimators': 10}\n4.491778062008233 {'max_features': 4, 'n_estimators': 30}\n5.017886674233087 {'max_features': 6, 'n_estimators': 3}\n4.609401623437623 {'max_features': 6, 'n_estimators': 10}\n4.483112754035434 {'max_features': 6, 'n_estimators': 30}\n4.995556945371109 {'max_features': 8, 'n_estimators': 3}\n4.59392203195289 {'max_features': 8, 'n_estimators': 10}\n4.472927422698015 {'max_features': 8, 'n_estimators': 30}\n5.162235854235777 {'bootstrap': False, 'max_features': 2, 'n_estimators': 3}\n4.823543552896187 {'bootstrap': False, 'max_features': 2, 'n_estimators': 10}\n5.124358452830584 {'bootstrap': False, 'max_features': 3, 'n_estimators': 3}\n4.76539978972415 {'bootstrap': False, 'max_features': 3, 'n_estimators': 10}\n5.125114804414152 {'bootstrap': False, 'max_features': 4, 'n_estimators': 3}\n4.7298117307035765 {'bootstrap': False, 'max_features': 4, 'n_estimators': 10}\n"
     ]
    }
   ],
   "source": [
    "cvres = grid_search.cv_results_\n",
    "for mean_score, params in zip(cvres[\"mean_test_score\"], cvres[\"params\"]):\n",
    "    print(np.sqrt(-mean_score), params)"
   ]
  },
  {
   "cell_type": "code",
   "execution_count": 32,
   "metadata": {},
   "outputs": [
    {
     "output_type": "execute_result",
     "data": {
      "text/plain": [
       "    mean_fit_time  std_fit_time  mean_score_time  std_score_time  \\\n",
       "0        0.198075      0.014232         0.011537        0.000457   \n",
       "1        0.616202      0.005908         0.034621        0.002251   \n",
       "2        1.833040      0.022700         0.096310        0.000718   \n",
       "3        0.225633      0.001688         0.011206        0.000402   \n",
       "4        0.733798      0.006553         0.033028        0.001098   \n",
       "5        2.206419      0.035819         0.097064        0.002621   \n",
       "6        0.270263      0.004679         0.011176        0.000389   \n",
       "7        0.874419      0.024956         0.034043        0.000878   \n",
       "8        2.605427      0.044583         0.094501        0.001019   \n",
       "9        0.317525      0.007736         0.011417        0.000489   \n",
       "10       1.020865      0.009954         0.033424        0.001360   \n",
       "11       3.132444      0.034139         0.103570        0.016571   \n",
       "12       0.292599      0.000773         0.013064        0.000101   \n",
       "13       0.968012      0.019708         0.039018        0.001551   \n",
       "14       0.322214      0.009988         0.012617        0.000496   \n",
       "15       1.043268      0.028166         0.040013        0.003055   \n",
       "16       0.351543      0.004755         0.013010        0.000004   \n",
       "17       1.155736      0.027680         0.038143        0.001150   \n",
       "\n",
       "   param_max_features param_n_estimators param_bootstrap  \\\n",
       "0                   2                  3             NaN   \n",
       "1                   2                 10             NaN   \n",
       "2                   2                 30             NaN   \n",
       "3                   4                  3             NaN   \n",
       "4                   4                 10             NaN   \n",
       "5                   4                 30             NaN   \n",
       "6                   6                  3             NaN   \n",
       "7                   6                 10             NaN   \n",
       "8                   6                 30             NaN   \n",
       "9                   8                  3             NaN   \n",
       "10                  8                 10             NaN   \n",
       "11                  8                 30             NaN   \n",
       "12                  2                  3           False   \n",
       "13                  2                 10           False   \n",
       "14                  3                  3           False   \n",
       "15                  3                 10           False   \n",
       "16                  4                  3           False   \n",
       "17                  4                 10           False   \n",
       "\n",
       "                                               params  split0_test_score  \\\n",
       "0              {'max_features': 2, 'n_estimators': 3}         -26.312145   \n",
       "1             {'max_features': 2, 'n_estimators': 10}         -22.442833   \n",
       "2             {'max_features': 2, 'n_estimators': 30}         -21.006633   \n",
       "3              {'max_features': 4, 'n_estimators': 3}         -25.957102   \n",
       "4             {'max_features': 4, 'n_estimators': 10}         -21.697406   \n",
       "5             {'max_features': 4, 'n_estimators': 30}         -20.552173   \n",
       "6              {'max_features': 6, 'n_estimators': 3}         -25.813822   \n",
       "7             {'max_features': 6, 'n_estimators': 10}         -21.910238   \n",
       "8             {'max_features': 6, 'n_estimators': 30}         -20.647000   \n",
       "9              {'max_features': 8, 'n_estimators': 3}         -25.444396   \n",
       "10            {'max_features': 8, 'n_estimators': 10}         -21.628782   \n",
       "11            {'max_features': 8, 'n_estimators': 30}         -20.285750   \n",
       "12  {'bootstrap': False, 'max_features': 2, 'n_est...         -27.005645   \n",
       "13  {'bootstrap': False, 'max_features': 2, 'n_est...         -23.388169   \n",
       "14  {'bootstrap': False, 'max_features': 3, 'n_est...         -26.308356   \n",
       "15  {'bootstrap': False, 'max_features': 3, 'n_est...         -23.003771   \n",
       "16  {'bootstrap': False, 'max_features': 4, 'n_est...         -26.089797   \n",
       "17  {'bootstrap': False, 'max_features': 4, 'n_est...         -22.718869   \n",
       "\n",
       "    split1_test_score  ...  mean_test_score  std_test_score  rank_test_score  \\\n",
       "0          -26.059272  ...       -25.660350        0.566921               15   \n",
       "1          -22.381250  ...       -21.909011        0.554347                8   \n",
       "2          -21.107285  ...       -20.704167        0.457495                4   \n",
       "3          -25.655290  ...       -25.588588        0.607831               14   \n",
       "4          -21.199713  ...       -21.276263        0.442241                7   \n",
       "5          -20.259306  ...       -20.176070        0.333466                3   \n",
       "6          -25.524576  ...       -25.179187        0.527346               13   \n",
       "7          -21.247704  ...       -21.246583        0.469560                6   \n",
       "8          -20.144682  ...       -20.098300        0.438813                2   \n",
       "9          -25.187057  ...       -24.955589        0.366238               12   \n",
       "10         -21.278888  ...       -21.104120        0.501618                5   \n",
       "11         -20.076961  ...       -20.007080        0.463190                1   \n",
       "12         -27.381963  ...       -26.648679        0.716788               18   \n",
       "13         -24.141435  ...       -23.266572        0.645407               11   \n",
       "14         -26.836006  ...       -26.259050        0.664380               16   \n",
       "15         -23.648138  ...       -22.709035        0.611916               10   \n",
       "16         -27.278943  ...       -26.266802        0.638826               17   \n",
       "17         -22.769500  ...       -22.371119        0.483526                9   \n",
       "\n",
       "    split0_train_score  split1_train_score  split2_train_score  \\\n",
       "0            -6.477658           -6.514923           -6.513664   \n",
       "1            -3.831786           -3.830501           -3.899604   \n",
       "2            -3.085014           -3.071939           -3.093360   \n",
       "3            -6.412652           -6.454879           -6.389482   \n",
       "4            -3.712097           -3.742229           -3.792956   \n",
       "5            -3.017851           -3.002783           -3.033817   \n",
       "6            -6.282083           -6.447460           -6.237304   \n",
       "7            -3.713121           -3.687965           -3.711702   \n",
       "8            -2.982605           -2.980862           -3.012444   \n",
       "9            -6.151294           -6.318508           -6.318382   \n",
       "10           -3.653312           -3.680916           -3.681676   \n",
       "11           -2.983196           -2.979665           -2.966405   \n",
       "12           -0.000000           -0.000000           -0.000000   \n",
       "13           -0.000000           -0.000000           -0.000000   \n",
       "14           -0.000000           -0.000000           -0.000000   \n",
       "15           -0.000000           -0.000000           -0.000000   \n",
       "16           -0.000000           -0.000000           -0.000000   \n",
       "17           -0.000000           -0.000000           -0.000000   \n",
       "\n",
       "    split3_train_score  split4_train_score  mean_train_score  std_train_score  \n",
       "0            -6.429735           -6.451220         -6.477440         0.033706  \n",
       "1            -3.824566           -3.879946         -3.853281         0.030537  \n",
       "2            -3.080140           -3.126611         -3.091413         0.018921  \n",
       "3            -6.314871           -6.404251         -6.395227         0.045681  \n",
       "4            -3.722278           -3.750336         -3.743979         0.028034  \n",
       "5            -3.004180           -3.020620         -3.015850         0.011459  \n",
       "6            -6.349848           -6.420388         -6.347417         0.079665  \n",
       "7            -3.727929           -3.753445         -3.718832         0.021527  \n",
       "8            -2.981848           -3.001820         -2.991916         0.012882  \n",
       "9            -6.313078           -6.190912         -6.258435         0.072425  \n",
       "10           -3.691655           -3.655206         -3.672553         0.015422  \n",
       "11           -2.981463           -2.974518         -2.977050         0.006063  \n",
       "12           -0.000000           -0.000000          0.000000         0.000000  \n",
       "13           -0.000000           -0.000000          0.000000         0.000000  \n",
       "14           -0.000000           -0.000000          0.000000         0.000000  \n",
       "15           -0.000000           -0.000000          0.000000         0.000000  \n",
       "16           -0.000000           -0.000000          0.000000         0.000000  \n",
       "17           -0.000000           -0.000000          0.000000         0.000000  \n",
       "\n",
       "[18 rows x 23 columns]"
      ],
      "text/html": "<div>\n<style scoped>\n    .dataframe tbody tr th:only-of-type {\n        vertical-align: middle;\n    }\n\n    .dataframe tbody tr th {\n        vertical-align: top;\n    }\n\n    .dataframe thead th {\n        text-align: right;\n    }\n</style>\n<table border=\"1\" class=\"dataframe\">\n  <thead>\n    <tr style=\"text-align: right;\">\n      <th></th>\n      <th>mean_fit_time</th>\n      <th>std_fit_time</th>\n      <th>mean_score_time</th>\n      <th>std_score_time</th>\n      <th>param_max_features</th>\n      <th>param_n_estimators</th>\n      <th>param_bootstrap</th>\n      <th>params</th>\n      <th>split0_test_score</th>\n      <th>split1_test_score</th>\n      <th>...</th>\n      <th>mean_test_score</th>\n      <th>std_test_score</th>\n      <th>rank_test_score</th>\n      <th>split0_train_score</th>\n      <th>split1_train_score</th>\n      <th>split2_train_score</th>\n      <th>split3_train_score</th>\n      <th>split4_train_score</th>\n      <th>mean_train_score</th>\n      <th>std_train_score</th>\n    </tr>\n  </thead>\n  <tbody>\n    <tr>\n      <th>0</th>\n      <td>0.198075</td>\n      <td>0.014232</td>\n      <td>0.011537</td>\n      <td>0.000457</td>\n      <td>2</td>\n      <td>3</td>\n      <td>NaN</td>\n      <td>{'max_features': 2, 'n_estimators': 3}</td>\n      <td>-26.312145</td>\n      <td>-26.059272</td>\n      <td>...</td>\n      <td>-25.660350</td>\n      <td>0.566921</td>\n      <td>15</td>\n      <td>-6.477658</td>\n      <td>-6.514923</td>\n      <td>-6.513664</td>\n      <td>-6.429735</td>\n      <td>-6.451220</td>\n      <td>-6.477440</td>\n      <td>0.033706</td>\n    </tr>\n    <tr>\n      <th>1</th>\n      <td>0.616202</td>\n      <td>0.005908</td>\n      <td>0.034621</td>\n      <td>0.002251</td>\n      <td>2</td>\n      <td>10</td>\n      <td>NaN</td>\n      <td>{'max_features': 2, 'n_estimators': 10}</td>\n      <td>-22.442833</td>\n      <td>-22.381250</td>\n      <td>...</td>\n      <td>-21.909011</td>\n      <td>0.554347</td>\n      <td>8</td>\n      <td>-3.831786</td>\n      <td>-3.830501</td>\n      <td>-3.899604</td>\n      <td>-3.824566</td>\n      <td>-3.879946</td>\n      <td>-3.853281</td>\n      <td>0.030537</td>\n    </tr>\n    <tr>\n      <th>2</th>\n      <td>1.833040</td>\n      <td>0.022700</td>\n      <td>0.096310</td>\n      <td>0.000718</td>\n      <td>2</td>\n      <td>30</td>\n      <td>NaN</td>\n      <td>{'max_features': 2, 'n_estimators': 30}</td>\n      <td>-21.006633</td>\n      <td>-21.107285</td>\n      <td>...</td>\n      <td>-20.704167</td>\n      <td>0.457495</td>\n      <td>4</td>\n      <td>-3.085014</td>\n      <td>-3.071939</td>\n      <td>-3.093360</td>\n      <td>-3.080140</td>\n      <td>-3.126611</td>\n      <td>-3.091413</td>\n      <td>0.018921</td>\n    </tr>\n    <tr>\n      <th>3</th>\n      <td>0.225633</td>\n      <td>0.001688</td>\n      <td>0.011206</td>\n      <td>0.000402</td>\n      <td>4</td>\n      <td>3</td>\n      <td>NaN</td>\n      <td>{'max_features': 4, 'n_estimators': 3}</td>\n      <td>-25.957102</td>\n      <td>-25.655290</td>\n      <td>...</td>\n      <td>-25.588588</td>\n      <td>0.607831</td>\n      <td>14</td>\n      <td>-6.412652</td>\n      <td>-6.454879</td>\n      <td>-6.389482</td>\n      <td>-6.314871</td>\n      <td>-6.404251</td>\n      <td>-6.395227</td>\n      <td>0.045681</td>\n    </tr>\n    <tr>\n      <th>4</th>\n      <td>0.733798</td>\n      <td>0.006553</td>\n      <td>0.033028</td>\n      <td>0.001098</td>\n      <td>4</td>\n      <td>10</td>\n      <td>NaN</td>\n      <td>{'max_features': 4, 'n_estimators': 10}</td>\n      <td>-21.697406</td>\n      <td>-21.199713</td>\n      <td>...</td>\n      <td>-21.276263</td>\n      <td>0.442241</td>\n      <td>7</td>\n      <td>-3.712097</td>\n      <td>-3.742229</td>\n      <td>-3.792956</td>\n      <td>-3.722278</td>\n      <td>-3.750336</td>\n      <td>-3.743979</td>\n      <td>0.028034</td>\n    </tr>\n    <tr>\n      <th>5</th>\n      <td>2.206419</td>\n      <td>0.035819</td>\n      <td>0.097064</td>\n      <td>0.002621</td>\n      <td>4</td>\n      <td>30</td>\n      <td>NaN</td>\n      <td>{'max_features': 4, 'n_estimators': 30}</td>\n      <td>-20.552173</td>\n      <td>-20.259306</td>\n      <td>...</td>\n      <td>-20.176070</td>\n      <td>0.333466</td>\n      <td>3</td>\n      <td>-3.017851</td>\n      <td>-3.002783</td>\n      <td>-3.033817</td>\n      <td>-3.004180</td>\n      <td>-3.020620</td>\n      <td>-3.015850</td>\n      <td>0.011459</td>\n    </tr>\n    <tr>\n      <th>6</th>\n      <td>0.270263</td>\n      <td>0.004679</td>\n      <td>0.011176</td>\n      <td>0.000389</td>\n      <td>6</td>\n      <td>3</td>\n      <td>NaN</td>\n      <td>{'max_features': 6, 'n_estimators': 3}</td>\n      <td>-25.813822</td>\n      <td>-25.524576</td>\n      <td>...</td>\n      <td>-25.179187</td>\n      <td>0.527346</td>\n      <td>13</td>\n      <td>-6.282083</td>\n      <td>-6.447460</td>\n      <td>-6.237304</td>\n      <td>-6.349848</td>\n      <td>-6.420388</td>\n      <td>-6.347417</td>\n      <td>0.079665</td>\n    </tr>\n    <tr>\n      <th>7</th>\n      <td>0.874419</td>\n      <td>0.024956</td>\n      <td>0.034043</td>\n      <td>0.000878</td>\n      <td>6</td>\n      <td>10</td>\n      <td>NaN</td>\n      <td>{'max_features': 6, 'n_estimators': 10}</td>\n      <td>-21.910238</td>\n      <td>-21.247704</td>\n      <td>...</td>\n      <td>-21.246583</td>\n      <td>0.469560</td>\n      <td>6</td>\n      <td>-3.713121</td>\n      <td>-3.687965</td>\n      <td>-3.711702</td>\n      <td>-3.727929</td>\n      <td>-3.753445</td>\n      <td>-3.718832</td>\n      <td>0.021527</td>\n    </tr>\n    <tr>\n      <th>8</th>\n      <td>2.605427</td>\n      <td>0.044583</td>\n      <td>0.094501</td>\n      <td>0.001019</td>\n      <td>6</td>\n      <td>30</td>\n      <td>NaN</td>\n      <td>{'max_features': 6, 'n_estimators': 30}</td>\n      <td>-20.647000</td>\n      <td>-20.144682</td>\n      <td>...</td>\n      <td>-20.098300</td>\n      <td>0.438813</td>\n      <td>2</td>\n      <td>-2.982605</td>\n      <td>-2.980862</td>\n      <td>-3.012444</td>\n      <td>-2.981848</td>\n      <td>-3.001820</td>\n      <td>-2.991916</td>\n      <td>0.012882</td>\n    </tr>\n    <tr>\n      <th>9</th>\n      <td>0.317525</td>\n      <td>0.007736</td>\n      <td>0.011417</td>\n      <td>0.000489</td>\n      <td>8</td>\n      <td>3</td>\n      <td>NaN</td>\n      <td>{'max_features': 8, 'n_estimators': 3}</td>\n      <td>-25.444396</td>\n      <td>-25.187057</td>\n      <td>...</td>\n      <td>-24.955589</td>\n      <td>0.366238</td>\n      <td>12</td>\n      <td>-6.151294</td>\n      <td>-6.318508</td>\n      <td>-6.318382</td>\n      <td>-6.313078</td>\n      <td>-6.190912</td>\n      <td>-6.258435</td>\n      <td>0.072425</td>\n    </tr>\n    <tr>\n      <th>10</th>\n      <td>1.020865</td>\n      <td>0.009954</td>\n      <td>0.033424</td>\n      <td>0.001360</td>\n      <td>8</td>\n      <td>10</td>\n      <td>NaN</td>\n      <td>{'max_features': 8, 'n_estimators': 10}</td>\n      <td>-21.628782</td>\n      <td>-21.278888</td>\n      <td>...</td>\n      <td>-21.104120</td>\n      <td>0.501618</td>\n      <td>5</td>\n      <td>-3.653312</td>\n      <td>-3.680916</td>\n      <td>-3.681676</td>\n      <td>-3.691655</td>\n      <td>-3.655206</td>\n      <td>-3.672553</td>\n      <td>0.015422</td>\n    </tr>\n    <tr>\n      <th>11</th>\n      <td>3.132444</td>\n      <td>0.034139</td>\n      <td>0.103570</td>\n      <td>0.016571</td>\n      <td>8</td>\n      <td>30</td>\n      <td>NaN</td>\n      <td>{'max_features': 8, 'n_estimators': 30}</td>\n      <td>-20.285750</td>\n      <td>-20.076961</td>\n      <td>...</td>\n      <td>-20.007080</td>\n      <td>0.463190</td>\n      <td>1</td>\n      <td>-2.983196</td>\n      <td>-2.979665</td>\n      <td>-2.966405</td>\n      <td>-2.981463</td>\n      <td>-2.974518</td>\n      <td>-2.977050</td>\n      <td>0.006063</td>\n    </tr>\n    <tr>\n      <th>12</th>\n      <td>0.292599</td>\n      <td>0.000773</td>\n      <td>0.013064</td>\n      <td>0.000101</td>\n      <td>2</td>\n      <td>3</td>\n      <td>False</td>\n      <td>{'bootstrap': False, 'max_features': 2, 'n_est...</td>\n      <td>-27.005645</td>\n      <td>-27.381963</td>\n      <td>...</td>\n      <td>-26.648679</td>\n      <td>0.716788</td>\n      <td>18</td>\n      <td>-0.000000</td>\n      <td>-0.000000</td>\n      <td>-0.000000</td>\n      <td>-0.000000</td>\n      <td>-0.000000</td>\n      <td>0.000000</td>\n      <td>0.000000</td>\n    </tr>\n    <tr>\n      <th>13</th>\n      <td>0.968012</td>\n      <td>0.019708</td>\n      <td>0.039018</td>\n      <td>0.001551</td>\n      <td>2</td>\n      <td>10</td>\n      <td>False</td>\n      <td>{'bootstrap': False, 'max_features': 2, 'n_est...</td>\n      <td>-23.388169</td>\n      <td>-24.141435</td>\n      <td>...</td>\n      <td>-23.266572</td>\n      <td>0.645407</td>\n      <td>11</td>\n      <td>-0.000000</td>\n      <td>-0.000000</td>\n      <td>-0.000000</td>\n      <td>-0.000000</td>\n      <td>-0.000000</td>\n      <td>0.000000</td>\n      <td>0.000000</td>\n    </tr>\n    <tr>\n      <th>14</th>\n      <td>0.322214</td>\n      <td>0.009988</td>\n      <td>0.012617</td>\n      <td>0.000496</td>\n      <td>3</td>\n      <td>3</td>\n      <td>False</td>\n      <td>{'bootstrap': False, 'max_features': 3, 'n_est...</td>\n      <td>-26.308356</td>\n      <td>-26.836006</td>\n      <td>...</td>\n      <td>-26.259050</td>\n      <td>0.664380</td>\n      <td>16</td>\n      <td>-0.000000</td>\n      <td>-0.000000</td>\n      <td>-0.000000</td>\n      <td>-0.000000</td>\n      <td>-0.000000</td>\n      <td>0.000000</td>\n      <td>0.000000</td>\n    </tr>\n    <tr>\n      <th>15</th>\n      <td>1.043268</td>\n      <td>0.028166</td>\n      <td>0.040013</td>\n      <td>0.003055</td>\n      <td>3</td>\n      <td>10</td>\n      <td>False</td>\n      <td>{'bootstrap': False, 'max_features': 3, 'n_est...</td>\n      <td>-23.003771</td>\n      <td>-23.648138</td>\n      <td>...</td>\n      <td>-22.709035</td>\n      <td>0.611916</td>\n      <td>10</td>\n      <td>-0.000000</td>\n      <td>-0.000000</td>\n      <td>-0.000000</td>\n      <td>-0.000000</td>\n      <td>-0.000000</td>\n      <td>0.000000</td>\n      <td>0.000000</td>\n    </tr>\n    <tr>\n      <th>16</th>\n      <td>0.351543</td>\n      <td>0.004755</td>\n      <td>0.013010</td>\n      <td>0.000004</td>\n      <td>4</td>\n      <td>3</td>\n      <td>False</td>\n      <td>{'bootstrap': False, 'max_features': 4, 'n_est...</td>\n      <td>-26.089797</td>\n      <td>-27.278943</td>\n      <td>...</td>\n      <td>-26.266802</td>\n      <td>0.638826</td>\n      <td>17</td>\n      <td>-0.000000</td>\n      <td>-0.000000</td>\n      <td>-0.000000</td>\n      <td>-0.000000</td>\n      <td>-0.000000</td>\n      <td>0.000000</td>\n      <td>0.000000</td>\n    </tr>\n    <tr>\n      <th>17</th>\n      <td>1.155736</td>\n      <td>0.027680</td>\n      <td>0.038143</td>\n      <td>0.001150</td>\n      <td>4</td>\n      <td>10</td>\n      <td>False</td>\n      <td>{'bootstrap': False, 'max_features': 4, 'n_est...</td>\n      <td>-22.718869</td>\n      <td>-22.769500</td>\n      <td>...</td>\n      <td>-22.371119</td>\n      <td>0.483526</td>\n      <td>9</td>\n      <td>-0.000000</td>\n      <td>-0.000000</td>\n      <td>-0.000000</td>\n      <td>-0.000000</td>\n      <td>-0.000000</td>\n      <td>0.000000</td>\n      <td>0.000000</td>\n    </tr>\n  </tbody>\n</table>\n<p>18 rows × 23 columns</p>\n</div>"
     },
     "metadata": {},
     "execution_count": 32
    }
   ],
   "source": [
    "pd.DataFrame(grid_search.cv_results_)"
   ]
  },
  {
   "source": [
    "We should evaluate higher values of n_estimators as well, since 30 is the maximum value that was evaluated. The score may continue to improve."
   ],
   "cell_type": "markdown",
   "metadata": {}
  },
  {
   "cell_type": "code",
   "execution_count": 33,
   "metadata": {},
   "outputs": [
    {
     "output_type": "stream",
     "name": "stdout",
     "text": [
      "{'max_features': 9, 'n_estimators': 120} \n\n4.427909664438964 {'max_features': 6, 'n_estimators': 100}\n4.426065788429814 {'max_features': 6, 'n_estimators': 110}\n4.42625156307494 {'max_features': 6, 'n_estimators': 120}\n4.426751959849557 {'max_features': 8, 'n_estimators': 100}\n4.423668147760495 {'max_features': 8, 'n_estimators': 110}\n4.422366635241158 {'max_features': 8, 'n_estimators': 120}\n4.423311162584491 {'max_features': 9, 'n_estimators': 100}\n4.42014092421493 {'max_features': 9, 'n_estimators': 110}\n4.419286021113564 {'max_features': 9, 'n_estimators': 120}\n4.428734191712299 {'max_features': 10, 'n_estimators': 100}\n4.426496290159704 {'max_features': 10, 'n_estimators': 110}\n4.425590953752192 {'max_features': 10, 'n_estimators': 120}\n4.70141929608108 {'bootstrap': False, 'max_features': 1, 'n_estimators': 70}\n4.70114251314045 {'bootstrap': False, 'max_features': 1, 'n_estimators': 80}\n4.699917507790506 {'bootstrap': False, 'max_features': 1, 'n_estimators': 90}\n4.66697276633873 {'bootstrap': False, 'max_features': 2, 'n_estimators': 70}\n4.665254586833361 {'bootstrap': False, 'max_features': 2, 'n_estimators': 80}\n4.664798294287374 {'bootstrap': False, 'max_features': 2, 'n_estimators': 90}\n4.599248694253658 {'bootstrap': False, 'max_features': 4, 'n_estimators': 70}\n4.593086543106836 {'bootstrap': False, 'max_features': 4, 'n_estimators': 80}\n4.591977151929151 {'bootstrap': False, 'max_features': 4, 'n_estimators': 90}\n"
     ]
    }
   ],
   "source": [
    "param_grid = [\n",
    "    # try 12 (3×4) combinations of hyperparameters\n",
    "    {'n_estimators': [100, 110, 120], 'max_features': [6, 8, 9, 10]},\n",
    "    # then try 9 (3×3) combinations with bootstrap set as False\n",
    "    {'bootstrap': [False], 'n_estimators': [70, 80, 90], 'max_features': [1, 2, 4]},\n",
    "  ]\n",
    "\n",
    "forest_reg = RandomForestRegressor(random_state=42)\n",
    "# train across 5 folds, that's a total of (12+9)*5=105 rounds of training \n",
    "grid_search = GridSearchCV(forest_reg, param_grid, cv=5, scoring='neg_mean_squared_error', return_train_score=True)\n",
    "grid_search.fit(delay_prepared, delay_labels)\n",
    "print(grid_search.best_params_, \"\\n\")\n",
    "cvres = grid_search.cv_results_\n",
    "for mean_score, params in zip(cvres[\"mean_test_score\"], cvres[\"params\"]):\n",
    "    print(np.sqrt(-mean_score), params)"
   ]
  },
  {
   "cell_type": "markdown",
   "metadata": {},
   "source": [
    "### Randomized Search"
   ]
  },
  {
   "cell_type": "code",
   "execution_count": 34,
   "metadata": {},
   "outputs": [
    {
     "output_type": "execute_result",
     "data": {
      "text/plain": [
       "RandomizedSearchCV(cv=5, estimator=RandomForestRegressor(random_state=42),\n",
       "                   param_distributions={'max_features': <scipy.stats._distn_infrastructure.rv_frozen object at 0x25BE6730>,\n",
       "                                        'n_estimators': <scipy.stats._distn_infrastructure.rv_frozen object at 0x25BE62B0>},\n",
       "                   random_state=42, scoring='neg_mean_squared_error')"
      ]
     },
     "metadata": {},
     "execution_count": 34
    }
   ],
   "source": [
    "from sklearn.model_selection import RandomizedSearchCV\n",
    "from scipy.stats import randint\n",
    "\n",
    "param_distribs = {\n",
    "        'n_estimators': randint(low=1, high=200),\n",
    "        'max_features': randint(low=1, high=8),\n",
    "    }\n",
    "\n",
    "forest_reg = RandomForestRegressor(random_state=42)\n",
    "rnd_search = RandomizedSearchCV(forest_reg, param_distributions=param_distribs, n_iter=10, cv=5, scoring='neg_mean_squared_error', random_state=42)\n",
    "rnd_search.fit(delay_prepared, delay_labels)"
   ]
  },
  {
   "cell_type": "code",
   "execution_count": 35,
   "metadata": {},
   "outputs": [
    {
     "output_type": "stream",
     "name": "stdout",
     "text": [
      "nan {'max_features': 7, 'n_estimators': 180}\n4.541553605820716 {'max_features': 5, 'n_estimators': 15}\n4.471969494529385 {'max_features': 3, 'n_estimators': 72}\n4.503630430349875 {'max_features': 5, 'n_estimators': 21}\nnan {'max_features': 7, 'n_estimators': 122}\n4.4715699131362125 {'max_features': 3, 'n_estimators': 75}\n4.468092691367754 {'max_features': 3, 'n_estimators': 88}\n4.43469769434851 {'max_features': 5, 'n_estimators': 100}\nnan {'max_features': 3, 'n_estimators': 150}\n5.309417390920561 {'max_features': 5, 'n_estimators': 2}\n"
     ]
    }
   ],
   "source": [
    "cvres = rnd_search.cv_results_\n",
    "for mean_score, params in zip(cvres[\"mean_test_score\"], cvres[\"params\"]):\n",
    "    print(np.sqrt(-mean_score), params)"
   ]
  },
  {
   "source": [
    "### Analyze the Best Models and Their Errors"
   ],
   "cell_type": "markdown",
   "metadata": {}
  },
  {
   "cell_type": "code",
   "execution_count": 36,
   "metadata": {},
   "outputs": [
    {
     "output_type": "execute_result",
     "data": {
      "text/plain": [
       "array([0.0225055 , 0.06581328, 0.17493591, 0.10569918, 0.03252416,\n",
       "       0.01036292, 0.04629494, 0.00055411, 0.20169793, 0.02180939,\n",
       "       0.01537851, 0.01788985, 0.01604122, 0.02276381, 0.01977333,\n",
       "       0.01854083, 0.01848114, 0.01865429, 0.01212545, 0.00925313,\n",
       "       0.01903763, 0.01854902, 0.02067023, 0.0167575 , 0.02268607,\n",
       "       0.01587463, 0.01716645, 0.01815962])"
      ]
     },
     "metadata": {},
     "execution_count": 36
    }
   ],
   "source": [
    "feature_importances = grid_search.best_estimator_.feature_importances_\n",
    "feature_importances"
   ]
  },
  {
   "cell_type": "code",
   "execution_count": 37,
   "metadata": {},
   "outputs": [
    {
     "output_type": "stream",
     "name": "stdout",
     "text": [
      "[('hour_and_minute', 0.20169792797105873), ('minute', 0.1749359078073203), ('temp', 0.10569917681545953), ('hour', 0.06581328049275027), ('wind', 0.046294939325783), ('humidity', 0.032524157171001065), ('5503', 0.022763809840347957), ('5519', 0.02268607019477332), ('day', 0.02250549723519729), ('0089', 0.021809392900237205), ('5517', 0.020670225673417406), ('5504', 0.019773326291009714), ('5515', 0.019037634456260562), ('5509', 0.018654294352831103), ('5516', 0.018549020043904667), ('5507', 0.018540827377754854), ('5508', 0.018481138469795953), ('6474F', 0.018159621822656683), ('5501', 0.01788984640990591), ('5532', 0.017166449727635032), ('5518', 0.016757495005551116), ('5502', 0.016041216523075025), ('5529', 0.015874628024694453), ('5281G', 0.015378505429591684), ('5510', 0.012125450672574015), ('visibility', 0.01036292021009919), ('5512', 0.009253125639773298), ('rain', 0.0005541141155406508)]\n"
     ]
    },
    {
     "output_type": "execute_result",
     "data": {
      "text/plain": [
       "<BarContainer object of 28 artists>"
      ]
     },
     "metadata": {},
     "execution_count": 37
    },
    {
     "output_type": "display_data",
     "data": {
      "text/plain": "<Figure size 432x288 with 1 Axes>",
      "image/svg+xml": "<?xml version=\"1.0\" encoding=\"utf-8\" standalone=\"no\"?>\r\n<!DOCTYPE svg PUBLIC \"-//W3C//DTD SVG 1.1//EN\"\r\n  \"http://www.w3.org/Graphics/SVG/1.1/DTD/svg11.dtd\">\r\n<!-- Created with matplotlib (https://matplotlib.org/) -->\r\n<svg height=\"248.518125pt\" version=\"1.1\" viewBox=\"0 0 443.185938 248.518125\" width=\"443.185938pt\" xmlns=\"http://www.w3.org/2000/svg\" xmlns:xlink=\"http://www.w3.org/1999/xlink\">\r\n <metadata>\r\n  <rdf:RDF xmlns:cc=\"http://creativecommons.org/ns#\" xmlns:dc=\"http://purl.org/dc/elements/1.1/\" xmlns:rdf=\"http://www.w3.org/1999/02/22-rdf-syntax-ns#\">\r\n   <cc:Work>\r\n    <dc:type rdf:resource=\"http://purl.org/dc/dcmitype/StillImage\"/>\r\n    <dc:date>2020-12-04T15:03:16.344962</dc:date>\r\n    <dc:format>image/svg+xml</dc:format>\r\n    <dc:creator>\r\n     <cc:Agent>\r\n      <dc:title>Matplotlib v3.3.3, https://matplotlib.org/</dc:title>\r\n     </cc:Agent>\r\n    </dc:creator>\r\n   </cc:Work>\r\n  </rdf:RDF>\r\n </metadata>\r\n <defs>\r\n  <style type=\"text/css\">*{stroke-linecap:butt;stroke-linejoin:round;}</style>\r\n </defs>\r\n <g id=\"figure_1\">\r\n  <g id=\"patch_1\">\r\n   <path d=\"M 0 248.518125 \r\nL 443.185938 248.518125 \r\nL 443.185938 0 \r\nL 0 0 \r\nz\r\n\" style=\"fill:none;\"/>\r\n  </g>\r\n  <g id=\"axes_1\">\r\n   <g id=\"patch_2\">\r\n    <path d=\"M 101.185938 224.64 \r\nL 435.985938 224.64 \r\nL 435.985938 7.2 \r\nL 101.185938 7.2 \r\nz\r\n\" style=\"fill:#ffffff;\"/>\r\n   </g>\r\n   <g id=\"patch_3\">\r\n    <path clip-path=\"url(#p0fe924812b)\" d=\"M 101.185938 214.756364 \r\nL 420.04308 214.756364 \r\nL 420.04308 209.06794 \r\nL 101.185938 209.06794 \r\nz\r\n\" style=\"fill:#1f77b4;opacity:0.5;\"/>\r\n   </g>\r\n   <g id=\"patch_4\">\r\n    <path clip-path=\"url(#p0fe924812b)\" d=\"M 101.185938 207.645834 \r\nL 377.735946 207.645834 \r\nL 377.735946 201.95741 \r\nL 101.185938 201.95741 \r\nz\r\n\" style=\"fill:#1f77b4;opacity:0.5;\"/>\r\n   </g>\r\n   <g id=\"patch_5\">\r\n    <path clip-path=\"url(#p0fe924812b)\" d=\"M 101.185938 200.535304 \r\nL 268.282039 200.535304 \r\nL 268.282039 194.84688 \r\nL 101.185938 194.84688 \r\nz\r\n\" style=\"fill:#1f77b4;opacity:0.5;\"/>\r\n   </g>\r\n   <g id=\"patch_6\">\r\n    <path clip-path=\"url(#p0fe924812b)\" d=\"M 101.185938 193.424774 \r\nL 205.227832 193.424774 \r\nL 205.227832 187.736351 \r\nL 101.185938 187.736351 \r\nz\r\n\" style=\"fill:#1f77b4;opacity:0.5;\"/>\r\n   </g>\r\n   <g id=\"patch_7\">\r\n    <path clip-path=\"url(#p0fe924812b)\" d=\"M 101.185938 186.314245 \r\nL 174.371975 186.314245 \r\nL 174.371975 180.625821 \r\nL 101.185938 180.625821 \r\nz\r\n\" style=\"fill:#1f77b4;opacity:0.5;\"/>\r\n   </g>\r\n   <g id=\"patch_8\">\r\n    <path clip-path=\"url(#p0fe924812b)\" d=\"M 101.185938 179.203715 \r\nL 152.602231 179.203715 \r\nL 152.602231 173.515291 \r\nL 101.185938 173.515291 \r\nz\r\n\" style=\"fill:#1f77b4;opacity:0.5;\"/>\r\n   </g>\r\n   <g id=\"patch_9\">\r\n    <path clip-path=\"url(#p0fe924812b)\" d=\"M 101.185938 172.093185 \r\nL 137.172442 172.093185 \r\nL 137.172442 166.404761 \r\nL 101.185938 166.404761 \r\nz\r\n\" style=\"fill:#1f77b4;opacity:0.5;\"/>\r\n   </g>\r\n   <g id=\"patch_10\">\r\n    <path clip-path=\"url(#p0fe924812b)\" d=\"M 101.185938 164.982655 \r\nL 137.049546 164.982655 \r\nL 137.049546 159.294232 \r\nL 101.185938 159.294232 \r\nz\r\n\" style=\"fill:#1f77b4;opacity:0.5;\"/>\r\n   </g>\r\n   <g id=\"patch_11\">\r\n    <path clip-path=\"url(#p0fe924812b)\" d=\"M 101.185938 157.872126 \r\nL 136.764085 157.872126 \r\nL 136.764085 152.183702 \r\nL 101.185938 152.183702 \r\nz\r\n\" style=\"fill:#1f77b4;opacity:0.5;\"/>\r\n   </g>\r\n   <g id=\"patch_12\">\r\n    <path clip-path=\"url(#p0fe924812b)\" d=\"M 101.185938 150.761596 \r\nL 135.663638 150.761596 \r\nL 135.663638 145.073172 \r\nL 101.185938 145.073172 \r\nz\r\n\" style=\"fill:#1f77b4;opacity:0.5;\"/>\r\n   </g>\r\n   <g id=\"patch_13\">\r\n    <path clip-path=\"url(#p0fe924812b)\" d=\"M 101.185938 143.651066 \r\nL 133.862768 143.651066 \r\nL 133.862768 137.962642 \r\nL 101.185938 137.962642 \r\nz\r\n\" style=\"fill:#1f77b4;opacity:0.5;\"/>\r\n   </g>\r\n   <g id=\"patch_14\">\r\n    <path clip-path=\"url(#p0fe924812b)\" d=\"M 101.185938 136.540536 \r\nL 132.444892 136.540536 \r\nL 132.444892 130.852112 \r\nL 101.185938 130.852112 \r\nz\r\n\" style=\"fill:#1f77b4;opacity:0.5;\"/>\r\n   </g>\r\n   <g id=\"patch_15\">\r\n    <path clip-path=\"url(#p0fe924812b)\" d=\"M 101.185938 129.430007 \r\nL 131.281863 129.430007 \r\nL 131.281863 123.741583 \r\nL 101.185938 123.741583 \r\nz\r\n\" style=\"fill:#1f77b4;opacity:0.5;\"/>\r\n   </g>\r\n   <g id=\"patch_16\">\r\n    <path clip-path=\"url(#p0fe924812b)\" d=\"M 101.185938 122.319477 \r\nL 130.675854 122.319477 \r\nL 130.675854 116.631053 \r\nL 101.185938 116.631053 \r\nz\r\n\" style=\"fill:#1f77b4;opacity:0.5;\"/>\r\n   </g>\r\n   <g id=\"patch_17\">\r\n    <path clip-path=\"url(#p0fe924812b)\" d=\"M 101.185938 115.208947 \r\nL 130.509429 115.208947 \r\nL 130.509429 109.520523 \r\nL 101.185938 109.520523 \r\nz\r\n\" style=\"fill:#1f77b4;opacity:0.5;\"/>\r\n   </g>\r\n   <g id=\"patch_18\">\r\n    <path clip-path=\"url(#p0fe924812b)\" d=\"M 101.185938 108.098417 \r\nL 130.496478 108.098417 \r\nL 130.496478 102.409993 \r\nL 101.185938 102.409993 \r\nz\r\n\" style=\"fill:#1f77b4;opacity:0.5;\"/>\r\n   </g>\r\n   <g id=\"patch_19\">\r\n    <path clip-path=\"url(#p0fe924812b)\" d=\"M 101.185938 100.987888 \r\nL 130.402118 100.987888 \r\nL 130.402118 95.299464 \r\nL 101.185938 95.299464 \r\nz\r\n\" style=\"fill:#1f77b4;opacity:0.5;\"/>\r\n   </g>\r\n   <g id=\"patch_20\">\r\n    <path clip-path=\"url(#p0fe924812b)\" d=\"M 101.185938 93.877358 \r\nL 129.893843 93.877358 \r\nL 129.893843 88.188934 \r\nL 101.185938 88.188934 \r\nz\r\n\" style=\"fill:#1f77b4;opacity:0.5;\"/>\r\n   </g>\r\n   <g id=\"patch_21\">\r\n    <path clip-path=\"url(#p0fe924812b)\" d=\"M 101.185938 86.766828 \r\nL 129.467365 86.766828 \r\nL 129.467365 81.078404 \r\nL 101.185938 81.078404 \r\nz\r\n\" style=\"fill:#1f77b4;opacity:0.5;\"/>\r\n   </g>\r\n   <g id=\"patch_22\">\r\n    <path clip-path=\"url(#p0fe924812b)\" d=\"M 101.185938 79.656298 \r\nL 128.323773 79.656298 \r\nL 128.323773 73.967874 \r\nL 101.185938 73.967874 \r\nz\r\n\" style=\"fill:#1f77b4;opacity:0.5;\"/>\r\n   </g>\r\n   <g id=\"patch_23\">\r\n    <path clip-path=\"url(#p0fe924812b)\" d=\"M 101.185938 72.545768 \r\nL 127.677271 72.545768 \r\nL 127.677271 66.857345 \r\nL 101.185938 66.857345 \r\nz\r\n\" style=\"fill:#1f77b4;opacity:0.5;\"/>\r\n   </g>\r\n   <g id=\"patch_24\">\r\n    <path clip-path=\"url(#p0fe924812b)\" d=\"M 101.185938 65.435239 \r\nL 126.544931 65.435239 \r\nL 126.544931 59.746815 \r\nL 101.185938 59.746815 \r\nz\r\n\" style=\"fill:#1f77b4;opacity:0.5;\"/>\r\n   </g>\r\n   <g id=\"patch_25\">\r\n    <path clip-path=\"url(#p0fe924812b)\" d=\"M 101.185938 58.324709 \r\nL 126.281577 58.324709 \r\nL 126.281577 52.636285 \r\nL 101.185938 52.636285 \r\nz\r\n\" style=\"fill:#1f77b4;opacity:0.5;\"/>\r\n   </g>\r\n   <g id=\"patch_26\">\r\n    <path clip-path=\"url(#p0fe924812b)\" d=\"M 101.185938 51.214179 \r\nL 125.497275 51.214179 \r\nL 125.497275 45.525755 \r\nL 101.185938 45.525755 \r\nz\r\n\" style=\"fill:#1f77b4;opacity:0.5;\"/>\r\n   </g>\r\n   <g id=\"patch_27\">\r\n    <path clip-path=\"url(#p0fe924812b)\" d=\"M 101.185938 44.103649 \r\nL 120.354635 44.103649 \r\nL 120.354635 38.415226 \r\nL 101.185938 38.415226 \r\nz\r\n\" style=\"fill:#1f77b4;opacity:0.5;\"/>\r\n   </g>\r\n   <g id=\"patch_28\">\r\n    <path clip-path=\"url(#p0fe924812b)\" d=\"M 101.185938 36.99312 \r\nL 117.568313 36.99312 \r\nL 117.568313 31.304696 \r\nL 101.185938 31.304696 \r\nz\r\n\" style=\"fill:#1f77b4;opacity:0.5;\"/>\r\n   </g>\r\n   <g id=\"patch_29\">\r\n    <path clip-path=\"url(#p0fe924812b)\" d=\"M 101.185938 29.88259 \r\nL 115.813878 29.88259 \r\nL 115.813878 24.194166 \r\nL 101.185938 24.194166 \r\nz\r\n\" style=\"fill:#1f77b4;opacity:0.5;\"/>\r\n   </g>\r\n   <g id=\"patch_30\">\r\n    <path clip-path=\"url(#p0fe924812b)\" d=\"M 101.185938 22.77206 \r\nL 102.061917 22.77206 \r\nL 102.061917 17.083636 \r\nL 101.185938 17.083636 \r\nz\r\n\" style=\"fill:#1f77b4;opacity:0.5;\"/>\r\n   </g>\r\n   <g id=\"matplotlib.axis_1\">\r\n    <g id=\"xtick_1\">\r\n     <g id=\"line2d_1\">\r\n      <defs>\r\n       <path d=\"M 0 0 \r\nL 0 3.5 \r\n\" id=\"m8560cace27\" style=\"stroke:#000000;stroke-width:0.8;\"/>\r\n      </defs>\r\n      <g>\r\n       <use style=\"stroke:#000000;stroke-width:0.8;\" x=\"101.185938\" xlink:href=\"#m8560cace27\" y=\"224.64\"/>\r\n      </g>\r\n     </g>\r\n     <g id=\"text_1\">\r\n      <!-- 0.000 -->\r\n      <g transform=\"translate(86.871875 239.238438)scale(0.1 -0.1)\">\r\n       <defs>\r\n        <path d=\"M 31.78125 66.40625 \r\nQ 24.171875 66.40625 20.328125 58.90625 \r\nQ 16.5 51.421875 16.5 36.375 \r\nQ 16.5 21.390625 20.328125 13.890625 \r\nQ 24.171875 6.390625 31.78125 6.390625 \r\nQ 39.453125 6.390625 43.28125 13.890625 \r\nQ 47.125 21.390625 47.125 36.375 \r\nQ 47.125 51.421875 43.28125 58.90625 \r\nQ 39.453125 66.40625 31.78125 66.40625 \r\nz\r\nM 31.78125 74.21875 \r\nQ 44.046875 74.21875 50.515625 64.515625 \r\nQ 56.984375 54.828125 56.984375 36.375 \r\nQ 56.984375 17.96875 50.515625 8.265625 \r\nQ 44.046875 -1.421875 31.78125 -1.421875 \r\nQ 19.53125 -1.421875 13.0625 8.265625 \r\nQ 6.59375 17.96875 6.59375 36.375 \r\nQ 6.59375 54.828125 13.0625 64.515625 \r\nQ 19.53125 74.21875 31.78125 74.21875 \r\nz\r\n\" id=\"DejaVuSans-48\"/>\r\n        <path d=\"M 10.6875 12.40625 \r\nL 21 12.40625 \r\nL 21 0 \r\nL 10.6875 0 \r\nz\r\n\" id=\"DejaVuSans-46\"/>\r\n       </defs>\r\n       <use xlink:href=\"#DejaVuSans-48\"/>\r\n       <use x=\"63.623047\" xlink:href=\"#DejaVuSans-46\"/>\r\n       <use x=\"95.410156\" xlink:href=\"#DejaVuSans-48\"/>\r\n       <use x=\"159.033203\" xlink:href=\"#DejaVuSans-48\"/>\r\n       <use x=\"222.65625\" xlink:href=\"#DejaVuSans-48\"/>\r\n      </g>\r\n     </g>\r\n    </g>\r\n    <g id=\"xtick_2\">\r\n     <g id=\"line2d_2\">\r\n      <g>\r\n       <use style=\"stroke:#000000;stroke-width:0.8;\" x=\"140.707556\" xlink:href=\"#m8560cace27\" y=\"224.64\"/>\r\n      </g>\r\n     </g>\r\n     <g id=\"text_2\">\r\n      <!-- 0.025 -->\r\n      <g transform=\"translate(126.393494 239.238438)scale(0.1 -0.1)\">\r\n       <defs>\r\n        <path d=\"M 19.1875 8.296875 \r\nL 53.609375 8.296875 \r\nL 53.609375 0 \r\nL 7.328125 0 \r\nL 7.328125 8.296875 \r\nQ 12.9375 14.109375 22.625 23.890625 \r\nQ 32.328125 33.6875 34.8125 36.53125 \r\nQ 39.546875 41.84375 41.421875 45.53125 \r\nQ 43.3125 49.21875 43.3125 52.78125 \r\nQ 43.3125 58.59375 39.234375 62.25 \r\nQ 35.15625 65.921875 28.609375 65.921875 \r\nQ 23.96875 65.921875 18.8125 64.3125 \r\nQ 13.671875 62.703125 7.8125 59.421875 \r\nL 7.8125 69.390625 \r\nQ 13.765625 71.78125 18.9375 73 \r\nQ 24.125 74.21875 28.421875 74.21875 \r\nQ 39.75 74.21875 46.484375 68.546875 \r\nQ 53.21875 62.890625 53.21875 53.421875 \r\nQ 53.21875 48.921875 51.53125 44.890625 \r\nQ 49.859375 40.875 45.40625 35.40625 \r\nQ 44.1875 33.984375 37.640625 27.21875 \r\nQ 31.109375 20.453125 19.1875 8.296875 \r\nz\r\n\" id=\"DejaVuSans-50\"/>\r\n        <path d=\"M 10.796875 72.90625 \r\nL 49.515625 72.90625 \r\nL 49.515625 64.59375 \r\nL 19.828125 64.59375 \r\nL 19.828125 46.734375 \r\nQ 21.96875 47.46875 24.109375 47.828125 \r\nQ 26.265625 48.1875 28.421875 48.1875 \r\nQ 40.625 48.1875 47.75 41.5 \r\nQ 54.890625 34.8125 54.890625 23.390625 \r\nQ 54.890625 11.625 47.5625 5.09375 \r\nQ 40.234375 -1.421875 26.90625 -1.421875 \r\nQ 22.3125 -1.421875 17.546875 -0.640625 \r\nQ 12.796875 0.140625 7.71875 1.703125 \r\nL 7.71875 11.625 \r\nQ 12.109375 9.234375 16.796875 8.0625 \r\nQ 21.484375 6.890625 26.703125 6.890625 \r\nQ 35.15625 6.890625 40.078125 11.328125 \r\nQ 45.015625 15.765625 45.015625 23.390625 \r\nQ 45.015625 31 40.078125 35.4375 \r\nQ 35.15625 39.890625 26.703125 39.890625 \r\nQ 22.75 39.890625 18.8125 39.015625 \r\nQ 14.890625 38.140625 10.796875 36.28125 \r\nz\r\n\" id=\"DejaVuSans-53\"/>\r\n       </defs>\r\n       <use xlink:href=\"#DejaVuSans-48\"/>\r\n       <use x=\"63.623047\" xlink:href=\"#DejaVuSans-46\"/>\r\n       <use x=\"95.410156\" xlink:href=\"#DejaVuSans-48\"/>\r\n       <use x=\"159.033203\" xlink:href=\"#DejaVuSans-50\"/>\r\n       <use x=\"222.65625\" xlink:href=\"#DejaVuSans-53\"/>\r\n      </g>\r\n     </g>\r\n    </g>\r\n    <g id=\"xtick_3\">\r\n     <g id=\"line2d_3\">\r\n      <g>\r\n       <use style=\"stroke:#000000;stroke-width:0.8;\" x=\"180.229175\" xlink:href=\"#m8560cace27\" y=\"224.64\"/>\r\n      </g>\r\n     </g>\r\n     <g id=\"text_3\">\r\n      <!-- 0.050 -->\r\n      <g transform=\"translate(165.915112 239.238438)scale(0.1 -0.1)\">\r\n       <use xlink:href=\"#DejaVuSans-48\"/>\r\n       <use x=\"63.623047\" xlink:href=\"#DejaVuSans-46\"/>\r\n       <use x=\"95.410156\" xlink:href=\"#DejaVuSans-48\"/>\r\n       <use x=\"159.033203\" xlink:href=\"#DejaVuSans-53\"/>\r\n       <use x=\"222.65625\" xlink:href=\"#DejaVuSans-48\"/>\r\n      </g>\r\n     </g>\r\n    </g>\r\n    <g id=\"xtick_4\">\r\n     <g id=\"line2d_4\">\r\n      <g>\r\n       <use style=\"stroke:#000000;stroke-width:0.8;\" x=\"219.750793\" xlink:href=\"#m8560cace27\" y=\"224.64\"/>\r\n      </g>\r\n     </g>\r\n     <g id=\"text_4\">\r\n      <!-- 0.075 -->\r\n      <g transform=\"translate(205.436731 239.238438)scale(0.1 -0.1)\">\r\n       <defs>\r\n        <path d=\"M 8.203125 72.90625 \r\nL 55.078125 72.90625 \r\nL 55.078125 68.703125 \r\nL 28.609375 0 \r\nL 18.3125 0 \r\nL 43.21875 64.59375 \r\nL 8.203125 64.59375 \r\nz\r\n\" id=\"DejaVuSans-55\"/>\r\n       </defs>\r\n       <use xlink:href=\"#DejaVuSans-48\"/>\r\n       <use x=\"63.623047\" xlink:href=\"#DejaVuSans-46\"/>\r\n       <use x=\"95.410156\" xlink:href=\"#DejaVuSans-48\"/>\r\n       <use x=\"159.033203\" xlink:href=\"#DejaVuSans-55\"/>\r\n       <use x=\"222.65625\" xlink:href=\"#DejaVuSans-53\"/>\r\n      </g>\r\n     </g>\r\n    </g>\r\n    <g id=\"xtick_5\">\r\n     <g id=\"line2d_5\">\r\n      <g>\r\n       <use style=\"stroke:#000000;stroke-width:0.8;\" x=\"259.272412\" xlink:href=\"#m8560cace27\" y=\"224.64\"/>\r\n      </g>\r\n     </g>\r\n     <g id=\"text_5\">\r\n      <!-- 0.100 -->\r\n      <g transform=\"translate(244.958349 239.238438)scale(0.1 -0.1)\">\r\n       <defs>\r\n        <path d=\"M 12.40625 8.296875 \r\nL 28.515625 8.296875 \r\nL 28.515625 63.921875 \r\nL 10.984375 60.40625 \r\nL 10.984375 69.390625 \r\nL 28.421875 72.90625 \r\nL 38.28125 72.90625 \r\nL 38.28125 8.296875 \r\nL 54.390625 8.296875 \r\nL 54.390625 0 \r\nL 12.40625 0 \r\nz\r\n\" id=\"DejaVuSans-49\"/>\r\n       </defs>\r\n       <use xlink:href=\"#DejaVuSans-48\"/>\r\n       <use x=\"63.623047\" xlink:href=\"#DejaVuSans-46\"/>\r\n       <use x=\"95.410156\" xlink:href=\"#DejaVuSans-49\"/>\r\n       <use x=\"159.033203\" xlink:href=\"#DejaVuSans-48\"/>\r\n       <use x=\"222.65625\" xlink:href=\"#DejaVuSans-48\"/>\r\n      </g>\r\n     </g>\r\n    </g>\r\n    <g id=\"xtick_6\">\r\n     <g id=\"line2d_6\">\r\n      <g>\r\n       <use style=\"stroke:#000000;stroke-width:0.8;\" x=\"298.79403\" xlink:href=\"#m8560cace27\" y=\"224.64\"/>\r\n      </g>\r\n     </g>\r\n     <g id=\"text_6\">\r\n      <!-- 0.125 -->\r\n      <g transform=\"translate(284.479968 239.238438)scale(0.1 -0.1)\">\r\n       <use xlink:href=\"#DejaVuSans-48\"/>\r\n       <use x=\"63.623047\" xlink:href=\"#DejaVuSans-46\"/>\r\n       <use x=\"95.410156\" xlink:href=\"#DejaVuSans-49\"/>\r\n       <use x=\"159.033203\" xlink:href=\"#DejaVuSans-50\"/>\r\n       <use x=\"222.65625\" xlink:href=\"#DejaVuSans-53\"/>\r\n      </g>\r\n     </g>\r\n    </g>\r\n    <g id=\"xtick_7\">\r\n     <g id=\"line2d_7\">\r\n      <g>\r\n       <use style=\"stroke:#000000;stroke-width:0.8;\" x=\"338.315649\" xlink:href=\"#m8560cace27\" y=\"224.64\"/>\r\n      </g>\r\n     </g>\r\n     <g id=\"text_7\">\r\n      <!-- 0.150 -->\r\n      <g transform=\"translate(324.001586 239.238438)scale(0.1 -0.1)\">\r\n       <use xlink:href=\"#DejaVuSans-48\"/>\r\n       <use x=\"63.623047\" xlink:href=\"#DejaVuSans-46\"/>\r\n       <use x=\"95.410156\" xlink:href=\"#DejaVuSans-49\"/>\r\n       <use x=\"159.033203\" xlink:href=\"#DejaVuSans-53\"/>\r\n       <use x=\"222.65625\" xlink:href=\"#DejaVuSans-48\"/>\r\n      </g>\r\n     </g>\r\n    </g>\r\n    <g id=\"xtick_8\">\r\n     <g id=\"line2d_8\">\r\n      <g>\r\n       <use style=\"stroke:#000000;stroke-width:0.8;\" x=\"377.837267\" xlink:href=\"#m8560cace27\" y=\"224.64\"/>\r\n      </g>\r\n     </g>\r\n     <g id=\"text_8\">\r\n      <!-- 0.175 -->\r\n      <g transform=\"translate(363.523205 239.238438)scale(0.1 -0.1)\">\r\n       <use xlink:href=\"#DejaVuSans-48\"/>\r\n       <use x=\"63.623047\" xlink:href=\"#DejaVuSans-46\"/>\r\n       <use x=\"95.410156\" xlink:href=\"#DejaVuSans-49\"/>\r\n       <use x=\"159.033203\" xlink:href=\"#DejaVuSans-55\"/>\r\n       <use x=\"222.65625\" xlink:href=\"#DejaVuSans-53\"/>\r\n      </g>\r\n     </g>\r\n    </g>\r\n    <g id=\"xtick_9\">\r\n     <g id=\"line2d_9\">\r\n      <g>\r\n       <use style=\"stroke:#000000;stroke-width:0.8;\" x=\"417.358886\" xlink:href=\"#m8560cace27\" y=\"224.64\"/>\r\n      </g>\r\n     </g>\r\n     <g id=\"text_9\">\r\n      <!-- 0.200 -->\r\n      <g transform=\"translate(403.044823 239.238438)scale(0.1 -0.1)\">\r\n       <use xlink:href=\"#DejaVuSans-48\"/>\r\n       <use x=\"63.623047\" xlink:href=\"#DejaVuSans-46\"/>\r\n       <use x=\"95.410156\" xlink:href=\"#DejaVuSans-50\"/>\r\n       <use x=\"159.033203\" xlink:href=\"#DejaVuSans-48\"/>\r\n       <use x=\"222.65625\" xlink:href=\"#DejaVuSans-48\"/>\r\n      </g>\r\n     </g>\r\n    </g>\r\n   </g>\r\n   <g id=\"matplotlib.axis_2\">\r\n    <g id=\"ytick_1\">\r\n     <g id=\"line2d_10\">\r\n      <defs>\r\n       <path d=\"M 0 0 \r\nL -3.5 0 \r\n\" id=\"m0910de4fb0\" style=\"stroke:#000000;stroke-width:0.8;\"/>\r\n      </defs>\r\n      <g>\r\n       <use style=\"stroke:#000000;stroke-width:0.8;\" x=\"101.185938\" xlink:href=\"#m0910de4fb0\" y=\"211.912152\"/>\r\n      </g>\r\n     </g>\r\n     <g id=\"text_10\">\r\n      <!-- hour_and_minute -->\r\n      <g transform=\"translate(7.2 215.71137)scale(0.1 -0.1)\">\r\n       <defs>\r\n        <path d=\"M 54.890625 33.015625 \r\nL 54.890625 0 \r\nL 45.90625 0 \r\nL 45.90625 32.71875 \r\nQ 45.90625 40.484375 42.875 44.328125 \r\nQ 39.84375 48.1875 33.796875 48.1875 \r\nQ 26.515625 48.1875 22.3125 43.546875 \r\nQ 18.109375 38.921875 18.109375 30.90625 \r\nL 18.109375 0 \r\nL 9.078125 0 \r\nL 9.078125 75.984375 \r\nL 18.109375 75.984375 \r\nL 18.109375 46.1875 \r\nQ 21.34375 51.125 25.703125 53.5625 \r\nQ 30.078125 56 35.796875 56 \r\nQ 45.21875 56 50.046875 50.171875 \r\nQ 54.890625 44.34375 54.890625 33.015625 \r\nz\r\n\" id=\"DejaVuSans-104\"/>\r\n        <path d=\"M 30.609375 48.390625 \r\nQ 23.390625 48.390625 19.1875 42.75 \r\nQ 14.984375 37.109375 14.984375 27.296875 \r\nQ 14.984375 17.484375 19.15625 11.84375 \r\nQ 23.34375 6.203125 30.609375 6.203125 \r\nQ 37.796875 6.203125 41.984375 11.859375 \r\nQ 46.1875 17.53125 46.1875 27.296875 \r\nQ 46.1875 37.015625 41.984375 42.703125 \r\nQ 37.796875 48.390625 30.609375 48.390625 \r\nz\r\nM 30.609375 56 \r\nQ 42.328125 56 49.015625 48.375 \r\nQ 55.71875 40.765625 55.71875 27.296875 \r\nQ 55.71875 13.875 49.015625 6.21875 \r\nQ 42.328125 -1.421875 30.609375 -1.421875 \r\nQ 18.84375 -1.421875 12.171875 6.21875 \r\nQ 5.515625 13.875 5.515625 27.296875 \r\nQ 5.515625 40.765625 12.171875 48.375 \r\nQ 18.84375 56 30.609375 56 \r\nz\r\n\" id=\"DejaVuSans-111\"/>\r\n        <path d=\"M 8.5 21.578125 \r\nL 8.5 54.6875 \r\nL 17.484375 54.6875 \r\nL 17.484375 21.921875 \r\nQ 17.484375 14.15625 20.5 10.265625 \r\nQ 23.53125 6.390625 29.59375 6.390625 \r\nQ 36.859375 6.390625 41.078125 11.03125 \r\nQ 45.3125 15.671875 45.3125 23.6875 \r\nL 45.3125 54.6875 \r\nL 54.296875 54.6875 \r\nL 54.296875 0 \r\nL 45.3125 0 \r\nL 45.3125 8.40625 \r\nQ 42.046875 3.421875 37.71875 1 \r\nQ 33.40625 -1.421875 27.6875 -1.421875 \r\nQ 18.265625 -1.421875 13.375 4.4375 \r\nQ 8.5 10.296875 8.5 21.578125 \r\nz\r\nM 31.109375 56 \r\nz\r\n\" id=\"DejaVuSans-117\"/>\r\n        <path d=\"M 41.109375 46.296875 \r\nQ 39.59375 47.171875 37.8125 47.578125 \r\nQ 36.03125 48 33.890625 48 \r\nQ 26.265625 48 22.1875 43.046875 \r\nQ 18.109375 38.09375 18.109375 28.8125 \r\nL 18.109375 0 \r\nL 9.078125 0 \r\nL 9.078125 54.6875 \r\nL 18.109375 54.6875 \r\nL 18.109375 46.1875 \r\nQ 20.953125 51.171875 25.484375 53.578125 \r\nQ 30.03125 56 36.53125 56 \r\nQ 37.453125 56 38.578125 55.875 \r\nQ 39.703125 55.765625 41.0625 55.515625 \r\nz\r\n\" id=\"DejaVuSans-114\"/>\r\n        <path d=\"M 50.984375 -16.609375 \r\nL 50.984375 -23.578125 \r\nL -0.984375 -23.578125 \r\nL -0.984375 -16.609375 \r\nz\r\n\" id=\"DejaVuSans-95\"/>\r\n        <path d=\"M 34.28125 27.484375 \r\nQ 23.390625 27.484375 19.1875 25 \r\nQ 14.984375 22.515625 14.984375 16.5 \r\nQ 14.984375 11.71875 18.140625 8.90625 \r\nQ 21.296875 6.109375 26.703125 6.109375 \r\nQ 34.1875 6.109375 38.703125 11.40625 \r\nQ 43.21875 16.703125 43.21875 25.484375 \r\nL 43.21875 27.484375 \r\nz\r\nM 52.203125 31.203125 \r\nL 52.203125 0 \r\nL 43.21875 0 \r\nL 43.21875 8.296875 \r\nQ 40.140625 3.328125 35.546875 0.953125 \r\nQ 30.953125 -1.421875 24.3125 -1.421875 \r\nQ 15.921875 -1.421875 10.953125 3.296875 \r\nQ 6 8.015625 6 15.921875 \r\nQ 6 25.140625 12.171875 29.828125 \r\nQ 18.359375 34.515625 30.609375 34.515625 \r\nL 43.21875 34.515625 \r\nL 43.21875 35.40625 \r\nQ 43.21875 41.609375 39.140625 45 \r\nQ 35.0625 48.390625 27.6875 48.390625 \r\nQ 23 48.390625 18.546875 47.265625 \r\nQ 14.109375 46.140625 10.015625 43.890625 \r\nL 10.015625 52.203125 \r\nQ 14.9375 54.109375 19.578125 55.046875 \r\nQ 24.21875 56 28.609375 56 \r\nQ 40.484375 56 46.34375 49.84375 \r\nQ 52.203125 43.703125 52.203125 31.203125 \r\nz\r\n\" id=\"DejaVuSans-97\"/>\r\n        <path d=\"M 54.890625 33.015625 \r\nL 54.890625 0 \r\nL 45.90625 0 \r\nL 45.90625 32.71875 \r\nQ 45.90625 40.484375 42.875 44.328125 \r\nQ 39.84375 48.1875 33.796875 48.1875 \r\nQ 26.515625 48.1875 22.3125 43.546875 \r\nQ 18.109375 38.921875 18.109375 30.90625 \r\nL 18.109375 0 \r\nL 9.078125 0 \r\nL 9.078125 54.6875 \r\nL 18.109375 54.6875 \r\nL 18.109375 46.1875 \r\nQ 21.34375 51.125 25.703125 53.5625 \r\nQ 30.078125 56 35.796875 56 \r\nQ 45.21875 56 50.046875 50.171875 \r\nQ 54.890625 44.34375 54.890625 33.015625 \r\nz\r\n\" id=\"DejaVuSans-110\"/>\r\n        <path d=\"M 45.40625 46.390625 \r\nL 45.40625 75.984375 \r\nL 54.390625 75.984375 \r\nL 54.390625 0 \r\nL 45.40625 0 \r\nL 45.40625 8.203125 \r\nQ 42.578125 3.328125 38.25 0.953125 \r\nQ 33.9375 -1.421875 27.875 -1.421875 \r\nQ 17.96875 -1.421875 11.734375 6.484375 \r\nQ 5.515625 14.40625 5.515625 27.296875 \r\nQ 5.515625 40.1875 11.734375 48.09375 \r\nQ 17.96875 56 27.875 56 \r\nQ 33.9375 56 38.25 53.625 \r\nQ 42.578125 51.265625 45.40625 46.390625 \r\nz\r\nM 14.796875 27.296875 \r\nQ 14.796875 17.390625 18.875 11.75 \r\nQ 22.953125 6.109375 30.078125 6.109375 \r\nQ 37.203125 6.109375 41.296875 11.75 \r\nQ 45.40625 17.390625 45.40625 27.296875 \r\nQ 45.40625 37.203125 41.296875 42.84375 \r\nQ 37.203125 48.484375 30.078125 48.484375 \r\nQ 22.953125 48.484375 18.875 42.84375 \r\nQ 14.796875 37.203125 14.796875 27.296875 \r\nz\r\n\" id=\"DejaVuSans-100\"/>\r\n        <path d=\"M 52 44.1875 \r\nQ 55.375 50.25 60.0625 53.125 \r\nQ 64.75 56 71.09375 56 \r\nQ 79.640625 56 84.28125 50.015625 \r\nQ 88.921875 44.046875 88.921875 33.015625 \r\nL 88.921875 0 \r\nL 79.890625 0 \r\nL 79.890625 32.71875 \r\nQ 79.890625 40.578125 77.09375 44.375 \r\nQ 74.3125 48.1875 68.609375 48.1875 \r\nQ 61.625 48.1875 57.5625 43.546875 \r\nQ 53.515625 38.921875 53.515625 30.90625 \r\nL 53.515625 0 \r\nL 44.484375 0 \r\nL 44.484375 32.71875 \r\nQ 44.484375 40.625 41.703125 44.40625 \r\nQ 38.921875 48.1875 33.109375 48.1875 \r\nQ 26.21875 48.1875 22.15625 43.53125 \r\nQ 18.109375 38.875 18.109375 30.90625 \r\nL 18.109375 0 \r\nL 9.078125 0 \r\nL 9.078125 54.6875 \r\nL 18.109375 54.6875 \r\nL 18.109375 46.1875 \r\nQ 21.1875 51.21875 25.484375 53.609375 \r\nQ 29.78125 56 35.6875 56 \r\nQ 41.65625 56 45.828125 52.96875 \r\nQ 50 49.953125 52 44.1875 \r\nz\r\n\" id=\"DejaVuSans-109\"/>\r\n        <path d=\"M 9.421875 54.6875 \r\nL 18.40625 54.6875 \r\nL 18.40625 0 \r\nL 9.421875 0 \r\nz\r\nM 9.421875 75.984375 \r\nL 18.40625 75.984375 \r\nL 18.40625 64.59375 \r\nL 9.421875 64.59375 \r\nz\r\n\" id=\"DejaVuSans-105\"/>\r\n        <path d=\"M 18.3125 70.21875 \r\nL 18.3125 54.6875 \r\nL 36.8125 54.6875 \r\nL 36.8125 47.703125 \r\nL 18.3125 47.703125 \r\nL 18.3125 18.015625 \r\nQ 18.3125 11.328125 20.140625 9.421875 \r\nQ 21.96875 7.515625 27.59375 7.515625 \r\nL 36.8125 7.515625 \r\nL 36.8125 0 \r\nL 27.59375 0 \r\nQ 17.1875 0 13.234375 3.875 \r\nQ 9.28125 7.765625 9.28125 18.015625 \r\nL 9.28125 47.703125 \r\nL 2.6875 47.703125 \r\nL 2.6875 54.6875 \r\nL 9.28125 54.6875 \r\nL 9.28125 70.21875 \r\nz\r\n\" id=\"DejaVuSans-116\"/>\r\n        <path d=\"M 56.203125 29.59375 \r\nL 56.203125 25.203125 \r\nL 14.890625 25.203125 \r\nQ 15.484375 15.921875 20.484375 11.0625 \r\nQ 25.484375 6.203125 34.421875 6.203125 \r\nQ 39.59375 6.203125 44.453125 7.46875 \r\nQ 49.3125 8.734375 54.109375 11.28125 \r\nL 54.109375 2.78125 \r\nQ 49.265625 0.734375 44.1875 -0.34375 \r\nQ 39.109375 -1.421875 33.890625 -1.421875 \r\nQ 20.796875 -1.421875 13.15625 6.1875 \r\nQ 5.515625 13.8125 5.515625 26.8125 \r\nQ 5.515625 40.234375 12.765625 48.109375 \r\nQ 20.015625 56 32.328125 56 \r\nQ 43.359375 56 49.78125 48.890625 \r\nQ 56.203125 41.796875 56.203125 29.59375 \r\nz\r\nM 47.21875 32.234375 \r\nQ 47.125 39.59375 43.09375 43.984375 \r\nQ 39.0625 48.390625 32.421875 48.390625 \r\nQ 24.90625 48.390625 20.390625 44.140625 \r\nQ 15.875 39.890625 15.1875 32.171875 \r\nz\r\n\" id=\"DejaVuSans-101\"/>\r\n       </defs>\r\n       <use xlink:href=\"#DejaVuSans-104\"/>\r\n       <use x=\"63.378906\" xlink:href=\"#DejaVuSans-111\"/>\r\n       <use x=\"124.560547\" xlink:href=\"#DejaVuSans-117\"/>\r\n       <use x=\"187.939453\" xlink:href=\"#DejaVuSans-114\"/>\r\n       <use x=\"229.052734\" xlink:href=\"#DejaVuSans-95\"/>\r\n       <use x=\"279.052734\" xlink:href=\"#DejaVuSans-97\"/>\r\n       <use x=\"340.332031\" xlink:href=\"#DejaVuSans-110\"/>\r\n       <use x=\"403.710938\" xlink:href=\"#DejaVuSans-100\"/>\r\n       <use x=\"467.1875\" xlink:href=\"#DejaVuSans-95\"/>\r\n       <use x=\"517.1875\" xlink:href=\"#DejaVuSans-109\"/>\r\n       <use x=\"614.599609\" xlink:href=\"#DejaVuSans-105\"/>\r\n       <use x=\"642.382812\" xlink:href=\"#DejaVuSans-110\"/>\r\n       <use x=\"705.761719\" xlink:href=\"#DejaVuSans-117\"/>\r\n       <use x=\"769.140625\" xlink:href=\"#DejaVuSans-116\"/>\r\n       <use x=\"808.349609\" xlink:href=\"#DejaVuSans-101\"/>\r\n      </g>\r\n     </g>\r\n    </g>\r\n    <g id=\"ytick_2\">\r\n     <g id=\"line2d_11\">\r\n      <g>\r\n       <use style=\"stroke:#000000;stroke-width:0.8;\" x=\"101.185938\" xlink:href=\"#m0910de4fb0\" y=\"204.801622\"/>\r\n      </g>\r\n     </g>\r\n     <g id=\"text_11\">\r\n      <!-- minute -->\r\n      <g transform=\"translate(58.91875 208.600841)scale(0.1 -0.1)\">\r\n       <use xlink:href=\"#DejaVuSans-109\"/>\r\n       <use x=\"97.412109\" xlink:href=\"#DejaVuSans-105\"/>\r\n       <use x=\"125.195312\" xlink:href=\"#DejaVuSans-110\"/>\r\n       <use x=\"188.574219\" xlink:href=\"#DejaVuSans-117\"/>\r\n       <use x=\"251.953125\" xlink:href=\"#DejaVuSans-116\"/>\r\n       <use x=\"291.162109\" xlink:href=\"#DejaVuSans-101\"/>\r\n      </g>\r\n     </g>\r\n    </g>\r\n    <g id=\"ytick_3\">\r\n     <g id=\"line2d_12\">\r\n      <g>\r\n       <use style=\"stroke:#000000;stroke-width:0.8;\" x=\"101.185938\" xlink:href=\"#m0910de4fb0\" y=\"197.691092\"/>\r\n      </g>\r\n     </g>\r\n     <g id=\"text_12\">\r\n      <!-- temp -->\r\n      <g transform=\"translate(68.023438 201.490311)scale(0.1 -0.1)\">\r\n       <defs>\r\n        <path d=\"M 18.109375 8.203125 \r\nL 18.109375 -20.796875 \r\nL 9.078125 -20.796875 \r\nL 9.078125 54.6875 \r\nL 18.109375 54.6875 \r\nL 18.109375 46.390625 \r\nQ 20.953125 51.265625 25.265625 53.625 \r\nQ 29.59375 56 35.59375 56 \r\nQ 45.5625 56 51.78125 48.09375 \r\nQ 58.015625 40.1875 58.015625 27.296875 \r\nQ 58.015625 14.40625 51.78125 6.484375 \r\nQ 45.5625 -1.421875 35.59375 -1.421875 \r\nQ 29.59375 -1.421875 25.265625 0.953125 \r\nQ 20.953125 3.328125 18.109375 8.203125 \r\nz\r\nM 48.6875 27.296875 \r\nQ 48.6875 37.203125 44.609375 42.84375 \r\nQ 40.53125 48.484375 33.40625 48.484375 \r\nQ 26.265625 48.484375 22.1875 42.84375 \r\nQ 18.109375 37.203125 18.109375 27.296875 \r\nQ 18.109375 17.390625 22.1875 11.75 \r\nQ 26.265625 6.109375 33.40625 6.109375 \r\nQ 40.53125 6.109375 44.609375 11.75 \r\nQ 48.6875 17.390625 48.6875 27.296875 \r\nz\r\n\" id=\"DejaVuSans-112\"/>\r\n       </defs>\r\n       <use xlink:href=\"#DejaVuSans-116\"/>\r\n       <use x=\"39.208984\" xlink:href=\"#DejaVuSans-101\"/>\r\n       <use x=\"100.732422\" xlink:href=\"#DejaVuSans-109\"/>\r\n       <use x=\"198.144531\" xlink:href=\"#DejaVuSans-112\"/>\r\n      </g>\r\n     </g>\r\n    </g>\r\n    <g id=\"ytick_4\">\r\n     <g id=\"line2d_13\">\r\n      <g>\r\n       <use style=\"stroke:#000000;stroke-width:0.8;\" x=\"101.185938\" xlink:href=\"#m0910de4fb0\" y=\"190.580562\"/>\r\n      </g>\r\n     </g>\r\n     <g id=\"text_13\">\r\n      <!-- hour -->\r\n      <g transform=\"translate(71.28125 194.379781)scale(0.1 -0.1)\">\r\n       <use xlink:href=\"#DejaVuSans-104\"/>\r\n       <use x=\"63.378906\" xlink:href=\"#DejaVuSans-111\"/>\r\n       <use x=\"124.560547\" xlink:href=\"#DejaVuSans-117\"/>\r\n       <use x=\"187.939453\" xlink:href=\"#DejaVuSans-114\"/>\r\n      </g>\r\n     </g>\r\n    </g>\r\n    <g id=\"ytick_5\">\r\n     <g id=\"line2d_14\">\r\n      <g>\r\n       <use style=\"stroke:#000000;stroke-width:0.8;\" x=\"101.185938\" xlink:href=\"#m0910de4fb0\" y=\"183.470033\"/>\r\n      </g>\r\n     </g>\r\n     <g id=\"text_14\">\r\n      <!-- wind -->\r\n      <g transform=\"translate(70.54375 187.269251)scale(0.1 -0.1)\">\r\n       <defs>\r\n        <path d=\"M 4.203125 54.6875 \r\nL 13.1875 54.6875 \r\nL 24.421875 12.015625 \r\nL 35.59375 54.6875 \r\nL 46.1875 54.6875 \r\nL 57.421875 12.015625 \r\nL 68.609375 54.6875 \r\nL 77.59375 54.6875 \r\nL 63.28125 0 \r\nL 52.6875 0 \r\nL 40.921875 44.828125 \r\nL 29.109375 0 \r\nL 18.5 0 \r\nz\r\n\" id=\"DejaVuSans-119\"/>\r\n       </defs>\r\n       <use xlink:href=\"#DejaVuSans-119\"/>\r\n       <use x=\"81.787109\" xlink:href=\"#DejaVuSans-105\"/>\r\n       <use x=\"109.570312\" xlink:href=\"#DejaVuSans-110\"/>\r\n       <use x=\"172.949219\" xlink:href=\"#DejaVuSans-100\"/>\r\n      </g>\r\n     </g>\r\n    </g>\r\n    <g id=\"ytick_6\">\r\n     <g id=\"line2d_15\">\r\n      <g>\r\n       <use style=\"stroke:#000000;stroke-width:0.8;\" x=\"101.185938\" xlink:href=\"#m0910de4fb0\" y=\"176.359503\"/>\r\n      </g>\r\n     </g>\r\n     <g id=\"text_15\">\r\n      <!-- humidity -->\r\n      <g transform=\"translate(50.026563 180.158722)scale(0.1 -0.1)\">\r\n       <defs>\r\n        <path d=\"M 32.171875 -5.078125 \r\nQ 28.375 -14.84375 24.75 -17.8125 \r\nQ 21.140625 -20.796875 15.09375 -20.796875 \r\nL 7.90625 -20.796875 \r\nL 7.90625 -13.28125 \r\nL 13.1875 -13.28125 \r\nQ 16.890625 -13.28125 18.9375 -11.515625 \r\nQ 21 -9.765625 23.484375 -3.21875 \r\nL 25.09375 0.875 \r\nL 2.984375 54.6875 \r\nL 12.5 54.6875 \r\nL 29.59375 11.921875 \r\nL 46.6875 54.6875 \r\nL 56.203125 54.6875 \r\nz\r\n\" id=\"DejaVuSans-121\"/>\r\n       </defs>\r\n       <use xlink:href=\"#DejaVuSans-104\"/>\r\n       <use x=\"63.378906\" xlink:href=\"#DejaVuSans-117\"/>\r\n       <use x=\"126.757812\" xlink:href=\"#DejaVuSans-109\"/>\r\n       <use x=\"224.169922\" xlink:href=\"#DejaVuSans-105\"/>\r\n       <use x=\"251.953125\" xlink:href=\"#DejaVuSans-100\"/>\r\n       <use x=\"315.429688\" xlink:href=\"#DejaVuSans-105\"/>\r\n       <use x=\"343.212891\" xlink:href=\"#DejaVuSans-116\"/>\r\n       <use x=\"382.421875\" xlink:href=\"#DejaVuSans-121\"/>\r\n      </g>\r\n     </g>\r\n    </g>\r\n    <g id=\"ytick_7\">\r\n     <g id=\"line2d_16\">\r\n      <g>\r\n       <use style=\"stroke:#000000;stroke-width:0.8;\" x=\"101.185938\" xlink:href=\"#m0910de4fb0\" y=\"169.248973\"/>\r\n      </g>\r\n     </g>\r\n     <g id=\"text_16\">\r\n      <!-- 5503 -->\r\n      <g transform=\"translate(68.735938 173.048192)scale(0.1 -0.1)\">\r\n       <defs>\r\n        <path d=\"M 40.578125 39.3125 \r\nQ 47.65625 37.796875 51.625 33 \r\nQ 55.609375 28.21875 55.609375 21.1875 \r\nQ 55.609375 10.40625 48.1875 4.484375 \r\nQ 40.765625 -1.421875 27.09375 -1.421875 \r\nQ 22.515625 -1.421875 17.65625 -0.515625 \r\nQ 12.796875 0.390625 7.625 2.203125 \r\nL 7.625 11.71875 \r\nQ 11.71875 9.328125 16.59375 8.109375 \r\nQ 21.484375 6.890625 26.8125 6.890625 \r\nQ 36.078125 6.890625 40.9375 10.546875 \r\nQ 45.796875 14.203125 45.796875 21.1875 \r\nQ 45.796875 27.640625 41.28125 31.265625 \r\nQ 36.765625 34.90625 28.71875 34.90625 \r\nL 20.21875 34.90625 \r\nL 20.21875 43.015625 \r\nL 29.109375 43.015625 \r\nQ 36.375 43.015625 40.234375 45.921875 \r\nQ 44.09375 48.828125 44.09375 54.296875 \r\nQ 44.09375 59.90625 40.109375 62.90625 \r\nQ 36.140625 65.921875 28.71875 65.921875 \r\nQ 24.65625 65.921875 20.015625 65.03125 \r\nQ 15.375 64.15625 9.8125 62.3125 \r\nL 9.8125 71.09375 \r\nQ 15.4375 72.65625 20.34375 73.4375 \r\nQ 25.25 74.21875 29.59375 74.21875 \r\nQ 40.828125 74.21875 47.359375 69.109375 \r\nQ 53.90625 64.015625 53.90625 55.328125 \r\nQ 53.90625 49.265625 50.4375 45.09375 \r\nQ 46.96875 40.921875 40.578125 39.3125 \r\nz\r\n\" id=\"DejaVuSans-51\"/>\r\n       </defs>\r\n       <use xlink:href=\"#DejaVuSans-53\"/>\r\n       <use x=\"63.623047\" xlink:href=\"#DejaVuSans-53\"/>\r\n       <use x=\"127.246094\" xlink:href=\"#DejaVuSans-48\"/>\r\n       <use x=\"190.869141\" xlink:href=\"#DejaVuSans-51\"/>\r\n      </g>\r\n     </g>\r\n    </g>\r\n    <g id=\"ytick_8\">\r\n     <g id=\"line2d_17\">\r\n      <g>\r\n       <use style=\"stroke:#000000;stroke-width:0.8;\" x=\"101.185938\" xlink:href=\"#m0910de4fb0\" y=\"162.138443\"/>\r\n      </g>\r\n     </g>\r\n     <g id=\"text_17\">\r\n      <!-- 5519 -->\r\n      <g transform=\"translate(68.735938 165.937662)scale(0.1 -0.1)\">\r\n       <defs>\r\n        <path d=\"M 10.984375 1.515625 \r\nL 10.984375 10.5 \r\nQ 14.703125 8.734375 18.5 7.8125 \r\nQ 22.3125 6.890625 25.984375 6.890625 \r\nQ 35.75 6.890625 40.890625 13.453125 \r\nQ 46.046875 20.015625 46.78125 33.40625 \r\nQ 43.953125 29.203125 39.59375 26.953125 \r\nQ 35.25 24.703125 29.984375 24.703125 \r\nQ 19.046875 24.703125 12.671875 31.3125 \r\nQ 6.296875 37.9375 6.296875 49.421875 \r\nQ 6.296875 60.640625 12.9375 67.421875 \r\nQ 19.578125 74.21875 30.609375 74.21875 \r\nQ 43.265625 74.21875 49.921875 64.515625 \r\nQ 56.59375 54.828125 56.59375 36.375 \r\nQ 56.59375 19.140625 48.40625 8.859375 \r\nQ 40.234375 -1.421875 26.421875 -1.421875 \r\nQ 22.703125 -1.421875 18.890625 -0.6875 \r\nQ 15.09375 0.046875 10.984375 1.515625 \r\nz\r\nM 30.609375 32.421875 \r\nQ 37.25 32.421875 41.125 36.953125 \r\nQ 45.015625 41.5 45.015625 49.421875 \r\nQ 45.015625 57.28125 41.125 61.84375 \r\nQ 37.25 66.40625 30.609375 66.40625 \r\nQ 23.96875 66.40625 20.09375 61.84375 \r\nQ 16.21875 57.28125 16.21875 49.421875 \r\nQ 16.21875 41.5 20.09375 36.953125 \r\nQ 23.96875 32.421875 30.609375 32.421875 \r\nz\r\n\" id=\"DejaVuSans-57\"/>\r\n       </defs>\r\n       <use xlink:href=\"#DejaVuSans-53\"/>\r\n       <use x=\"63.623047\" xlink:href=\"#DejaVuSans-53\"/>\r\n       <use x=\"127.246094\" xlink:href=\"#DejaVuSans-49\"/>\r\n       <use x=\"190.869141\" xlink:href=\"#DejaVuSans-57\"/>\r\n      </g>\r\n     </g>\r\n    </g>\r\n    <g id=\"ytick_9\">\r\n     <g id=\"line2d_18\">\r\n      <g>\r\n       <use style=\"stroke:#000000;stroke-width:0.8;\" x=\"101.185938\" xlink:href=\"#m0910de4fb0\" y=\"155.027914\"/>\r\n      </g>\r\n     </g>\r\n     <g id=\"text_18\">\r\n      <!-- day -->\r\n      <g transform=\"translate(75.790625 158.827132)scale(0.1 -0.1)\">\r\n       <use xlink:href=\"#DejaVuSans-100\"/>\r\n       <use x=\"63.476562\" xlink:href=\"#DejaVuSans-97\"/>\r\n       <use x=\"124.755859\" xlink:href=\"#DejaVuSans-121\"/>\r\n      </g>\r\n     </g>\r\n    </g>\r\n    <g id=\"ytick_10\">\r\n     <g id=\"line2d_19\">\r\n      <g>\r\n       <use style=\"stroke:#000000;stroke-width:0.8;\" x=\"101.185938\" xlink:href=\"#m0910de4fb0\" y=\"147.917384\"/>\r\n      </g>\r\n     </g>\r\n     <g id=\"text_19\">\r\n      <!-- 0089 -->\r\n      <g transform=\"translate(68.735938 151.716603)scale(0.1 -0.1)\">\r\n       <defs>\r\n        <path d=\"M 31.78125 34.625 \r\nQ 24.75 34.625 20.71875 30.859375 \r\nQ 16.703125 27.09375 16.703125 20.515625 \r\nQ 16.703125 13.921875 20.71875 10.15625 \r\nQ 24.75 6.390625 31.78125 6.390625 \r\nQ 38.8125 6.390625 42.859375 10.171875 \r\nQ 46.921875 13.96875 46.921875 20.515625 \r\nQ 46.921875 27.09375 42.890625 30.859375 \r\nQ 38.875 34.625 31.78125 34.625 \r\nz\r\nM 21.921875 38.8125 \r\nQ 15.578125 40.375 12.03125 44.71875 \r\nQ 8.5 49.078125 8.5 55.328125 \r\nQ 8.5 64.0625 14.71875 69.140625 \r\nQ 20.953125 74.21875 31.78125 74.21875 \r\nQ 42.671875 74.21875 48.875 69.140625 \r\nQ 55.078125 64.0625 55.078125 55.328125 \r\nQ 55.078125 49.078125 51.53125 44.71875 \r\nQ 48 40.375 41.703125 38.8125 \r\nQ 48.828125 37.15625 52.796875 32.3125 \r\nQ 56.78125 27.484375 56.78125 20.515625 \r\nQ 56.78125 9.90625 50.3125 4.234375 \r\nQ 43.84375 -1.421875 31.78125 -1.421875 \r\nQ 19.734375 -1.421875 13.25 4.234375 \r\nQ 6.78125 9.90625 6.78125 20.515625 \r\nQ 6.78125 27.484375 10.78125 32.3125 \r\nQ 14.796875 37.15625 21.921875 38.8125 \r\nz\r\nM 18.3125 54.390625 \r\nQ 18.3125 48.734375 21.84375 45.5625 \r\nQ 25.390625 42.390625 31.78125 42.390625 \r\nQ 38.140625 42.390625 41.71875 45.5625 \r\nQ 45.3125 48.734375 45.3125 54.390625 \r\nQ 45.3125 60.0625 41.71875 63.234375 \r\nQ 38.140625 66.40625 31.78125 66.40625 \r\nQ 25.390625 66.40625 21.84375 63.234375 \r\nQ 18.3125 60.0625 18.3125 54.390625 \r\nz\r\n\" id=\"DejaVuSans-56\"/>\r\n       </defs>\r\n       <use xlink:href=\"#DejaVuSans-48\"/>\r\n       <use x=\"63.623047\" xlink:href=\"#DejaVuSans-48\"/>\r\n       <use x=\"127.246094\" xlink:href=\"#DejaVuSans-56\"/>\r\n       <use x=\"190.869141\" xlink:href=\"#DejaVuSans-57\"/>\r\n      </g>\r\n     </g>\r\n    </g>\r\n    <g id=\"ytick_11\">\r\n     <g id=\"line2d_20\">\r\n      <g>\r\n       <use style=\"stroke:#000000;stroke-width:0.8;\" x=\"101.185938\" xlink:href=\"#m0910de4fb0\" y=\"140.806854\"/>\r\n      </g>\r\n     </g>\r\n     <g id=\"text_20\">\r\n      <!-- 5517 -->\r\n      <g transform=\"translate(68.735938 144.606073)scale(0.1 -0.1)\">\r\n       <use xlink:href=\"#DejaVuSans-53\"/>\r\n       <use x=\"63.623047\" xlink:href=\"#DejaVuSans-53\"/>\r\n       <use x=\"127.246094\" xlink:href=\"#DejaVuSans-49\"/>\r\n       <use x=\"190.869141\" xlink:href=\"#DejaVuSans-55\"/>\r\n      </g>\r\n     </g>\r\n    </g>\r\n    <g id=\"ytick_12\">\r\n     <g id=\"line2d_21\">\r\n      <g>\r\n       <use style=\"stroke:#000000;stroke-width:0.8;\" x=\"101.185938\" xlink:href=\"#m0910de4fb0\" y=\"133.696324\"/>\r\n      </g>\r\n     </g>\r\n     <g id=\"text_21\">\r\n      <!-- 5504 -->\r\n      <g transform=\"translate(68.735938 137.495543)scale(0.1 -0.1)\">\r\n       <defs>\r\n        <path d=\"M 37.796875 64.3125 \r\nL 12.890625 25.390625 \r\nL 37.796875 25.390625 \r\nz\r\nM 35.203125 72.90625 \r\nL 47.609375 72.90625 \r\nL 47.609375 25.390625 \r\nL 58.015625 25.390625 \r\nL 58.015625 17.1875 \r\nL 47.609375 17.1875 \r\nL 47.609375 0 \r\nL 37.796875 0 \r\nL 37.796875 17.1875 \r\nL 4.890625 17.1875 \r\nL 4.890625 26.703125 \r\nz\r\n\" id=\"DejaVuSans-52\"/>\r\n       </defs>\r\n       <use xlink:href=\"#DejaVuSans-53\"/>\r\n       <use x=\"63.623047\" xlink:href=\"#DejaVuSans-53\"/>\r\n       <use x=\"127.246094\" xlink:href=\"#DejaVuSans-48\"/>\r\n       <use x=\"190.869141\" xlink:href=\"#DejaVuSans-52\"/>\r\n      </g>\r\n     </g>\r\n    </g>\r\n    <g id=\"ytick_13\">\r\n     <g id=\"line2d_22\">\r\n      <g>\r\n       <use style=\"stroke:#000000;stroke-width:0.8;\" x=\"101.185938\" xlink:href=\"#m0910de4fb0\" y=\"126.585795\"/>\r\n      </g>\r\n     </g>\r\n     <g id=\"text_22\">\r\n      <!-- 5515 -->\r\n      <g transform=\"translate(68.735938 130.385013)scale(0.1 -0.1)\">\r\n       <use xlink:href=\"#DejaVuSans-53\"/>\r\n       <use x=\"63.623047\" xlink:href=\"#DejaVuSans-53\"/>\r\n       <use x=\"127.246094\" xlink:href=\"#DejaVuSans-49\"/>\r\n       <use x=\"190.869141\" xlink:href=\"#DejaVuSans-53\"/>\r\n      </g>\r\n     </g>\r\n    </g>\r\n    <g id=\"ytick_14\">\r\n     <g id=\"line2d_23\">\r\n      <g>\r\n       <use style=\"stroke:#000000;stroke-width:0.8;\" x=\"101.185938\" xlink:href=\"#m0910de4fb0\" y=\"119.475265\"/>\r\n      </g>\r\n     </g>\r\n     <g id=\"text_23\">\r\n      <!-- 5509 -->\r\n      <g transform=\"translate(68.735938 123.274484)scale(0.1 -0.1)\">\r\n       <use xlink:href=\"#DejaVuSans-53\"/>\r\n       <use x=\"63.623047\" xlink:href=\"#DejaVuSans-53\"/>\r\n       <use x=\"127.246094\" xlink:href=\"#DejaVuSans-48\"/>\r\n       <use x=\"190.869141\" xlink:href=\"#DejaVuSans-57\"/>\r\n      </g>\r\n     </g>\r\n    </g>\r\n    <g id=\"ytick_15\">\r\n     <g id=\"line2d_24\">\r\n      <g>\r\n       <use style=\"stroke:#000000;stroke-width:0.8;\" x=\"101.185938\" xlink:href=\"#m0910de4fb0\" y=\"112.364735\"/>\r\n      </g>\r\n     </g>\r\n     <g id=\"text_24\">\r\n      <!-- 5516 -->\r\n      <g transform=\"translate(68.735938 116.163954)scale(0.1 -0.1)\">\r\n       <defs>\r\n        <path d=\"M 33.015625 40.375 \r\nQ 26.375 40.375 22.484375 35.828125 \r\nQ 18.609375 31.296875 18.609375 23.390625 \r\nQ 18.609375 15.53125 22.484375 10.953125 \r\nQ 26.375 6.390625 33.015625 6.390625 \r\nQ 39.65625 6.390625 43.53125 10.953125 \r\nQ 47.40625 15.53125 47.40625 23.390625 \r\nQ 47.40625 31.296875 43.53125 35.828125 \r\nQ 39.65625 40.375 33.015625 40.375 \r\nz\r\nM 52.59375 71.296875 \r\nL 52.59375 62.3125 \r\nQ 48.875 64.0625 45.09375 64.984375 \r\nQ 41.3125 65.921875 37.59375 65.921875 \r\nQ 27.828125 65.921875 22.671875 59.328125 \r\nQ 17.53125 52.734375 16.796875 39.40625 \r\nQ 19.671875 43.65625 24.015625 45.921875 \r\nQ 28.375 48.1875 33.59375 48.1875 \r\nQ 44.578125 48.1875 50.953125 41.515625 \r\nQ 57.328125 34.859375 57.328125 23.390625 \r\nQ 57.328125 12.15625 50.6875 5.359375 \r\nQ 44.046875 -1.421875 33.015625 -1.421875 \r\nQ 20.359375 -1.421875 13.671875 8.265625 \r\nQ 6.984375 17.96875 6.984375 36.375 \r\nQ 6.984375 53.65625 15.1875 63.9375 \r\nQ 23.390625 74.21875 37.203125 74.21875 \r\nQ 40.921875 74.21875 44.703125 73.484375 \r\nQ 48.484375 72.75 52.59375 71.296875 \r\nz\r\n\" id=\"DejaVuSans-54\"/>\r\n       </defs>\r\n       <use xlink:href=\"#DejaVuSans-53\"/>\r\n       <use x=\"63.623047\" xlink:href=\"#DejaVuSans-53\"/>\r\n       <use x=\"127.246094\" xlink:href=\"#DejaVuSans-49\"/>\r\n       <use x=\"190.869141\" xlink:href=\"#DejaVuSans-54\"/>\r\n      </g>\r\n     </g>\r\n    </g>\r\n    <g id=\"ytick_16\">\r\n     <g id=\"line2d_25\">\r\n      <g>\r\n       <use style=\"stroke:#000000;stroke-width:0.8;\" x=\"101.185938\" xlink:href=\"#m0910de4fb0\" y=\"105.254205\"/>\r\n      </g>\r\n     </g>\r\n     <g id=\"text_25\">\r\n      <!-- 5507 -->\r\n      <g transform=\"translate(68.735938 109.053424)scale(0.1 -0.1)\">\r\n       <use xlink:href=\"#DejaVuSans-53\"/>\r\n       <use x=\"63.623047\" xlink:href=\"#DejaVuSans-53\"/>\r\n       <use x=\"127.246094\" xlink:href=\"#DejaVuSans-48\"/>\r\n       <use x=\"190.869141\" xlink:href=\"#DejaVuSans-55\"/>\r\n      </g>\r\n     </g>\r\n    </g>\r\n    <g id=\"ytick_17\">\r\n     <g id=\"line2d_26\">\r\n      <g>\r\n       <use style=\"stroke:#000000;stroke-width:0.8;\" x=\"101.185938\" xlink:href=\"#m0910de4fb0\" y=\"98.143676\"/>\r\n      </g>\r\n     </g>\r\n     <g id=\"text_26\">\r\n      <!-- 5508 -->\r\n      <g transform=\"translate(68.735938 101.942894)scale(0.1 -0.1)\">\r\n       <use xlink:href=\"#DejaVuSans-53\"/>\r\n       <use x=\"63.623047\" xlink:href=\"#DejaVuSans-53\"/>\r\n       <use x=\"127.246094\" xlink:href=\"#DejaVuSans-48\"/>\r\n       <use x=\"190.869141\" xlink:href=\"#DejaVuSans-56\"/>\r\n      </g>\r\n     </g>\r\n    </g>\r\n    <g id=\"ytick_18\">\r\n     <g id=\"line2d_27\">\r\n      <g>\r\n       <use style=\"stroke:#000000;stroke-width:0.8;\" x=\"101.185938\" xlink:href=\"#m0910de4fb0\" y=\"91.033146\"/>\r\n      </g>\r\n     </g>\r\n     <g id=\"text_27\">\r\n      <!-- 6474F -->\r\n      <g transform=\"translate(62.984375 94.832365)scale(0.1 -0.1)\">\r\n       <defs>\r\n        <path d=\"M 9.8125 72.90625 \r\nL 51.703125 72.90625 \r\nL 51.703125 64.59375 \r\nL 19.671875 64.59375 \r\nL 19.671875 43.109375 \r\nL 48.578125 43.109375 \r\nL 48.578125 34.8125 \r\nL 19.671875 34.8125 \r\nL 19.671875 0 \r\nL 9.8125 0 \r\nz\r\n\" id=\"DejaVuSans-70\"/>\r\n       </defs>\r\n       <use xlink:href=\"#DejaVuSans-54\"/>\r\n       <use x=\"63.623047\" xlink:href=\"#DejaVuSans-52\"/>\r\n       <use x=\"127.246094\" xlink:href=\"#DejaVuSans-55\"/>\r\n       <use x=\"190.869141\" xlink:href=\"#DejaVuSans-52\"/>\r\n       <use x=\"254.492188\" xlink:href=\"#DejaVuSans-70\"/>\r\n      </g>\r\n     </g>\r\n    </g>\r\n    <g id=\"ytick_19\">\r\n     <g id=\"line2d_28\">\r\n      <g>\r\n       <use style=\"stroke:#000000;stroke-width:0.8;\" x=\"101.185938\" xlink:href=\"#m0910de4fb0\" y=\"83.922616\"/>\r\n      </g>\r\n     </g>\r\n     <g id=\"text_28\">\r\n      <!-- 5501 -->\r\n      <g transform=\"translate(68.735938 87.721835)scale(0.1 -0.1)\">\r\n       <use xlink:href=\"#DejaVuSans-53\"/>\r\n       <use x=\"63.623047\" xlink:href=\"#DejaVuSans-53\"/>\r\n       <use x=\"127.246094\" xlink:href=\"#DejaVuSans-48\"/>\r\n       <use x=\"190.869141\" xlink:href=\"#DejaVuSans-49\"/>\r\n      </g>\r\n     </g>\r\n    </g>\r\n    <g id=\"ytick_20\">\r\n     <g id=\"line2d_29\">\r\n      <g>\r\n       <use style=\"stroke:#000000;stroke-width:0.8;\" x=\"101.185938\" xlink:href=\"#m0910de4fb0\" y=\"76.812086\"/>\r\n      </g>\r\n     </g>\r\n     <g id=\"text_29\">\r\n      <!-- 5532 -->\r\n      <g transform=\"translate(68.735938 80.611305)scale(0.1 -0.1)\">\r\n       <use xlink:href=\"#DejaVuSans-53\"/>\r\n       <use x=\"63.623047\" xlink:href=\"#DejaVuSans-53\"/>\r\n       <use x=\"127.246094\" xlink:href=\"#DejaVuSans-51\"/>\r\n       <use x=\"190.869141\" xlink:href=\"#DejaVuSans-50\"/>\r\n      </g>\r\n     </g>\r\n    </g>\r\n    <g id=\"ytick_21\">\r\n     <g id=\"line2d_30\">\r\n      <g>\r\n       <use style=\"stroke:#000000;stroke-width:0.8;\" x=\"101.185938\" xlink:href=\"#m0910de4fb0\" y=\"69.701557\"/>\r\n      </g>\r\n     </g>\r\n     <g id=\"text_30\">\r\n      <!-- 5518 -->\r\n      <g transform=\"translate(68.735938 73.500775)scale(0.1 -0.1)\">\r\n       <use xlink:href=\"#DejaVuSans-53\"/>\r\n       <use x=\"63.623047\" xlink:href=\"#DejaVuSans-53\"/>\r\n       <use x=\"127.246094\" xlink:href=\"#DejaVuSans-49\"/>\r\n       <use x=\"190.869141\" xlink:href=\"#DejaVuSans-56\"/>\r\n      </g>\r\n     </g>\r\n    </g>\r\n    <g id=\"ytick_22\">\r\n     <g id=\"line2d_31\">\r\n      <g>\r\n       <use style=\"stroke:#000000;stroke-width:0.8;\" x=\"101.185938\" xlink:href=\"#m0910de4fb0\" y=\"62.591027\"/>\r\n      </g>\r\n     </g>\r\n     <g id=\"text_31\">\r\n      <!-- 5502 -->\r\n      <g transform=\"translate(68.735938 66.390246)scale(0.1 -0.1)\">\r\n       <use xlink:href=\"#DejaVuSans-53\"/>\r\n       <use x=\"63.623047\" xlink:href=\"#DejaVuSans-53\"/>\r\n       <use x=\"127.246094\" xlink:href=\"#DejaVuSans-48\"/>\r\n       <use x=\"190.869141\" xlink:href=\"#DejaVuSans-50\"/>\r\n      </g>\r\n     </g>\r\n    </g>\r\n    <g id=\"ytick_23\">\r\n     <g id=\"line2d_32\">\r\n      <g>\r\n       <use style=\"stroke:#000000;stroke-width:0.8;\" x=\"101.185938\" xlink:href=\"#m0910de4fb0\" y=\"55.480497\"/>\r\n      </g>\r\n     </g>\r\n     <g id=\"text_32\">\r\n      <!-- 5529 -->\r\n      <g transform=\"translate(68.735938 59.279716)scale(0.1 -0.1)\">\r\n       <use xlink:href=\"#DejaVuSans-53\"/>\r\n       <use x=\"63.623047\" xlink:href=\"#DejaVuSans-53\"/>\r\n       <use x=\"127.246094\" xlink:href=\"#DejaVuSans-50\"/>\r\n       <use x=\"190.869141\" xlink:href=\"#DejaVuSans-57\"/>\r\n      </g>\r\n     </g>\r\n    </g>\r\n    <g id=\"ytick_24\">\r\n     <g id=\"line2d_33\">\r\n      <g>\r\n       <use style=\"stroke:#000000;stroke-width:0.8;\" x=\"101.185938\" xlink:href=\"#m0910de4fb0\" y=\"48.369967\"/>\r\n      </g>\r\n     </g>\r\n     <g id=\"text_33\">\r\n      <!-- 5281G -->\r\n      <g transform=\"translate(60.9875 52.169186)scale(0.1 -0.1)\">\r\n       <defs>\r\n        <path d=\"M 59.515625 10.40625 \r\nL 59.515625 29.984375 \r\nL 43.40625 29.984375 \r\nL 43.40625 38.09375 \r\nL 69.28125 38.09375 \r\nL 69.28125 6.78125 \r\nQ 63.578125 2.734375 56.6875 0.65625 \r\nQ 49.8125 -1.421875 42 -1.421875 \r\nQ 24.90625 -1.421875 15.25 8.5625 \r\nQ 5.609375 18.5625 5.609375 36.375 \r\nQ 5.609375 54.25 15.25 64.234375 \r\nQ 24.90625 74.21875 42 74.21875 \r\nQ 49.125 74.21875 55.546875 72.453125 \r\nQ 61.96875 70.703125 67.390625 67.28125 \r\nL 67.390625 56.78125 \r\nQ 61.921875 61.421875 55.765625 63.765625 \r\nQ 49.609375 66.109375 42.828125 66.109375 \r\nQ 29.4375 66.109375 22.71875 58.640625 \r\nQ 16.015625 51.171875 16.015625 36.375 \r\nQ 16.015625 21.625 22.71875 14.15625 \r\nQ 29.4375 6.6875 42.828125 6.6875 \r\nQ 48.046875 6.6875 52.140625 7.59375 \r\nQ 56.25 8.5 59.515625 10.40625 \r\nz\r\n\" id=\"DejaVuSans-71\"/>\r\n       </defs>\r\n       <use xlink:href=\"#DejaVuSans-53\"/>\r\n       <use x=\"63.623047\" xlink:href=\"#DejaVuSans-50\"/>\r\n       <use x=\"127.246094\" xlink:href=\"#DejaVuSans-56\"/>\r\n       <use x=\"190.869141\" xlink:href=\"#DejaVuSans-49\"/>\r\n       <use x=\"254.492188\" xlink:href=\"#DejaVuSans-71\"/>\r\n      </g>\r\n     </g>\r\n    </g>\r\n    <g id=\"ytick_25\">\r\n     <g id=\"line2d_34\">\r\n      <g>\r\n       <use style=\"stroke:#000000;stroke-width:0.8;\" x=\"101.185938\" xlink:href=\"#m0910de4fb0\" y=\"41.259438\"/>\r\n      </g>\r\n     </g>\r\n     <g id=\"text_34\">\r\n      <!-- 5510 -->\r\n      <g transform=\"translate(68.735938 45.058656)scale(0.1 -0.1)\">\r\n       <use xlink:href=\"#DejaVuSans-53\"/>\r\n       <use x=\"63.623047\" xlink:href=\"#DejaVuSans-53\"/>\r\n       <use x=\"127.246094\" xlink:href=\"#DejaVuSans-49\"/>\r\n       <use x=\"190.869141\" xlink:href=\"#DejaVuSans-48\"/>\r\n      </g>\r\n     </g>\r\n    </g>\r\n    <g id=\"ytick_26\">\r\n     <g id=\"line2d_35\">\r\n      <g>\r\n       <use style=\"stroke:#000000;stroke-width:0.8;\" x=\"101.185938\" xlink:href=\"#m0910de4fb0\" y=\"34.148908\"/>\r\n      </g>\r\n     </g>\r\n     <g id=\"text_35\">\r\n      <!-- visibility -->\r\n      <g transform=\"translate(52.979688 37.948127)scale(0.1 -0.1)\">\r\n       <defs>\r\n        <path d=\"M 2.984375 54.6875 \r\nL 12.5 54.6875 \r\nL 29.59375 8.796875 \r\nL 46.6875 54.6875 \r\nL 56.203125 54.6875 \r\nL 35.6875 0 \r\nL 23.484375 0 \r\nz\r\n\" id=\"DejaVuSans-118\"/>\r\n        <path d=\"M 44.28125 53.078125 \r\nL 44.28125 44.578125 \r\nQ 40.484375 46.53125 36.375 47.5 \r\nQ 32.28125 48.484375 27.875 48.484375 \r\nQ 21.1875 48.484375 17.84375 46.4375 \r\nQ 14.5 44.390625 14.5 40.28125 \r\nQ 14.5 37.15625 16.890625 35.375 \r\nQ 19.28125 33.59375 26.515625 31.984375 \r\nL 29.59375 31.296875 \r\nQ 39.15625 29.25 43.1875 25.515625 \r\nQ 47.21875 21.78125 47.21875 15.09375 \r\nQ 47.21875 7.46875 41.1875 3.015625 \r\nQ 35.15625 -1.421875 24.609375 -1.421875 \r\nQ 20.21875 -1.421875 15.453125 -0.5625 \r\nQ 10.6875 0.296875 5.421875 2 \r\nL 5.421875 11.28125 \r\nQ 10.40625 8.6875 15.234375 7.390625 \r\nQ 20.0625 6.109375 24.8125 6.109375 \r\nQ 31.15625 6.109375 34.5625 8.28125 \r\nQ 37.984375 10.453125 37.984375 14.40625 \r\nQ 37.984375 18.0625 35.515625 20.015625 \r\nQ 33.0625 21.96875 24.703125 23.78125 \r\nL 21.578125 24.515625 \r\nQ 13.234375 26.265625 9.515625 29.90625 \r\nQ 5.8125 33.546875 5.8125 39.890625 \r\nQ 5.8125 47.609375 11.28125 51.796875 \r\nQ 16.75 56 26.8125 56 \r\nQ 31.78125 56 36.171875 55.265625 \r\nQ 40.578125 54.546875 44.28125 53.078125 \r\nz\r\n\" id=\"DejaVuSans-115\"/>\r\n        <path d=\"M 48.6875 27.296875 \r\nQ 48.6875 37.203125 44.609375 42.84375 \r\nQ 40.53125 48.484375 33.40625 48.484375 \r\nQ 26.265625 48.484375 22.1875 42.84375 \r\nQ 18.109375 37.203125 18.109375 27.296875 \r\nQ 18.109375 17.390625 22.1875 11.75 \r\nQ 26.265625 6.109375 33.40625 6.109375 \r\nQ 40.53125 6.109375 44.609375 11.75 \r\nQ 48.6875 17.390625 48.6875 27.296875 \r\nz\r\nM 18.109375 46.390625 \r\nQ 20.953125 51.265625 25.265625 53.625 \r\nQ 29.59375 56 35.59375 56 \r\nQ 45.5625 56 51.78125 48.09375 \r\nQ 58.015625 40.1875 58.015625 27.296875 \r\nQ 58.015625 14.40625 51.78125 6.484375 \r\nQ 45.5625 -1.421875 35.59375 -1.421875 \r\nQ 29.59375 -1.421875 25.265625 0.953125 \r\nQ 20.953125 3.328125 18.109375 8.203125 \r\nL 18.109375 0 \r\nL 9.078125 0 \r\nL 9.078125 75.984375 \r\nL 18.109375 75.984375 \r\nz\r\n\" id=\"DejaVuSans-98\"/>\r\n        <path d=\"M 9.421875 75.984375 \r\nL 18.40625 75.984375 \r\nL 18.40625 0 \r\nL 9.421875 0 \r\nz\r\n\" id=\"DejaVuSans-108\"/>\r\n       </defs>\r\n       <use xlink:href=\"#DejaVuSans-118\"/>\r\n       <use x=\"59.179688\" xlink:href=\"#DejaVuSans-105\"/>\r\n       <use x=\"86.962891\" xlink:href=\"#DejaVuSans-115\"/>\r\n       <use x=\"139.0625\" xlink:href=\"#DejaVuSans-105\"/>\r\n       <use x=\"166.845703\" xlink:href=\"#DejaVuSans-98\"/>\r\n       <use x=\"230.322266\" xlink:href=\"#DejaVuSans-105\"/>\r\n       <use x=\"258.105469\" xlink:href=\"#DejaVuSans-108\"/>\r\n       <use x=\"285.888672\" xlink:href=\"#DejaVuSans-105\"/>\r\n       <use x=\"313.671875\" xlink:href=\"#DejaVuSans-116\"/>\r\n       <use x=\"352.880859\" xlink:href=\"#DejaVuSans-121\"/>\r\n      </g>\r\n     </g>\r\n    </g>\r\n    <g id=\"ytick_27\">\r\n     <g id=\"line2d_36\">\r\n      <g>\r\n       <use style=\"stroke:#000000;stroke-width:0.8;\" x=\"101.185938\" xlink:href=\"#m0910de4fb0\" y=\"27.038378\"/>\r\n      </g>\r\n     </g>\r\n     <g id=\"text_36\">\r\n      <!-- 5512 -->\r\n      <g transform=\"translate(68.735938 30.837597)scale(0.1 -0.1)\">\r\n       <use xlink:href=\"#DejaVuSans-53\"/>\r\n       <use x=\"63.623047\" xlink:href=\"#DejaVuSans-53\"/>\r\n       <use x=\"127.246094\" xlink:href=\"#DejaVuSans-49\"/>\r\n       <use x=\"190.869141\" xlink:href=\"#DejaVuSans-50\"/>\r\n      </g>\r\n     </g>\r\n    </g>\r\n    <g id=\"ytick_28\">\r\n     <g id=\"line2d_37\">\r\n      <g>\r\n       <use style=\"stroke:#000000;stroke-width:0.8;\" x=\"101.185938\" xlink:href=\"#m0910de4fb0\" y=\"19.927848\"/>\r\n      </g>\r\n     </g>\r\n     <g id=\"text_37\">\r\n      <!-- rain -->\r\n      <g transform=\"translate(74.83125 23.727067)scale(0.1 -0.1)\">\r\n       <use xlink:href=\"#DejaVuSans-114\"/>\r\n       <use x=\"41.113281\" xlink:href=\"#DejaVuSans-97\"/>\r\n       <use x=\"102.392578\" xlink:href=\"#DejaVuSans-105\"/>\r\n       <use x=\"130.175781\" xlink:href=\"#DejaVuSans-110\"/>\r\n      </g>\r\n     </g>\r\n    </g>\r\n   </g>\r\n   <g id=\"patch_31\">\r\n    <path d=\"M 101.185938 224.64 \r\nL 101.185938 7.2 \r\n\" style=\"fill:none;stroke:#000000;stroke-linecap:square;stroke-linejoin:miter;stroke-width:0.8;\"/>\r\n   </g>\r\n   <g id=\"patch_32\">\r\n    <path d=\"M 435.985938 224.64 \r\nL 435.985938 7.2 \r\n\" style=\"fill:none;stroke:#000000;stroke-linecap:square;stroke-linejoin:miter;stroke-width:0.8;\"/>\r\n   </g>\r\n   <g id=\"patch_33\">\r\n    <path d=\"M 101.185938 224.64 \r\nL 435.985938 224.64 \r\n\" style=\"fill:none;stroke:#000000;stroke-linecap:square;stroke-linejoin:miter;stroke-width:0.8;\"/>\r\n   </g>\r\n   <g id=\"patch_34\">\r\n    <path d=\"M 101.185938 7.2 \r\nL 435.985938 7.2 \r\n\" style=\"fill:none;stroke:#000000;stroke-linecap:square;stroke-linejoin:miter;stroke-width:0.8;\"/>\r\n   </g>\r\n  </g>\r\n </g>\r\n <defs>\r\n  <clipPath id=\"p0fe924812b\">\r\n   <rect height=\"217.44\" width=\"334.8\" x=\"101.185938\" y=\"7.2\"/>\r\n  </clipPath>\r\n </defs>\r\n</svg>\r\n",
      "image/png": "[encoded data removed]"
     },
     "metadata": {
      "needs_background": "light"
     }
    }
   ],
   "source": [
    "%matplotlib inline\n",
    "# only in a Jupyter notebook column=\"delay\"\n",
    "\n",
    "extra_attribs = [\"hour_and_minute\"]\n",
    "cat_encoder = full_pipeline.named_transformers_[\"cat\"]\n",
    "cat_one_hot_attribs = list(cat_encoder.categories_[0])\n",
    "attributes = num_attribs + extra_attribs + cat_one_hot_attribs\n",
    "print(sorted(zip(attributes, feature_importances), key=lambda feature: feature[1], reverse=True))\n",
    "plt.barh(*zip(*sorted(zip(attributes, feature_importances), key=lambda feature: feature[1], reverse=True)), align='center', alpha=0.5)"
   ]
  },
  {
   "source": [
    "We can see that the most important value is the newly added \"hour_and_minute\" attribute.\n",
    "### Analyze the Best Models and Their Errors"
   ],
   "cell_type": "markdown",
   "metadata": {}
  },
  {
   "cell_type": "code",
   "execution_count": 38,
   "metadata": {},
   "outputs": [
    {
     "output_type": "execute_result",
     "data": {
      "text/plain": [
       "4.550072312349575"
      ]
     },
     "metadata": {},
     "execution_count": 38
    }
   ],
   "source": [
    "final_model = grid_search.best_estimator_\n",
    "\n",
    "X_test = strat_test_set.drop(\"delay\", axis=1)\n",
    "y_test = strat_test_set[\"delay\"].copy()\n",
    "\n",
    "X_test_prepared = full_pipeline.transform(X_test)\n",
    "final_predictions = final_model.predict(X_test_prepared)\n",
    "\n",
    "final_mse = mean_squared_error(y_test, final_predictions)\n",
    "final_rmse = np.sqrt(final_mse)\n",
    "final_rmse"
   ]
  },
  {
   "cell_type": "code",
   "execution_count": 39,
   "metadata": {},
   "outputs": [
    {
     "output_type": "execute_result",
     "data": {
      "text/plain": [
       "array([4.42050626, 4.67604967])"
      ]
     },
     "metadata": {},
     "execution_count": 39
    }
   ],
   "source": [
    "from scipy import stats\n",
    "\n",
    "confidence = 0.95\n",
    "squared_errors = (final_predictions - y_test) ** 2\n",
    "mean = squared_errors.mean()\n",
    "m = len(squared_errors)\n",
    "The 95% Confidence Interval for the RMSE\n",
    "np.sqrt(stats.t.interval(confidence, m - 1,\n",
    "                         loc=np.mean(squared_errors),\n",
    "                         scale=stats.sem(squared_errors)))"
   ]
  },
  {
   "cell_type": "code",
   "execution_count": 58,
   "metadata": {},
   "outputs": [
    {
     "output_type": "stream",
     "name": "stdout",
     "text": [
      "<PandasArray>\n[0.0, 1.0, 0.0, 2.0, 0.0]\nLength: 5, dtype: float64\n[ 2.51  0.16 -0.69  1.16  0.35]\n"
     ]
    }
   ],
   "source": [
    "full_pipeline_with_predictor = Pipeline([\n",
    "        (\"preparation\", full_pipeline),\n",
    "        (\"randomforest\", RandomForestRegressor(random_state=42))\n",
    "    ])\n",
    "\n",
    "# cut the train test because of memory problems\n",
    "full_pipeline_with_predictor.fit(delay[:5000], delay_labels[:5000])\n",
    "\n",
    "# print(some_labels.array)\n",
    "# print(full_pipeline_with_predictor.predict(some_data))\n",
    "\n",
    "test_set = strat_test_set.drop(\"delay\", axis=1) # drop labels for test set\n",
    "test_set_labels = strat_test_set[\"delay\"].copy()\n",
    "print(test_set_labels[:5].array)\n",
    "print(full_pipeline_with_predictor.predict(test_set[:5]))"
   ]
  },
  {
   "source": [
    "### Save the model"
   ],
   "cell_type": "markdown",
   "metadata": {}
  },
  {
   "cell_type": "code",
   "execution_count": null,
   "metadata": {},
   "outputs": [],
   "source": [
    "import joblib\n",
    "\n",
    "my_model = full_pipeline_with_predictor\n",
    "joblib.dump(my_model, \"../models/my_model.pkl\") # save\n",
    "\n",
    "# my_model_loaded = joblib.load(\"my_model.pkl\") # load"
   ]
  }
 ],
 "metadata": {
  "kernelspec": {
   "display_name": "Python 3",
   "language": "python",
   "name": "python3"
  },
  "language_info": {
   "codemirror_mode": {
    "name": "ipython",
    "version": 3
   },
   "file_extension": ".py",
   "mimetype": "text/x-python",
   "name": "python",
   "nbconvert_exporter": "python",
   "pygments_lexer": "ipython3",
   "version": "3.7.1-final"
  }
 },
 "nbformat": 4,
 "nbformat_minor": 4
}