{
 "cells": [
  {
   "cell_type": "markdown",
   "metadata": {},
   "source": [
    "# CanYouCatchIt?\n",
    "A web application allowing you to obtain the percentage of chance that your bus/tram/metro is late. 💻🤖🎲🚌 🚎🚇🔮\n",
    "\n",
    "_Build with the STIB API (available [here](https://opendata.stib-mivb.be/store/))_\n",
    "\n",
    "# Notes: Making some models 💻🤖 🚌🚎🚇\n",
    "We are here to explore the data"
   ]
  },
  {
   "cell_type": "markdown",
   "metadata": {},
   "source": [
    "## Load the data\n",
    "\n",
    "Write a function loading the csv files"
   ]
  },
  {
   "cell_type": "code",
   "execution_count": null,
   "metadata": {},
   "outputs": [],
   "source": [
    "# import\n",
    "import glob\n",
    "import pandas as pd\n",
    "import seaborn as sns\n",
    "import os\n",
    "\n",
    "# Set the path to the directory holding CSV files\n",
    "DELAY_PATH = '/home/haeresis/Documents/Github/CanYouCatchIt/machine_learning/data'\n",
    "\n",
    "def load_delay_data(delay_path=DELAY_PATH):\n",
    "    \"\"\"\n",
    "    Load the cvs file in a panda dataframe\n",
    "    \"\"\"\n",
    "    return pd.concat([pd.read_csv(f) for f in glob.glob('../data/delay*.csv')], ignore_index = True)"
   ]
  },
  {
   "cell_type": "markdown",
   "metadata": {},
   "source": [
    "## Take a Quick Look at the Data Structure\n",
    "### Load the data"
   ]
  },
  {
   "cell_type": "code",
   "execution_count": null,
   "metadata": {},
   "outputs": [],
   "source": [
    "# load the csv file\n",
    "delay = load_delay_data()\n",
    "# display the head\n",
    "delay.head()"
   ]
  },
  {
   "cell_type": "markdown",
   "metadata": {},
   "source": [
    "### Display Information"
   ]
  },
  {
   "cell_type": "code",
   "execution_count": null,
   "metadata": {},
   "outputs": [],
   "source": [
    "# display the tail\n",
    "delay.tail()"
   ]
  },
  {
   "cell_type": "markdown",
   "metadata": {},
   "source": [
    "Display number of non-null data and the type of each row"
   ]
  },
  {
   "cell_type": "code",
   "execution_count": null,
   "metadata": {},
   "outputs": [],
   "source": [
    "# display some information\n",
    "delay.info()"
   ]
  },
  {
   "cell_type": "markdown",
   "metadata": {},
   "source": [
    "Count the number of each distinct delay value"
   ]
  },
  {
   "cell_type": "code",
   "execution_count": null,
   "metadata": {},
   "outputs": [],
   "source": [
    "# count the values\n",
    "delay[\"delay\"].value_counts()"
   ]
  },
  {
   "cell_type": "code",
   "execution_count": null,
   "metadata": {},
   "outputs": [],
   "source": [
    "# count the values\n",
    "delay[\"hour\"].value_counts()"
   ]
  },
  {
   "cell_type": "code",
   "execution_count": null,
   "metadata": {},
   "outputs": [],
   "source": [
    "delay.describe()"
   ]
  },
  {
   "cell_type": "markdown",
   "metadata": {},
   "source": [
    "### Plot the data"
   ]
  },
  {
   "cell_type": "code",
   "execution_count": null,
   "metadata": {},
   "outputs": [],
   "source": [
    "%matplotlib inline\n",
    "# only in a Jupyter notebook column=\"delay\"\n",
    "\n",
    "# plot the data\n",
    "import matplotlib.pyplot as plt\n",
    "delay.hist(bins=50, figsize=(20,15))\n",
    "plt.show()"
   ]
  },
  {
   "cell_type": "code",
   "execution_count": null,
   "metadata": {},
   "outputs": [],
   "source": [
    "is_line_39 = delay['line'] == 39\n",
    "is_stop_0089 = delay['stop'] == '0089'\n",
    "is_day_3 = delay['day'] == 3\n",
    "delay_line_39 = delay[is_line_39 & is_stop_0089 & is_day_3]\n",
    "sns.boxplot(x=delay_line_39['delay'])"
   ]
  },
  {
   "cell_type": "markdown",
   "metadata": {},
   "source": [
    "## Create A Test Set\n",
    "\n",
    "Drop unlabbeled row"
   ]
  },
  {
   "cell_type": "code",
   "execution_count": null,
   "metadata": {},
   "outputs": [],
   "source": [
    "delay.dropna(inplace=True)\n",
    "delay.reset_index(drop=True, inplace=True)"
   ]
  },
  {
   "cell_type": "markdown",
   "metadata": {},
   "source": [
    "Drop row without line number equal to 39 because we are only studing one line for now"
   ]
  },
  {
   "cell_type": "code",
   "execution_count": null,
   "metadata": {},
   "outputs": [],
   "source": [
    "# Get names of indexes for which column line has not a value of 39\n",
    "index_to_remove = delay[ delay['line'] != 39].index\n",
    "# Delete these row indexes from dataFrame\n",
    "delay.drop(index_to_remove , inplace=True)\n",
    "\n",
    "nunique = delay.apply(pd.Series.nunique)\n",
    "cols_to_drop = nunique[nunique == 1].index\n",
    "delay.drop(cols_to_drop, axis=1)\n",
    "\n",
    "delay.drop(['trip'], axis=1)\n",
    "\n",
    "# Reset the labels\n",
    "delay.reset_index(drop=True, inplace=True)\n",
    "delay.head()"
   ]
  },
  {
   "cell_type": "markdown",
   "metadata": {},
   "source": [
    "### Data stratification"
   ]
  },
  {
   "cell_type": "code",
   "execution_count": null,
   "metadata": {},
   "outputs": [],
   "source": [
    "from sklearn.model_selection import train_test_split\n",
    "from sklearn.model_selection import StratifiedShuffleSplit\n",
    "\n",
    "# Stratifie the data with the different hour\n",
    "# This make sure that the representation of each hour is the same in the train set then in the overall dataset\n",
    "# This stratification is not necessary is you have enough data\n",
    "split = StratifiedShuffleSplit(n_splits=1, test_size=0.2, random_state=42)\n",
    "for train_index, test_index in split.split(delay, delay[\"hour\"]):\n",
    "    strat_train_set = delay.loc[train_index]\n",
    "    strat_test_set = delay.loc[test_index]"
   ]
  },
  {
   "cell_type": "code",
   "execution_count": null,
   "metadata": {},
   "outputs": [],
   "source": [
    "# Display the representation of each line in the dataset\n",
    "delay[\"hour\"].value_counts() / len(delay)"
   ]
  },
  {
   "cell_type": "code",
   "execution_count": null,
   "metadata": {},
   "outputs": [],
   "source": [
    "# Display the representation of each hour in the test set\n",
    "strat_test_set[\"hour\"].value_counts() / len(strat_test_set)"
   ]
  },
  {
   "cell_type": "markdown",
   "metadata": {},
   "source": [
    "#### Compare the error between a random test set and the statified one"
   ]
  },
  {
   "cell_type": "code",
   "execution_count": null,
   "metadata": {},
   "outputs": [],
   "source": [
    "def stop_cat_proportions(data):\n",
    "    return data[\"hour\"].value_counts() / len(data)\n",
    "\n",
    "train_set, test_set = train_test_split(delay, test_size=0.2, random_state=42)\n",
    "\n",
    "compare_props = pd.DataFrame({\n",
    "    \"Overall\": stop_cat_proportions(delay),\n",
    "    \"Stratified\": stop_cat_proportions(strat_test_set),\n",
    "    \"Random\": stop_cat_proportions(test_set),\n",
    "}).sort_index()\n",
    "compare_props[\"Strat. %error\"] = 100 * compare_props[\"Stratified\"] / compare_props[\"Overall\"] - 100\n",
    "compare_props[\"Rand. %error\"] = 100 * compare_props[\"Random\"] / compare_props[\"Overall\"] - 100\n",
    "compare_props"
   ]
  },
  {
   "cell_type": "markdown",
   "metadata": {},
   "source": [
    "## Discover and Visualize the Data to Gain Insights"
   ]
  },
  {
   "cell_type": "code",
   "execution_count": null,
   "metadata": {},
   "outputs": [],
   "source": [
    "# Create a copy so we can play with it without harming the training set\n",
    "delay = strat_train_set.copy()"
   ]
  },
  {
   "cell_type": "markdown",
   "metadata": {},
   "source": [
    "### Visualizing Time Data"
   ]
  },
  {
   "cell_type": "code",
   "execution_count": null,
   "metadata": {},
   "outputs": [],
   "source": [
    "# display all the delay mesured by the hour of the day\n",
    "delay.plot(kind=\"scatter\", x=\"hour\", y=\"delay\", alpha=0.1, title=\"Delay per hour\")"
   ]
  },
  {
   "cell_type": "code",
   "execution_count": null,
   "metadata": {},
   "outputs": [],
   "source": [
    "# display the delay mesured by the hour of the day on the stop number 0089\n",
    "delay_stop_0089 = delay[delay[\"stop\"] == \"0089\"]\n",
    "delay_stop_0089.plot(kind=\"scatter\", x=\"hour\", y=\"delay\", alpha=0.5, title=\"Delay per hour on stop n°0089\")"
   ]
  },
  {
   "cell_type": "code",
   "execution_count": null,
   "metadata": {},
   "outputs": [],
   "source": [
    "# display the delay mesured by the hour of the day on the stop number 0089\n",
    "is_stop_0089 = delay[\"stop\"] == \"0089\"\n",
    "is_day_3 = delay[\"day\"] == 3\n",
    "delay_0089_2 = delay[is_stop_0089 & is_day_3]\n",
    "delay_0089_2.plot(kind=\"scatter\", x=\"hour\", y=\"delay\", alpha=0.5, title=\"Delay per hour on stop n°0089 a thursday\")"
   ]
  },
  {
   "cell_type": "code",
   "execution_count": null,
   "metadata": {},
   "outputs": [],
   "source": [
    "# Display the mean delay based on the hour of the day\n",
    "delay.groupby(\"hour\").mean().plot(y=\"delay\", kind=\"bar\", title=\"Mean delay per hour\")"
   ]
  },
  {
   "cell_type": "code",
   "execution_count": null,
   "metadata": {},
   "outputs": [],
   "source": [
    "# Display the mean delay based on the hour of the day\n",
    "delay_stop_0089.groupby(\"hour\").mean().plot(y=\"delay\", kind=\"bar\", title=\"Mean delay per hour on stop n°0089\")"
   ]
  },
  {
   "cell_type": "code",
   "execution_count": null,
   "metadata": {},
   "outputs": [],
   "source": [
    "# Display the mean delay based on the hour of the day\n",
    "delay_0089_2.groupby(\"hour\").mean().plot(y=\"delay\", kind=\"bar\", title=\"Mean delay per hour on stop n°0089 the thursday\")"
   ]
  },
  {
   "cell_type": "code",
   "execution_count": null,
   "metadata": {},
   "outputs": [],
   "source": [
    "# Display the mean temperature based on the hour of the day\n",
    "delay.groupby(\"hour\").mean().plot(y=\"temp\", kind=\"bar\", title=\"Mean temperature per hour\")"
   ]
  }
 ],
 "metadata": {
  "kernelspec": {
   "display_name": "Python 3",
   "language": "python",
   "name": "python3"
  },
  "language_info": {
   "codemirror_mode": {
    "name": "ipython",
    "version": 3
   },
   "file_extension": ".py",
   "mimetype": "text/x-python",
   "name": "python",
   "nbconvert_exporter": "python",
   "pygments_lexer": "ipython3",
   "version": "3.8.5"
  }
 },
 "nbformat": 4,
 "nbformat_minor": 4
}
