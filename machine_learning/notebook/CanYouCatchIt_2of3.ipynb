{
 "cells": [
  {
   "cell_type": "markdown",
   "metadata": {},
   "source": [
    "# CanYouCatchIt?\n",
    "A web application allowing you to obtain the percentage of chance that your bus/tram/metro is late. 💻🤖🎲🚌 🚎🚇🔮\n",
    "\n",
    "_Build with the STIB API (available [here](https://opendata.stib-mivb.be/store/))_\n",
    "\n",
    "# Notes: Making some models 💻🤖🚌 🚎🚇\n",
    "We are here to explore the data"
   ]
  },
  {
   "cell_type": "markdown",
   "metadata": {},
   "source": [
    "## Load the data\n",
    "\n",
    "Write a function loading the csv files"
   ]
  },
  {
   "cell_type": "code",
   "execution_count": null,
   "metadata": {},
   "outputs": [],
   "source": [
    "# import\n",
    "import glob\n",
    "import pandas as pd\n",
    "import seaborn as sns\n",
    "import os\n",
    "\n",
    "# Set the path to the directory holding CSV files\n",
    "DELAY_PATH = '/home/haeresis/Documents/Github/CanYouCatchIt/machine_learning/data'\n",
    "\n",
    "def load_delay_data(delay_path=DELAY_PATH):\n",
    "    \"\"\"\n",
    "    Load the cvs file in a panda dataframe\n",
    "    \"\"\"\n",
    "    return pd.concat([pd.read_csv(f) for f in glob.glob('../data/delay*.csv')], ignore_index = True)"
   ]
  },
  {
   "cell_type": "markdown",
   "metadata": {},
   "source": [
    "## Looking For Correlations"
   ]
  },
  {
   "cell_type": "code",
   "execution_count": null,
   "metadata": {},
   "outputs": [],
   "source": [
    "corr_matrix = delay.corr()"
   ]
  },
  {
   "cell_type": "markdown",
   "metadata": {},
   "source": [
    "Look at how much each attribute correlates with the delay value"
   ]
  },
  {
   "cell_type": "code",
   "execution_count": null,
   "metadata": {},
   "outputs": [],
   "source": [
    "corr_matrix[\"delay\"].sort_values(ascending=False) # warning: this check only linear correlation"
   ]
  },
  {
   "cell_type": "code",
   "execution_count": null,
   "metadata": {},
   "outputs": [],
   "source": [
    "plt.figure(figsize= (10,10), dpi=100)\n",
    "sns.heatmap(corr_matrix)"
   ]
  },
  {
   "cell_type": "code",
   "execution_count": null,
   "metadata": {},
   "outputs": [],
   "source": [
    "from pandas.plotting import scatter_matrix\n",
    "attributes = [\"delay\", \"humidity\", \"hour\", \"wind\", \"temp\"]\n",
    "scatter_matrix(delay[attributes], figsize=(12, 8))"
   ]
  },
  {
   "cell_type": "code",
   "execution_count": null,
   "metadata": {},
   "outputs": [],
   "source": [
    "delay.plot(kind=\"scatter\", x=\"hour\", y=\"delay\", alpha=0.1)"
   ]
  },
  {
   "cell_type": "markdown",
   "metadata": {},
   "source": [
    "Try adding a new feature combining 3 features (hour, minute, seconds)"
   ]
  },
  {
   "cell_type": "code",
   "execution_count": null,
   "metadata": {},
   "outputs": [],
   "source": [
    "delay[\"hour_and_minute\"] = delay[\"hour\"]*3600 + delay[\"minute\"]*60\n",
    "delay[\"hour_minute_and_seconds\"] = delay[\"hour\"]*3600 + delay[\"minute\"]*60 + delay[\"seconds\"]"
   ]
  },
  {
   "cell_type": "code",
   "execution_count": null,
   "metadata": {},
   "outputs": [],
   "source": [
    "delay.head(3)"
   ]
  },
  {
   "cell_type": "code",
   "execution_count": null,
   "metadata": {},
   "outputs": [],
   "source": [
    "corr_matrix = delay.corr()\n",
    "corr_matrix[\"delay\"].sort_values(ascending=False)"
   ]
  },
  {
   "cell_type": "code",
   "execution_count": null,
   "metadata": {},
   "outputs": [],
   "source": [
    "delay.plot(kind=\"scatter\", x=\"hour_and_minute\", y=\"delay\", alpha=0.2)"
   ]
  },
  {
   "cell_type": "code",
   "execution_count": null,
   "metadata": {},
   "outputs": [],
   "source": [
    "delay.plot(kind=\"scatter\", x=\"hour_minute_and_seconds\", y=\"delay\", alpha=0.2)"
   ]
  },
  {
   "cell_type": "markdown",
   "metadata": {},
   "source": [
    "With the experiment we can see that the attributes that are the most corroleted (linearly) with the delay are the temperature, the wind and the humidity.\n",
    "We can also see that the hour and the minute attributes are not linearly corroleted with the delay"
   ]
  }
 ],
 "metadata": {
  "kernelspec": {
   "display_name": "Python 3",
   "language": "python",
   "name": "python3"
  },
  "language_info": {
   "codemirror_mode": {
    "name": "ipython",
    "version": 3
   },
   "file_extension": ".py",
   "mimetype": "text/x-python",
   "name": "python",
   "nbconvert_exporter": "python",
   "pygments_lexer": "ipython3",
   "version": "3.8.5"
  }
 },
 "nbformat": 4,
 "nbformat_minor": 4
}
