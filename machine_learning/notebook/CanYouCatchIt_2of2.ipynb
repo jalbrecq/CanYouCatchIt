{
 "cells": [
  {
   "cell_type": "markdown",
   "metadata": {},
   "source": [
    "# CanYouCatchIt?\n",
    "A web application allowing you to obtain the percentage of chance that your bus/tram/metro is late. 💻🤖🎲🚌 🚎🚇🔮\n",
    "\n",
    "_Build with the STIB API (available [here](https://opendata.stib-mivb.be/store/))_\n",
    "\n",
    "# Notes: Making some models 💻🤖🚌 🚎🚇\n",
    "We are here to make some machine learning models"
   ]
  },
  {
   "source": [
    "## Load the data"
   ],
   "cell_type": "markdown",
   "metadata": {}
  },
  {
   "cell_type": "code",
   "execution_count": 1,
   "metadata": {},
   "outputs": [],
   "source": [
    "# Import\n",
    "import pandas as pd\n",
    "import os\n",
    "from sklearn.model_selection import train_test_split\n",
    "from sklearn.model_selection import StratifiedShuffleSplit\n",
    "import matplotlib.pyplot as plt\n",
    "\n",
    "# Set the path to the directory holding CSV files\n",
    "DELAY_PATH = '/home/haeresis/Documents/Github/CanYouCatchIt/machine_learning/data'\n",
    "\n",
    "def load_delay_data(delay_path=DELAY_PATH):\n",
    "    \"\"\"\n",
    "    Load the cvs file in a panda dataframe\n",
    "    \"\"\"\n",
    "    csv_path = os.path.join(delay_path, \"delay2020-11-03.csv\")\n",
    "    return pd.read_csv(csv_path)\n",
    "\n",
    "# load the csv file\n",
    "delay = load_delay_data()\n",
    "\n",
    "delay.dropna(inplace=True)\n",
    "delay.reset_index(drop=True, inplace=True)\n",
    "\n",
    "# Stratifie the data with the different line\n",
    "# This make sure that the representation of each stop is the same in the train set then in the overall dataset\n",
    "# This stratification is not necessary is you have enough data\n",
    "split = StratifiedShuffleSplit(n_splits=1, test_size=0.2, random_state=42)\n",
    "for train_index, test_index in split.split(delay, delay[\"line\"]):\n",
    "    strat_train_set = delay.loc[train_index]\n",
    "    strat_test_set = delay.loc[test_index]"
   ]
  },
  {
   "cell_type": "markdown",
   "metadata": {},
   "source": [
    "## Prepare the Data for Machine Learning Algorithms"
   ]
  },
  {
   "cell_type": "code",
   "execution_count": 2,
   "metadata": {},
   "outputs": [],
   "source": [
    "delay = strat_train_set.drop(\"delay\", axis=1) # drop labels for training set\n",
    "delay_labels = strat_train_set[\"delay\"].copy()"
   ]
  },
  {
   "cell_type": "markdown",
   "metadata": {},
   "source": [
    "### Check if there is row with nan\n",
    "\n",
    "Count the number of row with a nan value"
   ]
  },
  {
   "cell_type": "code",
   "execution_count": 3,
   "metadata": {},
   "outputs": [
    {
     "output_type": "execute_result",
     "data": {
      "text/plain": [
       "0"
      ]
     },
     "metadata": {},
     "execution_count": 3
    }
   ],
   "source": [
    "sample_incomplete_rows = delay[delay.isnull().any(axis=1)].head()\n",
    "len(sample_incomplete_rows.index)"
   ]
  },
  {
   "source": [
    "### Check if there is attribute that are the same for every row"
   ],
   "cell_type": "markdown",
   "metadata": {}
  },
  {
   "cell_type": "code",
   "execution_count": 4,
   "metadata": {},
   "outputs": [
    {
     "output_type": "execute_result",
     "data": {
      "text/plain": [
       "array([ True, False, False, False, False, False, False,  True,  True,\n",
       "        True, False, False, False, False, False,  True, False,  True])"
      ]
     },
     "metadata": {},
     "execution_count": 4
    }
   ],
   "source": [
    "def unique_cols(df):\n",
    "    a = df.to_numpy()\n",
    "    return (a[0] == a).all(0)\n",
    "unique_cols(delay)"
   ]
  },
  {
   "cell_type": "code",
   "execution_count": 5,
   "metadata": {},
   "outputs": [
    {
     "output_type": "execute_result",
     "data": {
      "text/plain": [
       "Index(['transport_type', 'stop', 'line', 'theoretical_time',\n",
       "       'expectedArrivalTime', 'date', 'direction', 'year', 'month', 'day',\n",
       "       'hour', 'minute', 'seconds', 'temp', 'humidity', 'visibility', 'wind',\n",
       "       'rain'],\n",
       "      dtype='object')"
      ]
     },
     "metadata": {},
     "execution_count": 5
    }
   ],
   "source": [
    "delay.columns"
   ]
  },
  {
   "cell_type": "markdown",
   "metadata": {},
   "source": [
    "### Data Cleaning\n",
    "\n",
    "Drop the unnecesery attribute. theoretical_time and expectedArrivalTime are droped because they are string attribute and they are not linked to the delay value. The date attribute is split into hour minute and seconds so it can be droped. The transport_type, year, month, visibility and rain attribute is droped because, it's the same for every row."
   ]
  },
  {
   "cell_type": "code",
   "execution_count": 6,
   "metadata": {},
   "outputs": [
    {
     "output_type": "execute_result",
     "data": {
      "text/plain": [
       "       stop  line     theoretical_time  expectedArrivalTime  \\\n",
       "1962   0089    39  2020-11-03 14:13:00  2020-11-03 14:14:00   \n",
       "1892  6608G    51  2020-11-03 13:50:09  2020-11-03 13:52:00   \n",
       "1235   0089    44  2020-11-03 10:54:00  2020-11-03 10:51:00   \n",
       "456   6608G    51  2020-11-03 07:10:09  2020-11-03 07:34:00   \n",
       "3140  6608G    82  2020-11-03 19:54:06  2020-11-03 19:54:00   \n",
       "\n",
       "                            date  direction  hour  minute  seconds    temp  \\\n",
       "1962  2020-11-03 14:09:01.886419        0.0    14       9        1  284.58   \n",
       "1892  2020-11-03 13:48:58.537150        1.0    13      48       58  284.87   \n",
       "1235  2020-11-03 10:45:42.102788        0.0    10      45       42  283.02   \n",
       "456   2020-11-03 07:09:30.338764        1.0     7       9       30  280.17   \n",
       "3140  2020-11-03 19:40:05.714626        1.0    19      40        5  281.63   \n",
       "\n",
       "      humidity  wind  \n",
       "1962        66  11.3  \n",
       "1892        62   9.8  \n",
       "1235        81   4.1  \n",
       "456         93   3.6  \n",
       "3140        70   7.2  "
      ],
      "text/html": "<div>\n<style scoped>\n    .dataframe tbody tr th:only-of-type {\n        vertical-align: middle;\n    }\n\n    .dataframe tbody tr th {\n        vertical-align: top;\n    }\n\n    .dataframe thead th {\n        text-align: right;\n    }\n</style>\n<table border=\"1\" class=\"dataframe\">\n  <thead>\n    <tr style=\"text-align: right;\">\n      <th></th>\n      <th>stop</th>\n      <th>line</th>\n      <th>theoretical_time</th>\n      <th>expectedArrivalTime</th>\n      <th>date</th>\n      <th>direction</th>\n      <th>hour</th>\n      <th>minute</th>\n      <th>seconds</th>\n      <th>temp</th>\n      <th>humidity</th>\n      <th>wind</th>\n    </tr>\n  </thead>\n  <tbody>\n    <tr>\n      <th>1962</th>\n      <td>0089</td>\n      <td>39</td>\n      <td>2020-11-03 14:13:00</td>\n      <td>2020-11-03 14:14:00</td>\n      <td>2020-11-03 14:09:01.886419</td>\n      <td>0.0</td>\n      <td>14</td>\n      <td>9</td>\n      <td>1</td>\n      <td>284.58</td>\n      <td>66</td>\n      <td>11.3</td>\n    </tr>\n    <tr>\n      <th>1892</th>\n      <td>6608G</td>\n      <td>51</td>\n      <td>2020-11-03 13:50:09</td>\n      <td>2020-11-03 13:52:00</td>\n      <td>2020-11-03 13:48:58.537150</td>\n      <td>1.0</td>\n      <td>13</td>\n      <td>48</td>\n      <td>58</td>\n      <td>284.87</td>\n      <td>62</td>\n      <td>9.8</td>\n    </tr>\n    <tr>\n      <th>1235</th>\n      <td>0089</td>\n      <td>44</td>\n      <td>2020-11-03 10:54:00</td>\n      <td>2020-11-03 10:51:00</td>\n      <td>2020-11-03 10:45:42.102788</td>\n      <td>0.0</td>\n      <td>10</td>\n      <td>45</td>\n      <td>42</td>\n      <td>283.02</td>\n      <td>81</td>\n      <td>4.1</td>\n    </tr>\n    <tr>\n      <th>456</th>\n      <td>6608G</td>\n      <td>51</td>\n      <td>2020-11-03 07:10:09</td>\n      <td>2020-11-03 07:34:00</td>\n      <td>2020-11-03 07:09:30.338764</td>\n      <td>1.0</td>\n      <td>7</td>\n      <td>9</td>\n      <td>30</td>\n      <td>280.17</td>\n      <td>93</td>\n      <td>3.6</td>\n    </tr>\n    <tr>\n      <th>3140</th>\n      <td>6608G</td>\n      <td>82</td>\n      <td>2020-11-03 19:54:06</td>\n      <td>2020-11-03 19:54:00</td>\n      <td>2020-11-03 19:40:05.714626</td>\n      <td>1.0</td>\n      <td>19</td>\n      <td>40</td>\n      <td>5</td>\n      <td>281.63</td>\n      <td>70</td>\n      <td>7.2</td>\n    </tr>\n  </tbody>\n</table>\n</div>"
     },
     "metadata": {},
     "execution_count": 6
    }
   ],
   "source": [
    "nunique = delay.apply(pd.Series.nunique)\n",
    "cols_to_drop = nunique[nunique == 1].index\n",
    "delay = delay.drop(cols_to_drop, axis=1)\n",
    "delay.head()"
   ]
  },
  {
   "cell_type": "code",
   "execution_count": 7,
   "metadata": {},
   "outputs": [
    {
     "output_type": "execute_result",
     "data": {
      "text/plain": [
       "       stop  line  direction  hour  minute  seconds    temp  humidity  wind\n",
       "1962   0089    39        0.0    14       9        1  284.58        66  11.3\n",
       "1892  6608G    51        1.0    13      48       58  284.87        62   9.8\n",
       "1235   0089    44        0.0    10      45       42  283.02        81   4.1\n",
       "456   6608G    51        1.0     7       9       30  280.17        93   3.6\n",
       "3140  6608G    82        1.0    19      40        5  281.63        70   7.2"
      ],
      "text/html": "<div>\n<style scoped>\n    .dataframe tbody tr th:only-of-type {\n        vertical-align: middle;\n    }\n\n    .dataframe tbody tr th {\n        vertical-align: top;\n    }\n\n    .dataframe thead th {\n        text-align: right;\n    }\n</style>\n<table border=\"1\" class=\"dataframe\">\n  <thead>\n    <tr style=\"text-align: right;\">\n      <th></th>\n      <th>stop</th>\n      <th>line</th>\n      <th>direction</th>\n      <th>hour</th>\n      <th>minute</th>\n      <th>seconds</th>\n      <th>temp</th>\n      <th>humidity</th>\n      <th>wind</th>\n    </tr>\n  </thead>\n  <tbody>\n    <tr>\n      <th>1962</th>\n      <td>0089</td>\n      <td>39</td>\n      <td>0.0</td>\n      <td>14</td>\n      <td>9</td>\n      <td>1</td>\n      <td>284.58</td>\n      <td>66</td>\n      <td>11.3</td>\n    </tr>\n    <tr>\n      <th>1892</th>\n      <td>6608G</td>\n      <td>51</td>\n      <td>1.0</td>\n      <td>13</td>\n      <td>48</td>\n      <td>58</td>\n      <td>284.87</td>\n      <td>62</td>\n      <td>9.8</td>\n    </tr>\n    <tr>\n      <th>1235</th>\n      <td>0089</td>\n      <td>44</td>\n      <td>0.0</td>\n      <td>10</td>\n      <td>45</td>\n      <td>42</td>\n      <td>283.02</td>\n      <td>81</td>\n      <td>4.1</td>\n    </tr>\n    <tr>\n      <th>456</th>\n      <td>6608G</td>\n      <td>51</td>\n      <td>1.0</td>\n      <td>7</td>\n      <td>9</td>\n      <td>30</td>\n      <td>280.17</td>\n      <td>93</td>\n      <td>3.6</td>\n    </tr>\n    <tr>\n      <th>3140</th>\n      <td>6608G</td>\n      <td>82</td>\n      <td>1.0</td>\n      <td>19</td>\n      <td>40</td>\n      <td>5</td>\n      <td>281.63</td>\n      <td>70</td>\n      <td>7.2</td>\n    </tr>\n  </tbody>\n</table>\n</div>"
     },
     "metadata": {},
     "execution_count": 7
    }
   ],
   "source": [
    "delay = delay.dropna(subset=[\"direction\"])\n",
    "delay = delay.drop([\"theoretical_time\", \"expectedArrivalTime\", \"date\"], axis=1)\n",
    "delay.head()"
   ]
  },
  {
   "cell_type": "markdown",
   "metadata": {},
   "source": [
    "## Handling Text and Categorical Attributes"
   ]
  },
  {
   "source": [
    "### Extract the non-numerical attributes"
   ],
   "cell_type": "markdown",
   "metadata": {}
  },
  {
   "cell_type": "code",
   "execution_count": 8,
   "metadata": {},
   "outputs": [],
   "source": [
    "delay_num = delay.drop(['stop'], axis=1)"
   ]
  },
  {
   "source": [
    "### Categorical Attributes: The stop and attributes"
   ],
   "cell_type": "markdown",
   "metadata": {}
  },
  {
   "cell_type": "code",
   "execution_count": 9,
   "metadata": {},
   "outputs": [
    {
     "output_type": "execute_result",
     "data": {
      "text/plain": [
       "       stop  line\n",
       "1962   0089    39\n",
       "1892  6608G    51\n",
       "1235   0089    44\n",
       "456   6608G    51\n",
       "3140  6608G    82"
      ],
      "text/html": "<div>\n<style scoped>\n    .dataframe tbody tr th:only-of-type {\n        vertical-align: middle;\n    }\n\n    .dataframe tbody tr th {\n        vertical-align: top;\n    }\n\n    .dataframe thead th {\n        text-align: right;\n    }\n</style>\n<table border=\"1\" class=\"dataframe\">\n  <thead>\n    <tr style=\"text-align: right;\">\n      <th></th>\n      <th>stop</th>\n      <th>line</th>\n    </tr>\n  </thead>\n  <tbody>\n    <tr>\n      <th>1962</th>\n      <td>0089</td>\n      <td>39</td>\n    </tr>\n    <tr>\n      <th>1892</th>\n      <td>6608G</td>\n      <td>51</td>\n    </tr>\n    <tr>\n      <th>1235</th>\n      <td>0089</td>\n      <td>44</td>\n    </tr>\n    <tr>\n      <th>456</th>\n      <td>6608G</td>\n      <td>51</td>\n    </tr>\n    <tr>\n      <th>3140</th>\n      <td>6608G</td>\n      <td>82</td>\n    </tr>\n  </tbody>\n</table>\n</div>"
     },
     "metadata": {},
     "execution_count": 9
    }
   ],
   "source": [
    "delay_cat = delay[['stop', 'line']]\n",
    "delay_cat.head()"
   ]
  },
  {
   "cell_type": "code",
   "execution_count": 10,
   "metadata": {},
   "outputs": [
    {
     "output_type": "execute_result",
     "data": {
      "text/plain": [
       "array([[0., 0.],\n",
       "       [1., 2.],\n",
       "       [0., 1.],\n",
       "       [1., 2.],\n",
       "       [1., 3.],\n",
       "       [1., 3.],\n",
       "       [1., 3.],\n",
       "       [1., 2.],\n",
       "       [1., 3.],\n",
       "       [0., 1.]])"
      ]
     },
     "metadata": {},
     "execution_count": 10
    }
   ],
   "source": [
    "from sklearn.preprocessing import OrdinalEncoder\n",
    "\n",
    "ordinal_encoder = OrdinalEncoder()\n",
    "delay_cat_encoded = ordinal_encoder.fit_transform(delay_cat)\n",
    "delay_cat_encoded[:10]"
   ]
  },
  {
   "cell_type": "markdown",
   "metadata": {},
   "source": [
    "## Transformation Pipelines\n",
    "\n"
   ]
  },
  {
   "cell_type": "code",
   "execution_count": 11,
   "metadata": {},
   "outputs": [
    {
     "output_type": "execute_result",
     "data": {
      "text/plain": [
       "       stop line direction hour minute seconds    temp humidity  wind  \\\n",
       "1962   0089   39         0   14      9       1  284.58       66  11.3   \n",
       "1892  6608G   51         1   13     48      58  284.87       62   9.8   \n",
       "1235   0089   44         0   10     45      42  283.02       81   4.1   \n",
       "456   6608G   51         1    7      9      30  280.17       93   3.6   \n",
       "3140  6608G   82         1   19     40       5  281.63       70   7.2   \n",
       "\n",
       "     hour_and_minute  \n",
       "1962           50940  \n",
       "1892           49680  \n",
       "1235           38700  \n",
       "456            25740  \n",
       "3140           70800  "
      ],
      "text/html": "<div>\n<style scoped>\n    .dataframe tbody tr th:only-of-type {\n        vertical-align: middle;\n    }\n\n    .dataframe tbody tr th {\n        vertical-align: top;\n    }\n\n    .dataframe thead th {\n        text-align: right;\n    }\n</style>\n<table border=\"1\" class=\"dataframe\">\n  <thead>\n    <tr style=\"text-align: right;\">\n      <th></th>\n      <th>stop</th>\n      <th>line</th>\n      <th>direction</th>\n      <th>hour</th>\n      <th>minute</th>\n      <th>seconds</th>\n      <th>temp</th>\n      <th>humidity</th>\n      <th>wind</th>\n      <th>hour_and_minute</th>\n    </tr>\n  </thead>\n  <tbody>\n    <tr>\n      <th>1962</th>\n      <td>0089</td>\n      <td>39</td>\n      <td>0</td>\n      <td>14</td>\n      <td>9</td>\n      <td>1</td>\n      <td>284.58</td>\n      <td>66</td>\n      <td>11.3</td>\n      <td>50940</td>\n    </tr>\n    <tr>\n      <th>1892</th>\n      <td>6608G</td>\n      <td>51</td>\n      <td>1</td>\n      <td>13</td>\n      <td>48</td>\n      <td>58</td>\n      <td>284.87</td>\n      <td>62</td>\n      <td>9.8</td>\n      <td>49680</td>\n    </tr>\n    <tr>\n      <th>1235</th>\n      <td>0089</td>\n      <td>44</td>\n      <td>0</td>\n      <td>10</td>\n      <td>45</td>\n      <td>42</td>\n      <td>283.02</td>\n      <td>81</td>\n      <td>4.1</td>\n      <td>38700</td>\n    </tr>\n    <tr>\n      <th>456</th>\n      <td>6608G</td>\n      <td>51</td>\n      <td>1</td>\n      <td>7</td>\n      <td>9</td>\n      <td>30</td>\n      <td>280.17</td>\n      <td>93</td>\n      <td>3.6</td>\n      <td>25740</td>\n    </tr>\n    <tr>\n      <th>3140</th>\n      <td>6608G</td>\n      <td>82</td>\n      <td>1</td>\n      <td>19</td>\n      <td>40</td>\n      <td>5</td>\n      <td>281.63</td>\n      <td>70</td>\n      <td>7.2</td>\n      <td>70800</td>\n    </tr>\n  </tbody>\n</table>\n</div>"
     },
     "metadata": {},
     "execution_count": 11
    }
   ],
   "source": [
    "from sklearn.preprocessing import FunctionTransformer\n",
    "import numpy as np\n",
    "\n",
    "# get the right column indices: safer than hard-coding indices\n",
    "\n",
    "def add_extra_features(X, add_combined_time=True):\n",
    "    hour_ix, minute_ix = [list(delay.columns).index(col) for col in (\"hour\", \"minute\")]\n",
    "    if add_combined_time:\n",
    "        hour_and_minute = X[:, hour_ix]*3600 + X[:, minute_ix]*60\n",
    "        return np.c_[X, hour_and_minute]\n",
    "    else:\n",
    "        return np.c_[X]\n",
    "\n",
    "attr_adder = FunctionTransformer(add_extra_features, validate=False,\n",
    "                                 kw_args={\"add_combined_time\": True})\n",
    "delay_extra_attribs = attr_adder.fit_transform(delay.values)\n",
    "\n",
    "delay_extra_attribs = pd.DataFrame(\n",
    "    delay_extra_attribs,\n",
    "    columns=list(delay.columns) + [\"hour_and_minute\"],\n",
    "    index=delay.index)\n",
    "delay_extra_attribs.head()"
   ]
  },
  {
   "cell_type": "code",
   "execution_count": 12,
   "metadata": {},
   "outputs": [
    {
     "output_type": "execute_result",
     "data": {
      "text/plain": [
       "array([[-0.89769532, -1.0019449 ,  0.09911943, ...,  0.        ,\n",
       "         0.        ,  0.        ],\n",
       "       [-0.17711223,  0.99805888, -0.09423547, ...,  0.        ,\n",
       "         1.        ,  0.        ],\n",
       "       [-0.59745237, -1.0019449 , -0.67430016, ...,  1.        ,\n",
       "         0.        ,  0.        ],\n",
       "       ...,\n",
       "       [ 1.68439409,  0.99805888, -1.06100995, ...,  0.        ,\n",
       "         0.        ,  1.        ],\n",
       "       [-0.17711223,  0.99805888, -0.28759036, ...,  0.        ,\n",
       "         1.        ,  0.        ],\n",
       "       [-0.89769532, -1.0019449 ,  1.25924881, ...,  0.        ,\n",
       "         0.        ,  0.        ]])"
      ]
     },
     "metadata": {},
     "execution_count": 12
    }
   ],
   "source": [
    "from sklearn.pipeline import Pipeline\n",
    "from sklearn.preprocessing import StandardScaler\n",
    "from sklearn.compose import ColumnTransformer\n",
    "from sklearn.preprocessing import OneHotEncoder\n",
    "from sklearn.impute import SimpleImputer\n",
    "\n",
    "num_attribs = list(delay_num)\n",
    "cat_attribs = [\"stop\", \"line\"]\n",
    "\n",
    "num_pipeline = Pipeline([\n",
    "        ('imputer', SimpleImputer(strategy=\"median\")),\n",
    "        ('attribs_adder', FunctionTransformer(add_extra_features, validate=False)),\n",
    "        ('std_scaler', StandardScaler())\n",
    "    ])\n",
    "\n",
    "full_pipeline = ColumnTransformer([\n",
    "        (\"num\", num_pipeline, num_attribs),\n",
    "        (\"cat\", OneHotEncoder(), cat_attribs),\n",
    "    ])\n",
    "\n",
    "delay_prepared = full_pipeline.fit_transform(delay)\n",
    "delay_prepared"
   ]
  },
  {
   "cell_type": "markdown",
   "metadata": {},
   "source": [
    "## Select and train a model\n",
    "### Linear Model"
   ]
  },
  {
   "cell_type": "code",
   "execution_count": 13,
   "metadata": {},
   "outputs": [
    {
     "output_type": "execute_result",
     "data": {
      "text/plain": [
       "LinearRegression()"
      ]
     },
     "metadata": {},
     "execution_count": 13
    }
   ],
   "source": [
    "from sklearn.linear_model import LinearRegression\n",
    "\n",
    "lin_reg = LinearRegression()\n",
    "lin_reg.fit(delay_prepared, delay_labels)"
   ]
  },
  {
   "cell_type": "code",
   "execution_count": 14,
   "metadata": {},
   "outputs": [
    {
     "output_type": "stream",
     "name": "stdout",
     "text": [
      "Predictions: \t [-3.14648438 -5.25585938 -1.578125   -2.02539062 -0.3984375 ]\nLabels: \t [-1.0, -2.0, 3.0, -24.0, 0.0]\n"
     ]
    }
   ],
   "source": [
    "# let's try the full preprocessing pipeline on a few training instances\n",
    "some_data = delay.iloc[:5]\n",
    "some_labels = delay_labels.iloc[:5]\n",
    "some_data_prepared = full_pipeline.transform(some_data)\n",
    "\n",
    "print(\"Predictions: \\t\", lin_reg.predict(some_data_prepared))\n",
    "print(\"Labels: \\t\", list(some_labels))"
   ]
  },
  {
   "source": [
    "The model is working although the predictions are not accurate at all\n",
    "\n",
    "Compute the error"
   ],
   "cell_type": "markdown",
   "metadata": {}
  },
  {
   "cell_type": "code",
   "execution_count": 15,
   "metadata": {},
   "outputs": [
    {
     "output_type": "execute_result",
     "data": {
      "text/plain": [
       "6.034095017667861"
      ]
     },
     "metadata": {},
     "execution_count": 15
    }
   ],
   "source": [
    "import numpy as np \n",
    "from sklearn.metrics import mean_squared_error\n",
    "\n",
    "delay_predictions = lin_reg.predict(delay_prepared)\n",
    "lin_mse = mean_squared_error(delay_labels, delay_predictions)\n",
    "lin_rmse = np.sqrt(lin_mse)\n",
    "lin_rmse"
   ]
  },
  {
   "source": [
    "Okay, this is better than nothing but clearly not a great score: the delay's value range from 10min to -20min, so a typical prediction error of 6min is not very satisfying."
   ],
   "cell_type": "markdown",
   "metadata": {}
  },
  {
   "cell_type": "code",
   "execution_count": 16,
   "metadata": {},
   "outputs": [
    {
     "output_type": "execute_result",
     "data": {
      "text/plain": [
       "4.104931767122733"
      ]
     },
     "metadata": {},
     "execution_count": 16
    }
   ],
   "source": [
    "from sklearn.metrics import mean_absolute_error\n",
    "\n",
    "lin_mae = mean_absolute_error(delay_labels, delay_predictions)\n",
    "lin_mae"
   ]
  },
  {
   "source": [
    "### Decision Tree"
   ],
   "cell_type": "markdown",
   "metadata": {}
  },
  {
   "cell_type": "code",
   "execution_count": 17,
   "metadata": {},
   "outputs": [
    {
     "output_type": "execute_result",
     "data": {
      "text/plain": [
       "DecisionTreeRegressor(random_state=42)"
      ]
     },
     "metadata": {},
     "execution_count": 17
    }
   ],
   "source": [
    "from sklearn.tree import DecisionTreeRegressor\n",
    "\n",
    "tree_reg = DecisionTreeRegressor(random_state=42)\n",
    "tree_reg.fit(delay_prepared, delay_labels)"
   ]
  },
  {
   "cell_type": "code",
   "execution_count": 18,
   "metadata": {},
   "outputs": [
    {
     "output_type": "execute_result",
     "data": {
      "text/plain": [
       "0.0"
      ]
     },
     "metadata": {},
     "execution_count": 18
    }
   ],
   "source": [
    "delay_predictions = tree_reg.predict(delay_prepared)\n",
    "tree_mse = mean_squared_error(delay_labels, delay_predictions)\n",
    "tree_rmse = np.sqrt(tree_mse)\n",
    "tree_rmse"
   ]
  },
  {
   "source": [
    "No error? The model has overfit 😖\n",
    "\n",
    "To evaluate the Decision Tree model we can split the training set into smaller training set and validation set."
   ],
   "cell_type": "markdown",
   "metadata": {}
  },
  {
   "cell_type": "markdown",
   "metadata": {},
   "source": [
    "### Cross-Validation\n",
    "\n",
    "The following code performs 10-fold cross-validation"
   ]
  },
  {
   "cell_type": "code",
   "execution_count": 19,
   "metadata": {},
   "outputs": [],
   "source": [
    "from sklearn.model_selection import cross_val_score\n",
    "\n",
    "def display_scores(scores):\n",
    "    print(\"Scores: \\t\\t\", scores)\n",
    "    print(\"Mean: \\t\\t\\t\", scores.mean())\n",
    "    print(\"Standard deviation: \\t\", scores.std())"
   ]
  },
  {
   "source": [
    "#### Linear Regression"
   ],
   "cell_type": "markdown",
   "metadata": {}
  },
  {
   "cell_type": "code",
   "execution_count": 20,
   "metadata": {},
   "outputs": [
    {
     "output_type": "stream",
     "name": "stdout",
     "text": [
      "Scores: \t\t [6.01293889 5.87560956 6.15850979 6.58206497 5.58575716 5.78572555\n 5.7771309  5.90957905 5.89365645 6.83944595]\nMean: \t\t\t 6.042041825364305\nStandard deviation: \t 0.3678621933248508\n"
     ]
    }
   ],
   "source": [
    "lin_scores = cross_val_score(lin_reg, delay_prepared, delay_labels, scoring=\"neg_mean_squared_error\", cv=10)\n",
    "lin_rmse_scores = np.sqrt(-lin_scores)\n",
    "display_scores(lin_rmse_scores)"
   ]
  },
  {
   "source": [
    "#### Decision Tree"
   ],
   "cell_type": "markdown",
   "metadata": {}
  },
  {
   "cell_type": "code",
   "execution_count": 21,
   "metadata": {},
   "outputs": [
    {
     "output_type": "stream",
     "name": "stdout",
     "text": [
      "Scores: \t\t [6.60146105 6.44870224 6.32941456 8.02564659 6.40160781 6.5685334\n 6.1241207  5.75300681 6.044478   6.31222273]\nMean: \t\t\t 6.4609193898652695\nStandard deviation: \t 0.5753931090463583\n"
     ]
    }
   ],
   "source": [
    "scores = cross_val_score(tree_reg, delay_prepared, delay_labels, scoring=\"neg_mean_squared_error\", cv=10)\n",
    "tree_rmse_scores = np.sqrt(-scores)\n",
    "display_scores(tree_rmse_scores)"
   ]
  },
  {
   "source": [
    "We can see taht the Decision Tree model is overfitting so strongly that the Linear Regression model performs even better."
   ],
   "cell_type": "markdown",
   "metadata": {}
  },
  {
   "source": [
    "#### Random Forest"
   ],
   "cell_type": "markdown",
   "metadata": {}
  },
  {
   "cell_type": "code",
   "execution_count": 22,
   "metadata": {},
   "outputs": [
    {
     "output_type": "execute_result",
     "data": {
      "text/plain": [
       "RandomForestRegressor(n_estimators=10, random_state=42)"
      ]
     },
     "metadata": {},
     "execution_count": 22
    }
   ],
   "source": [
    "from sklearn.ensemble import RandomForestRegressor\n",
    "\n",
    "forest_reg = RandomForestRegressor(n_estimators=10, random_state=42)\n",
    "forest_reg.fit(delay_prepared, delay_labels)"
   ]
  },
  {
   "cell_type": "code",
   "execution_count": 23,
   "metadata": {},
   "outputs": [
    {
     "output_type": "execute_result",
     "data": {
      "text/plain": [
       "2.131330102349551"
      ]
     },
     "metadata": {},
     "execution_count": 23
    }
   ],
   "source": [
    "delay_predictions = forest_reg.predict(delay_prepared)\n",
    "forest_mse = mean_squared_error(delay_labels, delay_predictions)\n",
    "forest_rmse = np.sqrt(forest_mse)\n",
    "forest_rmse"
   ]
  },
  {
   "cell_type": "code",
   "execution_count": 24,
   "metadata": {},
   "outputs": [
    {
     "output_type": "stream",
     "name": "stdout",
     "text": [
      "Scores: \t\t [5.43634538 4.91266443 5.60718737 5.2438375  4.98199996 4.90564697\n 4.73317494 5.09559109 5.15015445 5.38328039]\nMean: \t\t\t 5.144988248704174\nStandard deviation: \t 0.25979839934371884\n"
     ]
    }
   ],
   "source": [
    "forest_scores = cross_val_score(forest_reg, delay_prepared, delay_labels, scoring=\"neg_mean_squared_error\", cv=10)\n",
    "forest_rmse_scores = np.sqrt(-forest_scores)\n",
    "display_scores(forest_rmse_scores)"
   ]
  },
  {
   "source": [
    "With the Random Forest we have a mutch better results. But we see a significant difference between the score on the training set than on the validation set. That means that the model is still overfitting the training set.\n",
    "\n",
    "#### Support Vector Regression"
   ],
   "cell_type": "markdown",
   "metadata": {}
  },
  {
   "cell_type": "code",
   "execution_count": 25,
   "metadata": {},
   "outputs": [
    {
     "output_type": "execute_result",
     "data": {
      "text/plain": [
       "SVR(kernel='linear')"
      ]
     },
     "metadata": {},
     "execution_count": 25
    }
   ],
   "source": [
    "from sklearn.svm import SVR\n",
    "\n",
    "svm_reg = SVR(kernel=\"linear\")\n",
    "svm_reg.fit(delay_prepared, delay_labels)"
   ]
  },
  {
   "cell_type": "code",
   "execution_count": 26,
   "metadata": {},
   "outputs": [
    {
     "output_type": "execute_result",
     "data": {
      "text/plain": [
       "6.143320639541175"
      ]
     },
     "metadata": {},
     "execution_count": 26
    }
   ],
   "source": [
    "delay_predictions = svm_reg.predict(delay_prepared)\n",
    "svm_mse = mean_squared_error(delay_labels, delay_predictions)\n",
    "svm_rmse = np.sqrt(svm_mse)\n",
    "svm_rmse"
   ]
  },
  {
   "cell_type": "code",
   "execution_count": 27,
   "metadata": {},
   "outputs": [
    {
     "output_type": "stream",
     "name": "stdout",
     "text": [
      "Scores: \t\t [6.197153   5.92382109 6.29714423 6.7052457  5.72240997 5.79032461\n 5.75179074 6.01698481 6.01823031 6.9472707 ]\nMean: \t\t\t 6.137037516220859\nStandard deviation: \t 0.3902712336488441\n"
     ]
    }
   ],
   "source": [
    "svr_scores = cross_val_score(svm_reg, delay_prepared, delay_labels, scoring=\"neg_mean_squared_error\", cv=10)\n",
    "svr_rmse_scores = np.sqrt(-svr_scores)\n",
    "display_scores(svr_rmse_scores)"
   ]
  },
  {
   "source": [
    "We can see that the best model is the Random Forest 🌲"
   ],
   "cell_type": "markdown",
   "metadata": {}
  },
  {
   "cell_type": "markdown",
   "metadata": {},
   "source": [
    "## Fine-Tune the models\n",
    "### Grid Search"
   ]
  },
  {
   "cell_type": "code",
   "execution_count": 28,
   "metadata": {},
   "outputs": [
    {
     "output_type": "execute_result",
     "data": {
      "text/plain": [
       "GridSearchCV(cv=5, estimator=RandomForestRegressor(random_state=42),\n",
       "             param_grid=[{'max_features': [2, 4, 6, 8],\n",
       "                          'n_estimators': [3, 10, 30]},\n",
       "                         {'bootstrap': [False], 'max_features': [2, 3, 4],\n",
       "                          'n_estimators': [3, 10]}],\n",
       "             return_train_score=True, scoring='neg_mean_squared_error')"
      ]
     },
     "metadata": {},
     "execution_count": 28
    }
   ],
   "source": [
    "from sklearn.model_selection import GridSearchCV\n",
    "\n",
    "param_grid = [\n",
    "    # try 12 (3×4) combinations of hyperparameters\n",
    "    {'n_estimators': [3, 10, 30], 'max_features': [2, 4, 6, 8]},\n",
    "    # then try 6 (2×3) combinations with bootstrap set as False\n",
    "    {'bootstrap': [False], 'n_estimators': [3, 10], 'max_features': [2, 3, 4]},\n",
    "  ]\n",
    "\n",
    "forest_reg = RandomForestRegressor(random_state=42)\n",
    "# train across 5 folds, that's a total of (12+6)*5=90 rounds of training \n",
    "grid_search = GridSearchCV(forest_reg, param_grid, cv=5, scoring='neg_mean_squared_error', return_train_score=True)\n",
    "grid_search.fit(delay_prepared, delay_labels)"
   ]
  },
  {
   "cell_type": "code",
   "execution_count": 29,
   "metadata": {},
   "outputs": [
    {
     "output_type": "execute_result",
     "data": {
      "text/plain": [
       "{'max_features': 2, 'n_estimators': 30}"
      ]
     },
     "metadata": {},
     "execution_count": 29
    }
   ],
   "source": [
    "grid_search.best_params_"
   ]
  },
  {
   "cell_type": "code",
   "execution_count": 30,
   "metadata": {},
   "outputs": [
    {
     "output_type": "execute_result",
     "data": {
      "text/plain": [
       "RandomForestRegressor(max_features=2, n_estimators=30, random_state=42)"
      ]
     },
     "metadata": {},
     "execution_count": 30
    }
   ],
   "source": [
    "grid_search.best_estimator_"
   ]
  },
  {
   "cell_type": "code",
   "execution_count": 31,
   "metadata": {},
   "outputs": [
    {
     "output_type": "stream",
     "name": "stdout",
     "text": [
      "5.240096876366459 {'max_features': 2, 'n_estimators': 3}\n4.7433909734181245 {'max_features': 2, 'n_estimators': 10}\n4.512295139201265 {'max_features': 2, 'n_estimators': 30}\n5.152310121593334 {'max_features': 4, 'n_estimators': 3}\n4.676316882609513 {'max_features': 4, 'n_estimators': 10}\n4.607235335095353 {'max_features': 4, 'n_estimators': 30}\n5.458669370237745 {'max_features': 6, 'n_estimators': 3}\n5.009166553501716 {'max_features': 6, 'n_estimators': 10}\n4.746476949057903 {'max_features': 6, 'n_estimators': 30}\n5.463895528640096 {'max_features': 8, 'n_estimators': 3}\n5.01871830705601 {'max_features': 8, 'n_estimators': 10}\n4.848935220707941 {'max_features': 8, 'n_estimators': 30}\n5.220864144402781 {'bootstrap': False, 'max_features': 2, 'n_estimators': 3}\n4.6063908139589955 {'bootstrap': False, 'max_features': 2, 'n_estimators': 10}\n4.868491457774848 {'bootstrap': False, 'max_features': 3, 'n_estimators': 3}\n4.539094053037586 {'bootstrap': False, 'max_features': 3, 'n_estimators': 10}\n5.051449531661929 {'bootstrap': False, 'max_features': 4, 'n_estimators': 3}\n4.574873404212254 {'bootstrap': False, 'max_features': 4, 'n_estimators': 10}\n"
     ]
    }
   ],
   "source": [
    "cvres = grid_search.cv_results_\n",
    "for mean_score, params in zip(cvres[\"mean_test_score\"], cvres[\"params\"]):\n",
    "    print(np.sqrt(-mean_score), params)"
   ]
  },
  {
   "cell_type": "code",
   "execution_count": 32,
   "metadata": {},
   "outputs": [
    {
     "output_type": "execute_result",
     "data": {
      "text/plain": [
       "    mean_fit_time  std_fit_time  mean_score_time  std_score_time  \\\n",
       "0        0.015198      0.005292         0.002047        0.000702   \n",
       "1        0.039721      0.009731         0.004368        0.001450   \n",
       "2        0.139025      0.010922         0.013684        0.003050   \n",
       "3        0.024507      0.003583         0.002960        0.000668   \n",
       "4        0.046552      0.009575         0.002604        0.000289   \n",
       "5        0.147646      0.025501         0.007719        0.001495   \n",
       "6        0.020154      0.005856         0.002298        0.001533   \n",
       "7        0.099648      0.018644         0.004094        0.000980   \n",
       "8        0.197183      0.033673         0.009264        0.002219   \n",
       "9        0.019496      0.001566         0.002245        0.001003   \n",
       "10       0.063031      0.005558         0.003047        0.000595   \n",
       "11       0.179745      0.006631         0.007355        0.001144   \n",
       "12       0.012920      0.002247         0.002022        0.000719   \n",
       "13       0.037023      0.000906         0.003969        0.000626   \n",
       "14       0.014379      0.001731         0.001606        0.000274   \n",
       "15       0.044422      0.003846         0.004330        0.001468   \n",
       "16       0.015376      0.001256         0.001661        0.000405   \n",
       "17       0.050301      0.002715         0.003863        0.001397   \n",
       "\n",
       "   param_max_features param_n_estimators param_bootstrap  \\\n",
       "0                   2                  3             NaN   \n",
       "1                   2                 10             NaN   \n",
       "2                   2                 30             NaN   \n",
       "3                   4                  3             NaN   \n",
       "4                   4                 10             NaN   \n",
       "5                   4                 30             NaN   \n",
       "6                   6                  3             NaN   \n",
       "7                   6                 10             NaN   \n",
       "8                   6                 30             NaN   \n",
       "9                   8                  3             NaN   \n",
       "10                  8                 10             NaN   \n",
       "11                  8                 30             NaN   \n",
       "12                  2                  3           False   \n",
       "13                  2                 10           False   \n",
       "14                  3                  3           False   \n",
       "15                  3                 10           False   \n",
       "16                  4                  3           False   \n",
       "17                  4                 10           False   \n",
       "\n",
       "                                               params  split0_test_score  \\\n",
       "0              {'max_features': 2, 'n_estimators': 3}         -31.948220   \n",
       "1             {'max_features': 2, 'n_estimators': 10}         -24.257896   \n",
       "2             {'max_features': 2, 'n_estimators': 30}         -21.981561   \n",
       "3              {'max_features': 4, 'n_estimators': 3}         -28.662172   \n",
       "4             {'max_features': 4, 'n_estimators': 10}         -22.134417   \n",
       "5             {'max_features': 4, 'n_estimators': 30}         -22.801055   \n",
       "6              {'max_features': 6, 'n_estimators': 3}         -31.193276   \n",
       "7             {'max_features': 6, 'n_estimators': 10}         -24.916553   \n",
       "8             {'max_features': 6, 'n_estimators': 30}         -23.289986   \n",
       "9              {'max_features': 8, 'n_estimators': 3}         -27.475009   \n",
       "10            {'max_features': 8, 'n_estimators': 10}         -24.469547   \n",
       "11            {'max_features': 8, 'n_estimators': 30}         -23.744998   \n",
       "12  {'bootstrap': False, 'max_features': 2, 'n_est...         -26.379720   \n",
       "13  {'bootstrap': False, 'max_features': 2, 'n_est...         -21.653042   \n",
       "14  {'bootstrap': False, 'max_features': 3, 'n_est...         -24.902373   \n",
       "15  {'bootstrap': False, 'max_features': 3, 'n_est...         -22.937152   \n",
       "16  {'bootstrap': False, 'max_features': 4, 'n_est...         -28.112729   \n",
       "17  {'bootstrap': False, 'max_features': 4, 'n_est...         -22.419207   \n",
       "\n",
       "    split1_test_score  ...  mean_test_score  std_test_score  rank_test_score  \\\n",
       "0          -27.991550  ...       -27.458615        3.529272               16   \n",
       "1          -23.632977  ...       -22.499758        1.517243                7   \n",
       "2          -22.037177  ...       -20.360807        1.570595                1   \n",
       "3          -27.544229  ...       -26.546300        1.585499               14   \n",
       "4          -22.836634  ...       -21.867940        1.097711                6   \n",
       "5          -22.350077  ...       -21.226617        1.269079                5   \n",
       "6          -30.701007  ...       -29.797071        1.333831               17   \n",
       "7          -26.607233  ...       -25.091750        1.177897               11   \n",
       "8          -23.333294  ...       -22.529043        1.131818                8   \n",
       "9          -33.569040  ...       -29.854154        2.648092               18   \n",
       "10         -26.729110  ...       -25.187533        1.528223               12   \n",
       "11         -24.876836  ...       -23.512173        1.371366                9   \n",
       "12         -27.097627  ...       -27.257422        2.284620               15   \n",
       "13         -21.736926  ...       -21.218836        0.702434                4   \n",
       "14         -23.644732  ...       -23.702209        1.420895               10   \n",
       "15         -20.557443  ...       -20.603375        1.431604                2   \n",
       "16         -29.492089  ...       -25.517142        2.985355               13   \n",
       "17         -22.893997  ...       -20.929467        1.569498                3   \n",
       "\n",
       "    split0_train_score  split1_train_score  split2_train_score  \\\n",
       "0            -7.482141           -7.335178           -6.737877   \n",
       "1            -4.080393           -3.865883           -3.946413   \n",
       "2            -3.024295           -3.086335           -3.068147   \n",
       "3            -7.339991           -7.505173           -7.655466   \n",
       "4            -4.122810           -4.122308           -4.242636   \n",
       "5            -3.175375           -3.234233           -3.175519   \n",
       "6            -7.881107           -8.286370           -8.137697   \n",
       "7            -4.371332           -4.871247           -4.760316   \n",
       "8            -3.307600           -3.559352           -3.533054   \n",
       "9            -8.132749           -8.236122           -7.221233   \n",
       "10           -4.615470           -4.565437           -4.518656   \n",
       "11           -3.568314           -3.763748           -3.520374   \n",
       "12           -0.000000           -0.000000           -0.000000   \n",
       "13           -0.000000           -0.000000           -0.000000   \n",
       "14           -0.000000           -0.000000           -0.000000   \n",
       "15           -0.000000           -0.000000           -0.000000   \n",
       "16           -0.000000           -0.000000           -0.000000   \n",
       "17           -0.000000           -0.000000           -0.000000   \n",
       "\n",
       "    split3_train_score  split4_train_score  mean_train_score  std_train_score  \n",
       "0            -7.227618           -7.747516         -7.306066         0.333383  \n",
       "1            -4.110769           -4.097746         -4.020241         0.097054  \n",
       "2            -3.242390           -3.216196         -3.127473         0.085948  \n",
       "3            -7.500742           -7.363640         -7.473002         0.113797  \n",
       "4            -4.076746           -4.137576         -4.140415         0.055043  \n",
       "5            -3.165043           -3.341126         -3.218259         0.066105  \n",
       "6            -7.912946           -9.099510         -8.263526         0.443706  \n",
       "7            -4.566026           -4.829749         -4.679734         0.186396  \n",
       "8            -3.462457           -3.659084         -3.504310         0.116839  \n",
       "9            -8.620127           -8.675750         -8.177196         0.522314  \n",
       "10           -4.567649           -4.874355         -4.628313         0.126775  \n",
       "11           -3.555698           -3.749061         -3.631439         0.103341  \n",
       "12           -0.000000           -0.000000          0.000000         0.000000  \n",
       "13           -0.000000           -0.000000          0.000000         0.000000  \n",
       "14           -0.000000           -0.000000          0.000000         0.000000  \n",
       "15           -0.000000           -0.000000          0.000000         0.000000  \n",
       "16           -0.000000           -0.000000          0.000000         0.000000  \n",
       "17           -0.000000           -0.000000          0.000000         0.000000  \n",
       "\n",
       "[18 rows x 23 columns]"
      ],
      "text/html": "<div>\n<style scoped>\n    .dataframe tbody tr th:only-of-type {\n        vertical-align: middle;\n    }\n\n    .dataframe tbody tr th {\n        vertical-align: top;\n    }\n\n    .dataframe thead th {\n        text-align: right;\n    }\n</style>\n<table border=\"1\" class=\"dataframe\">\n  <thead>\n    <tr style=\"text-align: right;\">\n      <th></th>\n      <th>mean_fit_time</th>\n      <th>std_fit_time</th>\n      <th>mean_score_time</th>\n      <th>std_score_time</th>\n      <th>param_max_features</th>\n      <th>param_n_estimators</th>\n      <th>param_bootstrap</th>\n      <th>params</th>\n      <th>split0_test_score</th>\n      <th>split1_test_score</th>\n      <th>...</th>\n      <th>mean_test_score</th>\n      <th>std_test_score</th>\n      <th>rank_test_score</th>\n      <th>split0_train_score</th>\n      <th>split1_train_score</th>\n      <th>split2_train_score</th>\n      <th>split3_train_score</th>\n      <th>split4_train_score</th>\n      <th>mean_train_score</th>\n      <th>std_train_score</th>\n    </tr>\n  </thead>\n  <tbody>\n    <tr>\n      <th>0</th>\n      <td>0.015198</td>\n      <td>0.005292</td>\n      <td>0.002047</td>\n      <td>0.000702</td>\n      <td>2</td>\n      <td>3</td>\n      <td>NaN</td>\n      <td>{'max_features': 2, 'n_estimators': 3}</td>\n      <td>-31.948220</td>\n      <td>-27.991550</td>\n      <td>...</td>\n      <td>-27.458615</td>\n      <td>3.529272</td>\n      <td>16</td>\n      <td>-7.482141</td>\n      <td>-7.335178</td>\n      <td>-6.737877</td>\n      <td>-7.227618</td>\n      <td>-7.747516</td>\n      <td>-7.306066</td>\n      <td>0.333383</td>\n    </tr>\n    <tr>\n      <th>1</th>\n      <td>0.039721</td>\n      <td>0.009731</td>\n      <td>0.004368</td>\n      <td>0.001450</td>\n      <td>2</td>\n      <td>10</td>\n      <td>NaN</td>\n      <td>{'max_features': 2, 'n_estimators': 10}</td>\n      <td>-24.257896</td>\n      <td>-23.632977</td>\n      <td>...</td>\n      <td>-22.499758</td>\n      <td>1.517243</td>\n      <td>7</td>\n      <td>-4.080393</td>\n      <td>-3.865883</td>\n      <td>-3.946413</td>\n      <td>-4.110769</td>\n      <td>-4.097746</td>\n      <td>-4.020241</td>\n      <td>0.097054</td>\n    </tr>\n    <tr>\n      <th>2</th>\n      <td>0.139025</td>\n      <td>0.010922</td>\n      <td>0.013684</td>\n      <td>0.003050</td>\n      <td>2</td>\n      <td>30</td>\n      <td>NaN</td>\n      <td>{'max_features': 2, 'n_estimators': 30}</td>\n      <td>-21.981561</td>\n      <td>-22.037177</td>\n      <td>...</td>\n      <td>-20.360807</td>\n      <td>1.570595</td>\n      <td>1</td>\n      <td>-3.024295</td>\n      <td>-3.086335</td>\n      <td>-3.068147</td>\n      <td>-3.242390</td>\n      <td>-3.216196</td>\n      <td>-3.127473</td>\n      <td>0.085948</td>\n    </tr>\n    <tr>\n      <th>3</th>\n      <td>0.024507</td>\n      <td>0.003583</td>\n      <td>0.002960</td>\n      <td>0.000668</td>\n      <td>4</td>\n      <td>3</td>\n      <td>NaN</td>\n      <td>{'max_features': 4, 'n_estimators': 3}</td>\n      <td>-28.662172</td>\n      <td>-27.544229</td>\n      <td>...</td>\n      <td>-26.546300</td>\n      <td>1.585499</td>\n      <td>14</td>\n      <td>-7.339991</td>\n      <td>-7.505173</td>\n      <td>-7.655466</td>\n      <td>-7.500742</td>\n      <td>-7.363640</td>\n      <td>-7.473002</td>\n      <td>0.113797</td>\n    </tr>\n    <tr>\n      <th>4</th>\n      <td>0.046552</td>\n      <td>0.009575</td>\n      <td>0.002604</td>\n      <td>0.000289</td>\n      <td>4</td>\n      <td>10</td>\n      <td>NaN</td>\n      <td>{'max_features': 4, 'n_estimators': 10}</td>\n      <td>-22.134417</td>\n      <td>-22.836634</td>\n      <td>...</td>\n      <td>-21.867940</td>\n      <td>1.097711</td>\n      <td>6</td>\n      <td>-4.122810</td>\n      <td>-4.122308</td>\n      <td>-4.242636</td>\n      <td>-4.076746</td>\n      <td>-4.137576</td>\n      <td>-4.140415</td>\n      <td>0.055043</td>\n    </tr>\n    <tr>\n      <th>5</th>\n      <td>0.147646</td>\n      <td>0.025501</td>\n      <td>0.007719</td>\n      <td>0.001495</td>\n      <td>4</td>\n      <td>30</td>\n      <td>NaN</td>\n      <td>{'max_features': 4, 'n_estimators': 30}</td>\n      <td>-22.801055</td>\n      <td>-22.350077</td>\n      <td>...</td>\n      <td>-21.226617</td>\n      <td>1.269079</td>\n      <td>5</td>\n      <td>-3.175375</td>\n      <td>-3.234233</td>\n      <td>-3.175519</td>\n      <td>-3.165043</td>\n      <td>-3.341126</td>\n      <td>-3.218259</td>\n      <td>0.066105</td>\n    </tr>\n    <tr>\n      <th>6</th>\n      <td>0.020154</td>\n      <td>0.005856</td>\n      <td>0.002298</td>\n      <td>0.001533</td>\n      <td>6</td>\n      <td>3</td>\n      <td>NaN</td>\n      <td>{'max_features': 6, 'n_estimators': 3}</td>\n      <td>-31.193276</td>\n      <td>-30.701007</td>\n      <td>...</td>\n      <td>-29.797071</td>\n      <td>1.333831</td>\n      <td>17</td>\n      <td>-7.881107</td>\n      <td>-8.286370</td>\n      <td>-8.137697</td>\n      <td>-7.912946</td>\n      <td>-9.099510</td>\n      <td>-8.263526</td>\n      <td>0.443706</td>\n    </tr>\n    <tr>\n      <th>7</th>\n      <td>0.099648</td>\n      <td>0.018644</td>\n      <td>0.004094</td>\n      <td>0.000980</td>\n      <td>6</td>\n      <td>10</td>\n      <td>NaN</td>\n      <td>{'max_features': 6, 'n_estimators': 10}</td>\n      <td>-24.916553</td>\n      <td>-26.607233</td>\n      <td>...</td>\n      <td>-25.091750</td>\n      <td>1.177897</td>\n      <td>11</td>\n      <td>-4.371332</td>\n      <td>-4.871247</td>\n      <td>-4.760316</td>\n      <td>-4.566026</td>\n      <td>-4.829749</td>\n      <td>-4.679734</td>\n      <td>0.186396</td>\n    </tr>\n    <tr>\n      <th>8</th>\n      <td>0.197183</td>\n      <td>0.033673</td>\n      <td>0.009264</td>\n      <td>0.002219</td>\n      <td>6</td>\n      <td>30</td>\n      <td>NaN</td>\n      <td>{'max_features': 6, 'n_estimators': 30}</td>\n      <td>-23.289986</td>\n      <td>-23.333294</td>\n      <td>...</td>\n      <td>-22.529043</td>\n      <td>1.131818</td>\n      <td>8</td>\n      <td>-3.307600</td>\n      <td>-3.559352</td>\n      <td>-3.533054</td>\n      <td>-3.462457</td>\n      <td>-3.659084</td>\n      <td>-3.504310</td>\n      <td>0.116839</td>\n    </tr>\n    <tr>\n      <th>9</th>\n      <td>0.019496</td>\n      <td>0.001566</td>\n      <td>0.002245</td>\n      <td>0.001003</td>\n      <td>8</td>\n      <td>3</td>\n      <td>NaN</td>\n      <td>{'max_features': 8, 'n_estimators': 3}</td>\n      <td>-27.475009</td>\n      <td>-33.569040</td>\n      <td>...</td>\n      <td>-29.854154</td>\n      <td>2.648092</td>\n      <td>18</td>\n      <td>-8.132749</td>\n      <td>-8.236122</td>\n      <td>-7.221233</td>\n      <td>-8.620127</td>\n      <td>-8.675750</td>\n      <td>-8.177196</td>\n      <td>0.522314</td>\n    </tr>\n    <tr>\n      <th>10</th>\n      <td>0.063031</td>\n      <td>0.005558</td>\n      <td>0.003047</td>\n      <td>0.000595</td>\n      <td>8</td>\n      <td>10</td>\n      <td>NaN</td>\n      <td>{'max_features': 8, 'n_estimators': 10}</td>\n      <td>-24.469547</td>\n      <td>-26.729110</td>\n      <td>...</td>\n      <td>-25.187533</td>\n      <td>1.528223</td>\n      <td>12</td>\n      <td>-4.615470</td>\n      <td>-4.565437</td>\n      <td>-4.518656</td>\n      <td>-4.567649</td>\n      <td>-4.874355</td>\n      <td>-4.628313</td>\n      <td>0.126775</td>\n    </tr>\n    <tr>\n      <th>11</th>\n      <td>0.179745</td>\n      <td>0.006631</td>\n      <td>0.007355</td>\n      <td>0.001144</td>\n      <td>8</td>\n      <td>30</td>\n      <td>NaN</td>\n      <td>{'max_features': 8, 'n_estimators': 30}</td>\n      <td>-23.744998</td>\n      <td>-24.876836</td>\n      <td>...</td>\n      <td>-23.512173</td>\n      <td>1.371366</td>\n      <td>9</td>\n      <td>-3.568314</td>\n      <td>-3.763748</td>\n      <td>-3.520374</td>\n      <td>-3.555698</td>\n      <td>-3.749061</td>\n      <td>-3.631439</td>\n      <td>0.103341</td>\n    </tr>\n    <tr>\n      <th>12</th>\n      <td>0.012920</td>\n      <td>0.002247</td>\n      <td>0.002022</td>\n      <td>0.000719</td>\n      <td>2</td>\n      <td>3</td>\n      <td>False</td>\n      <td>{'bootstrap': False, 'max_features': 2, 'n_est...</td>\n      <td>-26.379720</td>\n      <td>-27.097627</td>\n      <td>...</td>\n      <td>-27.257422</td>\n      <td>2.284620</td>\n      <td>15</td>\n      <td>-0.000000</td>\n      <td>-0.000000</td>\n      <td>-0.000000</td>\n      <td>-0.000000</td>\n      <td>-0.000000</td>\n      <td>0.000000</td>\n      <td>0.000000</td>\n    </tr>\n    <tr>\n      <th>13</th>\n      <td>0.037023</td>\n      <td>0.000906</td>\n      <td>0.003969</td>\n      <td>0.000626</td>\n      <td>2</td>\n      <td>10</td>\n      <td>False</td>\n      <td>{'bootstrap': False, 'max_features': 2, 'n_est...</td>\n      <td>-21.653042</td>\n      <td>-21.736926</td>\n      <td>...</td>\n      <td>-21.218836</td>\n      <td>0.702434</td>\n      <td>4</td>\n      <td>-0.000000</td>\n      <td>-0.000000</td>\n      <td>-0.000000</td>\n      <td>-0.000000</td>\n      <td>-0.000000</td>\n      <td>0.000000</td>\n      <td>0.000000</td>\n    </tr>\n    <tr>\n      <th>14</th>\n      <td>0.014379</td>\n      <td>0.001731</td>\n      <td>0.001606</td>\n      <td>0.000274</td>\n      <td>3</td>\n      <td>3</td>\n      <td>False</td>\n      <td>{'bootstrap': False, 'max_features': 3, 'n_est...</td>\n      <td>-24.902373</td>\n      <td>-23.644732</td>\n      <td>...</td>\n      <td>-23.702209</td>\n      <td>1.420895</td>\n      <td>10</td>\n      <td>-0.000000</td>\n      <td>-0.000000</td>\n      <td>-0.000000</td>\n      <td>-0.000000</td>\n      <td>-0.000000</td>\n      <td>0.000000</td>\n      <td>0.000000</td>\n    </tr>\n    <tr>\n      <th>15</th>\n      <td>0.044422</td>\n      <td>0.003846</td>\n      <td>0.004330</td>\n      <td>0.001468</td>\n      <td>3</td>\n      <td>10</td>\n      <td>False</td>\n      <td>{'bootstrap': False, 'max_features': 3, 'n_est...</td>\n      <td>-22.937152</td>\n      <td>-20.557443</td>\n      <td>...</td>\n      <td>-20.603375</td>\n      <td>1.431604</td>\n      <td>2</td>\n      <td>-0.000000</td>\n      <td>-0.000000</td>\n      <td>-0.000000</td>\n      <td>-0.000000</td>\n      <td>-0.000000</td>\n      <td>0.000000</td>\n      <td>0.000000</td>\n    </tr>\n    <tr>\n      <th>16</th>\n      <td>0.015376</td>\n      <td>0.001256</td>\n      <td>0.001661</td>\n      <td>0.000405</td>\n      <td>4</td>\n      <td>3</td>\n      <td>False</td>\n      <td>{'bootstrap': False, 'max_features': 4, 'n_est...</td>\n      <td>-28.112729</td>\n      <td>-29.492089</td>\n      <td>...</td>\n      <td>-25.517142</td>\n      <td>2.985355</td>\n      <td>13</td>\n      <td>-0.000000</td>\n      <td>-0.000000</td>\n      <td>-0.000000</td>\n      <td>-0.000000</td>\n      <td>-0.000000</td>\n      <td>0.000000</td>\n      <td>0.000000</td>\n    </tr>\n    <tr>\n      <th>17</th>\n      <td>0.050301</td>\n      <td>0.002715</td>\n      <td>0.003863</td>\n      <td>0.001397</td>\n      <td>4</td>\n      <td>10</td>\n      <td>False</td>\n      <td>{'bootstrap': False, 'max_features': 4, 'n_est...</td>\n      <td>-22.419207</td>\n      <td>-22.893997</td>\n      <td>...</td>\n      <td>-20.929467</td>\n      <td>1.569498</td>\n      <td>3</td>\n      <td>-0.000000</td>\n      <td>-0.000000</td>\n      <td>-0.000000</td>\n      <td>-0.000000</td>\n      <td>-0.000000</td>\n      <td>0.000000</td>\n      <td>0.000000</td>\n    </tr>\n  </tbody>\n</table>\n<p>18 rows × 23 columns</p>\n</div>"
     },
     "metadata": {},
     "execution_count": 32
    }
   ],
   "source": [
    "pd.DataFrame(grid_search.cv_results_)"
   ]
  },
  {
   "source": [
    "We should evaluate higher values of n_estimators as well, since 30 is the maximum value that was evaluated. The score may continue to improve."
   ],
   "cell_type": "markdown",
   "metadata": {}
  },
  {
   "cell_type": "code",
   "execution_count": 33,
   "metadata": {},
   "outputs": [
    {
     "output_type": "stream",
     "name": "stdout",
     "text": [
      "{'bootstrap': False, 'max_features': 2, 'n_estimators': 80} \n\n4.573423072289646 {'max_features': 1, 'n_estimators': 30}\n4.539207707599819 {'max_features': 1, 'n_estimators': 40}\n4.52706967450475 {'max_features': 1, 'n_estimators': 50}\n4.512295139201265 {'max_features': 2, 'n_estimators': 30}\n4.469351225923668 {'max_features': 2, 'n_estimators': 40}\n4.457668823331881 {'max_features': 2, 'n_estimators': 50}\n4.607235335095353 {'max_features': 4, 'n_estimators': 30}\n4.58291382182022 {'max_features': 4, 'n_estimators': 40}\n4.564372978217251 {'max_features': 4, 'n_estimators': 50}\n4.746476949057903 {'max_features': 6, 'n_estimators': 30}\n4.713991412654242 {'max_features': 6, 'n_estimators': 40}\n4.688732434446203 {'max_features': 6, 'n_estimators': 50}\n4.393837537162528 {'bootstrap': False, 'max_features': 1, 'n_estimators': 70}\n4.373075814268951 {'bootstrap': False, 'max_features': 1, 'n_estimators': 80}\n4.379732506172265 {'bootstrap': False, 'max_features': 1, 'n_estimators': 90}\n4.360870158861618 {'bootstrap': False, 'max_features': 2, 'n_estimators': 70}\n4.3578235941221735 {'bootstrap': False, 'max_features': 2, 'n_estimators': 80}\n4.357962086025498 {'bootstrap': False, 'max_features': 2, 'n_estimators': 90}\n4.403021044331426 {'bootstrap': False, 'max_features': 4, 'n_estimators': 70}\n4.387190986381162 {'bootstrap': False, 'max_features': 4, 'n_estimators': 80}\n4.386718248172303 {'bootstrap': False, 'max_features': 4, 'n_estimators': 90}\n"
     ]
    }
   ],
   "source": [
    "param_grid = [\n",
    "    # try 12 (3×4) combinations of hyperparameters\n",
    "    {'n_estimators': [30, 40, 50], 'max_features': [1, 2, 4, 6]},\n",
    "    # then try 9 (3×3) combinations with bootstrap set as False\n",
    "    {'bootstrap': [False], 'n_estimators': [70, 80, 90], 'max_features': [1, 2, 4]},\n",
    "  ]\n",
    "\n",
    "forest_reg = RandomForestRegressor(random_state=42)\n",
    "# train across 5 folds, that's a total of (12+9)*5=105 rounds of training \n",
    "grid_search = GridSearchCV(forest_reg, param_grid, cv=5, scoring='neg_mean_squared_error', return_train_score=True)\n",
    "grid_search.fit(delay_prepared, delay_labels)\n",
    "print(grid_search.best_params_, \"\\n\")\n",
    "cvres = grid_search.cv_results_\n",
    "for mean_score, params in zip(cvres[\"mean_test_score\"], cvres[\"params\"]):\n",
    "    print(np.sqrt(-mean_score), params)"
   ]
  },
  {
   "cell_type": "markdown",
   "metadata": {},
   "source": [
    "### Randomized Search"
   ]
  },
  {
   "cell_type": "code",
   "execution_count": 34,
   "metadata": {},
   "outputs": [
    {
     "output_type": "execute_result",
     "data": {
      "text/plain": [
       "RandomizedSearchCV(cv=5, estimator=RandomForestRegressor(random_state=42),\n",
       "                   param_distributions={'max_features': <scipy.stats._distn_infrastructure.rv_frozen object at 0x7f4722108bb0>,\n",
       "                                        'n_estimators': <scipy.stats._distn_infrastructure.rv_frozen object at 0x7f47220fa610>},\n",
       "                   random_state=42, scoring='neg_mean_squared_error')"
      ]
     },
     "metadata": {},
     "execution_count": 34
    }
   ],
   "source": [
    "from sklearn.model_selection import RandomizedSearchCV\n",
    "from scipy.stats import randint\n",
    "\n",
    "param_distribs = {\n",
    "        'n_estimators': randint(low=1, high=200),\n",
    "        'max_features': randint(low=1, high=8),\n",
    "    }\n",
    "\n",
    "forest_reg = RandomForestRegressor(random_state=42)\n",
    "rnd_search = RandomizedSearchCV(forest_reg, param_distributions=param_distribs, n_iter=10, cv=5, scoring='neg_mean_squared_error', random_state=42)\n",
    "rnd_search.fit(delay_prepared, delay_labels)"
   ]
  },
  {
   "cell_type": "code",
   "execution_count": 35,
   "metadata": {},
   "outputs": [
    {
     "output_type": "stream",
     "name": "stdout",
     "text": [
      "4.7128061572932305 {'max_features': 7, 'n_estimators': 180}\n4.692769900201831 {'max_features': 5, 'n_estimators': 15}\n4.467978197344861 {'max_features': 3, 'n_estimators': 72}\n4.673364952771489 {'max_features': 5, 'n_estimators': 21}\n4.72627611998406 {'max_features': 7, 'n_estimators': 122}\n4.472360020011329 {'max_features': 3, 'n_estimators': 75}\n4.4767328300379345 {'max_features': 3, 'n_estimators': 88}\n4.585614785692842 {'max_features': 5, 'n_estimators': 100}\n4.48109553048962 {'max_features': 3, 'n_estimators': 150}\n5.833918462063866 {'max_features': 5, 'n_estimators': 2}\n"
     ]
    }
   ],
   "source": [
    "cvres = rnd_search.cv_results_\n",
    "for mean_score, params in zip(cvres[\"mean_test_score\"], cvres[\"params\"]):\n",
    "    print(np.sqrt(-mean_score), params)"
   ]
  },
  {
   "source": [
    "### Analyze the Best Models and Their Errors"
   ],
   "cell_type": "markdown",
   "metadata": {}
  },
  {
   "cell_type": "code",
   "execution_count": 36,
   "metadata": {},
   "outputs": [
    {
     "output_type": "execute_result",
     "data": {
      "text/plain": [
       "array([0.0185991 , 0.00269033, 0.0936918 , 0.20185134, 0.13303518,\n",
       "       0.16204034, 0.05368777, 0.07986222, 0.2128255 , 0.00391641,\n",
       "       0.00408454, 0.00873558, 0.00828491, 0.00904023, 0.00765477])"
      ]
     },
     "metadata": {},
     "execution_count": 36
    }
   ],
   "source": [
    "feature_importances = grid_search.best_estimator_.feature_importances_\n",
    "feature_importances"
   ]
  },
  {
   "cell_type": "code",
   "execution_count": 57,
   "metadata": {},
   "outputs": [
    {
     "output_type": "execute_result",
     "data": {
      "text/plain": [
       "<BarContainer object of 11 artists>"
      ]
     },
     "metadata": {},
     "execution_count": 57
    },
    {
     "output_type": "display_data",
     "data": {
      "text/plain": "<Figure size 432x288 with 1 Axes>",
      "image/svg+xml": "<?xml version=\"1.0\" encoding=\"utf-8\" standalone=\"no\"?>\n<!DOCTYPE svg PUBLIC \"-//W3C//DTD SVG 1.1//EN\"\n  \"http://www.w3.org/Graphics/SVG/1.1/DTD/svg11.dtd\">\n<!-- Created with matplotlib (https://matplotlib.org/) -->\n<svg height=\"248.518125pt\" version=\"1.1\" viewBox=\"0 0 443.185937 248.518125\" width=\"443.185937pt\" xmlns=\"http://www.w3.org/2000/svg\" xmlns:xlink=\"http://www.w3.org/1999/xlink\">\n <metadata>\n  <rdf:RDF xmlns:cc=\"http://creativecommons.org/ns#\" xmlns:dc=\"http://purl.org/dc/elements/1.1/\" xmlns:rdf=\"http://www.w3.org/1999/02/22-rdf-syntax-ns#\">\n   <cc:Work>\n    <dc:type rdf:resource=\"http://purl.org/dc/dcmitype/StillImage\"/>\n    <dc:date>2020-11-14T22:23:42.620297</dc:date>\n    <dc:format>image/svg+xml</dc:format>\n    <dc:creator>\n     <cc:Agent>\n      <dc:title>Matplotlib v3.3.2, https://matplotlib.org/</dc:title>\n     </cc:Agent>\n    </dc:creator>\n   </cc:Work>\n  </rdf:RDF>\n </metadata>\n <defs>\n  <style type=\"text/css\">*{stroke-linecap:butt;stroke-linejoin:round;}</style>\n </defs>\n <g id=\"figure_1\">\n  <g id=\"patch_1\">\n   <path d=\"M 0 248.518125 \nL 443.185937 248.518125 \nL 443.185937 0 \nL 0 0 \nz\n\" style=\"fill:none;\"/>\n  </g>\n  <g id=\"axes_1\">\n   <g id=\"patch_2\">\n    <path d=\"M 101.185938 224.64 \nL 435.985938 224.64 \nL 435.985938 7.2 \nL 101.185938 7.2 \nz\n\" style=\"fill:#ffffff;\"/>\n   </g>\n   <g id=\"patch_3\">\n    <path clip-path=\"url(#p480cffca7e)\" d=\"M 101.185938 214.756364 \nL 420.04308 214.756364 \nL 420.04308 200.113939 \nL 101.185938 200.113939 \nz\n\" style=\"fill:#1f77b4;opacity:0.5;\"/>\n   </g>\n   <g id=\"patch_4\">\n    <path clip-path=\"url(#p480cffca7e)\" d=\"M 101.185938 196.453333 \nL 403.601489 196.453333 \nL 403.601489 181.810909 \nL 101.185938 181.810909 \nz\n\" style=\"fill:#1f77b4;opacity:0.5;\"/>\n   </g>\n   <g id=\"patch_5\">\n    <path clip-path=\"url(#p480cffca7e)\" d=\"M 101.185938 178.150303 \nL 343.956288 178.150303 \nL 343.956288 163.507879 \nL 101.185938 163.507879 \nz\n\" style=\"fill:#1f77b4;opacity:0.5;\"/>\n   </g>\n   <g id=\"patch_6\">\n    <path clip-path=\"url(#p480cffca7e)\" d=\"M 101.185938 159.847273 \nL 300.500485 159.847273 \nL 300.500485 145.204848 \nL 101.185938 145.204848 \nz\n\" style=\"fill:#1f77b4;opacity:0.5;\"/>\n   </g>\n   <g id=\"patch_7\">\n    <path clip-path=\"url(#p480cffca7e)\" d=\"M 101.185938 141.544242 \nL 241.555862 141.544242 \nL 241.555862 126.901818 \nL 101.185938 126.901818 \nz\n\" style=\"fill:#1f77b4;opacity:0.5;\"/>\n   </g>\n   <g id=\"patch_8\">\n    <path clip-path=\"url(#p480cffca7e)\" d=\"M 101.185938 123.241212 \nL 220.836253 123.241212 \nL 220.836253 108.598788 \nL 101.185938 108.598788 \nz\n\" style=\"fill:#1f77b4;opacity:0.5;\"/>\n   </g>\n   <g id=\"patch_9\">\n    <path clip-path=\"url(#p480cffca7e)\" d=\"M 101.185938 104.938182 \nL 181.621451 104.938182 \nL 181.621451 90.295758 \nL 101.185938 90.295758 \nz\n\" style=\"fill:#1f77b4;opacity:0.5;\"/>\n   </g>\n   <g id=\"patch_10\">\n    <path clip-path=\"url(#p480cffca7e)\" d=\"M 101.185938 86.635152 \nL 129.051283 86.635152 \nL 129.051283 71.992727 \nL 101.185938 71.992727 \nz\n\" style=\"fill:#1f77b4;opacity:0.5;\"/>\n   </g>\n   <g id=\"patch_11\">\n    <path clip-path=\"url(#p480cffca7e)\" d=\"M 101.185938 68.332121 \nL 107.305436 68.332121 \nL 107.305436 53.689697 \nL 101.185938 53.689697 \nz\n\" style=\"fill:#1f77b4;opacity:0.5;\"/>\n   </g>\n   <g id=\"patch_12\">\n    <path clip-path=\"url(#p480cffca7e)\" d=\"M 101.185938 50.029091 \nL 107.053536 50.029091 \nL 107.053536 35.386667 \nL 101.185938 35.386667 \nz\n\" style=\"fill:#1f77b4;opacity:0.5;\"/>\n   </g>\n   <g id=\"patch_13\">\n    <path clip-path=\"url(#p480cffca7e)\" d=\"M 101.185938 31.726061 \nL 105.216619 31.726061 \nL 105.216619 17.083636 \nL 101.185938 17.083636 \nz\n\" style=\"fill:#1f77b4;opacity:0.5;\"/>\n   </g>\n   <g id=\"matplotlib.axis_1\">\n    <g id=\"xtick_1\">\n     <g id=\"line2d_1\">\n      <defs>\n       <path d=\"M 0 0 \nL 0 3.5 \n\" id=\"mdbb2ff489d\" style=\"stroke:#000000;stroke-width:0.8;\"/>\n      </defs>\n      <g>\n       <use style=\"stroke:#000000;stroke-width:0.8;\" x=\"101.185938\" xlink:href=\"#mdbb2ff489d\" y=\"224.64\"/>\n      </g>\n     </g>\n     <g id=\"text_1\">\n      <!-- 0.000 -->\n      <g transform=\"translate(86.871875 239.238437)scale(0.1 -0.1)\">\n       <defs>\n        <path d=\"M 31.78125 66.40625 \nQ 24.171875 66.40625 20.328125 58.90625 \nQ 16.5 51.421875 16.5 36.375 \nQ 16.5 21.390625 20.328125 13.890625 \nQ 24.171875 6.390625 31.78125 6.390625 \nQ 39.453125 6.390625 43.28125 13.890625 \nQ 47.125 21.390625 47.125 36.375 \nQ 47.125 51.421875 43.28125 58.90625 \nQ 39.453125 66.40625 31.78125 66.40625 \nz\nM 31.78125 74.21875 \nQ 44.046875 74.21875 50.515625 64.515625 \nQ 56.984375 54.828125 56.984375 36.375 \nQ 56.984375 17.96875 50.515625 8.265625 \nQ 44.046875 -1.421875 31.78125 -1.421875 \nQ 19.53125 -1.421875 13.0625 8.265625 \nQ 6.59375 17.96875 6.59375 36.375 \nQ 6.59375 54.828125 13.0625 64.515625 \nQ 19.53125 74.21875 31.78125 74.21875 \nz\n\" id=\"DejaVuSans-48\"/>\n        <path d=\"M 10.6875 12.40625 \nL 21 12.40625 \nL 21 0 \nL 10.6875 0 \nz\n\" id=\"DejaVuSans-46\"/>\n       </defs>\n       <use xlink:href=\"#DejaVuSans-48\"/>\n       <use x=\"63.623047\" xlink:href=\"#DejaVuSans-46\"/>\n       <use x=\"95.410156\" xlink:href=\"#DejaVuSans-48\"/>\n       <use x=\"159.033203\" xlink:href=\"#DejaVuSans-48\"/>\n       <use x=\"222.65625\" xlink:href=\"#DejaVuSans-48\"/>\n      </g>\n     </g>\n    </g>\n    <g id=\"xtick_2\">\n     <g id=\"line2d_2\">\n      <g>\n       <use style=\"stroke:#000000;stroke-width:0.8;\" x=\"138.641171\" xlink:href=\"#mdbb2ff489d\" y=\"224.64\"/>\n      </g>\n     </g>\n     <g id=\"text_2\">\n      <!-- 0.025 -->\n      <g transform=\"translate(124.327108 239.238437)scale(0.1 -0.1)\">\n       <defs>\n        <path d=\"M 19.1875 8.296875 \nL 53.609375 8.296875 \nL 53.609375 0 \nL 7.328125 0 \nL 7.328125 8.296875 \nQ 12.9375 14.109375 22.625 23.890625 \nQ 32.328125 33.6875 34.8125 36.53125 \nQ 39.546875 41.84375 41.421875 45.53125 \nQ 43.3125 49.21875 43.3125 52.78125 \nQ 43.3125 58.59375 39.234375 62.25 \nQ 35.15625 65.921875 28.609375 65.921875 \nQ 23.96875 65.921875 18.8125 64.3125 \nQ 13.671875 62.703125 7.8125 59.421875 \nL 7.8125 69.390625 \nQ 13.765625 71.78125 18.9375 73 \nQ 24.125 74.21875 28.421875 74.21875 \nQ 39.75 74.21875 46.484375 68.546875 \nQ 53.21875 62.890625 53.21875 53.421875 \nQ 53.21875 48.921875 51.53125 44.890625 \nQ 49.859375 40.875 45.40625 35.40625 \nQ 44.1875 33.984375 37.640625 27.21875 \nQ 31.109375 20.453125 19.1875 8.296875 \nz\n\" id=\"DejaVuSans-50\"/>\n        <path d=\"M 10.796875 72.90625 \nL 49.515625 72.90625 \nL 49.515625 64.59375 \nL 19.828125 64.59375 \nL 19.828125 46.734375 \nQ 21.96875 47.46875 24.109375 47.828125 \nQ 26.265625 48.1875 28.421875 48.1875 \nQ 40.625 48.1875 47.75 41.5 \nQ 54.890625 34.8125 54.890625 23.390625 \nQ 54.890625 11.625 47.5625 5.09375 \nQ 40.234375 -1.421875 26.90625 -1.421875 \nQ 22.3125 -1.421875 17.546875 -0.640625 \nQ 12.796875 0.140625 7.71875 1.703125 \nL 7.71875 11.625 \nQ 12.109375 9.234375 16.796875 8.0625 \nQ 21.484375 6.890625 26.703125 6.890625 \nQ 35.15625 6.890625 40.078125 11.328125 \nQ 45.015625 15.765625 45.015625 23.390625 \nQ 45.015625 31 40.078125 35.4375 \nQ 35.15625 39.890625 26.703125 39.890625 \nQ 22.75 39.890625 18.8125 39.015625 \nQ 14.890625 38.140625 10.796875 36.28125 \nz\n\" id=\"DejaVuSans-53\"/>\n       </defs>\n       <use xlink:href=\"#DejaVuSans-48\"/>\n       <use x=\"63.623047\" xlink:href=\"#DejaVuSans-46\"/>\n       <use x=\"95.410156\" xlink:href=\"#DejaVuSans-48\"/>\n       <use x=\"159.033203\" xlink:href=\"#DejaVuSans-50\"/>\n       <use x=\"222.65625\" xlink:href=\"#DejaVuSans-53\"/>\n      </g>\n     </g>\n    </g>\n    <g id=\"xtick_3\">\n     <g id=\"line2d_3\">\n      <g>\n       <use style=\"stroke:#000000;stroke-width:0.8;\" x=\"176.096404\" xlink:href=\"#mdbb2ff489d\" y=\"224.64\"/>\n      </g>\n     </g>\n     <g id=\"text_3\">\n      <!-- 0.050 -->\n      <g transform=\"translate(161.782341 239.238437)scale(0.1 -0.1)\">\n       <use xlink:href=\"#DejaVuSans-48\"/>\n       <use x=\"63.623047\" xlink:href=\"#DejaVuSans-46\"/>\n       <use x=\"95.410156\" xlink:href=\"#DejaVuSans-48\"/>\n       <use x=\"159.033203\" xlink:href=\"#DejaVuSans-53\"/>\n       <use x=\"222.65625\" xlink:href=\"#DejaVuSans-48\"/>\n      </g>\n     </g>\n    </g>\n    <g id=\"xtick_4\">\n     <g id=\"line2d_4\">\n      <g>\n       <use style=\"stroke:#000000;stroke-width:0.8;\" x=\"213.551637\" xlink:href=\"#mdbb2ff489d\" y=\"224.64\"/>\n      </g>\n     </g>\n     <g id=\"text_4\">\n      <!-- 0.075 -->\n      <g transform=\"translate(199.237574 239.238437)scale(0.1 -0.1)\">\n       <defs>\n        <path d=\"M 8.203125 72.90625 \nL 55.078125 72.90625 \nL 55.078125 68.703125 \nL 28.609375 0 \nL 18.3125 0 \nL 43.21875 64.59375 \nL 8.203125 64.59375 \nz\n\" id=\"DejaVuSans-55\"/>\n       </defs>\n       <use xlink:href=\"#DejaVuSans-48\"/>\n       <use x=\"63.623047\" xlink:href=\"#DejaVuSans-46\"/>\n       <use x=\"95.410156\" xlink:href=\"#DejaVuSans-48\"/>\n       <use x=\"159.033203\" xlink:href=\"#DejaVuSans-55\"/>\n       <use x=\"222.65625\" xlink:href=\"#DejaVuSans-53\"/>\n      </g>\n     </g>\n    </g>\n    <g id=\"xtick_5\">\n     <g id=\"line2d_5\">\n      <g>\n       <use style=\"stroke:#000000;stroke-width:0.8;\" x=\"251.00687\" xlink:href=\"#mdbb2ff489d\" y=\"224.64\"/>\n      </g>\n     </g>\n     <g id=\"text_5\">\n      <!-- 0.100 -->\n      <g transform=\"translate(236.692807 239.238437)scale(0.1 -0.1)\">\n       <defs>\n        <path d=\"M 12.40625 8.296875 \nL 28.515625 8.296875 \nL 28.515625 63.921875 \nL 10.984375 60.40625 \nL 10.984375 69.390625 \nL 28.421875 72.90625 \nL 38.28125 72.90625 \nL 38.28125 8.296875 \nL 54.390625 8.296875 \nL 54.390625 0 \nL 12.40625 0 \nz\n\" id=\"DejaVuSans-49\"/>\n       </defs>\n       <use xlink:href=\"#DejaVuSans-48\"/>\n       <use x=\"63.623047\" xlink:href=\"#DejaVuSans-46\"/>\n       <use x=\"95.410156\" xlink:href=\"#DejaVuSans-49\"/>\n       <use x=\"159.033203\" xlink:href=\"#DejaVuSans-48\"/>\n       <use x=\"222.65625\" xlink:href=\"#DejaVuSans-48\"/>\n      </g>\n     </g>\n    </g>\n    <g id=\"xtick_6\">\n     <g id=\"line2d_6\">\n      <g>\n       <use style=\"stroke:#000000;stroke-width:0.8;\" x=\"288.462103\" xlink:href=\"#mdbb2ff489d\" y=\"224.64\"/>\n      </g>\n     </g>\n     <g id=\"text_6\">\n      <!-- 0.125 -->\n      <g transform=\"translate(274.14804 239.238437)scale(0.1 -0.1)\">\n       <use xlink:href=\"#DejaVuSans-48\"/>\n       <use x=\"63.623047\" xlink:href=\"#DejaVuSans-46\"/>\n       <use x=\"95.410156\" xlink:href=\"#DejaVuSans-49\"/>\n       <use x=\"159.033203\" xlink:href=\"#DejaVuSans-50\"/>\n       <use x=\"222.65625\" xlink:href=\"#DejaVuSans-53\"/>\n      </g>\n     </g>\n    </g>\n    <g id=\"xtick_7\">\n     <g id=\"line2d_7\">\n      <g>\n       <use style=\"stroke:#000000;stroke-width:0.8;\" x=\"325.917336\" xlink:href=\"#mdbb2ff489d\" y=\"224.64\"/>\n      </g>\n     </g>\n     <g id=\"text_7\">\n      <!-- 0.150 -->\n      <g transform=\"translate(311.603273 239.238437)scale(0.1 -0.1)\">\n       <use xlink:href=\"#DejaVuSans-48\"/>\n       <use x=\"63.623047\" xlink:href=\"#DejaVuSans-46\"/>\n       <use x=\"95.410156\" xlink:href=\"#DejaVuSans-49\"/>\n       <use x=\"159.033203\" xlink:href=\"#DejaVuSans-53\"/>\n       <use x=\"222.65625\" xlink:href=\"#DejaVuSans-48\"/>\n      </g>\n     </g>\n    </g>\n    <g id=\"xtick_8\">\n     <g id=\"line2d_8\">\n      <g>\n       <use style=\"stroke:#000000;stroke-width:0.8;\" x=\"363.372569\" xlink:href=\"#mdbb2ff489d\" y=\"224.64\"/>\n      </g>\n     </g>\n     <g id=\"text_8\">\n      <!-- 0.175 -->\n      <g transform=\"translate(349.058506 239.238437)scale(0.1 -0.1)\">\n       <use xlink:href=\"#DejaVuSans-48\"/>\n       <use x=\"63.623047\" xlink:href=\"#DejaVuSans-46\"/>\n       <use x=\"95.410156\" xlink:href=\"#DejaVuSans-49\"/>\n       <use x=\"159.033203\" xlink:href=\"#DejaVuSans-55\"/>\n       <use x=\"222.65625\" xlink:href=\"#DejaVuSans-53\"/>\n      </g>\n     </g>\n    </g>\n    <g id=\"xtick_9\">\n     <g id=\"line2d_9\">\n      <g>\n       <use style=\"stroke:#000000;stroke-width:0.8;\" x=\"400.827802\" xlink:href=\"#mdbb2ff489d\" y=\"224.64\"/>\n      </g>\n     </g>\n     <g id=\"text_9\">\n      <!-- 0.200 -->\n      <g transform=\"translate(386.513739 239.238437)scale(0.1 -0.1)\">\n       <use xlink:href=\"#DejaVuSans-48\"/>\n       <use x=\"63.623047\" xlink:href=\"#DejaVuSans-46\"/>\n       <use x=\"95.410156\" xlink:href=\"#DejaVuSans-50\"/>\n       <use x=\"159.033203\" xlink:href=\"#DejaVuSans-48\"/>\n       <use x=\"222.65625\" xlink:href=\"#DejaVuSans-48\"/>\n      </g>\n     </g>\n    </g>\n   </g>\n   <g id=\"matplotlib.axis_2\">\n    <g id=\"ytick_1\">\n     <g id=\"line2d_10\">\n      <defs>\n       <path d=\"M 0 0 \nL -3.5 0 \n\" id=\"maacf2675c7\" style=\"stroke:#000000;stroke-width:0.8;\"/>\n      </defs>\n      <g>\n       <use style=\"stroke:#000000;stroke-width:0.8;\" x=\"101.185938\" xlink:href=\"#maacf2675c7\" y=\"207.435152\"/>\n      </g>\n     </g>\n     <g id=\"text_10\">\n      <!-- hour_and_minute -->\n      <g transform=\"translate(7.2 211.23437)scale(0.1 -0.1)\">\n       <defs>\n        <path d=\"M 54.890625 33.015625 \nL 54.890625 0 \nL 45.90625 0 \nL 45.90625 32.71875 \nQ 45.90625 40.484375 42.875 44.328125 \nQ 39.84375 48.1875 33.796875 48.1875 \nQ 26.515625 48.1875 22.3125 43.546875 \nQ 18.109375 38.921875 18.109375 30.90625 \nL 18.109375 0 \nL 9.078125 0 \nL 9.078125 75.984375 \nL 18.109375 75.984375 \nL 18.109375 46.1875 \nQ 21.34375 51.125 25.703125 53.5625 \nQ 30.078125 56 35.796875 56 \nQ 45.21875 56 50.046875 50.171875 \nQ 54.890625 44.34375 54.890625 33.015625 \nz\n\" id=\"DejaVuSans-104\"/>\n        <path d=\"M 30.609375 48.390625 \nQ 23.390625 48.390625 19.1875 42.75 \nQ 14.984375 37.109375 14.984375 27.296875 \nQ 14.984375 17.484375 19.15625 11.84375 \nQ 23.34375 6.203125 30.609375 6.203125 \nQ 37.796875 6.203125 41.984375 11.859375 \nQ 46.1875 17.53125 46.1875 27.296875 \nQ 46.1875 37.015625 41.984375 42.703125 \nQ 37.796875 48.390625 30.609375 48.390625 \nz\nM 30.609375 56 \nQ 42.328125 56 49.015625 48.375 \nQ 55.71875 40.765625 55.71875 27.296875 \nQ 55.71875 13.875 49.015625 6.21875 \nQ 42.328125 -1.421875 30.609375 -1.421875 \nQ 18.84375 -1.421875 12.171875 6.21875 \nQ 5.515625 13.875 5.515625 27.296875 \nQ 5.515625 40.765625 12.171875 48.375 \nQ 18.84375 56 30.609375 56 \nz\n\" id=\"DejaVuSans-111\"/>\n        <path d=\"M 8.5 21.578125 \nL 8.5 54.6875 \nL 17.484375 54.6875 \nL 17.484375 21.921875 \nQ 17.484375 14.15625 20.5 10.265625 \nQ 23.53125 6.390625 29.59375 6.390625 \nQ 36.859375 6.390625 41.078125 11.03125 \nQ 45.3125 15.671875 45.3125 23.6875 \nL 45.3125 54.6875 \nL 54.296875 54.6875 \nL 54.296875 0 \nL 45.3125 0 \nL 45.3125 8.40625 \nQ 42.046875 3.421875 37.71875 1 \nQ 33.40625 -1.421875 27.6875 -1.421875 \nQ 18.265625 -1.421875 13.375 4.4375 \nQ 8.5 10.296875 8.5 21.578125 \nz\nM 31.109375 56 \nz\n\" id=\"DejaVuSans-117\"/>\n        <path d=\"M 41.109375 46.296875 \nQ 39.59375 47.171875 37.8125 47.578125 \nQ 36.03125 48 33.890625 48 \nQ 26.265625 48 22.1875 43.046875 \nQ 18.109375 38.09375 18.109375 28.8125 \nL 18.109375 0 \nL 9.078125 0 \nL 9.078125 54.6875 \nL 18.109375 54.6875 \nL 18.109375 46.1875 \nQ 20.953125 51.171875 25.484375 53.578125 \nQ 30.03125 56 36.53125 56 \nQ 37.453125 56 38.578125 55.875 \nQ 39.703125 55.765625 41.0625 55.515625 \nz\n\" id=\"DejaVuSans-114\"/>\n        <path d=\"M 50.984375 -16.609375 \nL 50.984375 -23.578125 \nL -0.984375 -23.578125 \nL -0.984375 -16.609375 \nz\n\" id=\"DejaVuSans-95\"/>\n        <path d=\"M 34.28125 27.484375 \nQ 23.390625 27.484375 19.1875 25 \nQ 14.984375 22.515625 14.984375 16.5 \nQ 14.984375 11.71875 18.140625 8.90625 \nQ 21.296875 6.109375 26.703125 6.109375 \nQ 34.1875 6.109375 38.703125 11.40625 \nQ 43.21875 16.703125 43.21875 25.484375 \nL 43.21875 27.484375 \nz\nM 52.203125 31.203125 \nL 52.203125 0 \nL 43.21875 0 \nL 43.21875 8.296875 \nQ 40.140625 3.328125 35.546875 0.953125 \nQ 30.953125 -1.421875 24.3125 -1.421875 \nQ 15.921875 -1.421875 10.953125 3.296875 \nQ 6 8.015625 6 15.921875 \nQ 6 25.140625 12.171875 29.828125 \nQ 18.359375 34.515625 30.609375 34.515625 \nL 43.21875 34.515625 \nL 43.21875 35.40625 \nQ 43.21875 41.609375 39.140625 45 \nQ 35.0625 48.390625 27.6875 48.390625 \nQ 23 48.390625 18.546875 47.265625 \nQ 14.109375 46.140625 10.015625 43.890625 \nL 10.015625 52.203125 \nQ 14.9375 54.109375 19.578125 55.046875 \nQ 24.21875 56 28.609375 56 \nQ 40.484375 56 46.34375 49.84375 \nQ 52.203125 43.703125 52.203125 31.203125 \nz\n\" id=\"DejaVuSans-97\"/>\n        <path d=\"M 54.890625 33.015625 \nL 54.890625 0 \nL 45.90625 0 \nL 45.90625 32.71875 \nQ 45.90625 40.484375 42.875 44.328125 \nQ 39.84375 48.1875 33.796875 48.1875 \nQ 26.515625 48.1875 22.3125 43.546875 \nQ 18.109375 38.921875 18.109375 30.90625 \nL 18.109375 0 \nL 9.078125 0 \nL 9.078125 54.6875 \nL 18.109375 54.6875 \nL 18.109375 46.1875 \nQ 21.34375 51.125 25.703125 53.5625 \nQ 30.078125 56 35.796875 56 \nQ 45.21875 56 50.046875 50.171875 \nQ 54.890625 44.34375 54.890625 33.015625 \nz\n\" id=\"DejaVuSans-110\"/>\n        <path d=\"M 45.40625 46.390625 \nL 45.40625 75.984375 \nL 54.390625 75.984375 \nL 54.390625 0 \nL 45.40625 0 \nL 45.40625 8.203125 \nQ 42.578125 3.328125 38.25 0.953125 \nQ 33.9375 -1.421875 27.875 -1.421875 \nQ 17.96875 -1.421875 11.734375 6.484375 \nQ 5.515625 14.40625 5.515625 27.296875 \nQ 5.515625 40.1875 11.734375 48.09375 \nQ 17.96875 56 27.875 56 \nQ 33.9375 56 38.25 53.625 \nQ 42.578125 51.265625 45.40625 46.390625 \nz\nM 14.796875 27.296875 \nQ 14.796875 17.390625 18.875 11.75 \nQ 22.953125 6.109375 30.078125 6.109375 \nQ 37.203125 6.109375 41.296875 11.75 \nQ 45.40625 17.390625 45.40625 27.296875 \nQ 45.40625 37.203125 41.296875 42.84375 \nQ 37.203125 48.484375 30.078125 48.484375 \nQ 22.953125 48.484375 18.875 42.84375 \nQ 14.796875 37.203125 14.796875 27.296875 \nz\n\" id=\"DejaVuSans-100\"/>\n        <path d=\"M 52 44.1875 \nQ 55.375 50.25 60.0625 53.125 \nQ 64.75 56 71.09375 56 \nQ 79.640625 56 84.28125 50.015625 \nQ 88.921875 44.046875 88.921875 33.015625 \nL 88.921875 0 \nL 79.890625 0 \nL 79.890625 32.71875 \nQ 79.890625 40.578125 77.09375 44.375 \nQ 74.3125 48.1875 68.609375 48.1875 \nQ 61.625 48.1875 57.5625 43.546875 \nQ 53.515625 38.921875 53.515625 30.90625 \nL 53.515625 0 \nL 44.484375 0 \nL 44.484375 32.71875 \nQ 44.484375 40.625 41.703125 44.40625 \nQ 38.921875 48.1875 33.109375 48.1875 \nQ 26.21875 48.1875 22.15625 43.53125 \nQ 18.109375 38.875 18.109375 30.90625 \nL 18.109375 0 \nL 9.078125 0 \nL 9.078125 54.6875 \nL 18.109375 54.6875 \nL 18.109375 46.1875 \nQ 21.1875 51.21875 25.484375 53.609375 \nQ 29.78125 56 35.6875 56 \nQ 41.65625 56 45.828125 52.96875 \nQ 50 49.953125 52 44.1875 \nz\n\" id=\"DejaVuSans-109\"/>\n        <path d=\"M 9.421875 54.6875 \nL 18.40625 54.6875 \nL 18.40625 0 \nL 9.421875 0 \nz\nM 9.421875 75.984375 \nL 18.40625 75.984375 \nL 18.40625 64.59375 \nL 9.421875 64.59375 \nz\n\" id=\"DejaVuSans-105\"/>\n        <path d=\"M 18.3125 70.21875 \nL 18.3125 54.6875 \nL 36.8125 54.6875 \nL 36.8125 47.703125 \nL 18.3125 47.703125 \nL 18.3125 18.015625 \nQ 18.3125 11.328125 20.140625 9.421875 \nQ 21.96875 7.515625 27.59375 7.515625 \nL 36.8125 7.515625 \nL 36.8125 0 \nL 27.59375 0 \nQ 17.1875 0 13.234375 3.875 \nQ 9.28125 7.765625 9.28125 18.015625 \nL 9.28125 47.703125 \nL 2.6875 47.703125 \nL 2.6875 54.6875 \nL 9.28125 54.6875 \nL 9.28125 70.21875 \nz\n\" id=\"DejaVuSans-116\"/>\n        <path d=\"M 56.203125 29.59375 \nL 56.203125 25.203125 \nL 14.890625 25.203125 \nQ 15.484375 15.921875 20.484375 11.0625 \nQ 25.484375 6.203125 34.421875 6.203125 \nQ 39.59375 6.203125 44.453125 7.46875 \nQ 49.3125 8.734375 54.109375 11.28125 \nL 54.109375 2.78125 \nQ 49.265625 0.734375 44.1875 -0.34375 \nQ 39.109375 -1.421875 33.890625 -1.421875 \nQ 20.796875 -1.421875 13.15625 6.1875 \nQ 5.515625 13.8125 5.515625 26.8125 \nQ 5.515625 40.234375 12.765625 48.109375 \nQ 20.015625 56 32.328125 56 \nQ 43.359375 56 49.78125 48.890625 \nQ 56.203125 41.796875 56.203125 29.59375 \nz\nM 47.21875 32.234375 \nQ 47.125 39.59375 43.09375 43.984375 \nQ 39.0625 48.390625 32.421875 48.390625 \nQ 24.90625 48.390625 20.390625 44.140625 \nQ 15.875 39.890625 15.1875 32.171875 \nz\n\" id=\"DejaVuSans-101\"/>\n       </defs>\n       <use xlink:href=\"#DejaVuSans-104\"/>\n       <use x=\"63.378906\" xlink:href=\"#DejaVuSans-111\"/>\n       <use x=\"124.560547\" xlink:href=\"#DejaVuSans-117\"/>\n       <use x=\"187.939453\" xlink:href=\"#DejaVuSans-114\"/>\n       <use x=\"229.052734\" xlink:href=\"#DejaVuSans-95\"/>\n       <use x=\"279.052734\" xlink:href=\"#DejaVuSans-97\"/>\n       <use x=\"340.332031\" xlink:href=\"#DejaVuSans-110\"/>\n       <use x=\"403.710938\" xlink:href=\"#DejaVuSans-100\"/>\n       <use x=\"467.1875\" xlink:href=\"#DejaVuSans-95\"/>\n       <use x=\"517.1875\" xlink:href=\"#DejaVuSans-109\"/>\n       <use x=\"614.599609\" xlink:href=\"#DejaVuSans-105\"/>\n       <use x=\"642.382812\" xlink:href=\"#DejaVuSans-110\"/>\n       <use x=\"705.761719\" xlink:href=\"#DejaVuSans-117\"/>\n       <use x=\"769.140625\" xlink:href=\"#DejaVuSans-116\"/>\n       <use x=\"808.349609\" xlink:href=\"#DejaVuSans-101\"/>\n      </g>\n     </g>\n    </g>\n    <g id=\"ytick_2\">\n     <g id=\"line2d_11\">\n      <g>\n       <use style=\"stroke:#000000;stroke-width:0.8;\" x=\"101.185938\" xlink:href=\"#maacf2675c7\" y=\"189.132121\"/>\n      </g>\n     </g>\n     <g id=\"text_11\">\n      <!-- minute -->\n      <g transform=\"translate(58.91875 192.93134)scale(0.1 -0.1)\">\n       <use xlink:href=\"#DejaVuSans-109\"/>\n       <use x=\"97.412109\" xlink:href=\"#DejaVuSans-105\"/>\n       <use x=\"125.195312\" xlink:href=\"#DejaVuSans-110\"/>\n       <use x=\"188.574219\" xlink:href=\"#DejaVuSans-117\"/>\n       <use x=\"251.953125\" xlink:href=\"#DejaVuSans-116\"/>\n       <use x=\"291.162109\" xlink:href=\"#DejaVuSans-101\"/>\n      </g>\n     </g>\n    </g>\n    <g id=\"ytick_3\">\n     <g id=\"line2d_12\">\n      <g>\n       <use style=\"stroke:#000000;stroke-width:0.8;\" x=\"101.185938\" xlink:href=\"#maacf2675c7\" y=\"170.829091\"/>\n      </g>\n     </g>\n     <g id=\"text_12\">\n      <!-- temp -->\n      <g transform=\"translate(68.023438 174.62831)scale(0.1 -0.1)\">\n       <defs>\n        <path d=\"M 18.109375 8.203125 \nL 18.109375 -20.796875 \nL 9.078125 -20.796875 \nL 9.078125 54.6875 \nL 18.109375 54.6875 \nL 18.109375 46.390625 \nQ 20.953125 51.265625 25.265625 53.625 \nQ 29.59375 56 35.59375 56 \nQ 45.5625 56 51.78125 48.09375 \nQ 58.015625 40.1875 58.015625 27.296875 \nQ 58.015625 14.40625 51.78125 6.484375 \nQ 45.5625 -1.421875 35.59375 -1.421875 \nQ 29.59375 -1.421875 25.265625 0.953125 \nQ 20.953125 3.328125 18.109375 8.203125 \nz\nM 48.6875 27.296875 \nQ 48.6875 37.203125 44.609375 42.84375 \nQ 40.53125 48.484375 33.40625 48.484375 \nQ 26.265625 48.484375 22.1875 42.84375 \nQ 18.109375 37.203125 18.109375 27.296875 \nQ 18.109375 17.390625 22.1875 11.75 \nQ 26.265625 6.109375 33.40625 6.109375 \nQ 40.53125 6.109375 44.609375 11.75 \nQ 48.6875 17.390625 48.6875 27.296875 \nz\n\" id=\"DejaVuSans-112\"/>\n       </defs>\n       <use xlink:href=\"#DejaVuSans-116\"/>\n       <use x=\"39.208984\" xlink:href=\"#DejaVuSans-101\"/>\n       <use x=\"100.732422\" xlink:href=\"#DejaVuSans-109\"/>\n       <use x=\"198.144531\" xlink:href=\"#DejaVuSans-112\"/>\n      </g>\n     </g>\n    </g>\n    <g id=\"ytick_4\">\n     <g id=\"line2d_13\">\n      <g>\n       <use style=\"stroke:#000000;stroke-width:0.8;\" x=\"101.185938\" xlink:href=\"#maacf2675c7\" y=\"152.526061\"/>\n      </g>\n     </g>\n     <g id=\"text_13\">\n      <!-- seconds -->\n      <g transform=\"translate(53.310938 156.325279)scale(0.1 -0.1)\">\n       <defs>\n        <path d=\"M 44.28125 53.078125 \nL 44.28125 44.578125 \nQ 40.484375 46.53125 36.375 47.5 \nQ 32.28125 48.484375 27.875 48.484375 \nQ 21.1875 48.484375 17.84375 46.4375 \nQ 14.5 44.390625 14.5 40.28125 \nQ 14.5 37.15625 16.890625 35.375 \nQ 19.28125 33.59375 26.515625 31.984375 \nL 29.59375 31.296875 \nQ 39.15625 29.25 43.1875 25.515625 \nQ 47.21875 21.78125 47.21875 15.09375 \nQ 47.21875 7.46875 41.1875 3.015625 \nQ 35.15625 -1.421875 24.609375 -1.421875 \nQ 20.21875 -1.421875 15.453125 -0.5625 \nQ 10.6875 0.296875 5.421875 2 \nL 5.421875 11.28125 \nQ 10.40625 8.6875 15.234375 7.390625 \nQ 20.0625 6.109375 24.8125 6.109375 \nQ 31.15625 6.109375 34.5625 8.28125 \nQ 37.984375 10.453125 37.984375 14.40625 \nQ 37.984375 18.0625 35.515625 20.015625 \nQ 33.0625 21.96875 24.703125 23.78125 \nL 21.578125 24.515625 \nQ 13.234375 26.265625 9.515625 29.90625 \nQ 5.8125 33.546875 5.8125 39.890625 \nQ 5.8125 47.609375 11.28125 51.796875 \nQ 16.75 56 26.8125 56 \nQ 31.78125 56 36.171875 55.265625 \nQ 40.578125 54.546875 44.28125 53.078125 \nz\n\" id=\"DejaVuSans-115\"/>\n        <path d=\"M 48.78125 52.59375 \nL 48.78125 44.1875 \nQ 44.96875 46.296875 41.140625 47.34375 \nQ 37.3125 48.390625 33.40625 48.390625 \nQ 24.65625 48.390625 19.8125 42.84375 \nQ 14.984375 37.3125 14.984375 27.296875 \nQ 14.984375 17.28125 19.8125 11.734375 \nQ 24.65625 6.203125 33.40625 6.203125 \nQ 37.3125 6.203125 41.140625 7.25 \nQ 44.96875 8.296875 48.78125 10.40625 \nL 48.78125 2.09375 \nQ 45.015625 0.34375 40.984375 -0.53125 \nQ 36.96875 -1.421875 32.421875 -1.421875 \nQ 20.0625 -1.421875 12.78125 6.34375 \nQ 5.515625 14.109375 5.515625 27.296875 \nQ 5.515625 40.671875 12.859375 48.328125 \nQ 20.21875 56 33.015625 56 \nQ 37.15625 56 41.109375 55.140625 \nQ 45.0625 54.296875 48.78125 52.59375 \nz\n\" id=\"DejaVuSans-99\"/>\n       </defs>\n       <use xlink:href=\"#DejaVuSans-115\"/>\n       <use x=\"52.099609\" xlink:href=\"#DejaVuSans-101\"/>\n       <use x=\"113.623047\" xlink:href=\"#DejaVuSans-99\"/>\n       <use x=\"168.603516\" xlink:href=\"#DejaVuSans-111\"/>\n       <use x=\"229.785156\" xlink:href=\"#DejaVuSans-110\"/>\n       <use x=\"293.164062\" xlink:href=\"#DejaVuSans-100\"/>\n       <use x=\"356.640625\" xlink:href=\"#DejaVuSans-115\"/>\n      </g>\n     </g>\n    </g>\n    <g id=\"ytick_5\">\n     <g id=\"line2d_14\">\n      <g>\n       <use style=\"stroke:#000000;stroke-width:0.8;\" x=\"101.185938\" xlink:href=\"#maacf2675c7\" y=\"134.22303\"/>\n      </g>\n     </g>\n     <g id=\"text_14\">\n      <!-- hour -->\n      <g transform=\"translate(71.28125 138.022249)scale(0.1 -0.1)\">\n       <use xlink:href=\"#DejaVuSans-104\"/>\n       <use x=\"63.378906\" xlink:href=\"#DejaVuSans-111\"/>\n       <use x=\"124.560547\" xlink:href=\"#DejaVuSans-117\"/>\n       <use x=\"187.939453\" xlink:href=\"#DejaVuSans-114\"/>\n      </g>\n     </g>\n    </g>\n    <g id=\"ytick_6\">\n     <g id=\"line2d_15\">\n      <g>\n       <use style=\"stroke:#000000;stroke-width:0.8;\" x=\"101.185938\" xlink:href=\"#maacf2675c7\" y=\"115.92\"/>\n      </g>\n     </g>\n     <g id=\"text_15\">\n      <!-- wind -->\n      <g transform=\"translate(70.54375 119.719219)scale(0.1 -0.1)\">\n       <defs>\n        <path d=\"M 4.203125 54.6875 \nL 13.1875 54.6875 \nL 24.421875 12.015625 \nL 35.59375 54.6875 \nL 46.1875 54.6875 \nL 57.421875 12.015625 \nL 68.609375 54.6875 \nL 77.59375 54.6875 \nL 63.28125 0 \nL 52.6875 0 \nL 40.921875 44.828125 \nL 29.109375 0 \nL 18.5 0 \nz\n\" id=\"DejaVuSans-119\"/>\n       </defs>\n       <use xlink:href=\"#DejaVuSans-119\"/>\n       <use x=\"81.787109\" xlink:href=\"#DejaVuSans-105\"/>\n       <use x=\"109.570312\" xlink:href=\"#DejaVuSans-110\"/>\n       <use x=\"172.949219\" xlink:href=\"#DejaVuSans-100\"/>\n      </g>\n     </g>\n    </g>\n    <g id=\"ytick_7\">\n     <g id=\"line2d_16\">\n      <g>\n       <use style=\"stroke:#000000;stroke-width:0.8;\" x=\"101.185938\" xlink:href=\"#maacf2675c7\" y=\"97.61697\"/>\n      </g>\n     </g>\n     <g id=\"text_16\">\n      <!-- humidity -->\n      <g transform=\"translate(50.026563 101.416188)scale(0.1 -0.1)\">\n       <defs>\n        <path d=\"M 32.171875 -5.078125 \nQ 28.375 -14.84375 24.75 -17.8125 \nQ 21.140625 -20.796875 15.09375 -20.796875 \nL 7.90625 -20.796875 \nL 7.90625 -13.28125 \nL 13.1875 -13.28125 \nQ 16.890625 -13.28125 18.9375 -11.515625 \nQ 21 -9.765625 23.484375 -3.21875 \nL 25.09375 0.875 \nL 2.984375 54.6875 \nL 12.5 54.6875 \nL 29.59375 11.921875 \nL 46.6875 54.6875 \nL 56.203125 54.6875 \nz\n\" id=\"DejaVuSans-121\"/>\n       </defs>\n       <use xlink:href=\"#DejaVuSans-104\"/>\n       <use x=\"63.378906\" xlink:href=\"#DejaVuSans-117\"/>\n       <use x=\"126.757812\" xlink:href=\"#DejaVuSans-109\"/>\n       <use x=\"224.169922\" xlink:href=\"#DejaVuSans-105\"/>\n       <use x=\"251.953125\" xlink:href=\"#DejaVuSans-100\"/>\n       <use x=\"315.429688\" xlink:href=\"#DejaVuSans-105\"/>\n       <use x=\"343.212891\" xlink:href=\"#DejaVuSans-116\"/>\n       <use x=\"382.421875\" xlink:href=\"#DejaVuSans-121\"/>\n      </g>\n     </g>\n    </g>\n    <g id=\"ytick_8\">\n     <g id=\"line2d_17\">\n      <g>\n       <use style=\"stroke:#000000;stroke-width:0.8;\" x=\"101.185938\" xlink:href=\"#maacf2675c7\" y=\"79.313939\"/>\n      </g>\n     </g>\n     <g id=\"text_17\">\n      <!-- line -->\n      <g transform=\"translate(76.139063 83.113158)scale(0.1 -0.1)\">\n       <defs>\n        <path d=\"M 9.421875 75.984375 \nL 18.40625 75.984375 \nL 18.40625 0 \nL 9.421875 0 \nz\n\" id=\"DejaVuSans-108\"/>\n       </defs>\n       <use xlink:href=\"#DejaVuSans-108\"/>\n       <use x=\"27.783203\" xlink:href=\"#DejaVuSans-105\"/>\n       <use x=\"55.566406\" xlink:href=\"#DejaVuSans-110\"/>\n       <use x=\"118.945312\" xlink:href=\"#DejaVuSans-101\"/>\n      </g>\n     </g>\n    </g>\n    <g id=\"ytick_9\">\n     <g id=\"line2d_18\">\n      <g>\n       <use style=\"stroke:#000000;stroke-width:0.8;\" x=\"101.185938\" xlink:href=\"#maacf2675c7\" y=\"61.010909\"/>\n      </g>\n     </g>\n     <g id=\"text_18\">\n      <!-- 6608G -->\n      <g transform=\"translate(60.9875 64.810128)scale(0.1 -0.1)\">\n       <defs>\n        <path d=\"M 33.015625 40.375 \nQ 26.375 40.375 22.484375 35.828125 \nQ 18.609375 31.296875 18.609375 23.390625 \nQ 18.609375 15.53125 22.484375 10.953125 \nQ 26.375 6.390625 33.015625 6.390625 \nQ 39.65625 6.390625 43.53125 10.953125 \nQ 47.40625 15.53125 47.40625 23.390625 \nQ 47.40625 31.296875 43.53125 35.828125 \nQ 39.65625 40.375 33.015625 40.375 \nz\nM 52.59375 71.296875 \nL 52.59375 62.3125 \nQ 48.875 64.0625 45.09375 64.984375 \nQ 41.3125 65.921875 37.59375 65.921875 \nQ 27.828125 65.921875 22.671875 59.328125 \nQ 17.53125 52.734375 16.796875 39.40625 \nQ 19.671875 43.65625 24.015625 45.921875 \nQ 28.375 48.1875 33.59375 48.1875 \nQ 44.578125 48.1875 50.953125 41.515625 \nQ 57.328125 34.859375 57.328125 23.390625 \nQ 57.328125 12.15625 50.6875 5.359375 \nQ 44.046875 -1.421875 33.015625 -1.421875 \nQ 20.359375 -1.421875 13.671875 8.265625 \nQ 6.984375 17.96875 6.984375 36.375 \nQ 6.984375 53.65625 15.1875 63.9375 \nQ 23.390625 74.21875 37.203125 74.21875 \nQ 40.921875 74.21875 44.703125 73.484375 \nQ 48.484375 72.75 52.59375 71.296875 \nz\n\" id=\"DejaVuSans-54\"/>\n        <path d=\"M 31.78125 34.625 \nQ 24.75 34.625 20.71875 30.859375 \nQ 16.703125 27.09375 16.703125 20.515625 \nQ 16.703125 13.921875 20.71875 10.15625 \nQ 24.75 6.390625 31.78125 6.390625 \nQ 38.8125 6.390625 42.859375 10.171875 \nQ 46.921875 13.96875 46.921875 20.515625 \nQ 46.921875 27.09375 42.890625 30.859375 \nQ 38.875 34.625 31.78125 34.625 \nz\nM 21.921875 38.8125 \nQ 15.578125 40.375 12.03125 44.71875 \nQ 8.5 49.078125 8.5 55.328125 \nQ 8.5 64.0625 14.71875 69.140625 \nQ 20.953125 74.21875 31.78125 74.21875 \nQ 42.671875 74.21875 48.875 69.140625 \nQ 55.078125 64.0625 55.078125 55.328125 \nQ 55.078125 49.078125 51.53125 44.71875 \nQ 48 40.375 41.703125 38.8125 \nQ 48.828125 37.15625 52.796875 32.3125 \nQ 56.78125 27.484375 56.78125 20.515625 \nQ 56.78125 9.90625 50.3125 4.234375 \nQ 43.84375 -1.421875 31.78125 -1.421875 \nQ 19.734375 -1.421875 13.25 4.234375 \nQ 6.78125 9.90625 6.78125 20.515625 \nQ 6.78125 27.484375 10.78125 32.3125 \nQ 14.796875 37.15625 21.921875 38.8125 \nz\nM 18.3125 54.390625 \nQ 18.3125 48.734375 21.84375 45.5625 \nQ 25.390625 42.390625 31.78125 42.390625 \nQ 38.140625 42.390625 41.71875 45.5625 \nQ 45.3125 48.734375 45.3125 54.390625 \nQ 45.3125 60.0625 41.71875 63.234375 \nQ 38.140625 66.40625 31.78125 66.40625 \nQ 25.390625 66.40625 21.84375 63.234375 \nQ 18.3125 60.0625 18.3125 54.390625 \nz\n\" id=\"DejaVuSans-56\"/>\n        <path d=\"M 59.515625 10.40625 \nL 59.515625 29.984375 \nL 43.40625 29.984375 \nL 43.40625 38.09375 \nL 69.28125 38.09375 \nL 69.28125 6.78125 \nQ 63.578125 2.734375 56.6875 0.65625 \nQ 49.8125 -1.421875 42 -1.421875 \nQ 24.90625 -1.421875 15.25 8.5625 \nQ 5.609375 18.5625 5.609375 36.375 \nQ 5.609375 54.25 15.25 64.234375 \nQ 24.90625 74.21875 42 74.21875 \nQ 49.125 74.21875 55.546875 72.453125 \nQ 61.96875 70.703125 67.390625 67.28125 \nL 67.390625 56.78125 \nQ 61.921875 61.421875 55.765625 63.765625 \nQ 49.609375 66.109375 42.828125 66.109375 \nQ 29.4375 66.109375 22.71875 58.640625 \nQ 16.015625 51.171875 16.015625 36.375 \nQ 16.015625 21.625 22.71875 14.15625 \nQ 29.4375 6.6875 42.828125 6.6875 \nQ 48.046875 6.6875 52.140625 7.59375 \nQ 56.25 8.5 59.515625 10.40625 \nz\n\" id=\"DejaVuSans-71\"/>\n       </defs>\n       <use xlink:href=\"#DejaVuSans-54\"/>\n       <use x=\"63.623047\" xlink:href=\"#DejaVuSans-54\"/>\n       <use x=\"127.246094\" xlink:href=\"#DejaVuSans-48\"/>\n       <use x=\"190.869141\" xlink:href=\"#DejaVuSans-56\"/>\n       <use x=\"254.492188\" xlink:href=\"#DejaVuSans-71\"/>\n      </g>\n     </g>\n    </g>\n    <g id=\"ytick_10\">\n     <g id=\"line2d_19\">\n      <g>\n       <use style=\"stroke:#000000;stroke-width:0.8;\" x=\"101.185938\" xlink:href=\"#maacf2675c7\" y=\"42.707879\"/>\n      </g>\n     </g>\n     <g id=\"text_19\">\n      <!-- 0089 -->\n      <g transform=\"translate(68.735938 46.507098)scale(0.1 -0.1)\">\n       <defs>\n        <path d=\"M 10.984375 1.515625 \nL 10.984375 10.5 \nQ 14.703125 8.734375 18.5 7.8125 \nQ 22.3125 6.890625 25.984375 6.890625 \nQ 35.75 6.890625 40.890625 13.453125 \nQ 46.046875 20.015625 46.78125 33.40625 \nQ 43.953125 29.203125 39.59375 26.953125 \nQ 35.25 24.703125 29.984375 24.703125 \nQ 19.046875 24.703125 12.671875 31.3125 \nQ 6.296875 37.9375 6.296875 49.421875 \nQ 6.296875 60.640625 12.9375 67.421875 \nQ 19.578125 74.21875 30.609375 74.21875 \nQ 43.265625 74.21875 49.921875 64.515625 \nQ 56.59375 54.828125 56.59375 36.375 \nQ 56.59375 19.140625 48.40625 8.859375 \nQ 40.234375 -1.421875 26.421875 -1.421875 \nQ 22.703125 -1.421875 18.890625 -0.6875 \nQ 15.09375 0.046875 10.984375 1.515625 \nz\nM 30.609375 32.421875 \nQ 37.25 32.421875 41.125 36.953125 \nQ 45.015625 41.5 45.015625 49.421875 \nQ 45.015625 57.28125 41.125 61.84375 \nQ 37.25 66.40625 30.609375 66.40625 \nQ 23.96875 66.40625 20.09375 61.84375 \nQ 16.21875 57.28125 16.21875 49.421875 \nQ 16.21875 41.5 20.09375 36.953125 \nQ 23.96875 32.421875 30.609375 32.421875 \nz\n\" id=\"DejaVuSans-57\"/>\n       </defs>\n       <use xlink:href=\"#DejaVuSans-48\"/>\n       <use x=\"63.623047\" xlink:href=\"#DejaVuSans-48\"/>\n       <use x=\"127.246094\" xlink:href=\"#DejaVuSans-56\"/>\n       <use x=\"190.869141\" xlink:href=\"#DejaVuSans-57\"/>\n      </g>\n     </g>\n    </g>\n    <g id=\"ytick_11\">\n     <g id=\"line2d_20\">\n      <g>\n       <use style=\"stroke:#000000;stroke-width:0.8;\" x=\"101.185938\" xlink:href=\"#maacf2675c7\" y=\"24.404848\"/>\n      </g>\n     </g>\n     <g id=\"text_20\">\n      <!-- direction -->\n      <g transform=\"translate(50.367188 28.204067)scale(0.1 -0.1)\">\n       <use xlink:href=\"#DejaVuSans-100\"/>\n       <use x=\"63.476562\" xlink:href=\"#DejaVuSans-105\"/>\n       <use x=\"91.259766\" xlink:href=\"#DejaVuSans-114\"/>\n       <use x=\"130.123047\" xlink:href=\"#DejaVuSans-101\"/>\n       <use x=\"191.646484\" xlink:href=\"#DejaVuSans-99\"/>\n       <use x=\"246.626953\" xlink:href=\"#DejaVuSans-116\"/>\n       <use x=\"285.835938\" xlink:href=\"#DejaVuSans-105\"/>\n       <use x=\"313.619141\" xlink:href=\"#DejaVuSans-111\"/>\n       <use x=\"374.800781\" xlink:href=\"#DejaVuSans-110\"/>\n      </g>\n     </g>\n    </g>\n   </g>\n   <g id=\"patch_14\">\n    <path d=\"M 101.185938 224.64 \nL 101.185938 7.2 \n\" style=\"fill:none;stroke:#000000;stroke-linecap:square;stroke-linejoin:miter;stroke-width:0.8;\"/>\n   </g>\n   <g id=\"patch_15\">\n    <path d=\"M 435.985938 224.64 \nL 435.985938 7.2 \n\" style=\"fill:none;stroke:#000000;stroke-linecap:square;stroke-linejoin:miter;stroke-width:0.8;\"/>\n   </g>\n   <g id=\"patch_16\">\n    <path d=\"M 101.185938 224.64 \nL 435.985938 224.64 \n\" style=\"fill:none;stroke:#000000;stroke-linecap:square;stroke-linejoin:miter;stroke-width:0.8;\"/>\n   </g>\n   <g id=\"patch_17\">\n    <path d=\"M 101.185938 7.2 \nL 435.985938 7.2 \n\" style=\"fill:none;stroke:#000000;stroke-linecap:square;stroke-linejoin:miter;stroke-width:0.8;\"/>\n   </g>\n  </g>\n </g>\n <defs>\n  <clipPath id=\"p480cffca7e\">\n   <rect height=\"217.44\" width=\"334.8\" x=\"101.185938\" y=\"7.2\"/>\n  </clipPath>\n </defs>\n</svg>\n",
      "image/png": "[encoded data removed]"
     },
     "metadata": {
      "needs_background": "light"
     }
    }
   ],
   "source": [
    "%matplotlib inline\n",
    "# only in a Jupyter notebook column=\"delay\"\n",
    "\n",
    "extra_attribs = [\"hour_and_minute\"]\n",
    "cat_encoder = full_pipeline.named_transformers_[\"cat\"]\n",
    "cat_one_hot_attribs = list(cat_encoder.categories_[0])\n",
    "attributes = num_attribs + extra_attribs + cat_one_hot_attribs\n",
    "plt.barh(*zip(*sorted(zip(attributes, feature_importances), key=lambda feature: feature[1], reverse=True)), align='center', alpha=0.5)"
   ]
  },
  {
   "source": [
    "We can see that the most important value is the newly added \"hour_and_minute\" attribute.\n",
    "### Analyze the Best Models and Their Errors"
   ],
   "cell_type": "markdown",
   "metadata": {}
  },
  {
   "cell_type": "code",
   "execution_count": null,
   "metadata": {},
   "outputs": [],
   "source": [
    "final_model = grid_search.best_estimator_\n",
    "\n",
    "X_test = strat_test_set.drop(\"delay\", axis=1)\n",
    "y_test = strat_test_set[\"delay\"].copy()\n",
    "\n",
    "X_test_prepared = full_pipeline.transform(X_test)\n",
    "final_predictions = final_model.predict(X_test_prepared)\n",
    "\n",
    "final_mse = mean_squared_error(y_test, final_predictions)\n",
    "final_rmse = np.sqrt(final_mse)\n",
    "final_rmse"
   ]
  },
  {
   "cell_type": "code",
   "execution_count": null,
   "metadata": {},
   "outputs": [],
   "source": [
    "from scipy import stats\n",
    "\n",
    "confidence = 0.95\n",
    "squared_errors = (final_predictions - y_test) ** 2\n",
    "mean = squared_errors.mean()\n",
    "m = len(squared_errors)\n",
    "\n",
    "np.sqrt(stats.t.interval(confidence, m - 1,\n",
    "                         loc=np.mean(squared_errors),\n",
    "                         scale=stats.sem(squared_errors)))"
   ]
  },
  {
   "cell_type": "code",
   "execution_count": null,
   "metadata": {},
   "outputs": [],
   "source": [
    "full_pipeline_with_predictor = Pipeline([\n",
    "        (\"preparation\", full_pipeline),\n",
    "        (\"linear\", RandomForestRegressor(random_state=42))\n",
    "    ])\n",
    "\n",
    "full_pipeline_with_predictor.fit(delay, delay_labels)\n",
    "print(some_labels.array)\n",
    "full_pipeline_with_predictor.predict(some_data)"
   ]
  },
  {
   "source": [
    "### Save the model"
   ],
   "cell_type": "markdown",
   "metadata": {}
  },
  {
   "cell_type": "code",
   "execution_count": null,
   "metadata": {},
   "outputs": [],
   "source": [
    "import joblib\n",
    "\n",
    "my_model = full_pipeline_with_predictor\n",
    "joblib.dump(my_model, \"../models/my_model.pkl\") # save\n",
    "\n",
    "# my_model_loaded = joblib.load(\"my_model.pkl\") # load"
   ]
  },
  {
   "source": [
    "## Display learning curves"
   ],
   "cell_type": "markdown",
   "metadata": {}
  },
  {
   "cell_type": "code",
   "execution_count": null,
   "metadata": {},
   "outputs": [],
   "source": [
    "def plot_learning_curves(model, X, y):\n",
    "    X_train, X_val, y_train, y_val = train_test_split(X, y, test_size=0.2)\n",
    "    train_errors, val_errors = [], []\n",
    "    for m in range(1, len(X_train)):\n",
    "        model.fit(X_train[:m], y_train[:m])\n",
    "        y_train_predict = model.predict(X_train[:m])\n",
    "    y_val_predict = model.predict(X_val)\n",
    "    train_errors.append(mean_squared_error(y_train_predict, y_train[:m]))\n",
    "    val_errors.append(mean_squared_error(y_val_predict, y_val))\n",
    "    plt.plot(np.sqrt(train_errors), \"r-+\", linewidth=2, label=\"train\")\n",
    "    plt.plot(np.sqrt(val_errors), \"b-\", linewidth=3, label=\"val\")\n",
    "\n",
    "plot_learning_curves(my_model, delay, delay[\"delay\"])"
   ]
  },
  {
   "cell_type": "code",
   "execution_count": null,
   "metadata": {},
   "outputs": [],
   "source": []
  }
 ],
 "metadata": {
  "kernelspec": {
   "display_name": "Python 3",
   "language": "python",
   "name": "python3"
  },
  "language_info": {
   "codemirror_mode": {
    "name": "ipython",
    "version": 3
   },
   "file_extension": ".py",
   "mimetype": "text/x-python",
   "name": "python",
   "nbconvert_exporter": "python",
   "pygments_lexer": "ipython3",
   "version": "3.8.5-final"
  }
 },
 "nbformat": 4,
 "nbformat_minor": 4
}