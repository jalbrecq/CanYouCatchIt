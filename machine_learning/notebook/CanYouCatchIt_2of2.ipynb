{
 "cells": [
  {
   "cell_type": "markdown",
   "metadata": {},
   "source": [
    "# CanYouCatchIt?\n",
    "A web application allowing you to obtain the percentage of chance that your bus/tram/metro is late. 💻🤖🎲🚌 🚎🚇🔮\n",
    "\n",
    "_Build with the STIB API (available [here](https://opendata.stib-mivb.be/store/))_\n",
    "\n",
    "# Notes: Making some models 💻🤖🚌 🚎🚇\n",
    "We are here to make some machine learning models"
   ]
  },
  {
   "source": [
    "## Load the data"
   ],
   "cell_type": "markdown",
   "metadata": {}
  },
  {
   "cell_type": "code",
   "execution_count": 1,
   "metadata": {},
   "outputs": [],
   "source": [
    "# Import\n",
    "import pandas as pd\n",
    "import os\n",
    "\n",
    "# Set the path to the directory holding CSV files\n",
    "DELAY_PATH = '/home/haeresis/Documents/Github/CanYouCatchIt/machine_learning/data'\n",
    "\n",
    "def load_delay_data(delay_path=DELAY_PATH):\n",
    "    \"\"\"\n",
    "    Load the cvs file in a panda dataframe\n",
    "    \"\"\"\n",
    "    csv_path = os.path.join(delay_path, \"delay2020-11-03.csv\")\n",
    "    return pd.read_csv(csv_path)\n",
    "\n",
    "# load the csv file\n",
    "delay = load_delay_data()\n",
    "\n",
    "delay.dropna(inplace=True)\n",
    "delay.reset_index(drop=True, inplace=True)\n",
    "\n",
    "from sklearn.model_selection import train_test_split\n",
    "from sklearn.model_selection import StratifiedShuffleSplit\n",
    "\n",
    "# Stratifie the data with the different line\n",
    "# This make sure that the representation of each stop is the same in the train set then in the overall dataset\n",
    "# This stratification is not necessary is you have enough data\n",
    "split = StratifiedShuffleSplit(n_splits=1, test_size=0.2, random_state=42)\n",
    "for train_index, test_index in split.split(delay, delay[\"stop\"]):\n",
    "    strat_train_set = delay.loc[train_index]\n",
    "    strat_test_set = delay.loc[test_index]"
   ]
  },
  {
   "cell_type": "markdown",
   "metadata": {},
   "source": [
    "## Prepare the Data for Machine Learning Algorithms"
   ]
  },
  {
   "cell_type": "code",
   "execution_count": 2,
   "metadata": {},
   "outputs": [],
   "source": [
    "delay = strat_train_set.drop(\"delay\", axis=1) # drop labels for training set\n",
    "delay_labels = strat_train_set[\"delay\"].copy()"
   ]
  },
  {
   "cell_type": "markdown",
   "metadata": {},
   "source": [
    "### Check if there is row with nan\n",
    "\n",
    "Count the number of row with a nan value"
   ]
  },
  {
   "cell_type": "code",
   "execution_count": 3,
   "metadata": {},
   "outputs": [
    {
     "output_type": "execute_result",
     "data": {
      "text/plain": [
       "0"
      ]
     },
     "metadata": {},
     "execution_count": 3
    }
   ],
   "source": [
    "sample_incomplete_rows = delay[delay.isnull().any(axis=1)].head()\n",
    "len(sample_incomplete_rows.index)"
   ]
  },
  {
   "source": [
    "### Check if there is attribute that are the same for every row"
   ],
   "cell_type": "markdown",
   "metadata": {}
  },
  {
   "cell_type": "code",
   "execution_count": 4,
   "metadata": {},
   "outputs": [
    {
     "output_type": "execute_result",
     "data": {
      "text/plain": [
       "array([ True, False, False, False, False, False, False,  True,  True,\n",
       "        True, False, False, False, False, False,  True, False,  True])"
      ]
     },
     "metadata": {},
     "execution_count": 4
    }
   ],
   "source": [
    "def unique_cols(df):\n",
    "    a = df.to_numpy()\n",
    "    return (a[0] == a).all(0)\n",
    "unique_cols(delay)"
   ]
  },
  {
   "cell_type": "code",
   "execution_count": 5,
   "metadata": {},
   "outputs": [
    {
     "output_type": "execute_result",
     "data": {
      "text/plain": [
       "Index(['transport_type', 'stop', 'line', 'theoretical_time',\n",
       "       'expectedArrivalTime', 'date', 'direction', 'year', 'month', 'day',\n",
       "       'hour', 'minute', 'seconds', 'temp', 'humidity', 'visibility', 'wind',\n",
       "       'rain'],\n",
       "      dtype='object')"
      ]
     },
     "metadata": {},
     "execution_count": 5
    }
   ],
   "source": [
    "delay.columns"
   ]
  },
  {
   "cell_type": "markdown",
   "metadata": {},
   "source": [
    "### Data Cleaning\n",
    "\n",
    "Drop the unnecesery attribute. theoretical_time and expectedArrivalTime are droped because they are string attribute and they are not linked to the delay value. The date attribute is split into hour minute and seconds so it can be droped. The transport_type, year, month, visibility and rain attribute is droped because, it's the same for every row."
   ]
  },
  {
   "cell_type": "code",
   "execution_count": 6,
   "metadata": {},
   "outputs": [
    {
     "output_type": "execute_result",
     "data": {
      "text/plain": [
       "       stop  line     theoretical_time  expectedArrivalTime  \\\n",
       "464   6608G    51  2020-11-03 07:15:09  2020-11-03 07:33:00   \n",
       "3531  6608G    51  2020-11-03 21:37:44  2020-11-03 21:38:00   \n",
       "454    0089    39  2020-11-03 07:11:00  2020-11-03 07:21:00   \n",
       "1580  6608G    51  2020-11-03 12:30:09  2020-11-03 12:22:00   \n",
       "1563   0089    44  2020-11-03 12:18:00  2020-11-03 12:20:00   \n",
       "\n",
       "                            date  direction  hour  minute  seconds    temp  \\\n",
       "464   2020-11-03 07:11:41.788183        1.0     7      11       41  280.17   \n",
       "3531  2020-11-03 21:28:03.371078        1.0    21      28        3  280.64   \n",
       "454   2020-11-03 07:09:27.615034        0.0     7       9       27  280.17   \n",
       "1580  2020-11-03 12:22:03.183467        1.0    12      22        3  284.96   \n",
       "1563  2020-11-03 12:17:29.258893        0.0    12      17       29  285.07   \n",
       "\n",
       "      humidity  wind  \n",
       "464         93   3.6  \n",
       "3531        75   6.2  \n",
       "454         93   3.6  \n",
       "1580        62   6.7  \n",
       "1563        71   7.7  "
      ],
      "text/html": "<div>\n<style scoped>\n    .dataframe tbody tr th:only-of-type {\n        vertical-align: middle;\n    }\n\n    .dataframe tbody tr th {\n        vertical-align: top;\n    }\n\n    .dataframe thead th {\n        text-align: right;\n    }\n</style>\n<table border=\"1\" class=\"dataframe\">\n  <thead>\n    <tr style=\"text-align: right;\">\n      <th></th>\n      <th>stop</th>\n      <th>line</th>\n      <th>theoretical_time</th>\n      <th>expectedArrivalTime</th>\n      <th>date</th>\n      <th>direction</th>\n      <th>hour</th>\n      <th>minute</th>\n      <th>seconds</th>\n      <th>temp</th>\n      <th>humidity</th>\n      <th>wind</th>\n    </tr>\n  </thead>\n  <tbody>\n    <tr>\n      <th>464</th>\n      <td>6608G</td>\n      <td>51</td>\n      <td>2020-11-03 07:15:09</td>\n      <td>2020-11-03 07:33:00</td>\n      <td>2020-11-03 07:11:41.788183</td>\n      <td>1.0</td>\n      <td>7</td>\n      <td>11</td>\n      <td>41</td>\n      <td>280.17</td>\n      <td>93</td>\n      <td>3.6</td>\n    </tr>\n    <tr>\n      <th>3531</th>\n      <td>6608G</td>\n      <td>51</td>\n      <td>2020-11-03 21:37:44</td>\n      <td>2020-11-03 21:38:00</td>\n      <td>2020-11-03 21:28:03.371078</td>\n      <td>1.0</td>\n      <td>21</td>\n      <td>28</td>\n      <td>3</td>\n      <td>280.64</td>\n      <td>75</td>\n      <td>6.2</td>\n    </tr>\n    <tr>\n      <th>454</th>\n      <td>0089</td>\n      <td>39</td>\n      <td>2020-11-03 07:11:00</td>\n      <td>2020-11-03 07:21:00</td>\n      <td>2020-11-03 07:09:27.615034</td>\n      <td>0.0</td>\n      <td>7</td>\n      <td>9</td>\n      <td>27</td>\n      <td>280.17</td>\n      <td>93</td>\n      <td>3.6</td>\n    </tr>\n    <tr>\n      <th>1580</th>\n      <td>6608G</td>\n      <td>51</td>\n      <td>2020-11-03 12:30:09</td>\n      <td>2020-11-03 12:22:00</td>\n      <td>2020-11-03 12:22:03.183467</td>\n      <td>1.0</td>\n      <td>12</td>\n      <td>22</td>\n      <td>3</td>\n      <td>284.96</td>\n      <td>62</td>\n      <td>6.7</td>\n    </tr>\n    <tr>\n      <th>1563</th>\n      <td>0089</td>\n      <td>44</td>\n      <td>2020-11-03 12:18:00</td>\n      <td>2020-11-03 12:20:00</td>\n      <td>2020-11-03 12:17:29.258893</td>\n      <td>0.0</td>\n      <td>12</td>\n      <td>17</td>\n      <td>29</td>\n      <td>285.07</td>\n      <td>71</td>\n      <td>7.7</td>\n    </tr>\n  </tbody>\n</table>\n</div>"
     },
     "metadata": {},
     "execution_count": 6
    }
   ],
   "source": [
    "nunique = delay.apply(pd.Series.nunique)\n",
    "cols_to_drop = nunique[nunique == 1].index\n",
    "delay = delay.drop(cols_to_drop, axis=1)\n",
    "delay.head()"
   ]
  },
  {
   "cell_type": "code",
   "execution_count": 7,
   "metadata": {},
   "outputs": [
    {
     "output_type": "execute_result",
     "data": {
      "text/plain": [
       "       stop  line  direction  hour  minute  seconds    temp  humidity  wind\n",
       "464   6608G    51        1.0     7      11       41  280.17        93   3.6\n",
       "3531  6608G    51        1.0    21      28        3  280.64        75   6.2\n",
       "454    0089    39        0.0     7       9       27  280.17        93   3.6\n",
       "1580  6608G    51        1.0    12      22        3  284.96        62   6.7\n",
       "1563   0089    44        0.0    12      17       29  285.07        71   7.7"
      ],
      "text/html": "<div>\n<style scoped>\n    .dataframe tbody tr th:only-of-type {\n        vertical-align: middle;\n    }\n\n    .dataframe tbody tr th {\n        vertical-align: top;\n    }\n\n    .dataframe thead th {\n        text-align: right;\n    }\n</style>\n<table border=\"1\" class=\"dataframe\">\n  <thead>\n    <tr style=\"text-align: right;\">\n      <th></th>\n      <th>stop</th>\n      <th>line</th>\n      <th>direction</th>\n      <th>hour</th>\n      <th>minute</th>\n      <th>seconds</th>\n      <th>temp</th>\n      <th>humidity</th>\n      <th>wind</th>\n    </tr>\n  </thead>\n  <tbody>\n    <tr>\n      <th>464</th>\n      <td>6608G</td>\n      <td>51</td>\n      <td>1.0</td>\n      <td>7</td>\n      <td>11</td>\n      <td>41</td>\n      <td>280.17</td>\n      <td>93</td>\n      <td>3.6</td>\n    </tr>\n    <tr>\n      <th>3531</th>\n      <td>6608G</td>\n      <td>51</td>\n      <td>1.0</td>\n      <td>21</td>\n      <td>28</td>\n      <td>3</td>\n      <td>280.64</td>\n      <td>75</td>\n      <td>6.2</td>\n    </tr>\n    <tr>\n      <th>454</th>\n      <td>0089</td>\n      <td>39</td>\n      <td>0.0</td>\n      <td>7</td>\n      <td>9</td>\n      <td>27</td>\n      <td>280.17</td>\n      <td>93</td>\n      <td>3.6</td>\n    </tr>\n    <tr>\n      <th>1580</th>\n      <td>6608G</td>\n      <td>51</td>\n      <td>1.0</td>\n      <td>12</td>\n      <td>22</td>\n      <td>3</td>\n      <td>284.96</td>\n      <td>62</td>\n      <td>6.7</td>\n    </tr>\n    <tr>\n      <th>1563</th>\n      <td>0089</td>\n      <td>44</td>\n      <td>0.0</td>\n      <td>12</td>\n      <td>17</td>\n      <td>29</td>\n      <td>285.07</td>\n      <td>71</td>\n      <td>7.7</td>\n    </tr>\n  </tbody>\n</table>\n</div>"
     },
     "metadata": {},
     "execution_count": 7
    }
   ],
   "source": [
    "delay = delay.dropna(subset=[\"direction\"])\n",
    "delay = delay.drop([\"theoretical_time\", \"expectedArrivalTime\", \"date\"], axis=1)\n",
    "delay.head()"
   ]
  },
  {
   "cell_type": "markdown",
   "metadata": {},
   "source": [
    "## Handling Text and Categorical Attributes"
   ]
  },
  {
   "source": [
    "### Extract the non-numerical attributes"
   ],
   "cell_type": "markdown",
   "metadata": {}
  },
  {
   "cell_type": "code",
   "execution_count": 8,
   "metadata": {},
   "outputs": [],
   "source": [
    "delay_num = delay.drop(['stop'], axis=1)"
   ]
  },
  {
   "source": [
    "### Categorical Attributes: The stop and attributes"
   ],
   "cell_type": "markdown",
   "metadata": {}
  },
  {
   "cell_type": "code",
   "execution_count": 9,
   "metadata": {},
   "outputs": [
    {
     "output_type": "execute_result",
     "data": {
      "text/plain": [
       "       stop  line\n",
       "464   6608G    51\n",
       "3531  6608G    51\n",
       "454    0089    39\n",
       "1580  6608G    51\n",
       "1563   0089    44"
      ],
      "text/html": "<div>\n<style scoped>\n    .dataframe tbody tr th:only-of-type {\n        vertical-align: middle;\n    }\n\n    .dataframe tbody tr th {\n        vertical-align: top;\n    }\n\n    .dataframe thead th {\n        text-align: right;\n    }\n</style>\n<table border=\"1\" class=\"dataframe\">\n  <thead>\n    <tr style=\"text-align: right;\">\n      <th></th>\n      <th>stop</th>\n      <th>line</th>\n    </tr>\n  </thead>\n  <tbody>\n    <tr>\n      <th>464</th>\n      <td>6608G</td>\n      <td>51</td>\n    </tr>\n    <tr>\n      <th>3531</th>\n      <td>6608G</td>\n      <td>51</td>\n    </tr>\n    <tr>\n      <th>454</th>\n      <td>0089</td>\n      <td>39</td>\n    </tr>\n    <tr>\n      <th>1580</th>\n      <td>6608G</td>\n      <td>51</td>\n    </tr>\n    <tr>\n      <th>1563</th>\n      <td>0089</td>\n      <td>44</td>\n    </tr>\n  </tbody>\n</table>\n</div>"
     },
     "metadata": {},
     "execution_count": 9
    }
   ],
   "source": [
    "delay_cat = delay[['stop', 'line']]\n",
    "delay_cat.head()"
   ]
  },
  {
   "cell_type": "code",
   "execution_count": 10,
   "metadata": {},
   "outputs": [
    {
     "output_type": "execute_result",
     "data": {
      "text/plain": [
       "array([[1., 2.],\n",
       "       [1., 2.],\n",
       "       [0., 0.],\n",
       "       [1., 2.],\n",
       "       [0., 1.],\n",
       "       [0., 0.],\n",
       "       [1., 2.],\n",
       "       [0., 1.],\n",
       "       [1., 3.],\n",
       "       [1., 2.]])"
      ]
     },
     "metadata": {},
     "execution_count": 10
    }
   ],
   "source": [
    "from sklearn.preprocessing import OrdinalEncoder\n",
    "\n",
    "ordinal_encoder = OrdinalEncoder()\n",
    "delay_cat_encoded = ordinal_encoder.fit_transform(delay_cat)\n",
    "delay_cat_encoded[:10]"
   ]
  },
  {
   "cell_type": "markdown",
   "metadata": {},
   "source": [
    "## Transformation Pipelines\n",
    "\n"
   ]
  },
  {
   "cell_type": "code",
   "execution_count": 11,
   "metadata": {},
   "outputs": [
    {
     "output_type": "execute_result",
     "data": {
      "text/plain": [
       "       stop line direction hour minute seconds    temp humidity wind  \\\n",
       "464   6608G   51         1    7     11      41  280.17       93  3.6   \n",
       "3531  6608G   51         1   21     28       3  280.64       75  6.2   \n",
       "454    0089   39         0    7      9      27  280.17       93  3.6   \n",
       "1580  6608G   51         1   12     22       3  284.96       62  6.7   \n",
       "1563   0089   44         0   12     17      29  285.07       71  7.7   \n",
       "\n",
       "     hour_and_minute  \n",
       "464            25860  \n",
       "3531           77280  \n",
       "454            25740  \n",
       "1580           44520  \n",
       "1563           44220  "
      ],
      "text/html": "<div>\n<style scoped>\n    .dataframe tbody tr th:only-of-type {\n        vertical-align: middle;\n    }\n\n    .dataframe tbody tr th {\n        vertical-align: top;\n    }\n\n    .dataframe thead th {\n        text-align: right;\n    }\n</style>\n<table border=\"1\" class=\"dataframe\">\n  <thead>\n    <tr style=\"text-align: right;\">\n      <th></th>\n      <th>stop</th>\n      <th>line</th>\n      <th>direction</th>\n      <th>hour</th>\n      <th>minute</th>\n      <th>seconds</th>\n      <th>temp</th>\n      <th>humidity</th>\n      <th>wind</th>\n      <th>hour_and_minute</th>\n    </tr>\n  </thead>\n  <tbody>\n    <tr>\n      <th>464</th>\n      <td>6608G</td>\n      <td>51</td>\n      <td>1</td>\n      <td>7</td>\n      <td>11</td>\n      <td>41</td>\n      <td>280.17</td>\n      <td>93</td>\n      <td>3.6</td>\n      <td>25860</td>\n    </tr>\n    <tr>\n      <th>3531</th>\n      <td>6608G</td>\n      <td>51</td>\n      <td>1</td>\n      <td>21</td>\n      <td>28</td>\n      <td>3</td>\n      <td>280.64</td>\n      <td>75</td>\n      <td>6.2</td>\n      <td>77280</td>\n    </tr>\n    <tr>\n      <th>454</th>\n      <td>0089</td>\n      <td>39</td>\n      <td>0</td>\n      <td>7</td>\n      <td>9</td>\n      <td>27</td>\n      <td>280.17</td>\n      <td>93</td>\n      <td>3.6</td>\n      <td>25740</td>\n    </tr>\n    <tr>\n      <th>1580</th>\n      <td>6608G</td>\n      <td>51</td>\n      <td>1</td>\n      <td>12</td>\n      <td>22</td>\n      <td>3</td>\n      <td>284.96</td>\n      <td>62</td>\n      <td>6.7</td>\n      <td>44520</td>\n    </tr>\n    <tr>\n      <th>1563</th>\n      <td>0089</td>\n      <td>44</td>\n      <td>0</td>\n      <td>12</td>\n      <td>17</td>\n      <td>29</td>\n      <td>285.07</td>\n      <td>71</td>\n      <td>7.7</td>\n      <td>44220</td>\n    </tr>\n  </tbody>\n</table>\n</div>"
     },
     "metadata": {},
     "execution_count": 11
    }
   ],
   "source": [
    "from sklearn.preprocessing import FunctionTransformer\n",
    "import numpy as np\n",
    "\n",
    "# get the right column indices: safer than hard-coding indices\n",
    "\n",
    "def add_extra_features(X, add_combined_time=True):\n",
    "    hour_ix, minute_ix = [list(delay.columns).index(col) for col in (\"hour\", \"minute\")]\n",
    "    if add_combined_time:\n",
    "        hour_and_minute = X[:, hour_ix]*3600 + X[:, minute_ix]*60\n",
    "        return np.c_[X, hour_and_minute]\n",
    "    else:\n",
    "        return np.c_[X]\n",
    "\n",
    "attr_adder = FunctionTransformer(add_extra_features, validate=False,\n",
    "                                 kw_args={\"add_combined_time\": True})\n",
    "delay_extra_attribs = attr_adder.fit_transform(delay.values)\n",
    "\n",
    "delay_extra_attribs = pd.DataFrame(\n",
    "    delay_extra_attribs,\n",
    "    columns=list(delay.columns) + [\"hour_and_minute\"],\n",
    "    index=delay.index)\n",
    "delay_extra_attribs.head()"
   ]
  },
  {
   "cell_type": "code",
   "execution_count": 12,
   "metadata": {},
   "outputs": [
    {
     "output_type": "execute_result",
     "data": {
      "text/plain": [
       "array([[-0.17834746,  0.99805888, -1.23164905, ...,  0.        ,\n",
       "         1.        ,  0.        ],\n",
       "       [-0.17834746,  0.99805888,  1.45432007, ...,  0.        ,\n",
       "         1.        ,  0.        ],\n",
       "       [-0.89779485, -1.0019449 , -1.23164905, ...,  0.        ,\n",
       "         0.        ,  0.        ],\n",
       "       ...,\n",
       "       [ 1.68022494,  0.99805888, -0.84793918, ...,  0.        ,\n",
       "         0.        ,  1.        ],\n",
       "       [-0.17834746,  0.99805888,  0.49504538, ...,  0.        ,\n",
       "         1.        ,  0.        ],\n",
       "       [-0.5980251 , -1.0019449 , -0.84793918, ...,  1.        ,\n",
       "         0.        ,  0.        ]])"
      ]
     },
     "metadata": {},
     "execution_count": 12
    }
   ],
   "source": [
    "from sklearn.pipeline import Pipeline\n",
    "from sklearn.preprocessing import StandardScaler\n",
    "from sklearn.compose import ColumnTransformer\n",
    "from sklearn.preprocessing import OneHotEncoder\n",
    "from sklearn.impute import SimpleImputer\n",
    "\n",
    "num_attribs = list(delay_num)\n",
    "cat_attribs = [\"stop\", \"line\"]\n",
    "\n",
    "num_pipeline = Pipeline([\n",
    "        ('imputer', SimpleImputer(strategy=\"median\")),\n",
    "        ('attribs_adder', FunctionTransformer(add_extra_features, validate=False)),\n",
    "        ('std_scaler', StandardScaler())\n",
    "    ])\n",
    "\n",
    "full_pipeline = ColumnTransformer([\n",
    "        (\"num\", num_pipeline, num_attribs),\n",
    "        (\"cat\", OneHotEncoder(), cat_attribs),\n",
    "    ])\n",
    "\n",
    "delay_prepared = full_pipeline.fit_transform(delay)\n",
    "delay_prepared"
   ]
  },
  {
   "cell_type": "markdown",
   "metadata": {},
   "source": [
    "## Select and train a model\n",
    "### Linear Model"
   ]
  },
  {
   "cell_type": "code",
   "execution_count": 13,
   "metadata": {},
   "outputs": [
    {
     "output_type": "execute_result",
     "data": {
      "text/plain": [
       "LinearRegression()"
      ]
     },
     "metadata": {},
     "execution_count": 13
    }
   ],
   "source": [
    "from sklearn.linear_model import LinearRegression\n",
    "\n",
    "lin_reg = LinearRegression()\n",
    "lin_reg.fit(delay_prepared, delay_labels)"
   ]
  },
  {
   "cell_type": "code",
   "execution_count": 14,
   "metadata": {},
   "outputs": [
    {
     "output_type": "stream",
     "name": "stdout",
     "text": [
      "Predictions: \t [-1.9765625  -0.21875    -0.51171875 -3.03125    -2.83203125]\nLabels: \t [-18.0, -1.0, -10.0, 8.0, -2.0]\n"
     ]
    }
   ],
   "source": [
    "# let's try the full preprocessing pipeline on a few training instances\n",
    "some_data = delay.iloc[:5]\n",
    "some_labels = delay_labels.iloc[:5]\n",
    "some_data_prepared = full_pipeline.transform(some_data)\n",
    "\n",
    "print(\"Predictions: \\t\", lin_reg.predict(some_data_prepared))\n",
    "print(\"Labels: \\t\", list(some_labels))"
   ]
  },
  {
   "source": [
    "The model is working although the predictions are not accurate at all\n",
    "\n",
    "Compute the error"
   ],
   "cell_type": "markdown",
   "metadata": {}
  },
  {
   "cell_type": "code",
   "execution_count": 15,
   "metadata": {},
   "outputs": [
    {
     "output_type": "execute_result",
     "data": {
      "text/plain": [
       "6.09618283489537"
      ]
     },
     "metadata": {},
     "execution_count": 15
    }
   ],
   "source": [
    "import numpy as np \n",
    "from sklearn.metrics import mean_squared_error\n",
    "\n",
    "delay_predictions = lin_reg.predict(delay_prepared)\n",
    "lin_mse = mean_squared_error(delay_labels, delay_predictions)\n",
    "lin_rmse = np.sqrt(lin_mse)\n",
    "lin_rmse"
   ]
  },
  {
   "source": [
    "Okay, this is better than nothing but clearly not a great score: the delay's value range from 10min to -20min, so a typical prediction error of 6min is not very satisfying."
   ],
   "cell_type": "markdown",
   "metadata": {}
  },
  {
   "cell_type": "code",
   "execution_count": 16,
   "metadata": {},
   "outputs": [
    {
     "output_type": "execute_result",
     "data": {
      "text/plain": [
       "4.1401455735913215"
      ]
     },
     "metadata": {},
     "execution_count": 16
    }
   ],
   "source": [
    "from sklearn.metrics import mean_absolute_error\n",
    "\n",
    "lin_mae = mean_absolute_error(delay_labels, delay_predictions)\n",
    "lin_mae"
   ]
  },
  {
   "source": [
    "### Decision Tree"
   ],
   "cell_type": "markdown",
   "metadata": {}
  },
  {
   "cell_type": "code",
   "execution_count": 17,
   "metadata": {},
   "outputs": [
    {
     "output_type": "execute_result",
     "data": {
      "text/plain": [
       "DecisionTreeRegressor(random_state=42)"
      ]
     },
     "metadata": {},
     "execution_count": 17
    }
   ],
   "source": [
    "from sklearn.tree import DecisionTreeRegressor\n",
    "\n",
    "tree_reg = DecisionTreeRegressor(random_state=42)\n",
    "tree_reg.fit(delay_prepared, delay_labels)"
   ]
  },
  {
   "cell_type": "code",
   "execution_count": 18,
   "metadata": {},
   "outputs": [
    {
     "output_type": "execute_result",
     "data": {
      "text/plain": [
       "0.0"
      ]
     },
     "metadata": {},
     "execution_count": 18
    }
   ],
   "source": [
    "delay_predictions = tree_reg.predict(delay_prepared)\n",
    "tree_mse = mean_squared_error(delay_labels, delay_predictions)\n",
    "tree_rmse = np.sqrt(tree_mse)\n",
    "tree_rmse"
   ]
  },
  {
   "source": [
    "No error? The model has overfit 😖\n",
    "\n",
    "To evaluate the Decision Tree model we can split the training set into smaller training set and validation set."
   ],
   "cell_type": "markdown",
   "metadata": {}
  },
  {
   "cell_type": "markdown",
   "metadata": {},
   "source": [
    "### Cross-Validation\n",
    "\n",
    "The following code performs 10-fold cross-validation"
   ]
  },
  {
   "cell_type": "code",
   "execution_count": 19,
   "metadata": {},
   "outputs": [],
   "source": [
    "from sklearn.model_selection import cross_val_score\n",
    "\n",
    "def display_scores(scores):\n",
    "    print(\"Scores: \\t\\t\", scores)\n",
    "    print(\"Mean: \\t\\t\\t\", scores.mean())\n",
    "    print(\"Standard deviation: \\t\", scores.std())"
   ]
  },
  {
   "source": [
    "#### Linear Regression"
   ],
   "cell_type": "markdown",
   "metadata": {}
  },
  {
   "cell_type": "code",
   "execution_count": 20,
   "metadata": {},
   "outputs": [
    {
     "output_type": "stream",
     "name": "stdout",
     "text": [
      "Scores: \t\t [5.98857984 5.91333928 5.73350558 6.10935796 6.02476883 6.46016862\n 6.26279492 6.03696304 5.9969698  6.59106597]\nMean: \t\t\t 6.111751382143091\nStandard deviation: \t 0.24451983060456026\n"
     ]
    }
   ],
   "source": [
    "lin_scores = cross_val_score(lin_reg, delay_prepared, delay_labels, scoring=\"neg_mean_squared_error\", cv=10)\n",
    "lin_rmse_scores = np.sqrt(-lin_scores)\n",
    "display_scores(lin_rmse_scores)"
   ]
  },
  {
   "source": [
    "#### Decision Tree"
   ],
   "cell_type": "markdown",
   "metadata": {}
  },
  {
   "cell_type": "code",
   "execution_count": 21,
   "metadata": {},
   "outputs": [
    {
     "output_type": "stream",
     "name": "stdout",
     "text": [
      "Scores: \t\t [6.66294394 6.52379265 5.96320975 5.958595   5.9078687  6.04834889\n 6.24396148 6.05984182 6.8186147  6.89908708]\nMean: \t\t\t 6.308626402943865\nStandard deviation: \t 0.3628815791293764\n"
     ]
    }
   ],
   "source": [
    "scores = cross_val_score(tree_reg, delay_prepared, delay_labels, scoring=\"neg_mean_squared_error\", cv=10)\n",
    "tree_rmse_scores = np.sqrt(-scores)\n",
    "display_scores(tree_rmse_scores)"
   ]
  },
  {
   "source": [
    "We can see taht the Decision Tree model is overfitting so strongly that the Linear Regression model performs even better."
   ],
   "cell_type": "markdown",
   "metadata": {}
  },
  {
   "source": [
    "#### Random Forest"
   ],
   "cell_type": "markdown",
   "metadata": {}
  },
  {
   "cell_type": "code",
   "execution_count": 22,
   "metadata": {},
   "outputs": [
    {
     "output_type": "execute_result",
     "data": {
      "text/plain": [
       "RandomForestRegressor(n_estimators=10, random_state=42)"
      ]
     },
     "metadata": {},
     "execution_count": 22
    }
   ],
   "source": [
    "from sklearn.ensemble import RandomForestRegressor\n",
    "\n",
    "forest_reg = RandomForestRegressor(n_estimators=10, random_state=42)\n",
    "forest_reg.fit(delay_prepared, delay_labels)"
   ]
  },
  {
   "cell_type": "code",
   "execution_count": 23,
   "metadata": {},
   "outputs": [
    {
     "output_type": "execute_result",
     "data": {
      "text/plain": [
       "2.1694736533644483"
      ]
     },
     "metadata": {},
     "execution_count": 23
    }
   ],
   "source": [
    "delay_predictions = forest_reg.predict(delay_prepared)\n",
    "forest_mse = mean_squared_error(delay_labels, delay_predictions)\n",
    "forest_rmse = np.sqrt(forest_mse)\n",
    "forest_rmse"
   ]
  },
  {
   "cell_type": "code",
   "execution_count": 24,
   "metadata": {},
   "outputs": [
    {
     "output_type": "stream",
     "name": "stdout",
     "text": [
      "Scores: \t\t [4.74573561 5.07600804 4.78116247 4.73061023 5.17840612 4.92521089\n 5.07895907 4.88931203 5.43763341 5.77118627]\nMean: \t\t\t 5.061422413828156\nStandard deviation: \t 0.31548707800416\n"
     ]
    }
   ],
   "source": [
    "forest_scores = cross_val_score(forest_reg, delay_prepared, delay_labels, scoring=\"neg_mean_squared_error\", cv=10)\n",
    "forest_rmse_scores = np.sqrt(-forest_scores)\n",
    "display_scores(forest_rmse_scores)"
   ]
  },
  {
   "source": [
    "With the Random Forest we have a mutch better results. But we see a significant difference between the score on the training set than on the validation set. That means that the model is still overfitting the training set.\n",
    "\n",
    "#### Support Vector Regression"
   ],
   "cell_type": "markdown",
   "metadata": {}
  },
  {
   "cell_type": "code",
   "execution_count": 25,
   "metadata": {},
   "outputs": [
    {
     "output_type": "execute_result",
     "data": {
      "text/plain": [
       "SVR(kernel='linear')"
      ]
     },
     "metadata": {},
     "execution_count": 25
    }
   ],
   "source": [
    "from sklearn.svm import SVR\n",
    "\n",
    "svm_reg = SVR(kernel=\"linear\")\n",
    "svm_reg.fit(delay_prepared, delay_labels)"
   ]
  },
  {
   "cell_type": "code",
   "execution_count": 26,
   "metadata": {},
   "outputs": [
    {
     "output_type": "execute_result",
     "data": {
      "text/plain": [
       "6.205347072789438"
      ]
     },
     "metadata": {},
     "execution_count": 26
    }
   ],
   "source": [
    "delay_predictions = svm_reg.predict(delay_prepared)\n",
    "svm_mse = mean_squared_error(delay_labels, delay_predictions)\n",
    "svm_rmse = np.sqrt(svm_mse)\n",
    "svm_rmse"
   ]
  },
  {
   "cell_type": "code",
   "execution_count": 27,
   "metadata": {},
   "outputs": [
    {
     "output_type": "stream",
     "name": "stdout",
     "text": [
      "Scores: \t\t [6.07844444 6.02334214 5.73308446 6.2357253  6.03127925 6.60971848\n 6.46658438 6.0476503  6.11625581 6.70950142]\nMean: \t\t\t 6.205158598222868\nStandard deviation: \t 0.28674421109776305\n"
     ]
    }
   ],
   "source": [
    "svr_scores = cross_val_score(svm_reg, delay_prepared, delay_labels, scoring=\"neg_mean_squared_error\", cv=10)\n",
    "svr_rmse_scores = np.sqrt(-svr_scores)\n",
    "display_scores(svr_rmse_scores)"
   ]
  },
  {
   "source": [
    "We can see that the best model is the Random Forest 🌲"
   ],
   "cell_type": "markdown",
   "metadata": {}
  },
  {
   "cell_type": "markdown",
   "metadata": {},
   "source": [
    "## Fine-Tune the models\n",
    "### Grid Search"
   ]
  },
  {
   "cell_type": "code",
   "execution_count": 28,
   "metadata": {},
   "outputs": [
    {
     "output_type": "execute_result",
     "data": {
      "text/plain": [
       "GridSearchCV(cv=5, estimator=RandomForestRegressor(random_state=42),\n",
       "             param_grid=[{'max_features': [2, 4, 6, 8],\n",
       "                          'n_estimators': [3, 10, 30]},\n",
       "                         {'bootstrap': [False], 'max_features': [2, 3, 4],\n",
       "                          'n_estimators': [3, 10]}],\n",
       "             return_train_score=True, scoring='neg_mean_squared_error')"
      ]
     },
     "metadata": {},
     "execution_count": 28
    }
   ],
   "source": [
    "from sklearn.model_selection import GridSearchCV\n",
    "\n",
    "param_grid = [\n",
    "    # try 12 (3×4) combinations of hyperparameters\n",
    "    {'n_estimators': [3, 10, 30], 'max_features': [2, 4, 6, 8]},\n",
    "    # then try 6 (2×3) combinations with bootstrap set as False\n",
    "    {'bootstrap': [False], 'n_estimators': [3, 10], 'max_features': [2, 3, 4]},\n",
    "  ]\n",
    "\n",
    "forest_reg = RandomForestRegressor(random_state=42)\n",
    "# train across 5 folds, that's a total of (12+6)*5=90 rounds of training \n",
    "grid_search = GridSearchCV(forest_reg, param_grid, cv=5, scoring='neg_mean_squared_error', return_train_score=True)\n",
    "grid_search.fit(delay_prepared, delay_labels)"
   ]
  },
  {
   "cell_type": "code",
   "execution_count": 29,
   "metadata": {},
   "outputs": [
    {
     "output_type": "execute_result",
     "data": {
      "text/plain": [
       "{'bootstrap': False, 'max_features': 3, 'n_estimators': 10}"
      ]
     },
     "metadata": {},
     "execution_count": 29
    }
   ],
   "source": [
    "grid_search.best_params_"
   ]
  },
  {
   "cell_type": "code",
   "execution_count": 30,
   "metadata": {},
   "outputs": [
    {
     "output_type": "execute_result",
     "data": {
      "text/plain": [
       "RandomForestRegressor(bootstrap=False, max_features=3, n_estimators=10,\n",
       "                      random_state=42)"
      ]
     },
     "metadata": {},
     "execution_count": 30
    }
   ],
   "source": [
    "grid_search.best_estimator_"
   ]
  },
  {
   "cell_type": "code",
   "execution_count": 31,
   "metadata": {},
   "outputs": [
    {
     "output_type": "stream",
     "name": "stdout",
     "text": [
      "5.229293888066451 {'max_features': 2, 'n_estimators': 3}\n4.659063141262619 {'max_features': 2, 'n_estimators': 10}\n4.4734422992682745 {'max_features': 2, 'n_estimators': 30}\n5.201049487437042 {'max_features': 4, 'n_estimators': 3}\n4.698066307116477 {'max_features': 4, 'n_estimators': 10}\n4.559904164720108 {'max_features': 4, 'n_estimators': 30}\n5.60837167289671 {'max_features': 6, 'n_estimators': 3}\n4.9453556101190435 {'max_features': 6, 'n_estimators': 10}\n4.688523607161991 {'max_features': 6, 'n_estimators': 30}\n5.638335524725624 {'max_features': 8, 'n_estimators': 3}\n4.948178061096842 {'max_features': 8, 'n_estimators': 10}\n4.78635040830151 {'max_features': 8, 'n_estimators': 30}\n4.983790765404622 {'bootstrap': False, 'max_features': 2, 'n_estimators': 3}\n4.559545381011011 {'bootstrap': False, 'max_features': 2, 'n_estimators': 10}\n4.835647494921637 {'bootstrap': False, 'max_features': 3, 'n_estimators': 3}\n4.462856505830779 {'bootstrap': False, 'max_features': 3, 'n_estimators': 10}\n4.9924758627612045 {'bootstrap': False, 'max_features': 4, 'n_estimators': 3}\n4.578775561891404 {'bootstrap': False, 'max_features': 4, 'n_estimators': 10}\n"
     ]
    }
   ],
   "source": [
    "cvres = grid_search.cv_results_\n",
    "for mean_score, params in zip(cvres[\"mean_test_score\"], cvres[\"params\"]):\n",
    "    print(np.sqrt(-mean_score), params)"
   ]
  },
  {
   "cell_type": "code",
   "execution_count": 32,
   "metadata": {},
   "outputs": [
    {
     "output_type": "execute_result",
     "data": {
      "text/plain": [
       "    mean_fit_time  std_fit_time  mean_score_time  std_score_time  \\\n",
       "0        0.024538      0.001180         0.003820        0.000967   \n",
       "1        0.053706      0.013845         0.005456        0.000914   \n",
       "2        0.132541      0.001953         0.009894        0.001415   \n",
       "3        0.018125      0.000368         0.003302        0.000683   \n",
       "4        0.054444      0.000843         0.003948        0.001099   \n",
       "5        0.162517      0.003371         0.009972        0.000605   \n",
       "6        0.022500      0.001080         0.003271        0.000749   \n",
       "7        0.065054      0.001794         0.003921        0.000941   \n",
       "8        0.194947      0.005527         0.009302        0.000952   \n",
       "9        0.027154      0.001367         0.002455        0.000559   \n",
       "10       0.080917      0.001370         0.004234        0.000921   \n",
       "11       0.238516      0.005092         0.009366        0.001079   \n",
       "12       0.017266      0.001199         0.002987        0.000853   \n",
       "13       0.049707      0.001589         0.005272        0.000550   \n",
       "14       0.018131      0.000905         0.002047        0.000797   \n",
       "15       0.056340      0.001092         0.004439        0.000999   \n",
       "16       0.021534      0.001000         0.002987        0.000835   \n",
       "17       0.063829      0.001533         0.004909        0.000950   \n",
       "\n",
       "   param_max_features param_n_estimators param_bootstrap  \\\n",
       "0                   2                  3             NaN   \n",
       "1                   2                 10             NaN   \n",
       "2                   2                 30             NaN   \n",
       "3                   4                  3             NaN   \n",
       "4                   4                 10             NaN   \n",
       "5                   4                 30             NaN   \n",
       "6                   6                  3             NaN   \n",
       "7                   6                 10             NaN   \n",
       "8                   6                 30             NaN   \n",
       "9                   8                  3             NaN   \n",
       "10                  8                 10             NaN   \n",
       "11                  8                 30             NaN   \n",
       "12                  2                  3           False   \n",
       "13                  2                 10           False   \n",
       "14                  3                  3           False   \n",
       "15                  3                 10           False   \n",
       "16                  4                  3           False   \n",
       "17                  4                 10           False   \n",
       "\n",
       "                                               params  split0_test_score  \\\n",
       "0              {'max_features': 2, 'n_estimators': 3}         -24.963862   \n",
       "1             {'max_features': 2, 'n_estimators': 10}         -20.435712   \n",
       "2             {'max_features': 2, 'n_estimators': 30}         -19.074712   \n",
       "3              {'max_features': 4, 'n_estimators': 3}         -25.644013   \n",
       "4             {'max_features': 4, 'n_estimators': 10}         -20.778414   \n",
       "5             {'max_features': 4, 'n_estimators': 30}         -19.263017   \n",
       "6              {'max_features': 6, 'n_estimators': 3}         -31.412621   \n",
       "7             {'max_features': 6, 'n_estimators': 10}         -23.823204   \n",
       "8             {'max_features': 6, 'n_estimators': 30}         -21.753017   \n",
       "9              {'max_features': 8, 'n_estimators': 3}         -35.320568   \n",
       "10            {'max_features': 8, 'n_estimators': 10}         -24.472702   \n",
       "11            {'max_features': 8, 'n_estimators': 30}         -23.102240   \n",
       "12  {'bootstrap': False, 'max_features': 2, 'n_est...         -22.653901   \n",
       "13  {'bootstrap': False, 'max_features': 2, 'n_est...         -19.350841   \n",
       "14  {'bootstrap': False, 'max_features': 3, 'n_est...         -22.391406   \n",
       "15  {'bootstrap': False, 'max_features': 3, 'n_est...         -18.028803   \n",
       "16  {'bootstrap': False, 'max_features': 4, 'n_est...         -22.246674   \n",
       "17  {'bootstrap': False, 'max_features': 4, 'n_est...         -19.133673   \n",
       "\n",
       "    split1_test_score  ...  mean_test_score  std_test_score  rank_test_score  \\\n",
       "0          -25.140777  ...       -27.345515        4.313622               16   \n",
       "1          -19.806748  ...       -21.706869        2.717804                6   \n",
       "2          -18.552282  ...       -20.011686        2.246948                2   \n",
       "3          -28.609313  ...       -27.050916        1.205006               15   \n",
       "4          -21.214822  ...       -22.071827        1.540632                8   \n",
       "5          -19.239583  ...       -20.792726        2.059615                4   \n",
       "6          -27.581266  ...       -31.453833        2.494298               17   \n",
       "7          -21.652848  ...       -24.456542        2.604164               11   \n",
       "8          -19.596897  ...       -21.982254        2.378525                7   \n",
       "9          -29.426286  ...       -31.790827        3.273996               18   \n",
       "10         -21.640615  ...       -24.484466        2.645726               12   \n",
       "11         -19.918488  ...       -22.909150        2.504804                9   \n",
       "12         -24.498921  ...       -24.838170        3.272049               13   \n",
       "13         -19.223236  ...       -20.789454        2.874846                3   \n",
       "14         -22.542611  ...       -23.383487        1.207773               10   \n",
       "15         -19.563883  ...       -19.917088        2.393585                1   \n",
       "16         -23.352391  ...       -24.924815        2.605938               14   \n",
       "17         -19.568625  ...       -20.965186        2.682729                5   \n",
       "\n",
       "    split0_train_score  split1_train_score  split2_train_score  \\\n",
       "0            -7.079622           -6.797886           -7.338012   \n",
       "1            -4.217870           -3.992247           -4.316769   \n",
       "2            -3.280728           -3.348030           -3.376709   \n",
       "3            -8.393342           -7.766757           -7.949123   \n",
       "4            -4.282619           -4.040830           -4.453498   \n",
       "5            -3.323520           -3.429246           -3.526319   \n",
       "6            -9.691813           -8.031669           -8.497661   \n",
       "7            -4.716113           -4.455692           -4.695599   \n",
       "8            -3.759619           -3.531016           -3.679879   \n",
       "9            -8.383311           -9.154521           -8.644220   \n",
       "10           -4.765413           -4.460405           -4.716891   \n",
       "11           -3.694580           -3.644289           -3.811127   \n",
       "12           -0.000000           -0.000000           -0.000000   \n",
       "13           -0.000000           -0.000000           -0.000000   \n",
       "14           -0.000000           -0.000000           -0.000000   \n",
       "15           -0.000000           -0.000000           -0.000000   \n",
       "16           -0.000000           -0.000000           -0.000000   \n",
       "17           -0.000000           -0.000000           -0.000000   \n",
       "\n",
       "    split3_train_score  split4_train_score  mean_train_score  std_train_score  \n",
       "0            -6.677279           -6.921085         -6.962777         0.230170  \n",
       "1            -3.901218           -4.078300         -4.101281         0.149980  \n",
       "2            -3.161179           -3.179419         -3.269213         0.086758  \n",
       "3            -7.435451           -7.267908         -7.762516         0.396078  \n",
       "4            -4.317390           -4.154690         -4.249805         0.141317  \n",
       "5            -3.303476           -3.328401         -3.382192         0.084284  \n",
       "6            -8.141193           -8.495301         -8.571527         0.590414  \n",
       "7            -4.566236           -4.558600         -4.598448         0.096217  \n",
       "8            -3.470677           -3.536216         -3.595481         0.107060  \n",
       "9            -8.044337           -8.241018         -8.493481         0.384006  \n",
       "10           -4.633735           -4.673804         -4.650050         0.104472  \n",
       "11           -3.680699           -3.656288         -3.697397         0.059551  \n",
       "12           -0.000000           -0.000000          0.000000         0.000000  \n",
       "13           -0.000000           -0.000000          0.000000         0.000000  \n",
       "14           -0.000000           -0.000000          0.000000         0.000000  \n",
       "15           -0.000000           -0.000000          0.000000         0.000000  \n",
       "16           -0.000000           -0.000000          0.000000         0.000000  \n",
       "17           -0.000000           -0.000000          0.000000         0.000000  \n",
       "\n",
       "[18 rows x 23 columns]"
      ],
      "text/html": "<div>\n<style scoped>\n    .dataframe tbody tr th:only-of-type {\n        vertical-align: middle;\n    }\n\n    .dataframe tbody tr th {\n        vertical-align: top;\n    }\n\n    .dataframe thead th {\n        text-align: right;\n    }\n</style>\n<table border=\"1\" class=\"dataframe\">\n  <thead>\n    <tr style=\"text-align: right;\">\n      <th></th>\n      <th>mean_fit_time</th>\n      <th>std_fit_time</th>\n      <th>mean_score_time</th>\n      <th>std_score_time</th>\n      <th>param_max_features</th>\n      <th>param_n_estimators</th>\n      <th>param_bootstrap</th>\n      <th>params</th>\n      <th>split0_test_score</th>\n      <th>split1_test_score</th>\n      <th>...</th>\n      <th>mean_test_score</th>\n      <th>std_test_score</th>\n      <th>rank_test_score</th>\n      <th>split0_train_score</th>\n      <th>split1_train_score</th>\n      <th>split2_train_score</th>\n      <th>split3_train_score</th>\n      <th>split4_train_score</th>\n      <th>mean_train_score</th>\n      <th>std_train_score</th>\n    </tr>\n  </thead>\n  <tbody>\n    <tr>\n      <th>0</th>\n      <td>0.024538</td>\n      <td>0.001180</td>\n      <td>0.003820</td>\n      <td>0.000967</td>\n      <td>2</td>\n      <td>3</td>\n      <td>NaN</td>\n      <td>{'max_features': 2, 'n_estimators': 3}</td>\n      <td>-24.963862</td>\n      <td>-25.140777</td>\n      <td>...</td>\n      <td>-27.345515</td>\n      <td>4.313622</td>\n      <td>16</td>\n      <td>-7.079622</td>\n      <td>-6.797886</td>\n      <td>-7.338012</td>\n      <td>-6.677279</td>\n      <td>-6.921085</td>\n      <td>-6.962777</td>\n      <td>0.230170</td>\n    </tr>\n    <tr>\n      <th>1</th>\n      <td>0.053706</td>\n      <td>0.013845</td>\n      <td>0.005456</td>\n      <td>0.000914</td>\n      <td>2</td>\n      <td>10</td>\n      <td>NaN</td>\n      <td>{'max_features': 2, 'n_estimators': 10}</td>\n      <td>-20.435712</td>\n      <td>-19.806748</td>\n      <td>...</td>\n      <td>-21.706869</td>\n      <td>2.717804</td>\n      <td>6</td>\n      <td>-4.217870</td>\n      <td>-3.992247</td>\n      <td>-4.316769</td>\n      <td>-3.901218</td>\n      <td>-4.078300</td>\n      <td>-4.101281</td>\n      <td>0.149980</td>\n    </tr>\n    <tr>\n      <th>2</th>\n      <td>0.132541</td>\n      <td>0.001953</td>\n      <td>0.009894</td>\n      <td>0.001415</td>\n      <td>2</td>\n      <td>30</td>\n      <td>NaN</td>\n      <td>{'max_features': 2, 'n_estimators': 30}</td>\n      <td>-19.074712</td>\n      <td>-18.552282</td>\n      <td>...</td>\n      <td>-20.011686</td>\n      <td>2.246948</td>\n      <td>2</td>\n      <td>-3.280728</td>\n      <td>-3.348030</td>\n      <td>-3.376709</td>\n      <td>-3.161179</td>\n      <td>-3.179419</td>\n      <td>-3.269213</td>\n      <td>0.086758</td>\n    </tr>\n    <tr>\n      <th>3</th>\n      <td>0.018125</td>\n      <td>0.000368</td>\n      <td>0.003302</td>\n      <td>0.000683</td>\n      <td>4</td>\n      <td>3</td>\n      <td>NaN</td>\n      <td>{'max_features': 4, 'n_estimators': 3}</td>\n      <td>-25.644013</td>\n      <td>-28.609313</td>\n      <td>...</td>\n      <td>-27.050916</td>\n      <td>1.205006</td>\n      <td>15</td>\n      <td>-8.393342</td>\n      <td>-7.766757</td>\n      <td>-7.949123</td>\n      <td>-7.435451</td>\n      <td>-7.267908</td>\n      <td>-7.762516</td>\n      <td>0.396078</td>\n    </tr>\n    <tr>\n      <th>4</th>\n      <td>0.054444</td>\n      <td>0.000843</td>\n      <td>0.003948</td>\n      <td>0.001099</td>\n      <td>4</td>\n      <td>10</td>\n      <td>NaN</td>\n      <td>{'max_features': 4, 'n_estimators': 10}</td>\n      <td>-20.778414</td>\n      <td>-21.214822</td>\n      <td>...</td>\n      <td>-22.071827</td>\n      <td>1.540632</td>\n      <td>8</td>\n      <td>-4.282619</td>\n      <td>-4.040830</td>\n      <td>-4.453498</td>\n      <td>-4.317390</td>\n      <td>-4.154690</td>\n      <td>-4.249805</td>\n      <td>0.141317</td>\n    </tr>\n    <tr>\n      <th>5</th>\n      <td>0.162517</td>\n      <td>0.003371</td>\n      <td>0.009972</td>\n      <td>0.000605</td>\n      <td>4</td>\n      <td>30</td>\n      <td>NaN</td>\n      <td>{'max_features': 4, 'n_estimators': 30}</td>\n      <td>-19.263017</td>\n      <td>-19.239583</td>\n      <td>...</td>\n      <td>-20.792726</td>\n      <td>2.059615</td>\n      <td>4</td>\n      <td>-3.323520</td>\n      <td>-3.429246</td>\n      <td>-3.526319</td>\n      <td>-3.303476</td>\n      <td>-3.328401</td>\n      <td>-3.382192</td>\n      <td>0.084284</td>\n    </tr>\n    <tr>\n      <th>6</th>\n      <td>0.022500</td>\n      <td>0.001080</td>\n      <td>0.003271</td>\n      <td>0.000749</td>\n      <td>6</td>\n      <td>3</td>\n      <td>NaN</td>\n      <td>{'max_features': 6, 'n_estimators': 3}</td>\n      <td>-31.412621</td>\n      <td>-27.581266</td>\n      <td>...</td>\n      <td>-31.453833</td>\n      <td>2.494298</td>\n      <td>17</td>\n      <td>-9.691813</td>\n      <td>-8.031669</td>\n      <td>-8.497661</td>\n      <td>-8.141193</td>\n      <td>-8.495301</td>\n      <td>-8.571527</td>\n      <td>0.590414</td>\n    </tr>\n    <tr>\n      <th>7</th>\n      <td>0.065054</td>\n      <td>0.001794</td>\n      <td>0.003921</td>\n      <td>0.000941</td>\n      <td>6</td>\n      <td>10</td>\n      <td>NaN</td>\n      <td>{'max_features': 6, 'n_estimators': 10}</td>\n      <td>-23.823204</td>\n      <td>-21.652848</td>\n      <td>...</td>\n      <td>-24.456542</td>\n      <td>2.604164</td>\n      <td>11</td>\n      <td>-4.716113</td>\n      <td>-4.455692</td>\n      <td>-4.695599</td>\n      <td>-4.566236</td>\n      <td>-4.558600</td>\n      <td>-4.598448</td>\n      <td>0.096217</td>\n    </tr>\n    <tr>\n      <th>8</th>\n      <td>0.194947</td>\n      <td>0.005527</td>\n      <td>0.009302</td>\n      <td>0.000952</td>\n      <td>6</td>\n      <td>30</td>\n      <td>NaN</td>\n      <td>{'max_features': 6, 'n_estimators': 30}</td>\n      <td>-21.753017</td>\n      <td>-19.596897</td>\n      <td>...</td>\n      <td>-21.982254</td>\n      <td>2.378525</td>\n      <td>7</td>\n      <td>-3.759619</td>\n      <td>-3.531016</td>\n      <td>-3.679879</td>\n      <td>-3.470677</td>\n      <td>-3.536216</td>\n      <td>-3.595481</td>\n      <td>0.107060</td>\n    </tr>\n    <tr>\n      <th>9</th>\n      <td>0.027154</td>\n      <td>0.001367</td>\n      <td>0.002455</td>\n      <td>0.000559</td>\n      <td>8</td>\n      <td>3</td>\n      <td>NaN</td>\n      <td>{'max_features': 8, 'n_estimators': 3}</td>\n      <td>-35.320568</td>\n      <td>-29.426286</td>\n      <td>...</td>\n      <td>-31.790827</td>\n      <td>3.273996</td>\n      <td>18</td>\n      <td>-8.383311</td>\n      <td>-9.154521</td>\n      <td>-8.644220</td>\n      <td>-8.044337</td>\n      <td>-8.241018</td>\n      <td>-8.493481</td>\n      <td>0.384006</td>\n    </tr>\n    <tr>\n      <th>10</th>\n      <td>0.080917</td>\n      <td>0.001370</td>\n      <td>0.004234</td>\n      <td>0.000921</td>\n      <td>8</td>\n      <td>10</td>\n      <td>NaN</td>\n      <td>{'max_features': 8, 'n_estimators': 10}</td>\n      <td>-24.472702</td>\n      <td>-21.640615</td>\n      <td>...</td>\n      <td>-24.484466</td>\n      <td>2.645726</td>\n      <td>12</td>\n      <td>-4.765413</td>\n      <td>-4.460405</td>\n      <td>-4.716891</td>\n      <td>-4.633735</td>\n      <td>-4.673804</td>\n      <td>-4.650050</td>\n      <td>0.104472</td>\n    </tr>\n    <tr>\n      <th>11</th>\n      <td>0.238516</td>\n      <td>0.005092</td>\n      <td>0.009366</td>\n      <td>0.001079</td>\n      <td>8</td>\n      <td>30</td>\n      <td>NaN</td>\n      <td>{'max_features': 8, 'n_estimators': 30}</td>\n      <td>-23.102240</td>\n      <td>-19.918488</td>\n      <td>...</td>\n      <td>-22.909150</td>\n      <td>2.504804</td>\n      <td>9</td>\n      <td>-3.694580</td>\n      <td>-3.644289</td>\n      <td>-3.811127</td>\n      <td>-3.680699</td>\n      <td>-3.656288</td>\n      <td>-3.697397</td>\n      <td>0.059551</td>\n    </tr>\n    <tr>\n      <th>12</th>\n      <td>0.017266</td>\n      <td>0.001199</td>\n      <td>0.002987</td>\n      <td>0.000853</td>\n      <td>2</td>\n      <td>3</td>\n      <td>False</td>\n      <td>{'bootstrap': False, 'max_features': 2, 'n_est...</td>\n      <td>-22.653901</td>\n      <td>-24.498921</td>\n      <td>...</td>\n      <td>-24.838170</td>\n      <td>3.272049</td>\n      <td>13</td>\n      <td>-0.000000</td>\n      <td>-0.000000</td>\n      <td>-0.000000</td>\n      <td>-0.000000</td>\n      <td>-0.000000</td>\n      <td>0.000000</td>\n      <td>0.000000</td>\n    </tr>\n    <tr>\n      <th>13</th>\n      <td>0.049707</td>\n      <td>0.001589</td>\n      <td>0.005272</td>\n      <td>0.000550</td>\n      <td>2</td>\n      <td>10</td>\n      <td>False</td>\n      <td>{'bootstrap': False, 'max_features': 2, 'n_est...</td>\n      <td>-19.350841</td>\n      <td>-19.223236</td>\n      <td>...</td>\n      <td>-20.789454</td>\n      <td>2.874846</td>\n      <td>3</td>\n      <td>-0.000000</td>\n      <td>-0.000000</td>\n      <td>-0.000000</td>\n      <td>-0.000000</td>\n      <td>-0.000000</td>\n      <td>0.000000</td>\n      <td>0.000000</td>\n    </tr>\n    <tr>\n      <th>14</th>\n      <td>0.018131</td>\n      <td>0.000905</td>\n      <td>0.002047</td>\n      <td>0.000797</td>\n      <td>3</td>\n      <td>3</td>\n      <td>False</td>\n      <td>{'bootstrap': False, 'max_features': 3, 'n_est...</td>\n      <td>-22.391406</td>\n      <td>-22.542611</td>\n      <td>...</td>\n      <td>-23.383487</td>\n      <td>1.207773</td>\n      <td>10</td>\n      <td>-0.000000</td>\n      <td>-0.000000</td>\n      <td>-0.000000</td>\n      <td>-0.000000</td>\n      <td>-0.000000</td>\n      <td>0.000000</td>\n      <td>0.000000</td>\n    </tr>\n    <tr>\n      <th>15</th>\n      <td>0.056340</td>\n      <td>0.001092</td>\n      <td>0.004439</td>\n      <td>0.000999</td>\n      <td>3</td>\n      <td>10</td>\n      <td>False</td>\n      <td>{'bootstrap': False, 'max_features': 3, 'n_est...</td>\n      <td>-18.028803</td>\n      <td>-19.563883</td>\n      <td>...</td>\n      <td>-19.917088</td>\n      <td>2.393585</td>\n      <td>1</td>\n      <td>-0.000000</td>\n      <td>-0.000000</td>\n      <td>-0.000000</td>\n      <td>-0.000000</td>\n      <td>-0.000000</td>\n      <td>0.000000</td>\n      <td>0.000000</td>\n    </tr>\n    <tr>\n      <th>16</th>\n      <td>0.021534</td>\n      <td>0.001000</td>\n      <td>0.002987</td>\n      <td>0.000835</td>\n      <td>4</td>\n      <td>3</td>\n      <td>False</td>\n      <td>{'bootstrap': False, 'max_features': 4, 'n_est...</td>\n      <td>-22.246674</td>\n      <td>-23.352391</td>\n      <td>...</td>\n      <td>-24.924815</td>\n      <td>2.605938</td>\n      <td>14</td>\n      <td>-0.000000</td>\n      <td>-0.000000</td>\n      <td>-0.000000</td>\n      <td>-0.000000</td>\n      <td>-0.000000</td>\n      <td>0.000000</td>\n      <td>0.000000</td>\n    </tr>\n    <tr>\n      <th>17</th>\n      <td>0.063829</td>\n      <td>0.001533</td>\n      <td>0.004909</td>\n      <td>0.000950</td>\n      <td>4</td>\n      <td>10</td>\n      <td>False</td>\n      <td>{'bootstrap': False, 'max_features': 4, 'n_est...</td>\n      <td>-19.133673</td>\n      <td>-19.568625</td>\n      <td>...</td>\n      <td>-20.965186</td>\n      <td>2.682729</td>\n      <td>5</td>\n      <td>-0.000000</td>\n      <td>-0.000000</td>\n      <td>-0.000000</td>\n      <td>-0.000000</td>\n      <td>-0.000000</td>\n      <td>0.000000</td>\n      <td>0.000000</td>\n    </tr>\n  </tbody>\n</table>\n<p>18 rows × 23 columns</p>\n</div>"
     },
     "metadata": {},
     "execution_count": 32
    }
   ],
   "source": [
    "pd.DataFrame(grid_search.cv_results_)"
   ]
  },
  {
   "source": [
    "We should evaluate higher values of n_estimators as well, since 30 is the maximum value that was evaluated. The score may continue to improve."
   ],
   "cell_type": "markdown",
   "metadata": {}
  },
  {
   "cell_type": "code",
   "execution_count": 38,
   "metadata": {},
   "outputs": [
    {
     "output_type": "stream",
     "name": "stdout",
     "text": [
      "{'bootstrap': False, 'max_features': 1, 'n_estimators': 80} \n\n4.540977874804955 {'max_features': 1, 'n_estimators': 30}\n4.562865097664219 {'max_features': 1, 'n_estimators': 40}\n4.5524070620829615 {'max_features': 1, 'n_estimators': 50}\n4.4734422992682745 {'max_features': 2, 'n_estimators': 30}\n4.479920765357988 {'max_features': 2, 'n_estimators': 40}\n4.463736841984938 {'max_features': 2, 'n_estimators': 50}\n4.559904164720108 {'max_features': 4, 'n_estimators': 30}\n4.539904099741907 {'max_features': 4, 'n_estimators': 40}\n4.523608057770053 {'max_features': 4, 'n_estimators': 50}\n4.688523607161991 {'max_features': 6, 'n_estimators': 30}\n4.661594051054611 {'max_features': 6, 'n_estimators': 40}\n4.648850702229582 {'max_features': 6, 'n_estimators': 50}\n4.3411853613431965 {'bootstrap': False, 'max_features': 1, 'n_estimators': 70}\n4.329743570952857 {'bootstrap': False, 'max_features': 1, 'n_estimators': 80}\n4.341578002930521 {'bootstrap': False, 'max_features': 1, 'n_estimators': 90}\n4.337427574695434 {'bootstrap': False, 'max_features': 2, 'n_estimators': 70}\n4.339733029479371 {'bootstrap': False, 'max_features': 2, 'n_estimators': 80}\n4.3365731053200305 {'bootstrap': False, 'max_features': 2, 'n_estimators': 90}\n4.3626296808633604 {'bootstrap': False, 'max_features': 4, 'n_estimators': 70}\n4.354546872093821 {'bootstrap': False, 'max_features': 4, 'n_estimators': 80}\n4.360124512709046 {'bootstrap': False, 'max_features': 4, 'n_estimators': 90}\n"
     ]
    }
   ],
   "source": [
    "param_grid = [\n",
    "    # try 12 (3×4) combinations of hyperparameters\n",
    "    {'n_estimators': [30, 40, 50], 'max_features': [1, 2, 4, 6]},\n",
    "    # then try 9 (3×3) combinations with bootstrap set as False\n",
    "    {'bootstrap': [False], 'n_estimators': [70, 80, 90], 'max_features': [1, 2, 4]},\n",
    "  ]\n",
    "\n",
    "forest_reg = RandomForestRegressor(random_state=42)\n",
    "# train across 5 folds, that's a total of (12+9)*5=105 rounds of training \n",
    "grid_search = GridSearchCV(forest_reg, param_grid, cv=5, scoring='neg_mean_squared_error', return_train_score=True)\n",
    "grid_search.fit(delay_prepared, delay_labels)\n",
    "print(grid_search.best_params_, \"\\n\")\n",
    "cvres = grid_search.cv_results_\n",
    "for mean_score, params in zip(cvres[\"mean_test_score\"], cvres[\"params\"]):\n",
    "    print(np.sqrt(-mean_score), params)"
   ]
  },
  {
   "cell_type": "markdown",
   "metadata": {},
   "source": [
    "### Randomized Search"
   ]
  },
  {
   "cell_type": "code",
   "execution_count": 34,
   "metadata": {},
   "outputs": [
    {
     "output_type": "execute_result",
     "data": {
      "text/plain": [
       "RandomizedSearchCV(cv=5, estimator=RandomForestRegressor(random_state=42),\n",
       "                   param_distributions={'max_features': <scipy.stats._distn_infrastructure.rv_frozen object at 0x7fc7c2349a30>,\n",
       "                                        'n_estimators': <scipy.stats._distn_infrastructure.rv_frozen object at 0x7fc7c2349700>},\n",
       "                   random_state=42, scoring='neg_mean_squared_error')"
      ]
     },
     "metadata": {},
     "execution_count": 34
    }
   ],
   "source": [
    "from sklearn.model_selection import RandomizedSearchCV\n",
    "from scipy.stats import randint\n",
    "\n",
    "param_distribs = {\n",
    "        'n_estimators': randint(low=1, high=200),\n",
    "        'max_features': randint(low=1, high=8),\n",
    "    }\n",
    "\n",
    "forest_reg = RandomForestRegressor(random_state=42)\n",
    "rnd_search = RandomizedSearchCV(forest_reg, param_distributions=param_distribs, n_iter=10, cv=5, scoring='neg_mean_squared_error', random_state=42)\n",
    "rnd_search.fit(delay_prepared, delay_labels)"
   ]
  },
  {
   "cell_type": "code",
   "execution_count": 35,
   "metadata": {},
   "outputs": [
    {
     "output_type": "stream",
     "name": "stdout",
     "text": [
      "4.64679684407939 {'max_features': 7, 'n_estimators': 180}\n4.645046895105344 {'max_features': 5, 'n_estimators': 15}\n4.483782458358234 {'max_features': 3, 'n_estimators': 72}\n4.603851540331541 {'max_features': 5, 'n_estimators': 21}\n4.662321696765109 {'max_features': 7, 'n_estimators': 122}\n4.478646745083121 {'max_features': 3, 'n_estimators': 75}\n4.474124792618715 {'max_features': 3, 'n_estimators': 88}\n4.521003573113413 {'max_features': 5, 'n_estimators': 100}\n4.461928090323428 {'max_features': 3, 'n_estimators': 150}\n5.732414844911135 {'max_features': 5, 'n_estimators': 2}\n"
     ]
    }
   ],
   "source": [
    "cvres = rnd_search.cv_results_\n",
    "for mean_score, params in zip(cvres[\"mean_test_score\"], cvres[\"params\"]):\n",
    "    print(np.sqrt(-mean_score), params)"
   ]
  },
  {
   "source": [
    "### Analyze the Best Models and Their Errors"
   ],
   "cell_type": "markdown",
   "metadata": {}
  },
  {
   "cell_type": "code",
   "execution_count": 36,
   "metadata": {},
   "outputs": [
    {
     "output_type": "execute_result",
     "data": {
      "text/plain": [
       "array([0.01308774, 0.00258553, 0.10606256, 0.1867887 , 0.13633706,\n",
       "       0.1603047 , 0.06165768, 0.09625416, 0.2052632 , 0.00224472,\n",
       "       0.00365733, 0.00552693, 0.00812962, 0.00702122, 0.00507886])"
      ]
     },
     "metadata": {},
     "execution_count": 36
    }
   ],
   "source": [
    "feature_importances = grid_search.best_estimator_.feature_importances_\n",
    "feature_importances"
   ]
  },
  {
   "cell_type": "code",
   "execution_count": 37,
   "metadata": {},
   "outputs": [
    {
     "output_type": "execute_result",
     "data": {
      "text/plain": [
       "[(0.20526319552474567, 'hour_and_minute'),\n",
       " (0.18678870350688273, 'minute'),\n",
       " (0.16030470129491844, 'temp'),\n",
       " (0.13633705794631232, 'seconds'),\n",
       " (0.10606256140783749, 'hour'),\n",
       " (0.09625416145659321, 'wind'),\n",
       " (0.061657681740862245, 'humidity'),\n",
       " (0.013087736041830202, 'line'),\n",
       " (0.0036573313968327726, '6608G'),\n",
       " (0.002585526109623008, 'direction'),\n",
       " (0.002244716316602857, '0089')]"
      ]
     },
     "metadata": {},
     "execution_count": 37
    }
   ],
   "source": [
    "extra_attribs = [\"hour_and_minute\"]\n",
    "cat_encoder = full_pipeline.named_transformers_[\"cat\"]\n",
    "cat_one_hot_attribs = list(cat_encoder.categories_[0])\n",
    "attributes = num_attribs + extra_attribs + cat_one_hot_attribs\n",
    "sorted(zip(feature_importances, attributes), reverse=True)"
   ]
  },
  {
   "source": [
    "We can see that the most important value is the newly added \"hour_and_minute\" attribute.\n",
    "### Analyze the Best Models and Their Errors"
   ],
   "cell_type": "markdown",
   "metadata": {}
  },
  {
   "cell_type": "code",
   "execution_count": 41,
   "metadata": {},
   "outputs": [
    {
     "output_type": "execute_result",
     "data": {
      "text/plain": [
       "4.220043097546371"
      ]
     },
     "metadata": {},
     "execution_count": 41
    }
   ],
   "source": [
    "final_model = grid_search.best_estimator_\n",
    "\n",
    "X_test = strat_test_set.drop(\"delay\", axis=1)\n",
    "y_test = strat_test_set[\"delay\"].copy()\n",
    "\n",
    "X_test_prepared = full_pipeline.transform(X_test)\n",
    "final_predictions = final_model.predict(X_test_prepared)\n",
    "\n",
    "final_mse = mean_squared_error(y_test, final_predictions)\n",
    "final_rmse = np.sqrt(final_mse)\n",
    "final_rmse"
   ]
  },
  {
   "cell_type": "code",
   "execution_count": null,
   "metadata": {},
   "outputs": [],
   "source": []
  }
 ],
 "metadata": {
  "kernelspec": {
   "display_name": "Python 3",
   "language": "python",
   "name": "python3"
  },
  "language_info": {
   "codemirror_mode": {
    "name": "ipython",
    "version": 3
   },
   "file_extension": ".py",
   "mimetype": "text/x-python",
   "name": "python",
   "nbconvert_exporter": "python",
   "pygments_lexer": "ipython3",
   "version": "3.8.5-final"
  }
 },
 "nbformat": 4,
 "nbformat_minor": 4
}